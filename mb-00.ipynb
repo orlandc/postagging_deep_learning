{
  "nbformat": 4,
  "nbformat_minor": 0,
  "metadata": {
    "colab": {
      "name": "Preprocesamiento-Copy1.ipynb",
      "version": "0.3.2",
      "provenance": [],
      "collapsed_sections": []
    },
    "kernelspec": {
      "display_name": "Python 3",
      "language": "python",
      "name": "python3"
    }
  },
  "cells": [
    {
      "metadata": {
        "colab_type": "text",
        "id": "3nXS4RUQQugV"
      },
      "cell_type": "markdown",
      "source": [
        "# Tutorial Part-of-Speech tagging  Con Deep Learning\n",
        "\n",
        "### En este tutorial, veremos cómo puede usar un modelo simple en Keras, para entrenar y evaluar una red neuronal artificial para problemas de clasificación de múltiples clases."
      ]
    },
    {
      "metadata": {
        "colab_type": "text",
        "id": "WIheRrq2Quga"
      },
      "cell_type": "markdown",
      "source": [
        "## PARTE 1  -  Pre-Procesamiento"
      ]
    },
    {
      "metadata": {
        "colab_type": "code",
        "id": "lw10qukzQuge",
        "colab": {}
      },
      "cell_type": "code",
      "source": [
        "# Asegurar reproducibilidad\n",
        "\n",
        "import numpy as np\n",
        "\n",
        "CUSTOM_SEED = 42\n",
        "np.random.seed(CUSTOM_SEED)"
      ],
      "execution_count": 0,
      "outputs": []
    },
    {
      "metadata": {
        "colab_type": "text",
        "id": "CxOcxDUmJcvL"
      },
      "cell_type": "markdown",
      "source": [
        "### Descargamos el Corpus Ancora - Cess_esp del nltk"
      ]
    },
    {
      "metadata": {
        "colab_type": "code",
        "id": "NILevBJxQugr",
        "outputId": "b71b74d4-21a9-4a8e-b184-fcc2b0af12c2",
        "colab": {
          "base_uri": "https://localhost:8080/",
          "height": 68
        }
      },
      "cell_type": "code",
      "source": [
        "import nltk\n",
        "nltk.download('cess_esp')"
      ],
      "execution_count": 48,
      "outputs": [
        {
          "output_type": "stream",
          "text": [
            "[nltk_data] Downloading package cess_esp to /root/nltk_data...\n",
            "[nltk_data]   Package cess_esp is already up-to-date!\n"
          ],
          "name": "stdout"
        },
        {
          "output_type": "execute_result",
          "data": {
            "text/plain": [
              "True"
            ]
          },
          "metadata": {
            "tags": []
          },
          "execution_count": 48
        }
      ]
    },
    {
      "metadata": {
        "colab_type": "text",
        "id": "eqdUvUCEJjgc"
      },
      "cell_type": "markdown",
      "source": [
        "### Extraemos las oraciones tageadas del Corpus"
      ]
    },
    {
      "metadata": {
        "colab_type": "code",
        "id": "ss3RHo4LQugx",
        "colab": {}
      },
      "cell_type": "code",
      "source": [
        "import random\n",
        "from nltk.corpus import cess_esp\n",
        "\n",
        "tagged_sentences = cess_esp.tagged_sents()\n",
        "#print('a random sentence: \\n-> {}'.format(random.choice(sentences)))"
      ],
      "execution_count": 0,
      "outputs": []
    },
    {
      "metadata": {
        "colab_type": "text",
        "id": "gCW_ENdLJudC"
      },
      "cell_type": "markdown",
      "source": [
        "### Extraemos los datos de la cantidad de oraciones a ser usadas y un ejemplo de una oracion presente en el corpus"
      ]
    },
    {
      "metadata": {
        "colab_type": "code",
        "id": "2clQUNdtQug4",
        "outputId": "43ba74e5-5ad6-49da-a84f-288a8e04a64f",
        "colab": {
          "base_uri": "https://localhost:8080/",
          "height": 88
        }
      },
      "cell_type": "code",
      "source": [
        "print(tagged_sentences[0])\n",
        "print(\"Tagged sentences: \", len(tagged_sentences))\n",
        "print(\"Tagged words:\", len(cess_esp.tagged_words()))"
      ],
      "execution_count": 50,
      "outputs": [
        {
          "output_type": "stream",
          "text": [
            "[('El', 'da0ms0'), ('grupo', 'ncms000'), ('estatal', 'aq0cs0'), ('Electricité_de_France', 'np00000'), ('-Fpa-', 'Fpa'), ('EDF', 'np00000'), ('-Fpt-', 'Fpt'), ('anunció', 'vmis3s0'), ('hoy', 'rg'), (',', 'Fc'), ('jueves', 'W'), (',', 'Fc'), ('la', 'da0fs0'), ('compra', 'ncfs000'), ('del', 'spcms'), ('51_por_ciento', 'Zp'), ('de', 'sps00'), ('la', 'da0fs0'), ('empresa', 'ncfs000'), ('mexicana', 'aq0fs0'), ('Electricidad_Águila_de_Altamira', 'np00000'), ('-Fpa-', 'Fpa'), ('EAA', 'np00000'), ('-Fpt-', 'Fpt'), (',', 'Fc'), ('creada', 'aq0fsp'), ('por', 'sps00'), ('el', 'da0ms0'), ('japonés', 'aq0ms0'), ('Mitsubishi_Corporation', 'np00000'), ('para', 'sps00'), ('poner_en_marcha', 'vmn0000'), ('una', 'di0fs0'), ('central', 'ncfs000'), ('de', 'sps00'), ('gas', 'ncms000'), ('de', 'sps00'), ('495', 'Z'), ('megavatios', 'ncmp000'), ('.', 'Fp')]\n",
            "Tagged sentences:  6030\n",
            "Tagged words: 192685\n"
          ],
          "name": "stdout"
        }
      ]
    },
    {
      "metadata": {
        "colab_type": "text",
        "id": "i_aFjuCQKG1O"
      },
      "cell_type": "markdown",
      "source": [
        "### Se procede a Dividir en una lista de Oraciones dividida en lista de palabras y cada palabra con un correspondiente tag en un alista diferente"
      ]
    },
    {
      "metadata": {
        "colab_type": "code",
        "id": "516a_v5vQuhC",
        "colab": {}
      },
      "cell_type": "code",
      "source": [
        "import numpy as np\n",
        " \n",
        "sentences, tagss =[], [] \n",
        "for tagged_sentence in tagged_sentences:\n",
        "    sentence, tags = zip(*tagged_sentence)\n",
        "    sentences.append(np.array(sentence))\n",
        "    tagss.append(np.array(tags))\n"
      ],
      "execution_count": 0,
      "outputs": []
    },
    {
      "metadata": {
        "colab_type": "text",
        "id": "UN_E4ePpKhvy"
      },
      "cell_type": "markdown",
      "source": [
        "### Imprimimos una posicion de la lista como ejemplo"
      ]
    },
    {
      "metadata": {
        "colab_type": "code",
        "id": "l6uGGSqZQuhM",
        "outputId": "bb432132-d363-46c9-e07c-e24c4e90520a",
        "colab": {
          "base_uri": "https://localhost:8080/",
          "height": 255
        }
      },
      "cell_type": "code",
      "source": [
        "print(sentences[5])\n",
        "print(tagss[5])"
      ],
      "execution_count": 52,
      "outputs": [
        {
          "output_type": "stream",
          "text": [
            "['EDF' 'tiene' 'previsto' 'invertir' '194' 'millones' 'de' 'euros' '-Fpa-'\n",
            " '186' 'millones' 'de' 'dólares' '-Fpt-' 'en' 'la' 'central' 'de'\n",
            " 'Río_Bravo' ',' 'con' 'una' 'potencia' 'de' '495' 'megavatios' ',' 'y'\n",
            " '134' 'millones' 'de' 'euros' '-Fpa-' '28' 'millones' 'de' 'dólares'\n",
            " '-Fpt-' 'en' 'Saltillo' ',' 'que' 'como' 'la' 'primera' 'funcionará'\n",
            " 'con' 'gas' 'natural' 'y' 'cuya' 'potencia' 'prevista' 'es' 'de' '247'\n",
            " 'megavatios' '.']\n",
            "['np00000' 'vmip3s0' 'aq0msp' 'vmn0000' 'Z' 'ncmp000' 'sps00' 'Zm' 'Fpa'\n",
            " 'Z' 'ncmp000' 'sps00' 'Zm' 'Fpt' 'sps00' 'da0fs0' 'ncfs000' 'sps00'\n",
            " 'np00000' 'Fc' 'sps00' 'di0fs0' 'ncfs000' 'sps00' 'Z' 'ncmp000' 'Fc' 'cc'\n",
            " 'Z' 'ncmp000' 'sps00' 'Zm' 'Fpa' 'Z' 'ncmp000' 'sps00' 'Zm' 'Fpt' 'sps00'\n",
            " 'np00000' 'Fc' 'pr0cn000' 'cs' 'da0fs0' 'ao0fs0' 'vmif3s0' 'sps00'\n",
            " 'ncms000' 'aq0cs0' 'cc' 'pr0fs000' 'ncfs000' 'aq0fsp' 'vsip3s0' 'sps00'\n",
            " 'Z' 'ncmp000' 'Fp']\n"
          ],
          "name": "stdout"
        }
      ]
    },
    {
      "metadata": {
        "colab_type": "text",
        "id": "WFQrAblFQuhT"
      },
      "cell_type": "markdown",
      "source": [
        "### Dividimos el corpus de la siguiente manera, Utilizamos aproximadamente el 60% de las oraciones etiquetadas para el entrenamiento, el 20% como conjunto de validación y el 20% para evaluar nuestro modelo."
      ]
    },
    {
      "metadata": {
        "colab_type": "code",
        "id": "ZtLulrEOQuhU",
        "colab": {}
      },
      "cell_type": "code",
      "source": [
        "from sklearn.model_selection import train_test_split\n",
        " \n",
        "(training_sentences, \n",
        " test_sentences, \n",
        " training_tags, \n",
        " test_tags) = train_test_split(sentences, tagss, test_size=0.2)\n",
        "\n",
        "(train_sentences, \n",
        " eval_sentences, \n",
        " train_tags, \n",
        " eval_tags) = train_test_split(training_sentences, training_tags, test_size=0.25)"
      ],
      "execution_count": 0,
      "outputs": []
    },
    {
      "metadata": {
        "colab_type": "text",
        "id": "_Mk0scnsK1OE"
      },
      "cell_type": "markdown",
      "source": [
        "### Imprimimos los tamaños de las listas que nos indicaran el tamaño de filas de las matrices con las que estaremos trabajando"
      ]
    },
    {
      "metadata": {
        "colab_type": "code",
        "id": "7HkjbP_IQuhZ",
        "outputId": "70489eac-d99d-4728-b481-2d3bd2faa7e9",
        "colab": {
          "base_uri": "https://localhost:8080/",
          "height": 697
        }
      },
      "cell_type": "code",
      "source": [
        "print(\"training_sentences:\" + str(len(training_sentences)))\n",
        "print(\"train_sentences: \" + str(len(train_sentences)))\n",
        "print(\"test_sentences: \" + str(len(test_sentences)))\n",
        "print(\"eval_sentences: \" + str(len(eval_sentences)) + \"\\n\")\n",
        "\n",
        "print(train_sentences[0])\n",
        "print(test_sentences[0])\n",
        "print(eval_sentences[0])\n",
        "\n",
        "print(\"\\ntraining_tags:\" + str(len(training_sentences)))\n",
        "print(\"train_tags: \" + str(len(train_tags)))\n",
        "print(\"test_tags: \" + str(len(test_tags)))\n",
        "print(\"eval_tags: \" + str(len(eval_tags)) + \"\\n\")\n",
        "\n",
        "print(train_tags[0])\n",
        "print(test_tags[0])\n",
        "print(eval_tags[0])"
      ],
      "execution_count": 54,
      "outputs": [
        {
          "output_type": "stream",
          "text": [
            "training_sentences:4824\n",
            "train_sentences: 3618\n",
            "test_sentences: 1206\n",
            "eval_sentences: 1206\n",
            "\n",
            "['*' 'El' 'Madrid' 'precisa' 'que' 'el' 'Deportivo' 'gane' 'la' 'Liga' ','\n",
            " 'porque' 'los' 'gallegos' 'no' 'son' 'considerados' 'unos' 'herederos'\n",
            " ',' 'sino' 'unos' 'entrometidos' 'que' 'se' 'supone' 'temporales' ','\n",
            " 'que' 'pertenecen' 'a' 'la' 'actualidad' 'más' 'rabiosa' 'y' 'no' 'a'\n",
            " 'la' 'historia' 'más' 'enrabietada' '.']\n",
            "['El' 'técnico' 'barcelonista' 'ha' 'asegurado' 'que' 'la' 'visita' 'de'\n",
            " 'Gaspart' 'ha' 'contribuido' 'a' '\"' 'sumar' '\"' ',' 'y' '*0*' 'ha'\n",
            " 'argumentado' 'que' 'el' 'encuentro' 'con' 'el' 'presidente' 'significa'\n",
            " 'que' 'en' 'el' 'Barcelona' '\"' 'todos' 'van' 'en' 'la' 'misma'\n",
            " 'dirección' '\"' '.']\n",
            "['Lo_suyo' ',' 'lo' 'de' 'las' 'ratas' ',' 'no' 'es' 'la' 'carroña' 'pura'\n",
            " 'y' 'dura' 'sino' 'la' 'vida' 'regalada' ',' 'el' 'eterno' 'banquete'\n",
            " 'de' 'sobras' 'y' 'residuos' ',' 'el' 'festín' 'organizado' 'a' 'la'\n",
            " 'sobra' 'de' 'la' 'abundancia' 'y' 'el' 'hartazgo' '.']\n",
            "\n",
            "training_tags:4824\n",
            "train_tags: 3618\n",
            "test_tags: 1206\n",
            "eval_tags: 1206\n",
            "\n",
            "['Fz' 'da0ms0' 'np0000l' 'vmip3s0' 'cs' 'da0ms0' 'np0000o' 'vmsp3s0'\n",
            " 'da0fs0' 'np0000a' 'Fc' 'cs' 'da0mp0' 'ncmp000' 'rn' 'vsip3p0' 'vmp00pm'\n",
            " 'di0mp0' 'ncmp000' 'Fc' 'cc' 'di0mp0' 'ncmp000' 'pr0cn000' 'p0000000'\n",
            " 'vmip3s0' 'aq0cp0' 'Fc' 'pr0cn000' 'vmip3p0' 'sps00' 'da0fs0' 'ncfs000'\n",
            " 'rg' 'aq0fs0' 'cc' 'rn' 'sps00' 'da0fs0' 'ncfs000' 'rg' 'aq0fsp' 'Fp']\n",
            "['da0ms0' 'ncms000' 'aq0cs0' 'vaip3s0' 'vmp00sm' 'cs' 'da0fs0' 'ncfs000'\n",
            " 'sps00' 'np00000' 'vaip3s0' 'vmp00sm' 'sps00' 'Fe' 'vmn0000' 'Fe' 'Fc'\n",
            " 'cc' 'sn.e-SUJ' 'vaip3s0' 'vmp00sm' 'cs' 'da0ms0' 'ncms000' 'sps00'\n",
            " 'da0ms0' 'ncms000' 'vmip3s0' 'cs' 'sps00' 'da0ms0' 'np00000' 'Fe'\n",
            " 'pi0mp000' 'vmip3p0' 'sps00' 'da0fs0' 'di0fs0' 'ncfs000' 'Fe' 'Fp']\n",
            "['px3ns000' 'Fc' 'da0ns0' 'sps00' 'da0fp0' 'ncfp000' 'Fc' 'rn' 'vsip3s0'\n",
            " 'da0fs0' 'ncfs000' 'aq0fs0' 'cc' 'aq0fs0' 'cc' 'da0fs0' 'ncfs000'\n",
            " 'aq0fsp' 'Fc' 'da0ms0' 'aq0ms0' 'ncms000' 'sps00' 'ncfp000' 'cc'\n",
            " 'ncmp000' 'Fc' 'da0ms0' 'ncms000' 'aq0msp' 'sps00' 'da0fs0' 'ncfs000'\n",
            " 'sps00' 'da0fs0' 'ncfs000' 'cc' 'da0ms0' 'ncms000' 'Fp']\n"
          ],
          "name": "stdout"
        }
      ]
    },
    {
      "metadata": {
        "colab_type": "text",
        "id": "Jd-i6q85Quho"
      },
      "cell_type": "markdown",
      "source": [
        "### Ahora creamos una array con todas las palabras y los tags presentes en el corpus, adicionalmente se crea un diccionario que contiene las palabras unicas y los tags unicos de tal forma que no se repitan y que contienen un indice o llave"
      ]
    },
    {
      "metadata": {
        "colab_type": "code",
        "id": "qdCNulCoQuhr",
        "colab": {
          "base_uri": "https://localhost:8080/",
          "height": 51
        },
        "outputId": "a9895d28-f6b4-4a22-9b60-1c397fac3301"
      },
      "cell_type": "code",
      "source": [
        "words, tagsss = set([]), set([])\n",
        " \n",
        "for s in (train_sentences + eval_sentences + test_sentences):\n",
        "    for w in s:\n",
        "        words.add(w.lower())\n",
        "\n",
        "for ts in (train_tags + eval_tags + test_tags):\n",
        "    for t in ts:\n",
        "        tagsss.add(t)\n",
        "\n",
        "word2index = {w: i + 2 for i, w in enumerate(list(words))}\n",
        "word2index['-PAD-'] = 0  # The special value used for padding\n",
        "word2index['-OOV-'] = 1  # The special value used for OOVs\n",
        " \n",
        "tag2index = {t: i + 2 for i, t in enumerate(list(tagsss))}\n",
        "tag2index['-PAD-'] = 0  # The special value used to padding\n",
        "tag2index['-OOV-'] = 1  # The special value used to padding\n",
        "\n",
        "print (len(word2index))\n",
        "print (len(tag2index))"
      ],
      "execution_count": 55,
      "outputs": [
        {
          "output_type": "stream",
          "text": [
            "24499\n",
            "291\n"
          ],
          "name": "stdout"
        }
      ]
    },
    {
      "metadata": {
        "colab_type": "text",
        "id": "VEA9Ek-GOYOn"
      },
      "cell_type": "markdown",
      "source": [
        "### Ahora procedemos a transformar cada uno de los conjuntos de oraciones y tags en vectores numericos, modificando la palabra o tag en un Valor numerico que corresponde a una llave en el diccionario de palbras o tags"
      ]
    },
    {
      "metadata": {
        "colab_type": "code",
        "id": "69eec13kQuh2",
        "colab": {}
      },
      "cell_type": "code",
      "source": [
        "train_sentences_X, eval_sentences_X, test_sentences_X, train_tags_y, eval_tags_y, test_tags_y = [], [], [], [], [], []\n",
        "\n",
        "for s in train_sentences:\n",
        "    s_int = []\n",
        "    for w in s:\n",
        "        try:\n",
        "            s_int.append(word2index[w.lower()])\n",
        "        except KeyError:\n",
        "            s_int.append(word2index['-OOV-'])\n",
        " \n",
        "    train_sentences_X.append(s_int)\n",
        "\n",
        "for s in eval_sentences:\n",
        "    s_int = []\n",
        "    for w in s:\n",
        "        try:\n",
        "            s_int.append(word2index[w.lower()])\n",
        "        except KeyError:\n",
        "            s_int.append(word2index['-OOV-'])\n",
        " \n",
        "    eval_sentences_X.append(s_int)\n",
        "\n",
        "for s in test_sentences:\n",
        "    s_int = []\n",
        "    for w in s:\n",
        "        try:\n",
        "            s_int.append(word2index[w.lower()])\n",
        "        except KeyError:\n",
        "            s_int.append(word2index['-OOV-'])\n",
        " \n",
        "    test_sentences_X.append(s_int)\n",
        "\n",
        "for s in train_tags:\n",
        "    s_int = []\n",
        "    for w in s:\n",
        "        try:\n",
        "            s_int.append(tag2index[w])\n",
        "        except KeyError:\n",
        "            s_int.append(tag2index['-OOV-'])\n",
        "            \n",
        "    train_tags_y.append(s_int)\n",
        "\n",
        "for s in eval_tags:\n",
        "    s_int = []\n",
        "    for w in s:\n",
        "        try:\n",
        "            s_int.append(tag2index[w])\n",
        "        except KeyError:\n",
        "            s_int.append(tag2index['-OOV-'])\n",
        "            \n",
        "    eval_tags_y.append(s_int)\n",
        "\n",
        "for s in test_tags:\n",
        "    s_int = []\n",
        "    for w in s:\n",
        "        try:\n",
        "            s_int.append(tag2index[w])\n",
        "        except KeyError:\n",
        "            s_int.append(tag2index['-OOV-'])\n",
        "            \n",
        "    test_tags_y.append(s_int)\n"
      ],
      "execution_count": 0,
      "outputs": []
    },
    {
      "metadata": {
        "colab_type": "text",
        "id": "d_lXW1mBPNkf"
      },
      "cell_type": "markdown",
      "source": [
        "### Se imprime la longitud de las matrices y una muesta de cada una de las matrices creadas"
      ]
    },
    {
      "metadata": {
        "colab_type": "code",
        "id": "Y5A4d_dzQuh6",
        "outputId": "a3d2808b-4ec4-4b5f-e469-eed38caeb48d",
        "colab": {
          "base_uri": "https://localhost:8080/",
          "height": 292
        }
      },
      "cell_type": "code",
      "source": [
        "print(\"Longitudes de las Matrices:\")\n",
        "print(len(train_sentences_X))\n",
        "print(len(eval_sentences_X))\n",
        "print(len(test_sentences_X))\n",
        "print(len(train_tags_y))\n",
        "print(len(eval_tags_y))\n",
        "print(len(test_tags_y))\n",
        "\n",
        "print(\"\\nMuestra de Datos presentes en las Matrices con las transformaciones:\")\n",
        "\n",
        "print(train_sentences_X[0])\n",
        "print(eval_sentences_X[0])\n",
        "print(test_sentences_X[0])\n",
        "print(train_tags_y[0])\n",
        "print(eval_tags_y[0])\n",
        "print(test_tags_y[0])"
      ],
      "execution_count": 57,
      "outputs": [
        {
          "output_type": "stream",
          "text": [
            "Longitudes de las Matrices:\n",
            "3618\n",
            "1206\n",
            "1206\n",
            "3618\n",
            "1206\n",
            "1206\n",
            "\n",
            "Muestra de Datos presentes en las Matrices con las transformaciones:\n",
            "[9922, 10995, 9454, 17425, 18435, 10995, 8384, 9817, 23115, 19968, 10421, 11763, 9403, 11771, 2932, 8610, 21666, 15400, 11071, 10421, 3382, 15400, 15611, 18435, 20364, 1482, 12319, 10421, 18435, 10757, 16698, 23115, 19471, 21538, 1577, 4720, 2932, 16698, 23115, 2458, 21538, 18202, 2790]\n",
            "[10920, 10421, 20318, 10069, 18731, 591, 10421, 2932, 22731, 23115, 7327, 23396, 4720, 8989, 3382, 23115, 2726, 4192, 10421, 10995, 4145, 17543, 10069, 16372, 4720, 11489, 10421, 10995, 23390, 6834, 16698, 23115, 3924, 10069, 23115, 10461, 4720, 10995, 18457, 2790]\n",
            "[10995, 8169, 14347, 23439, 6534, 18435, 23115, 15690, 10069, 22948, 23439, 10593, 16698, 5602, 7535, 5602, 10421, 4720, 20103, 23439, 11372, 18435, 10995, 15997, 7994, 10995, 24128, 23587, 18435, 8513, 10995, 113, 5602, 7778, 15195, 8513, 23115, 8542, 14071, 5602, 2790]\n",
            "[159, 172, 260, 253, 243, 172, 171, 189, 195, 58, 39, 243, 143, 78, 122, 6, 118, 281, 78, 39, 128, 281, 78, 135, 275, 253, 254, 39, 135, 174, 222, 195, 85, 238, 71, 128, 122, 222, 195, 85, 238, 129, 289]\n",
            "[233, 39, 60, 222, 150, 187, 39, 122, 139, 195, 85, 71, 128, 71, 128, 195, 85, 129, 39, 172, 24, 207, 222, 187, 128, 78, 39, 172, 207, 7, 222, 195, 85, 222, 195, 85, 128, 172, 207, 289]\n",
            "[172, 207, 158, 52, 48, 243, 195, 85, 222, 197, 52, 48, 222, 69, 132, 69, 39, 128, 134, 52, 48, 243, 172, 207, 222, 172, 207, 253, 243, 222, 172, 197, 69, 32, 174, 222, 195, 40, 85, 69, 289]\n"
          ],
          "name": "stdout"
        }
      ]
    },
    {
      "metadata": {
        "colab_type": "text",
        "id": "kWLspkzfQ513"
      },
      "cell_type": "markdown",
      "source": [
        "### Se calcula cual es la oracion que mayor cantidad de Palabras contiene"
      ]
    },
    {
      "metadata": {
        "colab_type": "code",
        "id": "Gif6KsESQuh_",
        "outputId": "be988786-883f-4a50-af89-78ae8696c26e",
        "colab": {
          "base_uri": "https://localhost:8080/",
          "height": 34
        }
      },
      "cell_type": "code",
      "source": [
        "MAX_LENGTH1 = len(max(train_sentences_X, key=len))\n",
        "MAX_LENGTH2 = len(max(eval_sentences_X, key=len))\n",
        "MAX_LENGTH3 = len(max(test_sentences_X, key=len))\n",
        "\n",
        "l = [MAX_LENGTH1, MAX_LENGTH2, MAX_LENGTH3]\n",
        "MAX_LENGTH = max(l)\n",
        "\n",
        "print(MAX_LENGTH)"
      ],
      "execution_count": 59,
      "outputs": [
        {
          "output_type": "stream",
          "text": [
            "149\n"
          ],
          "name": "stdout"
        }
      ]
    },
    {
      "metadata": {
        "colab_type": "text",
        "id": "e4ffWaDqRA1_"
      },
      "cell_type": "markdown",
      "source": [
        "### Se procede a Normalizar las matrices para que todas contengan el mismo numero de columans, con la longitud maxima de palabras encontradas anteriormente, esto se logra agregando ceros a la derecha en las posiciones que hacen falta en el vector"
      ]
    },
    {
      "metadata": {
        "colab_type": "code",
        "id": "mn7iuMIOQuiI",
        "outputId": "323f249f-48e1-4b9a-c945-497a47fcb0f7",
        "colab": {
          "base_uri": "https://localhost:8080/",
          "height": 1139
        }
      },
      "cell_type": "code",
      "source": [
        "from keras.preprocessing.sequence import pad_sequences\n",
        " \n",
        "train_sentences_X = pad_sequences(train_sentences_X, maxlen=MAX_LENGTH, padding='post')\n",
        "eval_sentences_X = pad_sequences(eval_sentences_X, maxlen=MAX_LENGTH, padding='post')\n",
        "test_sentences_X = pad_sequences(test_sentences_X, maxlen=MAX_LENGTH, padding='post')\n",
        "train_tags_y = pad_sequences(train_tags_y, maxlen=MAX_LENGTH, padding='post')\n",
        "eval_tags_y = pad_sequences(eval_tags_y, maxlen=MAX_LENGTH, padding='post')\n",
        "test_tags_y = pad_sequences(test_tags_y, maxlen=MAX_LENGTH, padding='post')\n",
        " \n",
        "print(train_sentences_X[0])\n",
        "print(eval_sentences_X[0])\n",
        "print(test_sentences_X[0])\n",
        "print(train_tags_y[0])\n",
        "print(eval_tags_y[0])\n",
        "print(test_tags_y[0])"
      ],
      "execution_count": 60,
      "outputs": [
        {
          "output_type": "stream",
          "text": [
            "[ 9922 10995  9454 17425 18435 10995  8384  9817 23115 19968 10421 11763\n",
            "  9403 11771  2932  8610 21666 15400 11071 10421  3382 15400 15611 18435\n",
            " 20364  1482 12319 10421 18435 10757 16698 23115 19471 21538  1577  4720\n",
            "  2932 16698 23115  2458 21538 18202  2790     0     0     0     0     0\n",
            "     0     0     0     0     0     0     0     0     0     0     0     0\n",
            "     0     0     0     0     0     0     0     0     0     0     0     0\n",
            "     0     0     0     0     0     0     0     0     0     0     0     0\n",
            "     0     0     0     0     0     0     0     0     0     0     0     0\n",
            "     0     0     0     0     0     0     0     0     0     0     0     0\n",
            "     0     0     0     0     0     0     0     0     0     0     0     0\n",
            "     0     0     0     0     0     0     0     0     0     0     0     0\n",
            "     0     0     0     0     0     0     0     0     0     0     0     0\n",
            "     0     0     0     0     0]\n",
            "[10920 10421 20318 10069 18731   591 10421  2932 22731 23115  7327 23396\n",
            "  4720  8989  3382 23115  2726  4192 10421 10995  4145 17543 10069 16372\n",
            "  4720 11489 10421 10995 23390  6834 16698 23115  3924 10069 23115 10461\n",
            "  4720 10995 18457  2790     0     0     0     0     0     0     0     0\n",
            "     0     0     0     0     0     0     0     0     0     0     0     0\n",
            "     0     0     0     0     0     0     0     0     0     0     0     0\n",
            "     0     0     0     0     0     0     0     0     0     0     0     0\n",
            "     0     0     0     0     0     0     0     0     0     0     0     0\n",
            "     0     0     0     0     0     0     0     0     0     0     0     0\n",
            "     0     0     0     0     0     0     0     0     0     0     0     0\n",
            "     0     0     0     0     0     0     0     0     0     0     0     0\n",
            "     0     0     0     0     0     0     0     0     0     0     0     0\n",
            "     0     0     0     0     0]\n",
            "[10995  8169 14347 23439  6534 18435 23115 15690 10069 22948 23439 10593\n",
            " 16698  5602  7535  5602 10421  4720 20103 23439 11372 18435 10995 15997\n",
            "  7994 10995 24128 23587 18435  8513 10995   113  5602  7778 15195  8513\n",
            " 23115  8542 14071  5602  2790     0     0     0     0     0     0     0\n",
            "     0     0     0     0     0     0     0     0     0     0     0     0\n",
            "     0     0     0     0     0     0     0     0     0     0     0     0\n",
            "     0     0     0     0     0     0     0     0     0     0     0     0\n",
            "     0     0     0     0     0     0     0     0     0     0     0     0\n",
            "     0     0     0     0     0     0     0     0     0     0     0     0\n",
            "     0     0     0     0     0     0     0     0     0     0     0     0\n",
            "     0     0     0     0     0     0     0     0     0     0     0     0\n",
            "     0     0     0     0     0     0     0     0     0     0     0     0\n",
            "     0     0     0     0     0]\n",
            "[159 172 260 253 243 172 171 189 195  58  39 243 143  78 122   6 118 281\n",
            "  78  39 128 281  78 135 275 253 254  39 135 174 222 195  85 238  71 128\n",
            " 122 222 195  85 238 129 289   0   0   0   0   0   0   0   0   0   0   0\n",
            "   0   0   0   0   0   0   0   0   0   0   0   0   0   0   0   0   0   0\n",
            "   0   0   0   0   0   0   0   0   0   0   0   0   0   0   0   0   0   0\n",
            "   0   0   0   0   0   0   0   0   0   0   0   0   0   0   0   0   0   0\n",
            "   0   0   0   0   0   0   0   0   0   0   0   0   0   0   0   0   0   0\n",
            "   0   0   0   0   0   0   0   0   0   0   0   0   0   0   0   0   0   0\n",
            "   0   0   0   0   0]\n",
            "[233  39  60 222 150 187  39 122 139 195  85  71 128  71 128 195  85 129\n",
            "  39 172  24 207 222 187 128  78  39 172 207   7 222 195  85 222 195  85\n",
            " 128 172 207 289   0   0   0   0   0   0   0   0   0   0   0   0   0   0\n",
            "   0   0   0   0   0   0   0   0   0   0   0   0   0   0   0   0   0   0\n",
            "   0   0   0   0   0   0   0   0   0   0   0   0   0   0   0   0   0   0\n",
            "   0   0   0   0   0   0   0   0   0   0   0   0   0   0   0   0   0   0\n",
            "   0   0   0   0   0   0   0   0   0   0   0   0   0   0   0   0   0   0\n",
            "   0   0   0   0   0   0   0   0   0   0   0   0   0   0   0   0   0   0\n",
            "   0   0   0   0   0]\n",
            "[172 207 158  52  48 243 195  85 222 197  52  48 222  69 132  69  39 128\n",
            " 134  52  48 243 172 207 222 172 207 253 243 222 172 197  69  32 174 222\n",
            " 195  40  85  69 289   0   0   0   0   0   0   0   0   0   0   0   0   0\n",
            "   0   0   0   0   0   0   0   0   0   0   0   0   0   0   0   0   0   0\n",
            "   0   0   0   0   0   0   0   0   0   0   0   0   0   0   0   0   0   0\n",
            "   0   0   0   0   0   0   0   0   0   0   0   0   0   0   0   0   0   0\n",
            "   0   0   0   0   0   0   0   0   0   0   0   0   0   0   0   0   0   0\n",
            "   0   0   0   0   0   0   0   0   0   0   0   0   0   0   0   0   0   0\n",
            "   0   0   0   0   0]\n"
          ],
          "name": "stdout"
        }
      ]
    },
    {
      "metadata": {
        "colab_type": "text",
        "id": "elkKsVbBNrYO"
      },
      "cell_type": "markdown",
      "source": [
        "### Definimos la funcion con la cual categorizaremos los tags y los covertiremos un vector One-hot"
      ]
    },
    {
      "metadata": {
        "colab_type": "code",
        "id": "qGw5_dPX5xc0",
        "colab": {}
      },
      "cell_type": "code",
      "source": [
        "def to_categorical(sequences, categories):\n",
        "    cat_sequences = []\n",
        "    for s in sequences:\n",
        "        cats = []\n",
        "        for item in s:\n",
        "            cats.append(np.zeros(categories))\n",
        "            cats[-1][item] = 1.0\n",
        "        cat_sequences.append(cats)\n",
        "    return np.array(cat_sequences)"
      ],
      "execution_count": 0,
      "outputs": []
    },
    {
      "metadata": {
        "colab_type": "text",
        "id": "GOmqn-5ZNg23"
      },
      "cell_type": "markdown",
      "source": [
        "### Desarrollamos una prueba de la categorisacion de los tags"
      ]
    },
    {
      "metadata": {
        "colab_type": "code",
        "id": "lepVNGK5bgc1",
        "outputId": "4ee4647c-0b91-4fb4-8676-1bdf1c52ea30",
        "colab": {
          "base_uri": "https://localhost:8080/",
          "height": 136
        }
      },
      "cell_type": "code",
      "source": [
        "cat_train_tags_y = to_categorical(train_tags_y, len(tag2index))\n",
        "print(cat_train_tags_y[0])"
      ],
      "execution_count": 62,
      "outputs": [
        {
          "output_type": "stream",
          "text": [
            "[[0. 0. 0. ... 0. 0. 0.]\n",
            " [0. 0. 0. ... 0. 0. 0.]\n",
            " [0. 0. 0. ... 0. 0. 0.]\n",
            " ...\n",
            " [1. 0. 0. ... 0. 0. 0.]\n",
            " [1. 0. 0. ... 0. 0. 0.]\n",
            " [1. 0. 0. ... 0. 0. 0.]]\n"
          ],
          "name": "stdout"
        }
      ]
    },
    {
      "metadata": {
        "id": "9-_gAQ7qrWTQ",
        "colab_type": "text"
      },
      "cell_type": "markdown",
      "source": [
        "## PARTE 2  -  Entrenamiento"
      ]
    },
    {
      "metadata": {
        "colab_type": "text",
        "id": "odDOhtO4NZDd"
      },
      "cell_type": "markdown",
      "source": [
        "### Definimos el Modelo Base con el cual se procedera a desarrollar la fase de Entrenamiento"
      ]
    },
    {
      "metadata": {
        "colab_type": "code",
        "id": "x31rRt8PQuiW",
        "outputId": "90e66266-fb83-4408-ad95-11e3ffeeea98",
        "colab": {
          "base_uri": "https://localhost:8080/",
          "height": 272
        }
      },
      "cell_type": "code",
      "source": [
        "from keras.models import Sequential\n",
        "from keras.layers import Dense, LSTM, InputLayer, Bidirectional, TimeDistributed, Embedding, Activation\n",
        "from keras.optimizers import Adam\n",
        " \n",
        "model = Sequential()\n",
        "model.add(InputLayer(input_shape=(MAX_LENGTH, )))\n",
        "model.add(Embedding(len(word2index), 128))\n",
        "model.add(Bidirectional(LSTM(256, return_sequences=True)))\n",
        "model.add(TimeDistributed(Dense(len(tag2index))))\n",
        "model.add(Activation('softmax'))\n",
        " \n",
        "model.compile(loss='categorical_crossentropy', optimizer=Adam(0.001), metrics=['accuracy'])\n",
        " \n",
        "model.summary()"
      ],
      "execution_count": 63,
      "outputs": [
        {
          "output_type": "stream",
          "text": [
            "_________________________________________________________________\n",
            "Layer (type)                 Output Shape              Param #   \n",
            "=================================================================\n",
            "embedding_2 (Embedding)      (None, 149, 128)          3135872   \n",
            "_________________________________________________________________\n",
            "bidirectional_2 (Bidirection (None, 149, 512)          788480    \n",
            "_________________________________________________________________\n",
            "time_distributed_2 (TimeDist (None, 149, 291)          149283    \n",
            "_________________________________________________________________\n",
            "activation_2 (Activation)    (None, 149, 291)          0         \n",
            "=================================================================\n",
            "Total params: 4,073,635\n",
            "Trainable params: 4,073,635\n",
            "Non-trainable params: 0\n",
            "_________________________________________________________________\n"
          ],
          "name": "stdout"
        }
      ]
    },
    {
      "metadata": {
        "colab_type": "text",
        "id": "4XghotI4NG9G"
      },
      "cell_type": "markdown",
      "source": [
        "### Se dedarrolla el entrenamiento del modelo"
      ]
    },
    {
      "metadata": {
        "colab_type": "code",
        "id": "C0gOhZznbg6V",
        "outputId": "29cf358f-43dd-448e-c1bb-9cb4e12250d3",
        "colab": {
          "base_uri": "https://localhost:8080/",
          "height": 680
        }
      },
      "cell_type": "code",
      "source": [
        "model_hist = model.fit(train_sentences_X, to_categorical(train_tags_y, len(tag2index)),\n",
        "                       validation_data=(eval_sentences_X, to_categorical(eval_tags_y, len(tag2index))),\n",
        "                       batch_size=128, \n",
        "                       epochs=40,\n",
        "                       validation_split=0.2)"
      ],
      "execution_count": 0,
      "outputs": [
        {
          "output_type": "stream",
          "text": [
            "Train on 3618 samples, validate on 1206 samples\n",
            "Epoch 1/40\n",
            "3618/3618 [==============================] - 122s 34ms/step - loss: 2.1913 - acc: 0.7583 - val_loss: 0.9379 - val_acc: 0.7845\n",
            "Epoch 2/40\n",
            "3618/3618 [==============================] - 120s 33ms/step - loss: 0.8937 - acc: 0.7946 - val_loss: 0.8756 - val_acc: 0.8127\n",
            "Epoch 3/40\n",
            "3618/3618 [==============================] - 119s 33ms/step - loss: 0.8539 - acc: 0.8146 - val_loss: 0.8509 - val_acc: 0.8127\n",
            "Epoch 4/40\n",
            "3618/3618 [==============================] - 120s 33ms/step - loss: 0.8311 - acc: 0.8145 - val_loss: 0.8325 - val_acc: 0.8126\n",
            "Epoch 5/40\n",
            "3618/3618 [==============================] - 120s 33ms/step - loss: 0.8103 - acc: 0.8154 - val_loss: 0.8145 - val_acc: 0.8186\n",
            "Epoch 6/40\n",
            "3618/3618 [==============================] - 121s 33ms/step - loss: 0.7890 - acc: 0.8206 - val_loss: 0.7921 - val_acc: 0.8248\n",
            "Epoch 7/40\n",
            "3618/3618 [==============================] - 121s 33ms/step - loss: 0.7631 - acc: 0.8322 - val_loss: 0.7567 - val_acc: 0.8324\n",
            "Epoch 8/40\n",
            "3618/3618 [==============================] - 120s 33ms/step - loss: 0.7138 - acc: 0.8366 - val_loss: 0.6812 - val_acc: 0.8439\n",
            "Epoch 9/40\n",
            "3618/3618 [==============================] - 122s 34ms/step - loss: 0.6220 - acc: 0.8653 - val_loss: 0.5744 - val_acc: 0.8819\n",
            "Epoch 10/40\n",
            "3618/3618 [==============================] - 122s 34ms/step - loss: 0.5123 - acc: 0.8928 - val_loss: 0.4675 - val_acc: 0.9025\n",
            "Epoch 11/40\n",
            "3618/3618 [==============================] - 121s 33ms/step - loss: 0.4097 - acc: 0.9137 - val_loss: 0.3759 - val_acc: 0.9217\n",
            "Epoch 12/40\n",
            "3618/3618 [==============================] - 121s 33ms/step - loss: 0.3228 - acc: 0.9311 - val_loss: 0.3028 - val_acc: 0.9358\n",
            "Epoch 13/40\n",
            "3618/3618 [==============================] - 121s 34ms/step - loss: 0.2544 - acc: 0.9458 - val_loss: 0.2478 - val_acc: 0.9457\n",
            "Epoch 14/40\n",
            "3618/3618 [==============================] - 120s 33ms/step - loss: 0.2002 - acc: 0.9579 - val_loss: 0.2073 - val_acc: 0.9549\n",
            "Epoch 15/40\n",
            "3618/3618 [==============================] - 121s 34ms/step - loss: 0.1579 - acc: 0.9677 - val_loss: 0.1775 - val_acc: 0.9613\n",
            "Epoch 16/40\n",
            "3618/3618 [==============================] - 121s 33ms/step - loss: 0.1245 - acc: 0.9755 - val_loss: 0.1544 - val_acc: 0.9665\n",
            "Epoch 17/40\n",
            "3618/3618 [==============================] - 120s 33ms/step - loss: 0.0988 - acc: 0.9812 - val_loss: 0.1380 - val_acc: 0.9700\n",
            "Epoch 18/40\n",
            "3618/3618 [==============================] - 121s 33ms/step - loss: 0.0797 - acc: 0.9855 - val_loss: 0.1264 - val_acc: 0.9725\n",
            "Epoch 19/40\n",
            " 768/3618 [=====>........................] - ETA: 1:26 - loss: 0.0677 - acc: 0.9881"
          ],
          "name": "stdout"
        }
      ]
    },
    {
      "metadata": {
        "id": "9hTDgQb2rWTa",
        "colab_type": "text"
      },
      "cell_type": "markdown",
      "source": [
        "## PARTE 3  -  Evaluación del Modelo"
      ]
    },
    {
      "metadata": {
        "colab_type": "text",
        "id": "LdSkk8mzM1KN"
      },
      "cell_type": "markdown",
      "source": [
        "### Evaluamos el modelo y calculamos el valor de precision con respecto a los datos de prueba"
      ]
    },
    {
      "metadata": {
        "colab_type": "code",
        "id": "cD-YI5Fgb3Kt",
        "outputId": "4a3aa89a-6081-4bb9-a299-8ac9cdbac680",
        "colab": {
          "base_uri": "https://localhost:8080/",
          "height": 51
        }
      },
      "cell_type": "code",
      "source": [
        "scores = model.evaluate(test_sentences_X, to_categorical(test_tags_y, len(tag2index)))\n",
        "print(f\"{model.metrics_names[1]}: {scores[1] * 100}\")   # acc: 97.38805993872496"
      ],
      "execution_count": 18,
      "outputs": [
        {
          "output_type": "stream",
          "text": [
            "1206/1206 [==============================] - 13s 10ms/step\n",
            "acc: 97.38805993872496\n"
          ],
          "name": "stdout"
        }
      ]
    },
    {
      "metadata": {
        "colab_type": "text",
        "id": "sAhkgtWHQuij"
      },
      "cell_type": "markdown",
      "source": [
        "### Definimos la funcion que nos servira para graficar el comportamiento del modelo en cada epoca del entrenamiento"
      ]
    },
    {
      "metadata": {
        "colab_type": "code",
        "id": "JaBUkInNQuik",
        "colab": {}
      },
      "cell_type": "code",
      "source": [
        "import matplotlib.pyplot as plt\n",
        "\n",
        "def plot_model_performance(train_loss, train_acc, train_val_loss, train_val_acc):\n",
        "    \"\"\" Plot model loss and accuracy through epochs. \"\"\"\n",
        "    blue= '#34495E'\n",
        "    green = '#2ECC71'\n",
        "    orange = '#E23B13'\n",
        "    # plot model loss\n",
        "    fig, (ax1, ax2) = plt.subplots(2, figsize=(10, 8))\n",
        "    ax1.plot(range(1, len(train_loss) + 1), train_loss, blue, linewidth=5, label='training')\n",
        "    ax1.plot(range(1, len(train_val_loss) + 1), train_val_loss, green, linewidth=5, label='validation')\n",
        "    ax1.set_xlabel('# epoch')\n",
        "    ax1.set_ylabel('loss')\n",
        "    ax1.tick_params('y')\n",
        "    ax1.legend(loc='upper right', shadow=False)\n",
        "    ax1.set_title('Model loss through #epochs', color=orange, fontweight='bold')\n",
        "    # plot model accuracy\n",
        "    ax2.plot(range(1, len(train_acc) + 1), train_acc, blue, linewidth=5, label='training')\n",
        "    ax2.plot(range(1, len(train_val_acc) + 1), train_val_acc, green, linewidth=5, label='validation')\n",
        "    ax2.set_xlabel('# epoch')\n",
        "    ax2.set_ylabel('accuracy')\n",
        "    ax2.tick_params('y')\n",
        "    ax2.legend(loc='lower right', shadow=False)\n",
        "    ax2.set_title('Model accuracy through #epochs', color=orange, fontweight='bold')"
      ],
      "execution_count": 0,
      "outputs": []
    },
    {
      "metadata": {
        "colab_type": "text",
        "id": "TxQh1AtuQuis"
      },
      "cell_type": "markdown",
      "source": [
        "### Procedemos a Graficar el comportamiento del Entrenamiento, tanto del conjunto de entrenamiento como el de validación con respecto a la cantidad de epocas"
      ]
    },
    {
      "metadata": {
        "colab_type": "code",
        "id": "Gs5f3U1nQuit",
        "outputId": "86aa7473-9513-40a7-b098-807da720926b",
        "colab": {
          "base_uri": "https://localhost:8080/",
          "height": 512
        }
      },
      "cell_type": "code",
      "source": [
        "plot_model_performance(\n",
        "    train_loss=model_hist.history.get('loss', []),\n",
        "    train_acc=model_hist.history.get('acc', []),\n",
        "    train_val_loss=model_hist.history.get('val_loss', []),\n",
        "    train_val_acc=model_hist.history.get('val_acc', [])\n",
        ")"
      ],
      "execution_count": 20,
      "outputs": [
        {
          "output_type": "display_data",
          "data": {
            "image/png": "[encoded data removed]",
            "text/plain": [
              "<Figure size 720x576 with 2 Axes>"
            ]
          },
          "metadata": {
            "tags": []
          }
        }
      ]
    },
    {
      "metadata": {
        "colab_type": "text",
        "id": "pqiuy8q4GYjF"
      },
      "cell_type": "markdown",
      "source": [
        "### Función que Permite convertir Indices en Tags"
      ]
    },
    {
      "metadata": {
        "colab_type": "code",
        "id": "YJ6GaLot9yZR",
        "colab": {}
      },
      "cell_type": "code",
      "source": [
        "def logits_to_tokens(sequences, index):\n",
        "    token_sequences = []\n",
        "    for categorical_sequence in sequences:\n",
        "        token_sequence = []\n",
        "        for categorical in categorical_sequence:\n",
        "            token_sequence.append(index[np.argmax(categorical)])\n",
        " \n",
        "        token_sequences.append(token_sequence)\n",
        " \n",
        "    return token_sequences"
      ],
      "execution_count": 0,
      "outputs": []
    },
    {
      "metadata": {
        "id": "W-1GH3ZYuLc-",
        "colab_type": "text"
      },
      "cell_type": "markdown",
      "source": [
        "### Hacemos la prediccion sobre el conjunto de pruebas "
      ]
    },
    {
      "metadata": {
        "colab_type": "code",
        "id": "6HgbDqqsR4a7",
        "outputId": "8ad10360-dafc-4a75-eeda-b4ed4c5c4e34",
        "colab": {
          "base_uri": "https://localhost:8080/",
          "height": 54
        }
      },
      "cell_type": "code",
      "source": [
        "import pandas as pd\n",
        "\n",
        "prediction = model.predict(test_sentences_X)\n",
        "log_tokens = logits_to_tokens(prediction, {i: t for t, i in tag2index.items()})\n",
        "\n",
        "print(log_tokens[0])\n",
        "\n",
        "#predicted = []\n",
        "#for s in log_tokens:\n",
        "#    s_int = []\n",
        "#    for w in s:\n",
        "#        try:\n",
        "#            s_int.append(tag2index[w])\n",
        "#        except KeyError:\n",
        "#            s_int.append(tag2index['-OOV-'])\n",
        "#            \n",
        "#    predicted.append(s_int)\n",
        "#    \n",
        "#print(predicted[0])\n"
      ],
      "execution_count": 23,
      "outputs": [
        {
          "output_type": "stream",
          "text": [
            "['da0ms0', 'ncms000', 'aq0cs0', 'vaip3s0', 'vmp00sm', 'cs', 'da0fs0', 'ncfs000', 'sps00', 'vmn0000', 'vaip3s0', 'vmp00sm', 'sps00', 'Fe', 'vmn0000', 'Fe', 'Fc', 'cc', 'sn.e-SUJ', 'vaip3s0', 'vmp00sm', 'cs', 'da0ms0', 'ncms000', 'sps00', 'da0ms0', 'ncms000', 'vmip3s0', 'cs', 'sps00', 'da0ms0', 'np0000l', 'Fe', 'di0mp0', 'vmip3p0', 'sps00', 'da0fs0', 'di0fs0', 'ncfs000', 'Fe', 'Fp', '-PAD-', '-PAD-', '-PAD-', '-PAD-', '-PAD-', '-PAD-', '-PAD-', '-PAD-', '-PAD-', '-PAD-', '-PAD-', '-PAD-', '-PAD-', '-PAD-', '-PAD-', '-PAD-', '-PAD-', '-PAD-', '-PAD-', '-PAD-', '-PAD-', '-PAD-', '-PAD-', '-PAD-', '-PAD-', '-PAD-', '-PAD-', '-PAD-', '-PAD-', '-PAD-', '-PAD-', '-PAD-', '-PAD-', '-PAD-', '-PAD-', '-PAD-', '-PAD-', '-PAD-', '-PAD-', '-PAD-', '-PAD-', '-PAD-', '-PAD-', '-PAD-', '-PAD-', '-PAD-', '-PAD-', '-PAD-', '-PAD-', '-PAD-', '-PAD-', '-PAD-', '-PAD-', '-PAD-', '-PAD-', '-PAD-', '-PAD-', '-PAD-', '-PAD-', '-PAD-', '-PAD-', '-PAD-', '-PAD-', '-PAD-', '-PAD-', '-PAD-', '-PAD-', '-PAD-', '-PAD-', '-PAD-', '-PAD-', '-PAD-', '-PAD-', '-PAD-', '-PAD-', '-PAD-', '-PAD-', '-PAD-', '-PAD-', '-PAD-', '-PAD-', '-PAD-', '-PAD-', '-PAD-', '-PAD-', '-PAD-', '-PAD-', '-PAD-', '-PAD-', '-PAD-', '-PAD-', '-PAD-', '-PAD-']\n"
          ],
          "name": "stdout"
        }
      ]
    },
    {
      "metadata": {
        "colab_type": "text",
        "id": "uT6IIQXrQuix"
      },
      "cell_type": "markdown",
      "source": [
        "### Hallamos los valores de F1 score, recall, precision"
      ]
    },
    {
      "metadata": {
        "colab_type": "code",
        "id": "GqTuNxppFNu-",
        "outputId": "cc280315-02e5-4be6-d4b3-eccfae561837",
        "colab": {
          "base_uri": "https://localhost:8080/",
          "height": 1142
        }
      },
      "cell_type": "code",
      "source": [
        "from sklearn.metrics import classification_report, confusion_matrix\n",
        "\n",
        "#y_test = test_tags_y\n",
        "#print ('\\nClasification report:\\n', classification_report(y_test[0], predicted[0]))\n",
        "\n",
        "results = pd.DataFrame(columns=['Expected', 'Predicted'])\n",
        "k = 0\n",
        "for i, lista_etiquetas_oracion in enumerate(test_tags):\n",
        "    for j, etiquetas in enumerate(lista_etiquetas_oracion):\n",
        "        k = k + 1\n",
        "        results.loc[k, 'Expected'] = etiquetas\n",
        "        results.loc[k, 'Predicted'] = log_tokens[i][j]\n",
        "\n",
        "print(results)\n",
        "\n",
        "\n",
        "print('\\nclassification_report:\\n', classification_report(results['Expected'], results['Predicted']))"
      ],
      "execution_count": 42,
      "outputs": [
        {
          "output_type": "stream",
          "text": [
            "1206\n",
            "0 1 2 3 4 5 6 7 8 9 10 11 12 13 14 15 16 17 18 19 20 21 22 23 24 25 26 27 28 29 30 31 32 33 34 35 36 37 38 39 40 41 42 43 44 45 46 47 48 49 50 51 52 53 54 55 56 57 58 59 60 61 62 63 64 65 66 67 68 69 70 71 72 73 74 75 76 77 78 79 80 81 82 83 84 85 86 87 88 89 90 91 92 93 94 95 96 97 98 99 100 101 102 103 104 105 106 107 108 109 110 111 112 113 114 115 116 117 118 119 120 121 122 123 124 125 126 127 128 129 130 131 132 133 134 135 136 137 138 139 140 141 142 143 144 145 146 147 148 149 150 151 152 153 154 155 156 157 158 159 160 161 162 163 164 165 166 167 168 169 170 171 172 173 174 175 176 177 178 179 180 181 182 183 184 185 186 187 188 189 190 191 192 193 194 195 196 197 198 199 200 201 202 203 204 205 206 207 208 209 210 211 212 213 214 215 216 217 218 219 220 221 222 223 224 225 226 227 228 229 230 231 232 233 234 235 236 237 238 239 240 241 242 243 244 245 246 247 248 249 250 251 252 253 254 255 256 257 258 259 260 261 262 263 264 265 266 267 268 269 270 271 272 273 274 275 276 277 278 279 280 281 282 283 284 285 286 287 288 289 290 291 292 293 294 295 296 297 298 299 300 301 302 303 304 305 306 307 308 309 310 311 312 313 314 315 316 317 318 319 320 321 322 323 324 325 326 327 328 329 330 331 332 333 334 335 336 337 338 339 340 341 342 343 344 345 346 347 348 349 350 351 352 353 354 355 356 357 358 359 360 361 362 363 364 365 366 367 368 369 370 371 372 373 374 375 376 377 378 379 380 381 382 383 384 385 386 387 388 389 390 391 392 393 394 395 396 397 398 399 400 401 402 403 404 405 406 407 408 409 410 411 412 413 414 415 416 417 418 419 420 421 422 423 424 425 426 427 428 429 430 431 432 433 434 435 436 437 438 439 440 441 442 443 444 445 446 447 448 449 450 451 452 453 454 455 456 457 458 459 460 461 462 463 464 465 466 467 468 469 470 471 472 473 474 475 476 477 478 479 480 481 482 483 484 485 486 487 488 489 490 491 492 493 494 495 496 497 498 499 500 501 502 503 504 505 506 507 508 509 510 511 512 513 514 515 516 517 518 519 520 521 522 523 524 525 526 527 528 529 530 531 532 533 534 535 536 537 538 539 540 541 542 543 544 545 546 547 548 549 550 551 552 553 554 555 556 557 558 559 560 561 562 563 564 565 566 567 568 569 570 571 572 573 574 575 576 577 578 579 580 581 582 583 584 585 586 587 588 589 590 591 592 593 594 595 596 597 598 599 600 601 602 603 604 605 606 607 608 609 610 611 612 613 614 615 616 617 618 619 620 621 622 623 624 625 626 627 628 629 630 631 632 633 634 635 636 637 638 639 640 641 642 643 644 645 646 647 648 649 650 651 652 653 654 655 656 657 658 659 660 661 662 663 664 665 666 667 668 669 670 671 672 673 674 675 676 677 678 679 680 681 682 683 684 685 686 687 688 689 690 691 692 693 694 695 696 697 698 699 700 701 702 703 704 705 706 707 708 709 710 711 712 713 714 715 716 717 718 719 720 721 722 723 724 725 726 727 728 729 730 731 732 733 734 735 736 737 738 739 740 741 742 743 744 745 746 747 748 749 750 751 752 753 754 755 756 757 758 759 760 761 762 763 764 765 766 767 768 769 770 771 772 773 774 775 776 777 778 779 780 781 782 783 784 785 786 787 788 789 790 791 792 793 794 795 796 797 798 799 800 801 802 803 804 805 806 807 808 809 810 811 812 813 814 815 816 817 818 819 820 821 822 823 824 825 826 827 828 829 830 831 832 833 834 835 836 837 838 839 840 841 842 843 844 845 846 847 848 849 850 851 852 853 854 855 856 857 858 859 860 861 862 863 864 865 866 867 868 869 870 871 872 873 874 875 876 877 878 879 880 881 882 883 884 885 886 887 888 889 890 891 892 893 894 895 896 897 898 899 900 901 902 903 904 905 906 907 908 909 910 911 912 913 914 915 916 917 918 919 920 921 922 923 924 925 926 927 928 929 930 931 932 933 934 935 936 937 938 939 940 941 942 943 944 945 946 947 948 949 950 951 952 953 954 955 956 957 958 959 960 961 962 963 964 965 966 967 968 969 970 971 972 973 974 975 976 977 978 979 980 981 982 983 984 985 986 987 988 989 990 991 992 993 994 995 996 997 998 999 1000 1001 1002 1003 1004 1005 1006 1007 1008 1009 1010 1011 1012 1013 1014 1015 1016 1017 1018 1019 1020 1021 1022 1023 1024 1025 1026 1027 1028 1029 1030 1031 1032 1033 1034 1035 1036 1037 1038 1039 1040 1041 1042 1043 1044 1045 1046 1047 1048 1049 1050 1051 1052 1053 1054 1055 1056 1057 1058 1059 1060 1061 1062 1063 1064 1065 1066 1067 1068 1069 1070 1071 1072 1073 1074 1075 1076 1077 1078 1079 1080 1081 1082 1083 1084 1085 1086 1087 1088 1089 1090 1091 1092 1093 1094 1095 1096 1097 1098 1099 1100 1101 1102 1103 1104 1105 1106 1107 1108 1109 1110 1111 1112 1113 1114 1115 1116 1117 1118 1119 1120 1121 1122 1123 1124 1125 1126 1127 1128 1129 1130 1131 1132 1133 1134 1135 1136 1137 1138 1139 1140 1141 1142 1143 1144 1145 1146 1147 1148 1149 1150 1151 1152 1153 1154 1155 1156 1157 1158 1159 1160 1161 1162 1163 1164 1165 1166 1167 1168 1169 1170 1171 1172 1173 1174 1175 1176 1177 1178 1179 1180 1181 1182 1183 1184 1185 1186 1187 1188 1189 1190 1191 1192 1193 1194 1195 1196 1197 1198 1199 1200 1201 1202 1203 1204 1205        Expected Predicted\n",
            "1        da0ms0       NaN\n",
            "2       ncms000       NaN\n",
            "3        aq0cs0       NaN\n",
            "4       vaip3s0       NaN\n",
            "5       vmp00sm       NaN\n",
            "6            cs       NaN\n",
            "7        da0fs0       NaN\n",
            "8       ncfs000       NaN\n",
            "9         sps00       NaN\n",
            "10      np00000       NaN\n",
            "11      vaip3s0       NaN\n",
            "12      vmp00sm       NaN\n",
            "13        sps00       NaN\n",
            "14           Fe       NaN\n",
            "15      vmn0000       NaN\n",
            "16           Fe       NaN\n",
            "17           Fc       NaN\n",
            "18           cc       NaN\n",
            "19     sn.e-SUJ       NaN\n",
            "20      vaip3s0       NaN\n",
            "21      vmp00sm       NaN\n",
            "22           cs       NaN\n",
            "23       da0ms0       NaN\n",
            "24      ncms000       NaN\n",
            "25        sps00       NaN\n",
            "26       da0ms0       NaN\n",
            "27      ncms000       NaN\n",
            "28      vmip3s0       NaN\n",
            "29           cs       NaN\n",
            "30        sps00       NaN\n",
            "...         ...       ...\n",
            "38847   vaip3s0       NaN\n",
            "38848   ncmp000       NaN\n",
            "38849     sps00       NaN\n",
            "38850        cs       NaN\n",
            "38851   vmsp3p0       NaN\n",
            "38852        rg       NaN\n",
            "38853   ncmp000       NaN\n",
            "38854     sps00       NaN\n",
            "38855    da0fp0       NaN\n",
            "38856   ncfp000       NaN\n",
            "38857    aq0fp0       NaN\n",
            "38858        Fp       NaN\n",
            "38859        Fg       NaN\n",
            "38860    da0ms0       NaN\n",
            "38861   ncms000       NaN\n",
            "38862   vmii3s0       NaN\n",
            "38863        Fc       NaN\n",
            "38864  sn.e-SUJ       NaN\n",
            "38865   vmii3s0       NaN\n",
            "38866    aq0ms0       NaN\n",
            "38867        cc       NaN\n",
            "38868    aq0msp       NaN\n",
            "38869        Fc       NaN\n",
            "38870     sps00       NaN\n",
            "38871        cs       NaN\n",
            "38872  sn.e-SUJ       NaN\n",
            "38873   vssi3s0       NaN\n",
            "38874     sps00       NaN\n",
            "38875   ncms000       NaN\n",
            "38876        Fp       NaN\n",
            "\n",
            "[38876 rows x 2 columns]\n"
          ],
          "name": "stdout"
        }
      ]
    },
    {
      "metadata": {
        "id": "nrAAFx0XrWT1",
        "colab_type": "text"
      },
      "cell_type": "markdown",
      "source": [
        "## PARTE 4  -  Testing"
      ]
    },
    {
      "metadata": {
        "colab_type": "text",
        "id": "uvOz-IShFzRR"
      },
      "cell_type": "markdown",
      "source": [
        "### Creamos un pequeño Ejemplo"
      ]
    },
    {
      "metadata": {
        "colab_type": "code",
        "id": "_WT1PtS_Qui0",
        "colab": {}
      },
      "cell_type": "code",
      "source": [
        "test_samples = [\n",
        "    \"Correr es importante para mi .\".split(),\n",
        "    \"Yo fui a correr todos los dias durante un mes .\".split()\n",
        "]\n",
        "print(test_samples)"
      ],
      "execution_count": 0,
      "outputs": []
    },
    {
      "metadata": {
        "colab_type": "text",
        "id": "X5E7-zZdGCjY"
      },
      "cell_type": "markdown",
      "source": [
        "### Convertimos el texto en Una entrada para el Modelo"
      ]
    },
    {
      "metadata": {
        "colab_type": "code",
        "id": "BApB6ScZ9jU8",
        "colab": {}
      },
      "cell_type": "code",
      "source": [
        "test_samples_X = []\n",
        "for s in test_samples:\n",
        "    s_int = []\n",
        "    for w in s:\n",
        "        try:\n",
        "            s_int.append(word2index[w.lower()])\n",
        "        except KeyError:\n",
        "            s_int.append(word2index['-OOV-'])\n",
        "    test_samples_X.append(s_int)\n",
        "\n",
        "test_samples_X = pad_sequences(test_samples_X, maxlen=MAX_LENGTH, padding='post')\n",
        "print(test_samples_X)"
      ],
      "execution_count": 0,
      "outputs": []
    },
    {
      "metadata": {
        "colab_type": "text",
        "id": "trNZCjTWGLp-"
      },
      "cell_type": "markdown",
      "source": [
        "### Se Ejecuta la predicion con la Entrada del modelo entrenado"
      ]
    },
    {
      "metadata": {
        "colab_type": "code",
        "id": "OX6Bd2Rz9oha",
        "colab": {}
      },
      "cell_type": "code",
      "source": [
        "predictions = model.predict(test_samples_X)\n",
        "print(predictions, predictions.shape)"
      ],
      "execution_count": 0,
      "outputs": []
    },
    {
      "metadata": {
        "colab_type": "text",
        "id": "l-XS5z-NGiM-"
      },
      "cell_type": "markdown",
      "source": [
        "### Conversion de la Salida del Modelo a un lista de Indices de Tags"
      ]
    },
    {
      "metadata": {
        "colab_type": "code",
        "id": "IgIutMjq92cp",
        "colab": {}
      },
      "cell_type": "code",
      "source": [
        "#print(len(predictions))\n",
        "log_tokens = logits_to_tokens(predictions, {i: t for t, i in tag2index.items()})\n",
        "print(log_tokens)"
      ],
      "execution_count": 0,
      "outputs": []
    },
    {
      "metadata": {
        "colab_type": "text",
        "id": "VmWp09kyGrQC"
      },
      "cell_type": "markdown",
      "source": [
        "### Presentacion de los Resultados"
      ]
    },
    {
      "metadata": {
        "colab_type": "code",
        "id": "wNMCM8_jSdCL",
        "colab": {}
      },
      "cell_type": "code",
      "source": [
        "from prettytable import PrettyTable\n",
        "\n",
        "heads1 = test_samples[0]\n",
        "heads2 = test_samples[1]\n",
        "\n",
        "t1 = PrettyTable(heads1)\n",
        "body1 = log_tokens[0][:len(test_samples[0])]\n",
        "t1.add_row(body1)\n",
        "print (t1)\n",
        "\n",
        "print (\"\\n\")\n",
        "\n",
        "t2 = PrettyTable(heads2)\n",
        "body2 = log_tokens[1][:len(test_samples[1])]\n",
        "t2.add_row(body2)\n",
        "print (t2)"
      ],
      "execution_count": 0,
      "outputs": []
    },
    {
      "metadata": {
        "colab_type": "text",
        "id": "zEqVaw-HSPiu"
      },
      "cell_type": "markdown",
      "source": [
        "## PARTE 5  -  Mejorando la Precision y Exactitud del Modelo"
      ]
    },
    {
      "metadata": {
        "colab_type": "text",
        "id": "1gR8kcV0GwFS"
      },
      "cell_type": "markdown",
      "source": [
        "### Definimos una clase que permita ignorar los Valores de Relleno"
      ]
    },
    {
      "metadata": {
        "colab_type": "code",
        "id": "QwNvdZiE956Y",
        "colab": {}
      },
      "cell_type": "code",
      "source": [
        "from keras import backend as K\n",
        " \n",
        "def ignore_class_accuracy(to_ignore=0):\n",
        "    def ignore_accuracy(y_true, y_pred):\n",
        "        y_true_class = K.argmax(y_true, axis=-1)\n",
        "        y_pred_class = K.argmax(y_pred, axis=-1)\n",
        " \n",
        "        ignore_mask = K.cast(K.not_equal(y_pred_class, to_ignore), 'int32')\n",
        "        matches = K.cast(K.equal(y_true_class, y_pred_class), 'int32') * ignore_mask\n",
        "        accuracy = K.sum(matches) / K.maximum(K.sum(ignore_mask), 1)\n",
        "        return accuracy\n",
        "    return ignore_accuracy"
      ],
      "execution_count": 0,
      "outputs": []
    },
    {
      "metadata": {
        "colab_type": "text",
        "id": "AxT3F3pHIGHk"
      },
      "cell_type": "markdown",
      "source": [
        "### Definimos nuevamente nuestro modelo, agregado la clase Creada"
      ]
    },
    {
      "metadata": {
        "colab_type": "code",
        "id": "KO4DTAAE-BaS",
        "colab": {}
      },
      "cell_type": "code",
      "source": [
        "from keras.models import Sequential\n",
        "from keras.layers import Dense, LSTM, InputLayer, Bidirectional, TimeDistributed, Embedding, Activation\n",
        "from keras.optimizers import Adam\n",
        " \n",
        "\n",
        "model = Sequential()\n",
        "model.add(InputLayer(input_shape=(MAX_LENGTH, )))\n",
        "model.add(Embedding(len(word2index), 128))\n",
        "model.add(Bidirectional(LSTM(256, return_sequences=True)))\n",
        "model.add(TimeDistributed(Dense(len(tag2index))))\n",
        "model.add(Activation('softmax'))\n",
        " \n",
        "model.compile(loss='categorical_crossentropy', optimizer=Adam(0.001),  metrics=['accuracy', ignore_class_accuracy(0)]) \n",
        "\n",
        "model.summary()"
      ],
      "execution_count": 0,
      "outputs": []
    },
    {
      "metadata": {
        "colab_type": "text",
        "id": "Z8AiPXp8IVOu"
      },
      "cell_type": "markdown",
      "source": [
        "### Procedemos a Entrenar Nuevamente"
      ]
    },
    {
      "metadata": {
        "colab_type": "code",
        "id": "CwgZVEIW-ECo",
        "colab": {}
      },
      "cell_type": "code",
      "source": [
        "model.fit(train_sentences_X, to_categorical(train_tags_y, len(tag2index)), batch_size=128, epochs=40, validation_split=0.2)"
      ],
      "execution_count": 0,
      "outputs": []
    },
    {
      "metadata": {
        "colab_type": "text",
        "id": "LnExWbEmIa5U"
      },
      "cell_type": "markdown",
      "source": [
        "### Calculamos nuevamente la Precisión"
      ]
    },
    {
      "metadata": {
        "colab_type": "code",
        "id": "FKOa73gRNMm7",
        "colab": {}
      },
      "cell_type": "code",
      "source": [
        "scores2 = model.evaluate(test_sentences_X, to_categorical(test_tags_y, len(tag2index)))\n",
        "print(f\"{model.metrics_names[1]}: {scores2[1] * 100}\")   # acc: 99.09751977804825"
      ],
      "execution_count": 0,
      "outputs": []
    },
    {
      "metadata": {
        "colab_type": "text",
        "id": "ZzeCdasrIkuN"
      },
      "cell_type": "markdown",
      "source": [
        "### Relaizamos nuevamente el calculo de F1-score, recall, y precision"
      ]
    },
    {
      "metadata": {
        "colab_type": "code",
        "id": "VbqNJa0pIvVT",
        "colab": {}
      },
      "cell_type": "code",
      "source": [
        ""
      ],
      "execution_count": 0,
      "outputs": []
    },
    {
      "metadata": {
        "colab_type": "text",
        "id": "Nri9gFnwIxcN"
      },
      "cell_type": "markdown",
      "source": [
        "### Realizamos nuevamente una prueba con el Ejemplo de Prueba"
      ]
    },
    {
      "metadata": {
        "colab_type": "code",
        "id": "xruHro6L-LT2",
        "colab": {}
      },
      "cell_type": "code",
      "source": [
        "predictions1 = model.predict(test_samples_X)\n",
        "log_tokens1  = logits_to_tokens(predictions1, {i: t for t, i in tag2index.items()})\n",
        "print(log_tokens1)"
      ],
      "execution_count": 0,
      "outputs": []
    },
    {
      "metadata": {
        "colab_type": "text",
        "id": "VL9taLbrI641"
      },
      "cell_type": "markdown",
      "source": [
        "### Presentamos los Resultados"
      ]
    },
    {
      "metadata": {
        "colab_type": "code",
        "id": "QeRx8eSThbuq",
        "colab": {}
      },
      "cell_type": "code",
      "source": [
        "from prettytable import PrettyTable\n",
        "\n",
        "heads3 = test_samples[0]\n",
        "heads4 = test_samples[1]\n",
        "\n",
        "t3 = PrettyTable(heads3)\n",
        "body3 = log_tokens1[0][:len(test_samples[0])]\n",
        "t3.add_row(body3)\n",
        "print (t3)\n",
        "\n",
        "print (\"\\n\")\n",
        "\n",
        "t4 = PrettyTable(heads4)\n",
        "body4 = log_tokens1[1][:len(test_samples[1])]\n",
        "t4.add_row(body2)\n",
        "print (t4)"
      ],
      "execution_count": 0,
      "outputs": []
    }
  ]
}