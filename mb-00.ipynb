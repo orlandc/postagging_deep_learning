{
 "cells": [
  {
   "cell_type": "markdown",
   "metadata": {
    "colab_type": "text",
    "id": "3nXS4RUQQugV"
   },
   "source": [
    "# Tutorial Part-of-Speech tagging  Con Deep Learning\n",
    "\n",
    "### En este tutorial, veremos cómo puede usar un modelo simple en Keras, para entrenar y evaluar una red neuronal artificial para problemas de clasificación de múltiples clases."
   ]
  },
  {
   "cell_type": "markdown",
   "metadata": {
    "colab_type": "text",
    "id": "WIheRrq2Quga"
   },
   "source": [
    "## PARTE 1  -  Pre-Procesamiento"
   ]
  },
  {
   "cell_type": "code",
   "execution_count": 1,
   "metadata": {
    "colab": {},
    "colab_type": "code",
    "id": "lw10qukzQuge"
   },
   "outputs": [],
   "source": [
    "# Asegurar reproducibilidad\n",
    "\n",
    "import numpy as np\n",
    "\n",
    "CUSTOM_SEED = 42\n",
    "np.random.seed(CUSTOM_SEED)"
   ]
  },
  {
   "cell_type": "markdown",
   "metadata": {
    "colab_type": "text",
    "id": "CxOcxDUmJcvL"
   },
   "source": [
    "### Descargamos el Corpus Ancora - Cess_esp del nltk"
   ]
  },
  {
   "cell_type": "code",
   "execution_count": 2,
   "metadata": {
    "colab": {
     "base_uri": "https://localhost:8080/",
     "height": 68
    },
    "colab_type": "code",
    "id": "NILevBJxQugr",
    "outputId": "b71b74d4-21a9-4a8e-b184-fcc2b0af12c2"
   },
   "outputs": [
    {
     "name": "stdout",
     "output_type": "stream",
     "text": [
      "[nltk_data] Downloading package cess_esp to /home/deep-\n",
      "[nltk_data]     learning/miniconda3/envs/tensorflow/lib/nltk_data...\n",
      "[nltk_data]   Package cess_esp is already up-to-date!\n"
     ]
    },
    {
     "data": {
      "text/plain": [
       "True"
      ]
     },
     "execution_count": 2,
     "metadata": {},
     "output_type": "execute_result"
    }
   ],
   "source": [
    "import nltk\n",
    "nltk.download('cess_esp')"
   ]
  },
  {
   "cell_type": "markdown",
   "metadata": {
    "colab_type": "text",
    "id": "eqdUvUCEJjgc"
   },
   "source": [
    "### Extraemos las oraciones tageadas del Corpus"
   ]
  },
  {
   "cell_type": "code",
   "execution_count": 3,
   "metadata": {
    "colab": {},
    "colab_type": "code",
    "id": "ss3RHo4LQugx"
   },
   "outputs": [],
   "source": [
    "import random\n",
    "from nltk.corpus import cess_esp\n",
    "\n",
    "tagged_sentences = cess_esp.tagged_sents()\n",
    "#print('a random sentence: \\n-> {}'.format(random.choice(sentences)))"
   ]
  },
  {
   "cell_type": "markdown",
   "metadata": {
    "colab_type": "text",
    "id": "gCW_ENdLJudC"
   },
   "source": [
    "### Extraemos los datos de la cantidad de oraciones a ser usadas y un ejemplo de una oracion presente en el corpus"
   ]
  },
  {
   "cell_type": "code",
   "execution_count": 4,
   "metadata": {
    "colab": {
     "base_uri": "https://localhost:8080/",
     "height": 88
    },
    "colab_type": "code",
    "id": "2clQUNdtQug4",
    "outputId": "43ba74e5-5ad6-49da-a84f-288a8e04a64f"
   },
   "outputs": [
    {
     "name": "stdout",
     "output_type": "stream",
     "text": [
      "[('El', 'da0ms0'), ('grupo', 'ncms000'), ('estatal', 'aq0cs0'), ('Electricité_de_France', 'np00000'), ('-Fpa-', 'Fpa'), ('EDF', 'np00000'), ('-Fpt-', 'Fpt'), ('anunció', 'vmis3s0'), ('hoy', 'rg'), (',', 'Fc'), ('jueves', 'W'), (',', 'Fc'), ('la', 'da0fs0'), ('compra', 'ncfs000'), ('del', 'spcms'), ('51_por_ciento', 'Zp'), ('de', 'sps00'), ('la', 'da0fs0'), ('empresa', 'ncfs000'), ('mexicana', 'aq0fs0'), ('Electricidad_Águila_de_Altamira', 'np00000'), ('-Fpa-', 'Fpa'), ('EAA', 'np00000'), ('-Fpt-', 'Fpt'), (',', 'Fc'), ('creada', 'aq0fsp'), ('por', 'sps00'), ('el', 'da0ms0'), ('japonés', 'aq0ms0'), ('Mitsubishi_Corporation', 'np00000'), ('para', 'sps00'), ('poner_en_marcha', 'vmn0000'), ('una', 'di0fs0'), ('central', 'ncfs000'), ('de', 'sps00'), ('gas', 'ncms000'), ('de', 'sps00'), ('495', 'Z'), ('megavatios', 'ncmp000'), ('.', 'Fp')]\n",
      "Tagged sentences:  6030\n",
      "Tagged words: 192685\n"
     ]
    }
   ],
   "source": [
    "print(tagged_sentences[0])\n",
    "print(\"Tagged sentences: \", len(tagged_sentences))\n",
    "print(\"Tagged words:\", len(cess_esp.tagged_words()))"
   ]
  },
  {
   "cell_type": "markdown",
   "metadata": {
    "colab_type": "text",
    "id": "i_aFjuCQKG1O"
   },
   "source": [
    "### Se procede a Dividir en una lista de Oraciones dividida en lista de palabras y cada palabra con un correspondiente tag en un alista diferente"
   ]
  },
  {
   "cell_type": "code",
   "execution_count": 5,
   "metadata": {
    "colab": {},
    "colab_type": "code",
    "id": "516a_v5vQuhC"
   },
   "outputs": [],
   "source": [
    "import numpy as np\n",
    " \n",
    "sentences, tagss =[], [] \n",
    "for tagged_sentence in tagged_sentences:\n",
    "    sentence, tags = zip(*tagged_sentence)\n",
    "    sentences.append(np.array(sentence))\n",
    "    tagss.append(np.array(tags))\n"
   ]
  },
  {
   "cell_type": "markdown",
   "metadata": {
    "colab_type": "text",
    "id": "UN_E4ePpKhvy"
   },
   "source": [
    "### Imprimimos una posicion de la lista como ejemplo"
   ]
  },
  {
   "cell_type": "code",
   "execution_count": 6,
   "metadata": {
    "colab": {
     "base_uri": "https://localhost:8080/",
     "height": 255
    },
    "colab_type": "code",
    "id": "l6uGGSqZQuhM",
    "outputId": "bb432132-d363-46c9-e07c-e24c4e90520a"
   },
   "outputs": [
    {
     "name": "stdout",
     "output_type": "stream",
     "text": [
      "['EDF' 'tiene' 'previsto' 'invertir' '194' 'millones' 'de' 'euros' '-Fpa-'\n",
      " '186' 'millones' 'de' 'dólares' '-Fpt-' 'en' 'la' 'central' 'de'\n",
      " 'Río_Bravo' ',' 'con' 'una' 'potencia' 'de' '495' 'megavatios' ',' 'y'\n",
      " '134' 'millones' 'de' 'euros' '-Fpa-' '28' 'millones' 'de' 'dólares'\n",
      " '-Fpt-' 'en' 'Saltillo' ',' 'que' 'como' 'la' 'primera' 'funcionará'\n",
      " 'con' 'gas' 'natural' 'y' 'cuya' 'potencia' 'prevista' 'es' 'de' '247'\n",
      " 'megavatios' '.']\n",
      "['np00000' 'vmip3s0' 'aq0msp' 'vmn0000' 'Z' 'ncmp000' 'sps00' 'Zm' 'Fpa'\n",
      " 'Z' 'ncmp000' 'sps00' 'Zm' 'Fpt' 'sps00' 'da0fs0' 'ncfs000' 'sps00'\n",
      " 'np00000' 'Fc' 'sps00' 'di0fs0' 'ncfs000' 'sps00' 'Z' 'ncmp000' 'Fc' 'cc'\n",
      " 'Z' 'ncmp000' 'sps00' 'Zm' 'Fpa' 'Z' 'ncmp000' 'sps00' 'Zm' 'Fpt' 'sps00'\n",
      " 'np00000' 'Fc' 'pr0cn000' 'cs' 'da0fs0' 'ao0fs0' 'vmif3s0' 'sps00'\n",
      " 'ncms000' 'aq0cs0' 'cc' 'pr0fs000' 'ncfs000' 'aq0fsp' 'vsip3s0' 'sps00'\n",
      " 'Z' 'ncmp000' 'Fp']\n"
     ]
    }
   ],
   "source": [
    "print(sentences[5])\n",
    "print(tagss[5])"
   ]
  },
  {
   "cell_type": "markdown",
   "metadata": {
    "colab_type": "text",
    "id": "WFQrAblFQuhT"
   },
   "source": [
    "### Dividimos el corpus de la siguiente manera, Utilizamos aproximadamente el 60% de las oraciones etiquetadas para el entrenamiento, el 20% como conjunto de validación y el 20% para evaluar nuestro modelo."
   ]
  },
  {
   "cell_type": "code",
   "execution_count": 7,
   "metadata": {
    "colab": {},
    "colab_type": "code",
    "id": "ZtLulrEOQuhU"
   },
   "outputs": [],
   "source": [
    "from sklearn.model_selection import train_test_split\n",
    " \n",
    "(training_sentences, \n",
    " test_sentences, \n",
    " training_tags, \n",
    " test_tags) = train_test_split(sentences, tagss, test_size=0.2)\n",
    "\n",
    "(train_sentences, \n",
    " eval_sentences, \n",
    " train_tags, \n",
    " eval_tags) = train_test_split(training_sentences, training_tags, test_size=0.25)"
   ]
  },
  {
   "cell_type": "markdown",
   "metadata": {
    "colab_type": "text",
    "id": "_Mk0scnsK1OE"
   },
   "source": [
    "### Imprimimos los tamaños de las listas que nos indicaran el tamaño de filas de las matrices con las que estaremos trabajando"
   ]
  },
  {
   "cell_type": "code",
   "execution_count": 8,
   "metadata": {
    "colab": {
     "base_uri": "https://localhost:8080/",
     "height": 697
    },
    "colab_type": "code",
    "id": "7HkjbP_IQuhZ",
    "outputId": "70489eac-d99d-4728-b481-2d3bd2faa7e9"
   },
   "outputs": [
    {
     "name": "stdout",
     "output_type": "stream",
     "text": [
      "training_sentences:4824\n",
      "train_sentences: 3618\n",
      "test_sentences: 1206\n",
      "eval_sentences: 1206\n",
      "\n",
      "['*' 'El' 'Madrid' 'precisa' 'que' 'el' 'Deportivo' 'gane' 'la' 'Liga' ','\n",
      " 'porque' 'los' 'gallegos' 'no' 'son' 'considerados' 'unos' 'herederos'\n",
      " ',' 'sino' 'unos' 'entrometidos' 'que' 'se' 'supone' 'temporales' ','\n",
      " 'que' 'pertenecen' 'a' 'la' 'actualidad' 'más' 'rabiosa' 'y' 'no' 'a'\n",
      " 'la' 'historia' 'más' 'enrabietada' '.']\n",
      "['El' 'técnico' 'barcelonista' 'ha' 'asegurado' 'que' 'la' 'visita' 'de'\n",
      " 'Gaspart' 'ha' 'contribuido' 'a' '\"' 'sumar' '\"' ',' 'y' '*0*' 'ha'\n",
      " 'argumentado' 'que' 'el' 'encuentro' 'con' 'el' 'presidente' 'significa'\n",
      " 'que' 'en' 'el' 'Barcelona' '\"' 'todos' 'van' 'en' 'la' 'misma'\n",
      " 'dirección' '\"' '.']\n",
      "['Lo_suyo' ',' 'lo' 'de' 'las' 'ratas' ',' 'no' 'es' 'la' 'carroña' 'pura'\n",
      " 'y' 'dura' 'sino' 'la' 'vida' 'regalada' ',' 'el' 'eterno' 'banquete'\n",
      " 'de' 'sobras' 'y' 'residuos' ',' 'el' 'festín' 'organizado' 'a' 'la'\n",
      " 'sobra' 'de' 'la' 'abundancia' 'y' 'el' 'hartazgo' '.']\n",
      "\n",
      "training_tags:4824\n",
      "train_tags: 3618\n",
      "test_tags: 1206\n",
      "eval_tags: 1206\n",
      "\n",
      "['Fz' 'da0ms0' 'np0000l' 'vmip3s0' 'cs' 'da0ms0' 'np0000o' 'vmsp3s0'\n",
      " 'da0fs0' 'np0000a' 'Fc' 'cs' 'da0mp0' 'ncmp000' 'rn' 'vsip3p0' 'vmp00pm'\n",
      " 'di0mp0' 'ncmp000' 'Fc' 'cc' 'di0mp0' 'ncmp000' 'pr0cn000' 'p0000000'\n",
      " 'vmip3s0' 'aq0cp0' 'Fc' 'pr0cn000' 'vmip3p0' 'sps00' 'da0fs0' 'ncfs000'\n",
      " 'rg' 'aq0fs0' 'cc' 'rn' 'sps00' 'da0fs0' 'ncfs000' 'rg' 'aq0fsp' 'Fp']\n",
      "['da0ms0' 'ncms000' 'aq0cs0' 'vaip3s0' 'vmp00sm' 'cs' 'da0fs0' 'ncfs000'\n",
      " 'sps00' 'np00000' 'vaip3s0' 'vmp00sm' 'sps00' 'Fe' 'vmn0000' 'Fe' 'Fc'\n",
      " 'cc' 'sn.e-SUJ' 'vaip3s0' 'vmp00sm' 'cs' 'da0ms0' 'ncms000' 'sps00'\n",
      " 'da0ms0' 'ncms000' 'vmip3s0' 'cs' 'sps00' 'da0ms0' 'np00000' 'Fe'\n",
      " 'pi0mp000' 'vmip3p0' 'sps00' 'da0fs0' 'di0fs0' 'ncfs000' 'Fe' 'Fp']\n",
      "['px3ns000' 'Fc' 'da0ns0' 'sps00' 'da0fp0' 'ncfp000' 'Fc' 'rn' 'vsip3s0'\n",
      " 'da0fs0' 'ncfs000' 'aq0fs0' 'cc' 'aq0fs0' 'cc' 'da0fs0' 'ncfs000'\n",
      " 'aq0fsp' 'Fc' 'da0ms0' 'aq0ms0' 'ncms000' 'sps00' 'ncfp000' 'cc'\n",
      " 'ncmp000' 'Fc' 'da0ms0' 'ncms000' 'aq0msp' 'sps00' 'da0fs0' 'ncfs000'\n",
      " 'sps00' 'da0fs0' 'ncfs000' 'cc' 'da0ms0' 'ncms000' 'Fp']\n"
     ]
    }
   ],
   "source": [
    "print(\"training_sentences:\" + str(len(training_sentences)))\n",
    "print(\"train_sentences: \" + str(len(train_sentences)))\n",
    "print(\"test_sentences: \" + str(len(test_sentences)))\n",
    "print(\"eval_sentences: \" + str(len(eval_sentences)) + \"\\n\")\n",
    "\n",
    "print(train_sentences[0])\n",
    "print(test_sentences[0])\n",
    "print(eval_sentences[0])\n",
    "\n",
    "print(\"\\ntraining_tags:\" + str(len(training_sentences)))\n",
    "print(\"train_tags: \" + str(len(train_tags)))\n",
    "print(\"test_tags: \" + str(len(test_tags)))\n",
    "print(\"eval_tags: \" + str(len(eval_tags)) + \"\\n\")\n",
    "\n",
    "print(train_tags[0])\n",
    "print(test_tags[0])\n",
    "print(eval_tags[0])"
   ]
  },
  {
   "cell_type": "markdown",
   "metadata": {
    "colab_type": "text",
    "id": "Jd-i6q85Quho"
   },
   "source": [
    "### Ahora creamos una array con todas las palabras y los tags presentes en el corpus, adicionalmente se crea un diccionario que contiene las palabras unicas y los tags unicos de tal forma que no se repitan y que contienen un indice o llave"
   ]
  },
  {
   "cell_type": "code",
   "execution_count": 9,
   "metadata": {
    "colab": {
     "base_uri": "https://localhost:8080/",
     "height": 51
    },
    "colab_type": "code",
    "id": "qdCNulCoQuhr",
    "outputId": "a9895d28-f6b4-4a22-9b60-1c397fac3301"
   },
   "outputs": [
    {
     "name": "stdout",
     "output_type": "stream",
     "text": [
      "24499\n",
      "291\n"
     ]
    }
   ],
   "source": [
    "words, tagsss = set([]), set([])\n",
    " \n",
    "for s in (train_sentences + eval_sentences + test_sentences):\n",
    "    for w in s:\n",
    "        words.add(w.lower())\n",
    "\n",
    "for ts in (train_tags + eval_tags + test_tags):\n",
    "    for t in ts:\n",
    "        tagsss.add(t)\n",
    "\n",
    "word2index = {w: i + 2 for i, w in enumerate(list(words))}\n",
    "word2index['-PAD-'] = 0  # The special value used for padding\n",
    "word2index['-OOV-'] = 1  # The special value used for OOVs\n",
    " \n",
    "tag2index = {t: i + 2 for i, t in enumerate(list(tagsss))}\n",
    "tag2index['-PAD-'] = 0  # The special value used to padding\n",
    "tag2index['-OOV-'] = 1  # The special value used to padding\n",
    "\n",
    "print (len(word2index))\n",
    "print (len(tag2index))"
   ]
  },
  {
   "cell_type": "markdown",
   "metadata": {
    "colab_type": "text",
    "id": "VEA9Ek-GOYOn"
   },
   "source": [
    "### Ahora procedemos a transformar cada uno de los conjuntos de oraciones y tags en vectores numericos, modificando la palabra o tag en un Valor numerico que corresponde a una llave en el diccionario de palbras o tags"
   ]
  },
  {
   "cell_type": "code",
   "execution_count": 10,
   "metadata": {
    "colab": {},
    "colab_type": "code",
    "id": "69eec13kQuh2"
   },
   "outputs": [],
   "source": [
    "train_sentences_X, eval_sentences_X, test_sentences_X, train_tags_y, eval_tags_y, test_tags_y = [], [], [], [], [], []\n",
    "\n",
    "for s in train_sentences:\n",
    "    s_int = []\n",
    "    for w in s:\n",
    "        try:\n",
    "            s_int.append(word2index[w.lower()])\n",
    "        except KeyError:\n",
    "            s_int.append(word2index['-OOV-'])\n",
    " \n",
    "    train_sentences_X.append(s_int)\n",
    "\n",
    "for s in eval_sentences:\n",
    "    s_int = []\n",
    "    for w in s:\n",
    "        try:\n",
    "            s_int.append(word2index[w.lower()])\n",
    "        except KeyError:\n",
    "            s_int.append(word2index['-OOV-'])\n",
    " \n",
    "    eval_sentences_X.append(s_int)\n",
    "\n",
    "for s in test_sentences:\n",
    "    s_int = []\n",
    "    for w in s:\n",
    "        try:\n",
    "            s_int.append(word2index[w.lower()])\n",
    "        except KeyError:\n",
    "            s_int.append(word2index['-OOV-'])\n",
    " \n",
    "    test_sentences_X.append(s_int)\n",
    "\n",
    "for s in train_tags:\n",
    "    s_int = []\n",
    "    for w in s:\n",
    "        try:\n",
    "            s_int.append(tag2index[w])\n",
    "        except KeyError:\n",
    "            s_int.append(tag2index['-OOV-'])\n",
    "            \n",
    "    train_tags_y.append(s_int)\n",
    "\n",
    "for s in eval_tags:\n",
    "    s_int = []\n",
    "    for w in s:\n",
    "        try:\n",
    "            s_int.append(tag2index[w])\n",
    "        except KeyError:\n",
    "            s_int.append(tag2index['-OOV-'])\n",
    "            \n",
    "    eval_tags_y.append(s_int)\n",
    "\n",
    "for s in test_tags:\n",
    "    s_int = []\n",
    "    for w in s:\n",
    "        try:\n",
    "            s_int.append(tag2index[w])\n",
    "        except KeyError:\n",
    "            s_int.append(tag2index['-OOV-'])\n",
    "            \n",
    "    test_tags_y.append(s_int)\n"
   ]
  },
  {
   "cell_type": "markdown",
   "metadata": {
    "colab_type": "text",
    "id": "d_lXW1mBPNkf"
   },
   "source": [
    "### Se imprime la longitud de las matrices y una muesta de cada una de las matrices creadas"
   ]
  },
  {
   "cell_type": "code",
   "execution_count": 11,
   "metadata": {
    "colab": {
     "base_uri": "https://localhost:8080/",
     "height": 292
    },
    "colab_type": "code",
    "id": "Y5A4d_dzQuh6",
    "outputId": "a3d2808b-4ec4-4b5f-e469-eed38caeb48d"
   },
   "outputs": [
    {
     "name": "stdout",
     "output_type": "stream",
     "text": [
      "Longitudes de las Matrices:\n",
      "3618\n",
      "1206\n",
      "1206\n",
      "3618\n",
      "1206\n",
      "1206\n",
      "\n",
      "Muestra de Datos presentes en las Matrices con las transformaciones:\n",
      "[12388, 10282, 21331, 22506, 11318, 10282, 6690, 12903, 3339, 10218, 9807, 4081, 1175, 724, 10112, 10681, 1924, 17314, 3260, 9807, 21238, 17314, 7110, 11318, 11650, 19352, 18149, 9807, 11318, 6908, 1905, 3339, 10812, 14810, 15276, 12739, 10112, 1905, 3339, 21116, 14810, 17520, 12889]\n",
      "[7620, 9807, 14831, 17148, 18669, 7634, 9807, 10112, 21890, 3339, 14056, 6424, 12739, 1026, 21238, 3339, 15202, 17933, 9807, 10282, 13037, 6674, 17148, 1356, 12739, 4675, 9807, 10282, 4774, 22976, 1905, 3339, 16888, 17148, 3339, 9781, 12739, 10282, 7169, 12889]\n",
      "[10282, 12142, 19092, 4110, 23302, 11318, 3339, 4599, 17148, 189, 4110, 1073, 1905, 17188, 6641, 17188, 9807, 12739, 8372, 4110, 17458, 11318, 10282, 10615, 22163, 10282, 6275, 17479, 11318, 19426, 10282, 11608, 17188, 5214, 10889, 19426, 3339, 23555, 11965, 17188, 12889]\n",
      "[230, 205, 251, 4, 166, 205, 214, 189, 267, 227, 133, 166, 113, 187, 274, 275, 63, 254, 187, 133, 22, 254, 187, 26, 164, 4, 181, 133, 26, 74, 114, 267, 7, 76, 199, 22, 274, 114, 267, 7, 76, 280, 282]\n",
      "[78, 133, 3, 114, 186, 161, 133, 274, 101, 267, 7, 199, 22, 199, 22, 267, 7, 280, 133, 205, 271, 190, 114, 161, 22, 187, 133, 205, 190, 21, 114, 267, 7, 114, 267, 7, 22, 205, 190, 282]\n",
      "[205, 190, 84, 264, 32, 166, 267, 7, 114, 68, 264, 32, 114, 185, 269, 185, 133, 22, 132, 264, 32, 166, 205, 190, 114, 205, 190, 4, 166, 114, 205, 68, 185, 171, 74, 114, 267, 127, 7, 185, 282]\n"
     ]
    }
   ],
   "source": [
    "print(\"Longitudes de las Matrices:\")\n",
    "print(len(train_sentences_X))\n",
    "print(len(eval_sentences_X))\n",
    "print(len(test_sentences_X))\n",
    "print(len(train_tags_y))\n",
    "print(len(eval_tags_y))\n",
    "print(len(test_tags_y))\n",
    "\n",
    "print(\"\\nMuestra de Datos presentes en las Matrices con las transformaciones:\")\n",
    "\n",
    "print(train_sentences_X[0])\n",
    "print(eval_sentences_X[0])\n",
    "print(test_sentences_X[0])\n",
    "print(train_tags_y[0])\n",
    "print(eval_tags_y[0])\n",
    "print(test_tags_y[0])"
   ]
  },
  {
   "cell_type": "markdown",
   "metadata": {
    "colab_type": "text",
    "id": "kWLspkzfQ513"
   },
   "source": [
    "### Se calcula cual es la oracion que mayor cantidad de Palabras contiene"
   ]
  },
  {
   "cell_type": "code",
   "execution_count": 12,
   "metadata": {
    "colab": {
     "base_uri": "https://localhost:8080/",
     "height": 34
    },
    "colab_type": "code",
    "id": "Gif6KsESQuh_",
    "outputId": "be988786-883f-4a50-af89-78ae8696c26e"
   },
   "outputs": [
    {
     "name": "stdout",
     "output_type": "stream",
     "text": [
      "149\n"
     ]
    }
   ],
   "source": [
    "MAX_LENGTH1 = len(max(train_sentences_X, key=len))\n",
    "MAX_LENGTH2 = len(max(eval_sentences_X, key=len))\n",
    "MAX_LENGTH3 = len(max(test_sentences_X, key=len))\n",
    "\n",
    "l = [MAX_LENGTH1, MAX_LENGTH2, MAX_LENGTH3]\n",
    "MAX_LENGTH = max(l)\n",
    "\n",
    "print(MAX_LENGTH)"
   ]
  },
  {
   "cell_type": "markdown",
   "metadata": {
    "colab_type": "text",
    "id": "e4ffWaDqRA1_"
   },
   "source": [
    "### Se procede a Normalizar las matrices para que todas contengan el mismo numero de columans, con la longitud maxima de palabras encontradas anteriormente, esto se logra agregando ceros a la derecha en las posiciones que hacen falta en el vector"
   ]
  },
  {
   "cell_type": "code",
   "execution_count": 13,
   "metadata": {
    "colab": {
     "base_uri": "https://localhost:8080/",
     "height": 1139
    },
    "colab_type": "code",
    "id": "mn7iuMIOQuiI",
    "outputId": "323f249f-48e1-4b9a-c945-497a47fcb0f7"
   },
   "outputs": [
    {
     "name": "stderr",
     "output_type": "stream",
     "text": [
      "Using TensorFlow backend.\n"
     ]
    },
    {
     "name": "stdout",
     "output_type": "stream",
     "text": [
      "[12388 10282 21331 22506 11318 10282  6690 12903  3339 10218  9807  4081\n",
      "  1175   724 10112 10681  1924 17314  3260  9807 21238 17314  7110 11318\n",
      " 11650 19352 18149  9807 11318  6908  1905  3339 10812 14810 15276 12739\n",
      " 10112  1905  3339 21116 14810 17520 12889     0     0     0     0     0\n",
      "     0     0     0     0     0     0     0     0     0     0     0     0\n",
      "     0     0     0     0     0     0     0     0     0     0     0     0\n",
      "     0     0     0     0     0     0     0     0     0     0     0     0\n",
      "     0     0     0     0     0     0     0     0     0     0     0     0\n",
      "     0     0     0     0     0     0     0     0     0     0     0     0\n",
      "     0     0     0     0     0     0     0     0     0     0     0     0\n",
      "     0     0     0     0     0     0     0     0     0     0     0     0\n",
      "     0     0     0     0     0     0     0     0     0     0     0     0\n",
      "     0     0     0     0     0]\n",
      "[ 7620  9807 14831 17148 18669  7634  9807 10112 21890  3339 14056  6424\n",
      " 12739  1026 21238  3339 15202 17933  9807 10282 13037  6674 17148  1356\n",
      " 12739  4675  9807 10282  4774 22976  1905  3339 16888 17148  3339  9781\n",
      " 12739 10282  7169 12889     0     0     0     0     0     0     0     0\n",
      "     0     0     0     0     0     0     0     0     0     0     0     0\n",
      "     0     0     0     0     0     0     0     0     0     0     0     0\n",
      "     0     0     0     0     0     0     0     0     0     0     0     0\n",
      "     0     0     0     0     0     0     0     0     0     0     0     0\n",
      "     0     0     0     0     0     0     0     0     0     0     0     0\n",
      "     0     0     0     0     0     0     0     0     0     0     0     0\n",
      "     0     0     0     0     0     0     0     0     0     0     0     0\n",
      "     0     0     0     0     0     0     0     0     0     0     0     0\n",
      "     0     0     0     0     0]\n",
      "[10282 12142 19092  4110 23302 11318  3339  4599 17148   189  4110  1073\n",
      "  1905 17188  6641 17188  9807 12739  8372  4110 17458 11318 10282 10615\n",
      " 22163 10282  6275 17479 11318 19426 10282 11608 17188  5214 10889 19426\n",
      "  3339 23555 11965 17188 12889     0     0     0     0     0     0     0\n",
      "     0     0     0     0     0     0     0     0     0     0     0     0\n",
      "     0     0     0     0     0     0     0     0     0     0     0     0\n",
      "     0     0     0     0     0     0     0     0     0     0     0     0\n",
      "     0     0     0     0     0     0     0     0     0     0     0     0\n",
      "     0     0     0     0     0     0     0     0     0     0     0     0\n",
      "     0     0     0     0     0     0     0     0     0     0     0     0\n",
      "     0     0     0     0     0     0     0     0     0     0     0     0\n",
      "     0     0     0     0     0     0     0     0     0     0     0     0\n",
      "     0     0     0     0     0]\n",
      "[230 205 251   4 166 205 214 189 267 227 133 166 113 187 274 275  63 254\n",
      " 187 133  22 254 187  26 164   4 181 133  26  74 114 267   7  76 199  22\n",
      " 274 114 267   7  76 280 282   0   0   0   0   0   0   0   0   0   0   0\n",
      "   0   0   0   0   0   0   0   0   0   0   0   0   0   0   0   0   0   0\n",
      "   0   0   0   0   0   0   0   0   0   0   0   0   0   0   0   0   0   0\n",
      "   0   0   0   0   0   0   0   0   0   0   0   0   0   0   0   0   0   0\n",
      "   0   0   0   0   0   0   0   0   0   0   0   0   0   0   0   0   0   0\n",
      "   0   0   0   0   0   0   0   0   0   0   0   0   0   0   0   0   0   0\n",
      "   0   0   0   0   0]\n",
      "[ 78 133   3 114 186 161 133 274 101 267   7 199  22 199  22 267   7 280\n",
      " 133 205 271 190 114 161  22 187 133 205 190  21 114 267   7 114 267   7\n",
      "  22 205 190 282   0   0   0   0   0   0   0   0   0   0   0   0   0   0\n",
      "   0   0   0   0   0   0   0   0   0   0   0   0   0   0   0   0   0   0\n",
      "   0   0   0   0   0   0   0   0   0   0   0   0   0   0   0   0   0   0\n",
      "   0   0   0   0   0   0   0   0   0   0   0   0   0   0   0   0   0   0\n",
      "   0   0   0   0   0   0   0   0   0   0   0   0   0   0   0   0   0   0\n",
      "   0   0   0   0   0   0   0   0   0   0   0   0   0   0   0   0   0   0\n",
      "   0   0   0   0   0]\n",
      "[205 190  84 264  32 166 267   7 114  68 264  32 114 185 269 185 133  22\n",
      " 132 264  32 166 205 190 114 205 190   4 166 114 205  68 185 171  74 114\n",
      " 267 127   7 185 282   0   0   0   0   0   0   0   0   0   0   0   0   0\n",
      "   0   0   0   0   0   0   0   0   0   0   0   0   0   0   0   0   0   0\n",
      "   0   0   0   0   0   0   0   0   0   0   0   0   0   0   0   0   0   0\n",
      "   0   0   0   0   0   0   0   0   0   0   0   0   0   0   0   0   0   0\n",
      "   0   0   0   0   0   0   0   0   0   0   0   0   0   0   0   0   0   0\n",
      "   0   0   0   0   0   0   0   0   0   0   0   0   0   0   0   0   0   0\n",
      "   0   0   0   0   0]\n"
     ]
    }
   ],
   "source": [
    "from keras.preprocessing.sequence import pad_sequences\n",
    " \n",
    "train_sentences_X = pad_sequences(train_sentences_X, maxlen=MAX_LENGTH, padding='post')\n",
    "eval_sentences_X = pad_sequences(eval_sentences_X, maxlen=MAX_LENGTH, padding='post')\n",
    "test_sentences_X = pad_sequences(test_sentences_X, maxlen=MAX_LENGTH, padding='post')\n",
    "train_tags_y = pad_sequences(train_tags_y, maxlen=MAX_LENGTH, padding='post')\n",
    "eval_tags_y = pad_sequences(eval_tags_y, maxlen=MAX_LENGTH, padding='post')\n",
    "test_tags_y = pad_sequences(test_tags_y, maxlen=MAX_LENGTH, padding='post')\n",
    " \n",
    "print(train_sentences_X[0])\n",
    "print(eval_sentences_X[0])\n",
    "print(test_sentences_X[0])\n",
    "print(train_tags_y[0])\n",
    "print(eval_tags_y[0])\n",
    "print(test_tags_y[0])"
   ]
  },
  {
   "cell_type": "markdown",
   "metadata": {
    "colab_type": "text",
    "id": "elkKsVbBNrYO"
   },
   "source": [
    "### Definimos la funcion con la cual categorizaremos los tags y los covertiremos un vector One-hot"
   ]
  },
  {
   "cell_type": "code",
   "execution_count": 14,
   "metadata": {
    "colab": {},
    "colab_type": "code",
    "id": "qGw5_dPX5xc0"
   },
   "outputs": [],
   "source": [
    "def to_categorical(sequences, categories):\n",
    "    cat_sequences = []\n",
    "    for s in sequences:\n",
    "        cats = []\n",
    "        for item in s:\n",
    "            cats.append(np.zeros(categories))\n",
    "            cats[-1][item] = 1.0\n",
    "        cat_sequences.append(cats)\n",
    "    return np.array(cat_sequences)"
   ]
  },
  {
   "cell_type": "markdown",
   "metadata": {
    "colab_type": "text",
    "id": "GOmqn-5ZNg23"
   },
   "source": [
    "### Desarrollamos una prueba de la categorisacion de los tags"
   ]
  },
  {
   "cell_type": "code",
   "execution_count": 15,
   "metadata": {
    "colab": {
     "base_uri": "https://localhost:8080/",
     "height": 136
    },
    "colab_type": "code",
    "id": "lepVNGK5bgc1",
    "outputId": "4ee4647c-0b91-4fb4-8676-1bdf1c52ea30"
   },
   "outputs": [
    {
     "name": "stdout",
     "output_type": "stream",
     "text": [
      "[[0. 0. 0. ... 0. 0. 0.]\n",
      " [0. 0. 0. ... 0. 0. 0.]\n",
      " [0. 0. 0. ... 0. 0. 0.]\n",
      " ...\n",
      " [1. 0. 0. ... 0. 0. 0.]\n",
      " [1. 0. 0. ... 0. 0. 0.]\n",
      " [1. 0. 0. ... 0. 0. 0.]]\n"
     ]
    }
   ],
   "source": [
    "cat_train_tags_y = to_categorical(train_tags_y, len(tag2index))\n",
    "print(cat_train_tags_y[0])"
   ]
  },
  {
   "cell_type": "markdown",
   "metadata": {
    "colab_type": "text",
    "id": "9-_gAQ7qrWTQ"
   },
   "source": [
    "## PARTE 2  -  Entrenamiento"
   ]
  },
  {
   "cell_type": "markdown",
   "metadata": {
    "colab_type": "text",
    "id": "odDOhtO4NZDd"
   },
   "source": [
    "### Definimos el Modelo Base con el cual se procedera a desarrollar la fase de Entrenamiento"
   ]
  },
  {
   "cell_type": "code",
   "execution_count": 1,
   "metadata": {
    "colab": {
     "base_uri": "https://localhost:8080/",
     "height": 272
    },
    "colab_type": "code",
    "id": "x31rRt8PQuiW",
    "outputId": "90e66266-fb83-4408-ad95-11e3ffeeea98"
   },
   "outputs": [
    {
     "name": "stderr",
     "output_type": "stream",
     "text": [
      "Using TensorFlow backend.\n"
     ]
    },
    {
     "ename": "NameError",
     "evalue": "name 'MAX_LENGTH' is not defined",
     "output_type": "error",
     "traceback": [
      "\u001b[0;31m---------------------------------------------------------------------------\u001b[0m",
      "\u001b[0;31mNameError\u001b[0m                                 Traceback (most recent call last)",
      "\u001b[0;32m<ipython-input-1-4ea8a23f85b3>\u001b[0m in \u001b[0;36m<module>\u001b[0;34m\u001b[0m\n\u001b[1;32m      5\u001b[0m \u001b[0;34m\u001b[0m\u001b[0m\n\u001b[1;32m      6\u001b[0m \u001b[0mmodel\u001b[0m \u001b[0;34m=\u001b[0m \u001b[0mSequential\u001b[0m\u001b[0;34m(\u001b[0m\u001b[0;34m)\u001b[0m\u001b[0;34m\u001b[0m\u001b[0m\n\u001b[0;32m----> 7\u001b[0;31m \u001b[0mmodel\u001b[0m\u001b[0;34m.\u001b[0m\u001b[0madd\u001b[0m\u001b[0;34m(\u001b[0m\u001b[0mInputLayer\u001b[0m\u001b[0;34m(\u001b[0m\u001b[0minput_shape\u001b[0m\u001b[0;34m=\u001b[0m\u001b[0;34m(\u001b[0m\u001b[0mMAX_LENGTH\u001b[0m\u001b[0;34m,\u001b[0m \u001b[0;34m)\u001b[0m\u001b[0;34m)\u001b[0m\u001b[0;34m)\u001b[0m\u001b[0;34m\u001b[0m\u001b[0m\n\u001b[0m\u001b[1;32m      8\u001b[0m \u001b[0mmodel\u001b[0m\u001b[0;34m.\u001b[0m\u001b[0madd\u001b[0m\u001b[0;34m(\u001b[0m\u001b[0mEmbedding\u001b[0m\u001b[0;34m(\u001b[0m\u001b[0mlen\u001b[0m\u001b[0;34m(\u001b[0m\u001b[0mword2index\u001b[0m\u001b[0;34m)\u001b[0m\u001b[0;34m,\u001b[0m \u001b[0;36m128\u001b[0m\u001b[0;34m)\u001b[0m\u001b[0;34m)\u001b[0m\u001b[0;34m\u001b[0m\u001b[0m\n\u001b[1;32m      9\u001b[0m \u001b[0mmodel\u001b[0m\u001b[0;34m.\u001b[0m\u001b[0madd\u001b[0m\u001b[0;34m(\u001b[0m\u001b[0mBidirectional\u001b[0m\u001b[0;34m(\u001b[0m\u001b[0mLSTM\u001b[0m\u001b[0;34m(\u001b[0m\u001b[0;36m256\u001b[0m\u001b[0;34m,\u001b[0m \u001b[0mreturn_sequences\u001b[0m\u001b[0;34m=\u001b[0m\u001b[0;32mTrue\u001b[0m\u001b[0;34m)\u001b[0m\u001b[0;34m)\u001b[0m\u001b[0;34m)\u001b[0m\u001b[0;34m\u001b[0m\u001b[0m\n",
      "\u001b[0;31mNameError\u001b[0m: name 'MAX_LENGTH' is not defined"
     ]
    }
   ],
   "source": [
    "from keras.models import Sequential\n",
    "from keras.layers import Dense, LSTM, InputLayer, Bidirectional, TimeDistributed, Embedding, Activation\n",
    "from keras.optimizers import Adam\n",
    "from keras.utils import multi_gpu_model\n",
    "\n",
    "model = Sequential()\n",
    "model.add(InputLayer(input_shape=(MAX_LENGTH, )))\n",
    "model.add(Embedding(len(word2index), 128))\n",
    "model.add(Bidirectional(LSTM(256, return_sequences=True)))\n",
    "model.add(TimeDistributed(Dense(len(tag2index))))\n",
    "model.add(Activation('softmax'))\n",
    "\n",
    "parallel_model = multi_gpu_model(model, gpus=2)\n",
    "parallel_model.compile(loss='categorical_crossentropy', optimizer=Adam(0.001), metrics=['accuracy'])\n",
    " \n",
    "model.summary()\n",
    "parallel_model.summary()\n",
    "\n",
    "plot_model(model, to_file='../Plot/model-mb00.png', show_shapes=True)"
   ]
  },
  {
   "cell_type": "markdown",
   "metadata": {
    "colab_type": "text",
    "id": "4XghotI4NG9G"
   },
   "source": [
    "### Se dedarrolla el entrenamiento del modelo"
   ]
  },
  {
   "cell_type": "code",
   "execution_count": 21,
   "metadata": {
    "colab": {
     "base_uri": "https://localhost:8080/",
     "height": 680
    },
    "colab_type": "code",
    "id": "C0gOhZznbg6V",
    "outputId": "29cf358f-43dd-448e-c1bb-9cb4e12250d3"
   },
   "outputs": [
    {
     "name": "stdout",
     "output_type": "stream",
     "text": [
      "Train on 3618 samples, validate on 1206 samples\n",
      "Epoch 1/40\n",
      "3618/3618 [==============================] - 25s 7ms/step - loss: 2.1316 - acc: 0.7658 - val_loss: 0.9309 - val_acc: 0.8106\n",
      "Epoch 2/40\n",
      "3618/3618 [==============================] - 22s 6ms/step - loss: 0.8910 - acc: 0.7980 - val_loss: 0.8745 - val_acc: 0.8128\n",
      "Epoch 3/40\n",
      "3618/3618 [==============================] - 22s 6ms/step - loss: 0.8527 - acc: 0.8146 - val_loss: 0.8503 - val_acc: 0.8127\n",
      "Epoch 4/40\n",
      "3618/3618 [==============================] - 22s 6ms/step - loss: 0.8304 - acc: 0.8145 - val_loss: 0.8329 - val_acc: 0.8129\n",
      "Epoch 5/40\n",
      "3618/3618 [==============================] - 22s 6ms/step - loss: 0.8099 - acc: 0.8166 - val_loss: 0.8100 - val_acc: 0.8191\n",
      "Epoch 6/40\n",
      "3618/3618 [==============================] - 22s 6ms/step - loss: 0.7907 - acc: 0.8210 - val_loss: 0.7879 - val_acc: 0.8196\n",
      "Epoch 7/40\n",
      "3618/3618 [==============================] - 22s 6ms/step - loss: 0.7665 - acc: 0.8291 - val_loss: 0.7607 - val_acc: 0.8322\n",
      "Epoch 8/40\n",
      "3618/3618 [==============================] - 22s 6ms/step - loss: 0.7246 - acc: 0.8362 - val_loss: 0.6997 - val_acc: 0.8405\n",
      "Epoch 9/40\n",
      "3618/3618 [==============================] - 22s 6ms/step - loss: 0.6432 - acc: 0.8618 - val_loss: 0.6015 - val_acc: 0.8776\n",
      "Epoch 10/40\n",
      "3618/3618 [==============================] - 22s 6ms/step - loss: 0.5405 - acc: 0.8873 - val_loss: 0.4994 - val_acc: 0.8935\n",
      "Epoch 11/40\n",
      "3618/3618 [==============================] - 22s 6ms/step - loss: 0.4418 - acc: 0.9036 - val_loss: 0.4109 - val_acc: 0.9117\n",
      "Epoch 12/40\n",
      "3618/3618 [==============================] - 22s 6ms/step - loss: 0.3564 - acc: 0.9232 - val_loss: 0.3364 - val_acc: 0.9283\n",
      "Epoch 13/40\n",
      "3618/3618 [==============================] - 22s 6ms/step - loss: 0.2844 - acc: 0.9392 - val_loss: 0.2772 - val_acc: 0.9400\n",
      "Epoch 14/40\n",
      "3618/3618 [==============================] - 22s 6ms/step - loss: 0.2265 - acc: 0.9519 - val_loss: 0.2342 - val_acc: 0.9489\n",
      "Epoch 15/40\n",
      "3618/3618 [==============================] - 22s 6ms/step - loss: 0.1810 - acc: 0.9624 - val_loss: 0.2006 - val_acc: 0.9566\n",
      "Epoch 16/40\n",
      "3618/3618 [==============================] - 23s 6ms/step - loss: 0.1449 - acc: 0.9712 - val_loss: 0.1753 - val_acc: 0.9618\n",
      "Epoch 17/40\n",
      "3618/3618 [==============================] - 22s 6ms/step - loss: 0.1165 - acc: 0.9775 - val_loss: 0.1569 - val_acc: 0.9658\n",
      "Epoch 18/40\n",
      "3618/3618 [==============================] - 22s 6ms/step - loss: 0.0948 - acc: 0.9821 - val_loss: 0.1426 - val_acc: 0.9688\n",
      "Epoch 19/40\n",
      "3618/3618 [==============================] - 22s 6ms/step - loss: 0.0780 - acc: 0.9857 - val_loss: 0.1323 - val_acc: 0.9709\n",
      "Epoch 20/40\n",
      "3618/3618 [==============================] - 23s 6ms/step - loss: 0.0650 - acc: 0.9884 - val_loss: 0.1247 - val_acc: 0.9721\n",
      "Epoch 21/40\n",
      "3618/3618 [==============================] - 22s 6ms/step - loss: 0.0550 - acc: 0.9902 - val_loss: 0.1179 - val_acc: 0.9735\n",
      "Epoch 22/40\n",
      "3618/3618 [==============================] - 23s 6ms/step - loss: 0.0471 - acc: 0.9916 - val_loss: 0.1137 - val_acc: 0.9743\n",
      "Epoch 23/40\n",
      "3618/3618 [==============================] - 22s 6ms/step - loss: 0.0407 - acc: 0.9927 - val_loss: 0.1112 - val_acc: 0.9752\n",
      "Epoch 24/40\n",
      "3618/3618 [==============================] - 23s 6ms/step - loss: 0.0356 - acc: 0.9936 - val_loss: 0.1080 - val_acc: 0.9757\n",
      "Epoch 25/40\n",
      "3618/3618 [==============================] - 22s 6ms/step - loss: 0.0312 - acc: 0.9942 - val_loss: 0.1061 - val_acc: 0.9762\n",
      "Epoch 26/40\n",
      "3618/3618 [==============================] - 23s 6ms/step - loss: 0.0278 - acc: 0.9947 - val_loss: 0.1048 - val_acc: 0.9764\n",
      "Epoch 27/40\n",
      "3618/3618 [==============================] - 22s 6ms/step - loss: 0.0250 - acc: 0.9952 - val_loss: 0.1047 - val_acc: 0.9767\n",
      "Epoch 28/40\n",
      "3618/3618 [==============================] - 22s 6ms/step - loss: 0.0225 - acc: 0.9957 - val_loss: 0.1033 - val_acc: 0.9768\n",
      "Epoch 29/40\n",
      "3618/3618 [==============================] - 24s 6ms/step - loss: 0.0203 - acc: 0.9961 - val_loss: 0.1029 - val_acc: 0.9768\n",
      "Epoch 30/40\n",
      "3618/3618 [==============================] - 23s 6ms/step - loss: 0.0185 - acc: 0.9965 - val_loss: 0.1023 - val_acc: 0.9770\n",
      "Epoch 31/40\n",
      "3618/3618 [==============================] - 22s 6ms/step - loss: 0.0169 - acc: 0.9968 - val_loss: 0.1014 - val_acc: 0.9772\n",
      "Epoch 32/40\n",
      "3618/3618 [==============================] - 23s 6ms/step - loss: 0.0153 - acc: 0.9971 - val_loss: 0.1018 - val_acc: 0.9773\n",
      "Epoch 33/40\n",
      "3618/3618 [==============================] - 22s 6ms/step - loss: 0.0139 - acc: 0.9975 - val_loss: 0.1019 - val_acc: 0.9771\n",
      "Epoch 34/40\n",
      "3618/3618 [==============================] - 22s 6ms/step - loss: 0.0129 - acc: 0.9977 - val_loss: 0.1013 - val_acc: 0.9771\n",
      "Epoch 35/40\n",
      "3618/3618 [==============================] - 23s 6ms/step - loss: 0.0117 - acc: 0.9979 - val_loss: 0.1021 - val_acc: 0.9772\n",
      "Epoch 36/40\n",
      "3618/3618 [==============================] - 22s 6ms/step - loss: 0.0107 - acc: 0.9981 - val_loss: 0.1027 - val_acc: 0.9773\n",
      "Epoch 37/40\n",
      "3618/3618 [==============================] - 22s 6ms/step - loss: 0.0098 - acc: 0.9983 - val_loss: 0.1023 - val_acc: 0.9772\n",
      "Epoch 38/40\n",
      "3618/3618 [==============================] - 23s 6ms/step - loss: 0.0090 - acc: 0.9985 - val_loss: 0.1055 - val_acc: 0.9769\n",
      "Epoch 39/40\n",
      "3618/3618 [==============================] - 23s 6ms/step - loss: 0.0083 - acc: 0.9986 - val_loss: 0.1046 - val_acc: 0.9770\n",
      "Epoch 40/40\n",
      "3618/3618 [==============================] - 23s 6ms/step - loss: 0.0076 - acc: 0.9988 - val_loss: 0.1056 - val_acc: 0.9770\n"
     ]
    }
   ],
   "source": [
    "model_hist = parallel_model.fit(train_sentences_X, to_categorical(train_tags_y, len(tag2index)),\n",
    "                       validation_data=(eval_sentences_X, to_categorical(eval_tags_y, len(tag2index))),\n",
    "                       batch_size=128, \n",
    "                       epochs=40,\n",
    "                       validation_split=0.2)"
   ]
  },
  {
   "cell_type": "markdown",
   "metadata": {
    "colab_type": "text",
    "id": "9hTDgQb2rWTa"
   },
   "source": [
    "## PARTE 3  -  Evaluación del Modelo"
   ]
  },
  {
   "cell_type": "markdown",
   "metadata": {
    "colab_type": "text",
    "id": "LdSkk8mzM1KN"
   },
   "source": [
    "### Evaluamos el modelo y calculamos el valor de precision con respecto a los datos de prueba"
   ]
  },
  {
   "cell_type": "code",
   "execution_count": 23,
   "metadata": {
    "colab": {
     "base_uri": "https://localhost:8080/",
     "height": 51
    },
    "colab_type": "code",
    "id": "cD-YI5Fgb3Kt",
    "outputId": "4a3aa89a-6081-4bb9-a299-8ac9cdbac680"
   },
   "outputs": [
    {
     "ename": "RuntimeError",
     "evalue": "You must compile a model before training/testing. Use `model.compile(optimizer, loss)`.",
     "output_type": "error",
     "traceback": [
      "\u001b[0;31m---------------------------------------------------------------------------\u001b[0m",
      "\u001b[0;31mRuntimeError\u001b[0m                              Traceback (most recent call last)",
      "\u001b[0;32m<ipython-input-23-b00e2bbe9d6e>\u001b[0m in \u001b[0;36m<module>\u001b[0;34m\u001b[0m\n\u001b[0;32m----> 1\u001b[0;31m \u001b[0mscores\u001b[0m \u001b[0;34m=\u001b[0m \u001b[0mmodel\u001b[0m\u001b[0;34m.\u001b[0m\u001b[0mevaluate\u001b[0m\u001b[0;34m(\u001b[0m\u001b[0mtest_sentences_X\u001b[0m\u001b[0;34m,\u001b[0m \u001b[0mto_categorical\u001b[0m\u001b[0;34m(\u001b[0m\u001b[0mtest_tags_y\u001b[0m\u001b[0;34m,\u001b[0m \u001b[0mlen\u001b[0m\u001b[0;34m(\u001b[0m\u001b[0mtag2index\u001b[0m\u001b[0;34m)\u001b[0m\u001b[0;34m)\u001b[0m\u001b[0;34m)\u001b[0m\u001b[0;34m\u001b[0m\u001b[0m\n\u001b[0m\u001b[1;32m      2\u001b[0m \u001b[0mprint\u001b[0m\u001b[0;34m(\u001b[0m\u001b[0;34mf\"{model.metrics_names[1]}: {scores[1] * 100}\"\u001b[0m\u001b[0;34m)\u001b[0m   \u001b[0;31m# acc: 97.38805993872496\u001b[0m\u001b[0;34m\u001b[0m\u001b[0m\n",
      "\u001b[0;32m~/miniconda3/envs/tensorflow/lib/python3.6/site-packages/keras/engine/training.py\u001b[0m in \u001b[0;36mevaluate\u001b[0;34m(self, x, y, batch_size, verbose, sample_weight, steps)\u001b[0m\n\u001b[1;32m   1100\u001b[0m             \u001b[0mx\u001b[0m\u001b[0;34m,\u001b[0m \u001b[0my\u001b[0m\u001b[0;34m,\u001b[0m\u001b[0;34m\u001b[0m\u001b[0m\n\u001b[1;32m   1101\u001b[0m             \u001b[0msample_weight\u001b[0m\u001b[0;34m=\u001b[0m\u001b[0msample_weight\u001b[0m\u001b[0;34m,\u001b[0m\u001b[0;34m\u001b[0m\u001b[0m\n\u001b[0;32m-> 1102\u001b[0;31m             batch_size=batch_size)\n\u001b[0m\u001b[1;32m   1103\u001b[0m         \u001b[0;31m# Prepare inputs, delegate logic to `test_loop`.\u001b[0m\u001b[0;34m\u001b[0m\u001b[0;34m\u001b[0m\u001b[0m\n\u001b[1;32m   1104\u001b[0m         \u001b[0;32mif\u001b[0m \u001b[0mself\u001b[0m\u001b[0;34m.\u001b[0m\u001b[0m_uses_dynamic_learning_phase\u001b[0m\u001b[0;34m(\u001b[0m\u001b[0;34m)\u001b[0m\u001b[0;34m:\u001b[0m\u001b[0;34m\u001b[0m\u001b[0m\n",
      "\u001b[0;32m~/miniconda3/envs/tensorflow/lib/python3.6/site-packages/keras/engine/training.py\u001b[0m in \u001b[0;36m_standardize_user_data\u001b[0;34m(self, x, y, sample_weight, class_weight, check_array_lengths, batch_size)\u001b[0m\n\u001b[1;32m    679\u001b[0m         \u001b[0;32mif\u001b[0m \u001b[0my\u001b[0m \u001b[0;32mis\u001b[0m \u001b[0;32mnot\u001b[0m \u001b[0;32mNone\u001b[0m\u001b[0;34m:\u001b[0m\u001b[0;34m\u001b[0m\u001b[0m\n\u001b[1;32m    680\u001b[0m             \u001b[0;32mif\u001b[0m \u001b[0;32mnot\u001b[0m \u001b[0mself\u001b[0m\u001b[0;34m.\u001b[0m\u001b[0moptimizer\u001b[0m\u001b[0;34m:\u001b[0m\u001b[0;34m\u001b[0m\u001b[0m\n\u001b[0;32m--> 681\u001b[0;31m                 raise RuntimeError('You must compile a model before '\n\u001b[0m\u001b[1;32m    682\u001b[0m                                    \u001b[0;34m'training/testing. '\u001b[0m\u001b[0;34m\u001b[0m\u001b[0m\n\u001b[1;32m    683\u001b[0m                                    'Use `model.compile(optimizer, loss)`.')\n",
      "\u001b[0;31mRuntimeError\u001b[0m: You must compile a model before training/testing. Use `model.compile(optimizer, loss)`."
     ]
    }
   ],
   "source": [
    "scores = model.evaluate(test_sentences_X, to_categorical(test_tags_y, len(tag2index)))\n",
    "print(f\"{model.metrics_names[1]}: {scores[1] * 100}\")   # acc: 97.38805993872496"
   ]
  },
  {
   "cell_type": "markdown",
   "metadata": {
    "colab_type": "text",
    "id": "sAhkgtWHQuij"
   },
   "source": [
    "### Definimos la funcion que nos servira para graficar el comportamiento del modelo en cada epoca del entrenamiento"
   ]
  },
  {
   "cell_type": "code",
   "execution_count": 24,
   "metadata": {
    "colab": {},
    "colab_type": "code",
    "id": "JaBUkInNQuik"
   },
   "outputs": [],
   "source": [
    "import matplotlib.pyplot as plt\n",
    "\n",
    "def plot_model_performance(train_loss, train_acc, train_val_loss, train_val_acc):\n",
    "    \"\"\" Plot model loss and accuracy through epochs. \"\"\"\n",
    "    blue= '#34495E'\n",
    "    green = '#2ECC71'\n",
    "    orange = '#E23B13'\n",
    "    # plot model loss\n",
    "    fig, (ax1, ax2) = plt.subplots(2, figsize=(10, 8))\n",
    "    ax1.plot(range(1, len(train_loss) + 1), train_loss, blue, linewidth=5, label='training')\n",
    "    ax1.plot(range(1, len(train_val_loss) + 1), train_val_loss, green, linewidth=5, label='validation')\n",
    "    ax1.set_xlabel('# epoch')\n",
    "    ax1.set_ylabel('loss')\n",
    "    ax1.tick_params('y')\n",
    "    ax1.legend(loc='upper right', shadow=False)\n",
    "    ax1.set_title('Model loss through #epochs', color=orange, fontweight='bold')\n",
    "    # plot model accuracy\n",
    "    ax2.plot(range(1, len(train_acc) + 1), train_acc, blue, linewidth=5, label='training')\n",
    "    ax2.plot(range(1, len(train_val_acc) + 1), train_val_acc, green, linewidth=5, label='validation')\n",
    "    ax2.set_xlabel('# epoch')\n",
    "    ax2.set_ylabel('accuracy')\n",
    "    ax2.tick_params('y')\n",
    "    ax2.legend(loc='lower right', shadow=False)\n",
    "    ax2.set_title('Model accuracy through #epochs', color=orange, fontweight='bold')\n",
    "    \n",
    "    fig.savefig('../Plot/training-mb-01.png', bbox_inches='tight')"
   ]
  },
  {
   "cell_type": "markdown",
   "metadata": {
    "colab_type": "text",
    "id": "TxQh1AtuQuis"
   },
   "source": [
    "### Procedemos a Graficar el comportamiento del Entrenamiento, tanto del conjunto de entrenamiento como el de validación con respecto a la cantidad de epocas"
   ]
  },
  {
   "cell_type": "code",
   "execution_count": 25,
   "metadata": {
    "colab": {
     "base_uri": "https://localhost:8080/",
     "height": 512
    },
    "colab_type": "code",
    "id": "Gs5f3U1nQuit",
    "outputId": "86aa7473-9513-40a7-b098-807da720926b"
   },
   "outputs": [
    {
     "data": {
      "image/png": "[encoded data removed]",
      "text/plain": [
       "<Figure size 720x576 with 2 Axes>"
      ]
     },
     "metadata": {
      "needs_background": "light"
     },
     "output_type": "display_data"
    }
   ],
   "source": [
    "plot_model_performance(\n",
    "    train_loss=model_hist.history.get('loss', []),\n",
    "    train_acc=model_hist.history.get('acc', []),\n",
    "    train_val_loss=model_hist.history.get('val_loss', []),\n",
    "    train_val_acc=model_hist.history.get('val_acc', [])\n",
    ")"
   ]
  },
  {
   "cell_type": "markdown",
   "metadata": {
    "colab_type": "text",
    "id": "pqiuy8q4GYjF"
   },
   "source": [
    "### Función que Permite convertir Indices en Tags"
   ]
  },
  {
   "cell_type": "code",
   "execution_count": 26,
   "metadata": {
    "colab": {},
    "colab_type": "code",
    "id": "YJ6GaLot9yZR"
   },
   "outputs": [],
   "source": [
    "def logits_to_tokens(sequences, index):\n",
    "    token_sequences = []\n",
    "    for categorical_sequence in sequences:\n",
    "        token_sequence = []\n",
    "        for categorical in categorical_sequence:\n",
    "            token_sequence.append(index[np.argmax(categorical)])\n",
    " \n",
    "        token_sequences.append(token_sequence)\n",
    " \n",
    "    return token_sequences"
   ]
  },
  {
   "cell_type": "markdown",
   "metadata": {
    "colab_type": "text",
    "id": "W-1GH3ZYuLc-"
   },
   "source": [
    "### Hacemos la prediccion sobre el conjunto de pruebas "
   ]
  },
  {
   "cell_type": "code",
   "execution_count": 27,
   "metadata": {
    "colab": {
     "base_uri": "https://localhost:8080/",
     "height": 54
    },
    "colab_type": "code",
    "id": "6HgbDqqsR4a7",
    "outputId": "8ad10360-dafc-4a75-eeda-b4ed4c5c4e34"
   },
   "outputs": [
    {
     "name": "stdout",
     "output_type": "stream",
     "text": [
      "['da0ms0', 'ncms000', 'aq0cs0', 'vaip3s0', 'vmp00sm', 'cs', 'da0fs0', 'ncfs000', 'sps00', 'np00000', 'vaip3s0', 'vmp00sm', 'sps00', 'Fe', 'vmn0000', 'Fe', 'Fc', 'cc', 'sn.e-SUJ', 'vaip3s0', 'vmp00sm', 'cs', 'da0ms0', 'ncms000', 'sps00', 'da0ms0', 'ncms000', 'vmip3s0', 'cs', 'sps00', 'da0ms0', 'np0000l', 'Fe', 'di0mp0', 'vmip3p0', 'sps00', 'da0fs0', 'di0fs0', 'ncfs000', 'Fe', 'Fp', '-PAD-', '-PAD-', '-PAD-', '-PAD-', '-PAD-', '-PAD-', '-PAD-', '-PAD-', '-PAD-', '-PAD-', '-PAD-', '-PAD-', '-PAD-', '-PAD-', '-PAD-', '-PAD-', '-PAD-', '-PAD-', '-PAD-', '-PAD-', '-PAD-', '-PAD-', '-PAD-', '-PAD-', '-PAD-', '-PAD-', '-PAD-', '-PAD-', '-PAD-', '-PAD-', '-PAD-', '-PAD-', '-PAD-', '-PAD-', '-PAD-', '-PAD-', '-PAD-', '-PAD-', '-PAD-', '-PAD-', '-PAD-', '-PAD-', '-PAD-', '-PAD-', '-PAD-', '-PAD-', '-PAD-', '-PAD-', '-PAD-', '-PAD-', '-PAD-', '-PAD-', '-PAD-', '-PAD-', '-PAD-', '-PAD-', '-PAD-', '-PAD-', '-PAD-', '-PAD-', '-PAD-', '-PAD-', '-PAD-', '-PAD-', '-PAD-', '-PAD-', '-PAD-', '-PAD-', '-PAD-', '-PAD-', '-PAD-', '-PAD-', '-PAD-', '-PAD-', '-PAD-', '-PAD-', '-PAD-', '-PAD-', '-PAD-', '-PAD-', '-PAD-', '-PAD-', '-PAD-', '-PAD-', '-PAD-', '-PAD-', '-PAD-', '-PAD-', '-PAD-', '-PAD-', '-PAD-', '-PAD-', '-PAD-', '-PAD-', '-PAD-', '-PAD-', '-PAD-', '-PAD-', '-PAD-', '-PAD-', '-PAD-', '-PAD-', '-PAD-', '-PAD-', '-PAD-', '-PAD-', '-PAD-', '-PAD-']\n"
     ]
    }
   ],
   "source": [
    "import pandas as pd\n",
    "\n",
    "prediction = parallel_model.predict(test_sentences_X)\n",
    "log_tokens = logits_to_tokens(prediction, {i: t for t, i in tag2index.items()})\n",
    "\n",
    "print(log_tokens[0])"
   ]
  },
  {
   "cell_type": "markdown",
   "metadata": {
    "colab_type": "text",
    "id": "uT6IIQXrQuix"
   },
   "source": [
    "### Hallamos los valores de F1 score, recall, precision"
   ]
  },
  {
   "cell_type": "code",
   "execution_count": 28,
   "metadata": {
    "colab": {
     "base_uri": "https://localhost:8080/",
     "height": 1142
    },
    "colab_type": "code",
    "id": "GqTuNxppFNu-",
    "outputId": "cc280315-02e5-4be6-d4b3-eccfae561837"
   },
   "outputs": [
    {
     "name": "stderr",
     "output_type": "stream",
     "text": [
      "/home/deep-learning/miniconda3/envs/tensorflow/lib/python3.6/site-packages/sklearn/metrics/classification.py:1143: UndefinedMetricWarning: Precision and F-score are ill-defined and being set to 0.0 in labels with no predicted samples.\n",
      "  'precision', 'predicted', average, warn_for)\n",
      "/home/deep-learning/miniconda3/envs/tensorflow/lib/python3.6/site-packages/sklearn/metrics/classification.py:1145: UndefinedMetricWarning: Recall and F-score are ill-defined and being set to 0.0 in labels with no true samples.\n",
      "  'recall', 'true', average, warn_for)\n"
     ]
    },
    {
     "name": "stdout",
     "output_type": "stream",
     "text": [
      "\n",
      "classification_report:\n",
      "               precision    recall  f1-score   support\n",
      "\n",
      "       -PAD-       0.00      0.00      0.00         0\n",
      "         Faa       1.00      1.00      1.00         2\n",
      "         Fat       1.00      0.80      0.89         5\n",
      "          Fc       1.00      1.00      1.00      2291\n",
      "          Fd       1.00      1.00      1.00        87\n",
      "          Fe       1.00      1.00      1.00       631\n",
      "          Fg       0.99      1.00      1.00       226\n",
      "          Fh       0.00      0.00      0.00         3\n",
      "         Fia       1.00      1.00      1.00         6\n",
      "         Fit       1.00      1.00      1.00        19\n",
      "          Fp       1.00      1.00      1.00      1178\n",
      "         Fpa       1.00      1.00      1.00       156\n",
      "         Fpt       0.99      0.99      0.99       160\n",
      "          Fs       1.00      1.00      1.00        13\n",
      "          Fx       0.95      1.00      0.98        41\n",
      "          Fz       0.00      0.00      0.00         2\n",
      "           W       0.97      0.61      0.75       194\n",
      "           Z       0.90      0.54      0.67       320\n",
      "          Zm       0.91      0.89      0.90        35\n",
      "          Zp       0.78      0.40      0.53        45\n",
      "      ao0fp0       1.00      1.00      1.00        17\n",
      "      ao0fs0       0.97      0.95      0.96        66\n",
      "      ao0mp0       1.00      0.91      0.95        23\n",
      "      ao0ms0       0.92      0.95      0.93        59\n",
      "     aq00000       0.00      0.00      0.00         2\n",
      "      aq0cn0       0.05      0.25      0.08         4\n",
      "      aq0cp0       0.88      0.69      0.77       228\n",
      "      aq0cs0       0.62      0.87      0.72       590\n",
      "      aq0fp0       0.72      0.63      0.67       128\n",
      "      aq0fpp       0.25      0.54      0.35        52\n",
      "      aq0fs0       0.88      0.69      0.78       355\n",
      "      aq0fsp       0.58      0.46      0.51       140\n",
      "      aq0mp0       0.73      0.61      0.67       202\n",
      "      aq0mpp       0.51      0.48      0.49        96\n",
      "      aq0ms0       0.81      0.74      0.77       491\n",
      "      aq0msp       0.84      0.59      0.69       222\n",
      "          cc       0.98      0.99      0.99      1222\n",
      "          cs       0.89      0.87      0.88       927\n",
      "      da0fp0       0.98      1.00      0.99       374\n",
      "      da0fs0       0.99      1.00      0.99      1324\n",
      "      da0mp0       1.00      1.00      1.00       637\n",
      "      da0ms0       1.00      1.00      1.00      1275\n",
      "      da0ns0       0.91      0.95      0.93       110\n",
      "      dd0cp0       1.00      0.50      0.67         2\n",
      "      dd0cs0       1.00      0.75      0.86         4\n",
      "      dd0fp0       0.95      1.00      0.97        18\n",
      "      dd0fs0       0.97      1.00      0.99        67\n",
      "      dd0mp0       0.91      1.00      0.95        30\n",
      "      dd0ms0       0.94      1.00      0.97       101\n",
      "      di0cp0       0.50      0.80      0.62         5\n",
      "      di0cs0       0.96      0.85      0.90        26\n",
      "      di0fp0       0.97      0.94      0.96        71\n",
      "      di0fs0       0.98      0.99      0.98       335\n",
      "      di0mp0       0.92      0.96      0.94       112\n",
      "      di0ms0       0.96      0.95      0.96       482\n",
      "      dn0cp0       0.94      0.97      0.96       149\n",
      "      dn0cs0       0.00      0.00      0.00         1\n",
      "      dn0fp0       1.00      0.75      0.86         4\n",
      "      dn0fs0       0.00      0.00      0.00         2\n",
      "      dn0mp0       1.00      0.40      0.57         5\n",
      "      dn0ms0       0.33      0.11      0.17         9\n",
      "      dp1cps       0.00      0.00      0.00         1\n",
      "      dp1css       1.00      1.00      1.00         8\n",
      "      dp1fpp       0.00      0.00      0.00         1\n",
      "      dp1fsp       1.00      0.83      0.91         6\n",
      "      dp1mpp       1.00      0.86      0.92         7\n",
      "      dp1msp       1.00      0.88      0.93         8\n",
      "      dp2css       1.00      0.67      0.80         3\n",
      "      dp3cp0       1.00      1.00      1.00       107\n",
      "      dp3cs0       1.00      1.00      1.00       275\n",
      "      dp3fs0       0.00      0.00      0.00         1\n",
      "      dt0cn0       0.00      0.00      0.00         3\n",
      "           i       0.02      0.25      0.04         4\n",
      "     nc00000       0.08      0.23      0.11        26\n",
      "     nccn000       0.00      0.00      0.00         5\n",
      "     nccp000       0.70      0.84      0.77       103\n",
      "     nccs000       0.85      0.75      0.80       146\n",
      "     ncfn000       1.00      0.60      0.75        15\n",
      "     ncfp000       0.93      0.85      0.89       788\n",
      "     ncfs000       0.89      0.92      0.91      2132\n",
      "     ncmn000       0.93      0.54      0.68        24\n",
      "     ncmp000       0.93      0.83      0.88      1166\n",
      "     ncms000       0.86      0.92      0.89      2365\n",
      "     np00000       0.03      0.22      0.05        51\n",
      "     np0000a       0.61      0.34      0.44       202\n",
      "     np0000l       0.52      0.71      0.60       412\n",
      "     np0000o       0.70      0.63      0.66       656\n",
      "     np0000p       0.75      0.55      0.64       720\n",
      "    p0000000       0.61      0.61      0.61       193\n",
      "    p010p000       1.00      0.50      0.67         2\n",
      "    p010s000       1.00      0.67      0.80         3\n",
      "    p020s000       1.00      1.00      1.00         1\n",
      "    p0300000       0.64      0.67      0.66       217\n",
      "    pd0fp000       1.00      0.67      0.80         3\n",
      "    pd0fs000       1.00      0.60      0.75         5\n",
      "    pd0mp000       1.00      0.50      0.67         6\n",
      "    pd0ms000       1.00      0.50      0.67         8\n",
      "    pd0ns000       1.00      1.00      1.00        22\n",
      "    pi0cp000       1.00      1.00      1.00         2\n",
      "    pi0cs000       1.00      0.97      0.99        40\n",
      "    pi0fp000       0.67      0.57      0.62         7\n",
      "    pi0fs000       0.62      0.73      0.67        11\n",
      "    pi0mp000       0.82      0.77      0.79        35\n",
      "    pi0ms000       0.83      0.74      0.78        54\n",
      "    pn0cp000       0.83      0.74      0.78        27\n",
      "    pn0mp000       0.60      1.00      0.75         3\n",
      "    pn0ms000       0.33      0.50      0.40         2\n",
      "    pp1cp000       0.96      1.00      0.98        27\n",
      "    pp1cs000       0.93      0.96      0.95        27\n",
      "    pp1csn00       1.00      1.00      1.00        16\n",
      "    pp1cso00       1.00      1.00      1.00         5\n",
      "    pp1mp000       1.00      1.00      1.00         9\n",
      "    pp2cs000       1.00      1.00      1.00         4\n",
      "    pp2cs00p       0.60      0.75      0.67         4\n",
      "    pp2csn00       0.00      0.00      0.00         2\n",
      "    pp2cso00       0.00      0.00      0.00         1\n",
      "    pp3cn000       0.00      0.00      0.00        10\n",
      "    pp3cna00       0.00      0.00      0.00         2\n",
      "    pp3cno00       1.00      1.00      1.00         5\n",
      "    pp3cpa00       0.00      0.00      0.00         2\n",
      "    pp3cpd00       0.85      1.00      0.92        11\n",
      "    pp3csa00       0.00      0.00      0.00         1\n",
      "    pp3csd00       0.98      0.97      0.98        63\n",
      "    pp3fp000       1.00      1.00      1.00         6\n",
      "    pp3fpa00       1.00      0.30      0.46        10\n",
      "    pp3fs000       0.92      0.85      0.88        13\n",
      "    pp3fsa00       0.83      0.29      0.43        17\n",
      "    pp3mp000       1.00      1.00      1.00        26\n",
      "    pp3mpa00       1.00      0.25      0.40         4\n",
      "    pp3ms000       1.00      1.00      1.00        23\n",
      "    pp3msa00       0.80      0.73      0.76        33\n",
      "    pp3ns000       1.00      1.00      1.00        15\n",
      "    pr000000       0.88      0.85      0.86        26\n",
      "    pr0cn000       0.86      0.87      0.87       616\n",
      "    pr0cp000       1.00      0.90      0.95        10\n",
      "    pr0cs000       0.94      1.00      0.97        32\n",
      "    pr0fp000       0.00      0.00      0.00         1\n",
      "    pr0fs000       0.83      1.00      0.91         5\n",
      "    pr0mp000       0.00      0.00      0.00         0\n",
      "    pr0ms000       1.00      0.33      0.50         3\n",
      "    pt000000       1.00      0.58      0.74        12\n",
      "    pt0cp000       0.00      0.00      0.00         1\n",
      "    pt0cs000       0.84      0.89      0.86        18\n",
      "    pt0mp000       0.00      0.00      0.00         2\n",
      "    px1fs0p0       0.00      0.00      0.00         1\n",
      "    px3ns000       0.00      0.00      0.00         1\n",
      "          rg       0.89      0.89      0.89      1208\n",
      "          rn       0.97      0.99      0.98       265\n",
      "      sn-SUJ       0.00      0.00      0.00         1\n",
      "        sn.e       0.00      0.00      0.00         4\n",
      "    sn.e-SUJ       0.99      1.00      0.99       818\n",
      " sn.e.1n-SUJ       0.00      0.00      0.00         6\n",
      "       spcms       1.00      0.99      0.99       692\n",
      "       sps00       0.99      0.99      0.99      5056\n",
      "     vaic3p0       0.00      0.00      0.00         1\n",
      "     vaic3s0       1.00      1.00      1.00         4\n",
      "     vaif1p0       0.00      0.00      0.00         1\n",
      "     vaif3s0       1.00      1.00      1.00         3\n",
      "     vaii1s0       0.00      0.00      0.00         1\n",
      "     vaii3p0       1.00      1.00      1.00        13\n",
      "     vaii3s0       0.98      1.00      0.99        41\n",
      "     vaip1p0       1.00      1.00      1.00         8\n",
      "     vaip1s0       1.00      1.00      1.00         9\n",
      "     vaip3p0       1.00      1.00      1.00        48\n",
      "     vaip3s0       1.00      0.99      1.00       185\n",
      "     vais3s0       1.00      0.20      0.33         5\n",
      "     van0000       0.95      1.00      0.98        21\n",
      "     vap00sm       1.00      1.00      1.00         1\n",
      "     vasi1p0       0.00      0.00      0.00         1\n",
      "     vasi3p0       1.00      0.50      0.67         2\n",
      "     vasi3s0       1.00      0.91      0.95        11\n",
      "     vasp1s0       0.00      0.00      0.00         1\n",
      "     vasp3p0       1.00      1.00      1.00         1\n",
      "     vasp3s0       0.89      1.00      0.94         8\n",
      "     vmg0000       0.29      0.42      0.34        92\n",
      "     vmic1p0       0.00      0.00      0.00         2\n",
      "     vmic1s0       0.00      0.00      0.00         0\n",
      "     vmic3p0       0.56      0.45      0.50        11\n",
      "     vmic3s0       0.91      0.70      0.79        30\n",
      "     vmif1p0       0.08      0.71      0.14         7\n",
      "     vmif1s0       0.50      0.33      0.40         3\n",
      "     vmif2s0       0.00      0.00      0.00         1\n",
      "     vmif3p0       1.00      0.50      0.67        40\n",
      "     vmif3s0       0.96      0.58      0.72       114\n",
      "     vmii1p0       0.05      0.44      0.10         9\n",
      "     vmii1s0       0.00      0.00      0.00         7\n",
      "     vmii3p0       0.93      0.39      0.55        67\n",
      "     vmii3s0       0.94      0.62      0.75       143\n",
      "     vmip1p0       1.00      0.67      0.80        60\n",
      "     vmip1s0       1.00      0.75      0.86        60\n",
      "     vmip2s0       0.19      0.50      0.27         6\n",
      "     vmip3p0       0.95      0.67      0.79       279\n",
      "     vmip3s0       0.90      0.88      0.89       599\n",
      "     vmis1p0       0.00      0.00      0.00         5\n",
      "     vmis1s0       0.08      0.25      0.12        12\n",
      "     vmis2s0       0.00      0.00      0.00         0\n",
      "     vmis3p0       0.98      0.55      0.71       148\n",
      "     vmis3s0       0.99      0.86      0.92       606\n",
      "     vmm02s0       0.00      0.00      0.00         3\n",
      "     vmm03p0       0.00      0.00      0.00         1\n",
      "     vmm03s0       0.00      0.00      0.00         7\n",
      "     vmn0000       0.80      0.84      0.82       849\n",
      "     vmp00pf       0.00      0.00      0.00         5\n",
      "     vmp00pm       0.10      0.31      0.15        16\n",
      "     vmp00sf       0.31      0.26      0.29        19\n",
      "     vmp00sm       0.90      0.89      0.89       311\n",
      "     vmsi1p0       0.00      0.00      0.00         2\n",
      "     vmsi1s0       0.00      0.00      0.00         2\n",
      "     vmsi3p0       0.07      0.25      0.11        12\n",
      "     vmsi3s0       0.82      0.35      0.49        26\n",
      "     vmsp1p0       0.67      0.22      0.33         9\n",
      "     vmsp1s0       0.50      0.14      0.22         7\n",
      "     vmsp3p0       0.67      0.36      0.46        45\n",
      "     vmsp3s0       0.54      0.55      0.54        66\n",
      "     vsg0000       1.00      1.00      1.00         7\n",
      "     vsic1s0       1.00      1.00      1.00         1\n",
      "     vsic3p0       0.00      0.00      0.00         2\n",
      "     vsic3s0       1.00      0.88      0.93         8\n",
      "     vsif3s0       1.00      1.00      1.00        13\n",
      "     vsii3p0       1.00      1.00      1.00        13\n",
      "     vsii3s0       0.93      1.00      0.96        26\n",
      "     vsip1p0       0.25      1.00      0.40         1\n",
      "     vsip1s0       1.00      1.00      1.00         3\n",
      "     vsip2s0       0.00      0.00      0.00         2\n",
      "     vsip3p0       1.00      1.00      1.00        48\n",
      "     vsip3s0       1.00      1.00      1.00       190\n",
      "     vsis3p0       0.95      1.00      0.97        18\n",
      "     vsis3s0       1.00      0.97      0.99        39\n",
      "     vsn0000       1.00      1.00      1.00        35\n",
      "     vsp00sm       1.00      1.00      1.00        32\n",
      "     vssi3p0       0.00      0.00      0.00         1\n",
      "     vssi3s0       1.00      0.67      0.80         3\n",
      "     vssp3p0       0.80      0.80      0.80         5\n",
      "     vssp3s0       1.00      1.00      1.00        12\n",
      "\n",
      "   micro avg       0.89      0.89      0.89     38876\n",
      "   macro avg       0.68      0.63      0.63     38876\n",
      "weighted avg       0.91      0.89      0.89     38876\n",
      "\n"
     ]
    }
   ],
   "source": [
    "from sklearn.metrics import classification_report, confusion_matrix\n",
    "\n",
    "results = pd.DataFrame(columns=['Expected', 'Predicted'])\n",
    "k = 0\n",
    "for i, lista_etiquetas_oracion in enumerate(test_tags):\n",
    "    for j, etiquetas in enumerate(lista_etiquetas_oracion):\n",
    "        k = k + 1\n",
    "        results.loc[k, 'Expected'] = etiquetas\n",
    "        results.loc[k, 'Predicted'] = log_tokens[i][j]\n",
    "\n",
    "# print(results)\n",
    "\n",
    "\n",
    "print('\\nclassification_report:\\n', classification_report(results['Expected'], results['Predicted']))"
   ]
  },
  {
   "cell_type": "markdown",
   "metadata": {
    "colab_type": "text",
    "id": "nrAAFx0XrWT1"
   },
   "source": [
    "## PARTE 4  -  Testing"
   ]
  },
  {
   "cell_type": "markdown",
   "metadata": {
    "colab_type": "text",
    "id": "uvOz-IShFzRR"
   },
   "source": [
    "### Creamos un pequeño Ejemplo"
   ]
  },
  {
   "cell_type": "code",
   "execution_count": 29,
   "metadata": {
    "colab": {},
    "colab_type": "code",
    "id": "_WT1PtS_Qui0"
   },
   "outputs": [
    {
     "name": "stdout",
     "output_type": "stream",
     "text": [
      "[['Correr', 'es', 'importante', 'para', 'mi', '.'], ['El', 'hombre', 'bajo', 'corre', 'bajo', 'el', 'puente', 'con', 'bajo', 'índice', 'de', 'adrenalina', '.']]\n"
     ]
    }
   ],
   "source": [
    "test_samples = [\n",
    "    \"Correr es importante para mi .\".split(),\n",
    "    \"El hombre bajo corre bajo el puente con bajo índice de adrenalina .\".split()\n",
    "]\n",
    "print(test_samples)"
   ]
  },
  {
   "cell_type": "markdown",
   "metadata": {
    "colab_type": "text",
    "id": "X5E7-zZdGCjY"
   },
   "source": [
    "### Convertimos el texto en Una entrada para el Modelo"
   ]
  },
  {
   "cell_type": "code",
   "execution_count": 30,
   "metadata": {
    "colab": {},
    "colab_type": "code",
    "id": "BApB6ScZ9jU8"
   },
   "outputs": [
    {
     "name": "stdout",
     "output_type": "stream",
     "text": [
      "[[ 2101 21890  4288  3407  8678 12889     0     0     0     0     0     0\n",
      "      0     0     0     0     0     0     0     0     0     0     0     0\n",
      "      0     0     0     0     0     0     0     0     0     0     0     0\n",
      "      0     0     0     0     0     0     0     0     0     0     0     0\n",
      "      0     0     0     0     0     0     0     0     0     0     0     0\n",
      "      0     0     0     0     0     0     0     0     0     0     0     0\n",
      "      0     0     0     0     0     0     0     0     0     0     0     0\n",
      "      0     0     0     0     0     0     0     0     0     0     0     0\n",
      "      0     0     0     0     0     0     0     0     0     0     0     0\n",
      "      0     0     0     0     0     0     0     0     0     0     0     0\n",
      "      0     0     0     0     0     0     0     0     0     0     0     0\n",
      "      0     0     0     0     0     0     0     0     0     0     0     0\n",
      "      0     0     0     0     0]\n",
      " [10282  7752 20760 15480 20760 10282 12735 22163 20760 13703 17148     1\n",
      "  12889     0     0     0     0     0     0     0     0     0     0     0\n",
      "      0     0     0     0     0     0     0     0     0     0     0     0\n",
      "      0     0     0     0     0     0     0     0     0     0     0     0\n",
      "      0     0     0     0     0     0     0     0     0     0     0     0\n",
      "      0     0     0     0     0     0     0     0     0     0     0     0\n",
      "      0     0     0     0     0     0     0     0     0     0     0     0\n",
      "      0     0     0     0     0     0     0     0     0     0     0     0\n",
      "      0     0     0     0     0     0     0     0     0     0     0     0\n",
      "      0     0     0     0     0     0     0     0     0     0     0     0\n",
      "      0     0     0     0     0     0     0     0     0     0     0     0\n",
      "      0     0     0     0     0     0     0     0     0     0     0     0\n",
      "      0     0     0     0     0]]\n"
     ]
    }
   ],
   "source": [
    "test_samples_X = []\n",
    "for s in test_samples:\n",
    "    s_int = []\n",
    "    for w in s:\n",
    "        try:\n",
    "            s_int.append(word2index[w.lower()])\n",
    "        except KeyError:\n",
    "            s_int.append(word2index['-OOV-'])\n",
    "    test_samples_X.append(s_int)\n",
    "\n",
    "test_samples_X = pad_sequences(test_samples_X, maxlen=MAX_LENGTH, padding='post')\n",
    "print(test_samples_X)"
   ]
  },
  {
   "cell_type": "markdown",
   "metadata": {
    "colab_type": "text",
    "id": "trNZCjTWGLp-"
   },
   "source": [
    "### Se Ejecuta la predicion con la Entrada del modelo entrenado"
   ]
  },
  {
   "cell_type": "code",
   "execution_count": 31,
   "metadata": {
    "colab": {},
    "colab_type": "code",
    "id": "OX6Bd2Rz9oha"
   },
   "outputs": [
    {
     "name": "stdout",
     "output_type": "stream",
     "text": [
      "[[[6.60489593e-03 2.32876864e-05 7.53883069e-05 ... 1.74496658e-04\n",
      "   6.81499660e-05 1.46916613e-03]\n",
      "  [1.38316478e-08 6.62090827e-09 2.64082864e-05 ... 1.58525282e-08\n",
      "   1.35877553e-05 7.85295029e-08]\n",
      "  [6.36615482e-07 9.62019464e-10 6.23345472e-11 ... 2.46470108e-07\n",
      "   9.21214667e-12 2.30671318e-07]\n",
      "  ...\n",
      "  [9.99961734e-01 2.14040075e-09 8.48489545e-09 ... 3.50119848e-07\n",
      "   3.13173532e-09 1.44569967e-07]\n",
      "  [9.99943256e-01 6.81541712e-09 2.35762059e-08 ... 4.75925788e-07\n",
      "   7.92064814e-09 1.95562407e-07]\n",
      "  [9.99924183e-01 1.52773225e-08 5.10444593e-08 ... 6.08962807e-07\n",
      "   1.56394044e-08 2.26320893e-07]]\n",
      "\n",
      " [[1.66161882e-07 4.45222170e-09 3.19109148e-07 ... 2.53024227e-05\n",
      "   5.53881421e-07 2.76849689e-11]\n",
      "  [1.08880636e-06 1.25175281e-09 2.07711661e-08 ... 4.40670419e-07\n",
      "   7.84492471e-08 9.00594023e-06]\n",
      "  [2.12770265e-05 3.00470617e-08 3.43905504e-09 ... 3.22037784e-04\n",
      "   1.42620475e-08 8.57690949e-08]\n",
      "  ...\n",
      "  [9.99961734e-01 2.14042117e-09 8.48489545e-09 ... 3.50123202e-07\n",
      "   3.13175907e-09 1.44571203e-07]\n",
      "  [9.99943256e-01 6.81548151e-09 2.35762059e-08 ... 4.75930335e-07\n",
      "   7.92070765e-09 1.95564283e-07]\n",
      "  [9.99924183e-01 1.52774398e-08 5.10444593e-08 ... 6.08968094e-07\n",
      "   1.56394933e-08 2.26322840e-07]]] (2, 149, 291)\n"
     ]
    }
   ],
   "source": [
    "predictions = model.predict(test_samples_X)\n",
    "print(predictions, predictions.shape)"
   ]
  },
  {
   "cell_type": "markdown",
   "metadata": {
    "colab_type": "text",
    "id": "l-XS5z-NGiM-"
   },
   "source": [
    "### Conversion de la Salida del Modelo a un lista de Indices de Tags"
   ]
  },
  {
   "cell_type": "code",
   "execution_count": 32,
   "metadata": {
    "colab": {},
    "colab_type": "code",
    "id": "IgIutMjq92cp"
   },
   "outputs": [
    {
     "name": "stdout",
     "output_type": "stream",
     "text": [
      "[['vmn0000', 'vsip3s0', 'aq0cs0', 'sps00', 'dp1css', 'Fp', '-PAD-', '-PAD-', '-PAD-', '-PAD-', '-PAD-', '-PAD-', '-PAD-', '-PAD-', '-PAD-', '-PAD-', '-PAD-', '-PAD-', '-PAD-', '-PAD-', '-PAD-', '-PAD-', '-PAD-', '-PAD-', '-PAD-', '-PAD-', '-PAD-', '-PAD-', '-PAD-', '-PAD-', '-PAD-', '-PAD-', '-PAD-', '-PAD-', '-PAD-', '-PAD-', '-PAD-', '-PAD-', '-PAD-', '-PAD-', '-PAD-', '-PAD-', '-PAD-', '-PAD-', '-PAD-', '-PAD-', '-PAD-', '-PAD-', '-PAD-', '-PAD-', '-PAD-', '-PAD-', '-PAD-', '-PAD-', '-PAD-', '-PAD-', '-PAD-', '-PAD-', '-PAD-', '-PAD-', '-PAD-', '-PAD-', '-PAD-', '-PAD-', '-PAD-', '-PAD-', '-PAD-', '-PAD-', '-PAD-', '-PAD-', '-PAD-', '-PAD-', '-PAD-', '-PAD-', '-PAD-', '-PAD-', '-PAD-', '-PAD-', '-PAD-', '-PAD-', '-PAD-', '-PAD-', '-PAD-', '-PAD-', '-PAD-', '-PAD-', '-PAD-', '-PAD-', '-PAD-', '-PAD-', '-PAD-', '-PAD-', '-PAD-', '-PAD-', '-PAD-', '-PAD-', '-PAD-', '-PAD-', '-PAD-', '-PAD-', '-PAD-', '-PAD-', '-PAD-', '-PAD-', '-PAD-', '-PAD-', '-PAD-', '-PAD-', '-PAD-', '-PAD-', '-PAD-', '-PAD-', '-PAD-', '-PAD-', '-PAD-', '-PAD-', '-PAD-', '-PAD-', '-PAD-', '-PAD-', '-PAD-', '-PAD-', '-PAD-', '-PAD-', '-PAD-', '-PAD-', '-PAD-', '-PAD-', '-PAD-', '-PAD-', '-PAD-', '-PAD-', '-PAD-', '-PAD-', '-PAD-', '-PAD-', '-PAD-', '-PAD-', '-PAD-', '-PAD-', '-PAD-', '-PAD-', '-PAD-', '-PAD-', '-PAD-', '-PAD-', '-PAD-', '-PAD-', '-PAD-'], ['da0ms0', 'ncms000', 'aq0ms0', 'vmip3s0', 'sps00', 'da0ms0', 'ncms000', 'sps00', 'sps00', 'ncms000', 'sps00', 'np0000l', 'Fp', '-PAD-', '-PAD-', '-PAD-', '-PAD-', '-PAD-', '-PAD-', '-PAD-', '-PAD-', '-PAD-', '-PAD-', '-PAD-', '-PAD-', '-PAD-', '-PAD-', '-PAD-', '-PAD-', '-PAD-', '-PAD-', '-PAD-', '-PAD-', '-PAD-', '-PAD-', '-PAD-', '-PAD-', '-PAD-', '-PAD-', '-PAD-', '-PAD-', '-PAD-', '-PAD-', '-PAD-', '-PAD-', '-PAD-', '-PAD-', '-PAD-', '-PAD-', '-PAD-', '-PAD-', '-PAD-', '-PAD-', '-PAD-', '-PAD-', '-PAD-', '-PAD-', '-PAD-', '-PAD-', '-PAD-', '-PAD-', '-PAD-', '-PAD-', '-PAD-', '-PAD-', '-PAD-', '-PAD-', '-PAD-', '-PAD-', '-PAD-', '-PAD-', '-PAD-', '-PAD-', '-PAD-', '-PAD-', '-PAD-', '-PAD-', '-PAD-', '-PAD-', '-PAD-', '-PAD-', '-PAD-', '-PAD-', '-PAD-', '-PAD-', '-PAD-', '-PAD-', '-PAD-', '-PAD-', '-PAD-', '-PAD-', '-PAD-', '-PAD-', '-PAD-', '-PAD-', '-PAD-', '-PAD-', '-PAD-', '-PAD-', '-PAD-', '-PAD-', '-PAD-', '-PAD-', '-PAD-', '-PAD-', '-PAD-', '-PAD-', '-PAD-', '-PAD-', '-PAD-', '-PAD-', '-PAD-', '-PAD-', '-PAD-', '-PAD-', '-PAD-', '-PAD-', '-PAD-', '-PAD-', '-PAD-', '-PAD-', '-PAD-', '-PAD-', '-PAD-', '-PAD-', '-PAD-', '-PAD-', '-PAD-', '-PAD-', '-PAD-', '-PAD-', '-PAD-', '-PAD-', '-PAD-', '-PAD-', '-PAD-', '-PAD-', '-PAD-', '-PAD-', '-PAD-', '-PAD-', '-PAD-', '-PAD-', '-PAD-', '-PAD-', '-PAD-', '-PAD-', '-PAD-', '-PAD-']]\n"
     ]
    }
   ],
   "source": [
    "#print(len(predictions))\n",
    "log_tokens = logits_to_tokens(predictions, {i: t for t, i in tag2index.items()})\n",
    "print(log_tokens)"
   ]
  },
  {
   "cell_type": "markdown",
   "metadata": {
    "colab_type": "text",
    "id": "VmWp09kyGrQC"
   },
   "source": [
    "### Presentacion de los Resultados"
   ]
  },
  {
   "cell_type": "code",
   "execution_count": 37,
   "metadata": {
    "colab": {},
    "colab_type": "code",
    "id": "wNMCM8_jSdCL"
   },
   "outputs": [
    {
     "name": "stdout",
     "output_type": "stream",
     "text": [
      "Correr    es       importante    para    mi      .\n",
      "--------  -------  ------------  ------  ------  ---\n",
      "vmn0000   vsip3s0  aq0cs0        sps00   dp1css  Fp\n",
      "\n",
      "\n",
      "El      hombre    bajo    corre    bajo    el      puente    con    bajo    índice    de     adrenalina    .\n",
      "------  --------  ------  -------  ------  ------  --------  -----  ------  --------  -----  ------------  ---\n",
      "da0ms0  ncms000   aq0ms0  vmip3s0  sps00   da0ms0  ncms000   sps00  sps00   ncms000   sps00  np0000l       Fp\n"
     ]
    }
   ],
   "source": [
    "#!pip install tabulate\n",
    "from tabulate import tabulate\n",
    "\n",
    "heads1 = test_samples[0]\n",
    "body1 = [log_tokens[0][:len(test_samples[0])]]\n",
    "\n",
    "heads2 = test_samples[1]\n",
    "body2 = [log_tokens[1][:len(test_samples[1])]]\n",
    "\n",
    "print(tabulate(body1, headers=heads1))\n",
    "\n",
    "print (\"\\n\")\n",
    "\n",
    "print(tabulate(body2, headers=heads2))\n",
    "\n",
    "'''\n",
    "## postagging Freeling 4.1\n",
    "\n",
    "El      hombre   bajo     corre    bajo  el      puente   con  bajo  índice   de  adrenalina  .\n",
    "DA0MS0  NCMS000  AQ0MS00  VMIP3S0  SP    DA0MS0  NCMS000  SP   SP    NCMS000  SP  NCFS000     Fp\n",
    "\n",
    "\n",
    "## pos tagger Stanford NLP\n",
    "\n",
    "El      hombre   bajo     corre    bajo  el      puente   con    bajo   índice  de    adrenalina  .\n",
    "da0000  nc0s000  aq0000   vmip000  sp000 da0000  nc0s000  sp000  aq0000 nc0s000 sp000 nc0s000     fp\n",
    "Rub1k0n$$\n",
    "\n",
    "'''"
   ]
  },
  {
   "cell_type": "markdown",
   "metadata": {
    "colab_type": "text",
    "id": "zEqVaw-HSPiu"
   },
   "source": [
    "## PARTE 5  -  Mejorando la Precision y Exactitud del Modelo"
   ]
  },
  {
   "cell_type": "markdown",
   "metadata": {
    "colab_type": "text",
    "id": "1gR8kcV0GwFS"
   },
   "source": [
    "### Definimos una clase que permita ignorar los Valores de Relleno"
   ]
  },
  {
   "cell_type": "code",
   "execution_count": 38,
   "metadata": {
    "colab": {},
    "colab_type": "code",
    "id": "QwNvdZiE956Y"
   },
   "outputs": [],
   "source": [
    "from keras import backend as K\n",
    " \n",
    "def ignore_class_accuracy(to_ignore=0):\n",
    "    def ignore_accuracy(y_true, y_pred):\n",
    "        y_true_class = K.argmax(y_true, axis=-1)\n",
    "        y_pred_class = K.argmax(y_pred, axis=-1)\n",
    " \n",
    "        ignore_mask = K.cast(K.not_equal(y_pred_class, to_ignore), 'int32')\n",
    "        matches = K.cast(K.equal(y_true_class, y_pred_class), 'int32') * ignore_mask\n",
    "        accuracy = K.sum(matches) / K.maximum(K.sum(ignore_mask), 1)\n",
    "        return accuracy\n",
    "    return ignore_accuracy"
   ]
  },
  {
   "cell_type": "markdown",
   "metadata": {
    "colab_type": "text",
    "id": "AxT3F3pHIGHk"
   },
   "source": [
    "### Definimos nuevamente nuestro modelo, agregado la clase Creada"
   ]
  },
  {
   "cell_type": "code",
   "execution_count": 39,
   "metadata": {
    "colab": {},
    "colab_type": "code",
    "id": "KO4DTAAE-BaS"
   },
   "outputs": [
    {
     "name": "stdout",
     "output_type": "stream",
     "text": [
      "_________________________________________________________________\n",
      "Layer (type)                 Output Shape              Param #   \n",
      "=================================================================\n",
      "embedding_5 (Embedding)      (None, 149, 128)          3135872   \n",
      "_________________________________________________________________\n",
      "bidirectional_5 (Bidirection (None, 149, 512)          788480    \n",
      "_________________________________________________________________\n",
      "time_distributed_5 (TimeDist (None, 149, 291)          149283    \n",
      "_________________________________________________________________\n",
      "activation_5 (Activation)    (None, 149, 291)          0         \n",
      "=================================================================\n",
      "Total params: 4,073,635\n",
      "Trainable params: 4,073,635\n",
      "Non-trainable params: 0\n",
      "_________________________________________________________________\n"
     ]
    }
   ],
   "source": [
    "from keras.models import Sequential\n",
    "from keras.layers import Dense, LSTM, InputLayer, Bidirectional, TimeDistributed, Embedding, Activation\n",
    "from keras.optimizers import Adam\n",
    " \n",
    "\n",
    "model = Sequential()\n",
    "model.add(InputLayer(input_shape=(MAX_LENGTH, )))\n",
    "model.add(Embedding(len(word2index), 128))\n",
    "model.add(Bidirectional(LSTM(256, return_sequences=True)))\n",
    "model.add(TimeDistributed(Dense(len(tag2index))))\n",
    "model.add(Activation('softmax'))\n",
    " \n",
    "model.compile(loss='categorical_crossentropy', optimizer=Adam(0.001),  metrics=['accuracy', ignore_class_accuracy(0)]) \n",
    "\n",
    "model.summary()"
   ]
  },
  {
   "cell_type": "markdown",
   "metadata": {
    "colab_type": "text",
    "id": "Z8AiPXp8IVOu"
   },
   "source": [
    "### Procedemos a Entrenar Nuevamente"
   ]
  },
  {
   "cell_type": "code",
   "execution_count": 40,
   "metadata": {
    "colab": {},
    "colab_type": "code",
    "id": "CwgZVEIW-ECo"
   },
   "outputs": [
    {
     "name": "stdout",
     "output_type": "stream",
     "text": [
      "Train on 2894 samples, validate on 724 samples\n",
      "Epoch 1/40\n",
      "2894/2894 [==============================] - 13s 4ms/step - loss: 2.4904 - acc: 0.7510 - ignore_accuracy: 0.0131 - val_loss: 1.0565 - val_acc: 0.7849 - val_ignore_accuracy: 0.0000e+00\n",
      "Epoch 2/40\n",
      "2894/2894 [==============================] - 11s 4ms/step - loss: 0.9301 - acc: 0.7871 - ignore_accuracy: 0.0645 - val_loss: 0.8984 - val_acc: 0.7863 - val_ignore_accuracy: 0.2207\n",
      "Epoch 3/40\n",
      "2894/2894 [==============================] - 11s 4ms/step - loss: 0.8729 - acc: 0.8085 - ignore_accuracy: 0.1650 - val_loss: 0.8709 - val_acc: 0.8131 - val_ignore_accuracy: 0.1354\n",
      "Epoch 4/40\n",
      "2894/2894 [==============================] - 11s 4ms/step - loss: 0.8492 - acc: 0.8149 - ignore_accuracy: 0.1361 - val_loss: 0.8525 - val_acc: 0.8130 - val_ignore_accuracy: 0.1355\n",
      "Epoch 5/40\n",
      "2894/2894 [==============================] - 11s 4ms/step - loss: 0.8297 - acc: 0.8149 - ignore_accuracy: 0.1361 - val_loss: 0.8345 - val_acc: 0.8130 - val_ignore_accuracy: 0.1353\n",
      "Epoch 6/40\n",
      "2894/2894 [==============================] - 11s 4ms/step - loss: 0.8118 - acc: 0.8154 - ignore_accuracy: 0.1378 - val_loss: 0.8174 - val_acc: 0.8182 - val_ignore_accuracy: 0.1565\n",
      "Epoch 7/40\n",
      "2894/2894 [==============================] - 11s 4ms/step - loss: 0.7956 - acc: 0.8196 - ignore_accuracy: 0.1552 - val_loss: 0.8028 - val_acc: 0.8193 - val_ignore_accuracy: 0.1612\n",
      "Epoch 8/40\n",
      "2894/2894 [==============================] - 11s 4ms/step - loss: 0.7792 - acc: 0.8230 - ignore_accuracy: 0.1697 - val_loss: 0.7858 - val_acc: 0.8308 - val_ignore_accuracy: 0.2147\n",
      "Epoch 9/40\n",
      "2894/2894 [==============================] - 11s 4ms/step - loss: 0.7578 - acc: 0.8334 - ignore_accuracy: 0.2186 - val_loss: 0.7571 - val_acc: 0.8319 - val_ignore_accuracy: 0.2198\n",
      "Epoch 10/40\n",
      "2894/2894 [==============================] - 11s 4ms/step - loss: 0.7217 - acc: 0.8361 - ignore_accuracy: 0.2314 - val_loss: 0.7154 - val_acc: 0.8383 - val_ignore_accuracy: 0.2502\n",
      "Epoch 11/40\n",
      "2894/2894 [==============================] - 11s 4ms/step - loss: 0.6681 - acc: 0.8560 - ignore_accuracy: 0.3251 - val_loss: 0.6503 - val_acc: 0.8677 - val_ignore_accuracy: 0.3859\n",
      "Epoch 12/40\n",
      "2894/2894 [==============================] - 11s 4ms/step - loss: 0.6031 - acc: 0.8786 - ignore_accuracy: 0.4306 - val_loss: 0.5822 - val_acc: 0.8787 - val_ignore_accuracy: 0.4373\n",
      "Epoch 13/40\n",
      "2894/2894 [==============================] - 11s 4ms/step - loss: 0.5330 - acc: 0.8868 - ignore_accuracy: 0.4690 - val_loss: 0.5139 - val_acc: 0.8894 - val_ignore_accuracy: 0.4873\n",
      "Epoch 14/40\n",
      "2894/2894 [==============================] - 11s 4ms/step - loss: 0.4625 - acc: 0.8980 - ignore_accuracy: 0.5220 - val_loss: 0.4467 - val_acc: 0.9029 - val_ignore_accuracy: 0.5498\n",
      "Epoch 15/40\n",
      "2894/2894 [==============================] - 11s 4ms/step - loss: 0.3945 - acc: 0.9133 - ignore_accuracy: 0.5943 - val_loss: 0.3842 - val_acc: 0.9177 - val_ignore_accuracy: 0.6191\n",
      "Epoch 16/40\n",
      "2894/2894 [==============================] - 11s 4ms/step - loss: 0.3310 - acc: 0.9282 - ignore_accuracy: 0.6635 - val_loss: 0.3297 - val_acc: 0.9302 - val_ignore_accuracy: 0.6769\n",
      "Epoch 17/40\n",
      "2894/2894 [==============================] - 11s 4ms/step - loss: 0.2758 - acc: 0.9410 - ignore_accuracy: 0.7236 - val_loss: 0.2844 - val_acc: 0.9385 - val_ignore_accuracy: 0.7157\n",
      "Epoch 18/40\n",
      "2894/2894 [==============================] - 11s 4ms/step - loss: 0.2290 - acc: 0.9504 - ignore_accuracy: 0.7676 - val_loss: 0.2496 - val_acc: 0.9459 - val_ignore_accuracy: 0.7499\n",
      "Epoch 19/40\n",
      "2894/2894 [==============================] - 11s 4ms/step - loss: 0.1911 - acc: 0.9593 - ignore_accuracy: 0.8097 - val_loss: 0.2219 - val_acc: 0.9520 - val_ignore_accuracy: 0.7781\n",
      "Epoch 20/40\n",
      "2894/2894 [==============================] - 11s 4ms/step - loss: 0.1596 - acc: 0.9668 - ignore_accuracy: 0.8447 - val_loss: 0.2009 - val_acc: 0.9566 - val_ignore_accuracy: 0.7995\n",
      "Epoch 21/40\n",
      "2894/2894 [==============================] - 11s 4ms/step - loss: 0.1337 - acc: 0.9732 - ignore_accuracy: 0.8745 - val_loss: 0.1833 - val_acc: 0.9608 - val_ignore_accuracy: 0.8194\n",
      "Epoch 22/40\n",
      "2894/2894 [==============================] - 11s 4ms/step - loss: 0.1125 - acc: 0.9784 - ignore_accuracy: 0.8991 - val_loss: 0.1701 - val_acc: 0.9639 - val_ignore_accuracy: 0.8339\n",
      "Epoch 23/40\n",
      "2894/2894 [==============================] - 11s 4ms/step - loss: 0.0953 - acc: 0.9821 - ignore_accuracy: 0.9164 - val_loss: 0.1600 - val_acc: 0.9659 - val_ignore_accuracy: 0.8430\n",
      "Epoch 24/40\n",
      "2894/2894 [==============================] - 11s 4ms/step - loss: 0.0815 - acc: 0.9850 - ignore_accuracy: 0.9298 - val_loss: 0.1515 - val_acc: 0.9675 - val_ignore_accuracy: 0.8503\n",
      "Epoch 25/40\n",
      "2894/2894 [==============================] - 11s 4ms/step - loss: 0.0701 - acc: 0.9873 - ignore_accuracy: 0.9405 - val_loss: 0.1449 - val_acc: 0.9688 - val_ignore_accuracy: 0.8565\n",
      "Epoch 26/40\n",
      "2894/2894 [==============================] - 11s 4ms/step - loss: 0.0610 - acc: 0.9890 - ignore_accuracy: 0.9485 - val_loss: 0.1396 - val_acc: 0.9699 - val_ignore_accuracy: 0.8619\n",
      "Epoch 27/40\n",
      "2894/2894 [==============================] - 11s 4ms/step - loss: 0.0534 - acc: 0.9904 - ignore_accuracy: 0.9553 - val_loss: 0.1349 - val_acc: 0.9707 - val_ignore_accuracy: 0.8654\n",
      "Epoch 28/40\n",
      "2894/2894 [==============================] - 11s 4ms/step - loss: 0.0472 - acc: 0.9915 - ignore_accuracy: 0.9602 - val_loss: 0.1329 - val_acc: 0.9713 - val_ignore_accuracy: 0.8683\n",
      "Epoch 29/40\n",
      "2894/2894 [==============================] - 11s 4ms/step - loss: 0.0421 - acc: 0.9924 - ignore_accuracy: 0.9643 - val_loss: 0.1296 - val_acc: 0.9721 - val_ignore_accuracy: 0.8721\n",
      "Epoch 30/40\n",
      "2894/2894 [==============================] - 11s 4ms/step - loss: 0.0377 - acc: 0.9931 - ignore_accuracy: 0.9678 - val_loss: 0.1279 - val_acc: 0.9722 - val_ignore_accuracy: 0.8730\n",
      "Epoch 31/40\n",
      "2894/2894 [==============================] - 11s 4ms/step - loss: 0.0341 - acc: 0.9937 - ignore_accuracy: 0.9706 - val_loss: 0.1259 - val_acc: 0.9724 - val_ignore_accuracy: 0.8742\n",
      "Epoch 32/40\n",
      "2894/2894 [==============================] - 11s 4ms/step - loss: 0.0309 - acc: 0.9942 - ignore_accuracy: 0.9729 - val_loss: 0.1247 - val_acc: 0.9730 - val_ignore_accuracy: 0.8772\n",
      "Epoch 33/40\n",
      "2894/2894 [==============================] - 11s 4ms/step - loss: 0.0281 - acc: 0.9948 - ignore_accuracy: 0.9757 - val_loss: 0.1236 - val_acc: 0.9732 - val_ignore_accuracy: 0.8788\n",
      "Epoch 34/40\n",
      "2894/2894 [==============================] - 11s 4ms/step - loss: 0.0257 - acc: 0.9952 - ignore_accuracy: 0.9775 - val_loss: 0.1231 - val_acc: 0.9731 - val_ignore_accuracy: 0.8780\n",
      "Epoch 35/40\n",
      "2894/2894 [==============================] - 11s 4ms/step - loss: 0.0236 - acc: 0.9956 - ignore_accuracy: 0.9792 - val_loss: 0.1210 - val_acc: 0.9735 - val_ignore_accuracy: 0.8789\n",
      "Epoch 36/40\n",
      "2894/2894 [==============================] - 11s 4ms/step - loss: 0.0217 - acc: 0.9959 - ignore_accuracy: 0.9809 - val_loss: 0.1217 - val_acc: 0.9735 - val_ignore_accuracy: 0.8785\n",
      "Epoch 37/40\n",
      "2894/2894 [==============================] - 11s 4ms/step - loss: 0.0201 - acc: 0.9963 - ignore_accuracy: 0.9827 - val_loss: 0.1210 - val_acc: 0.9737 - val_ignore_accuracy: 0.8804\n",
      "Epoch 38/40\n",
      "2894/2894 [==============================] - 11s 4ms/step - loss: 0.0185 - acc: 0.9966 - ignore_accuracy: 0.9840 - val_loss: 0.1212 - val_acc: 0.9736 - val_ignore_accuracy: 0.8800\n",
      "Epoch 39/40\n",
      "2894/2894 [==============================] - 11s 4ms/step - loss: 0.0171 - acc: 0.9969 - ignore_accuracy: 0.9855 - val_loss: 0.1216 - val_acc: 0.9735 - val_ignore_accuracy: 0.8792\n",
      "Epoch 40/40\n",
      "2894/2894 [==============================] - 11s 4ms/step - loss: 0.0159 - acc: 0.9971 - ignore_accuracy: 0.9865 - val_loss: 0.1207 - val_acc: 0.9737 - val_ignore_accuracy: 0.8802\n"
     ]
    },
    {
     "data": {
      "text/plain": [
       "<keras.callbacks.History at 0x7f611615dc50>"
      ]
     },
     "execution_count": 40,
     "metadata": {},
     "output_type": "execute_result"
    }
   ],
   "source": [
    "model.fit(train_sentences_X, to_categorical(train_tags_y, len(tag2index)), batch_size=128, epochs=40, validation_split=0.2)"
   ]
  },
  {
   "cell_type": "markdown",
   "metadata": {
    "colab_type": "text",
    "id": "LnExWbEmIa5U"
   },
   "source": [
    "### Calculamos nuevamente la Precisión"
   ]
  },
  {
   "cell_type": "code",
   "execution_count": 41,
   "metadata": {
    "colab": {},
    "colab_type": "code",
    "id": "FKOa73gRNMm7"
   },
   "outputs": [
    {
     "name": "stdout",
     "output_type": "stream",
     "text": [
      "1206/1206 [==============================] - 5s 4ms/step\n",
      "acc: 97.29261903422784\n"
     ]
    }
   ],
   "source": [
    "scores2 = model.evaluate(test_sentences_X, to_categorical(test_tags_y, len(tag2index)))\n",
    "print(f\"{model.metrics_names[1]}: {scores2[1] * 100}\")   # acc: 99.09751977804825"
   ]
  },
  {
   "cell_type": "markdown",
   "metadata": {
    "colab_type": "text",
    "id": "ZzeCdasrIkuN"
   },
   "source": [
    "### Relaizamos nuevamente el calculo de F1-score, recall, y precision"
   ]
  },
  {
   "cell_type": "code",
   "execution_count": null,
   "metadata": {
    "colab": {},
    "colab_type": "code",
    "id": "VbqNJa0pIvVT"
   },
   "outputs": [],
   "source": []
  },
  {
   "cell_type": "markdown",
   "metadata": {
    "colab_type": "text",
    "id": "Nri9gFnwIxcN"
   },
   "source": [
    "### Realizamos nuevamente una prueba con el Ejemplo de Prueba"
   ]
  },
  {
   "cell_type": "code",
   "execution_count": 42,
   "metadata": {
    "colab": {},
    "colab_type": "code",
    "id": "xruHro6L-LT2"
   },
   "outputs": [
    {
     "name": "stdout",
     "output_type": "stream",
     "text": [
      "[['vmn0000', 'vsip3s0', 'aq0cs0', 'sps00', 'np0000l', 'Fp', '-PAD-', '-PAD-', '-PAD-', '-PAD-', '-PAD-', '-PAD-', '-PAD-', '-PAD-', '-PAD-', '-PAD-', '-PAD-', '-PAD-', '-PAD-', '-PAD-', '-PAD-', '-PAD-', '-PAD-', '-PAD-', '-PAD-', '-PAD-', '-PAD-', '-PAD-', '-PAD-', '-PAD-', '-PAD-', '-PAD-', '-PAD-', '-PAD-', '-PAD-', '-PAD-', '-PAD-', '-PAD-', '-PAD-', '-PAD-', '-PAD-', '-PAD-', '-PAD-', '-PAD-', '-PAD-', '-PAD-', '-PAD-', '-PAD-', '-PAD-', '-PAD-', '-PAD-', '-PAD-', '-PAD-', '-PAD-', '-PAD-', '-PAD-', '-PAD-', '-PAD-', '-PAD-', '-PAD-', '-PAD-', '-PAD-', '-PAD-', '-PAD-', '-PAD-', '-PAD-', '-PAD-', '-PAD-', '-PAD-', '-PAD-', '-PAD-', '-PAD-', '-PAD-', '-PAD-', '-PAD-', '-PAD-', '-PAD-', '-PAD-', '-PAD-', '-PAD-', '-PAD-', '-PAD-', '-PAD-', '-PAD-', '-PAD-', '-PAD-', '-PAD-', '-PAD-', '-PAD-', '-PAD-', '-PAD-', '-PAD-', '-PAD-', '-PAD-', '-PAD-', '-PAD-', '-PAD-', '-PAD-', '-PAD-', '-PAD-', '-PAD-', '-PAD-', '-PAD-', '-PAD-', '-PAD-', '-PAD-', '-PAD-', '-PAD-', '-PAD-', '-PAD-', '-PAD-', '-PAD-', '-PAD-', '-PAD-', '-PAD-', '-PAD-', '-PAD-', '-PAD-', '-PAD-', '-PAD-', '-PAD-', '-PAD-', '-PAD-', '-PAD-', '-PAD-', '-PAD-', '-PAD-', '-PAD-', '-PAD-', '-PAD-', '-PAD-', '-PAD-', '-PAD-', '-PAD-', '-PAD-', '-PAD-', '-PAD-', '-PAD-', '-PAD-', '-PAD-', '-PAD-', '-PAD-', '-PAD-', '-PAD-', '-PAD-', '-PAD-', '-PAD-', '-PAD-', '-PAD-'], ['da0ms0', 'ncms000', 'aq0cs0', 'vmip3s0', 'sps00', 'da0ms0', 'ncms000', 'sps00', 'sps00', 'ncms000', 'sps00', 'np0000l', 'Fp', '-PAD-', '-PAD-', '-PAD-', '-PAD-', '-PAD-', '-PAD-', '-PAD-', '-PAD-', '-PAD-', '-PAD-', '-PAD-', '-PAD-', '-PAD-', '-PAD-', '-PAD-', '-PAD-', '-PAD-', '-PAD-', '-PAD-', '-PAD-', '-PAD-', '-PAD-', '-PAD-', '-PAD-', '-PAD-', '-PAD-', '-PAD-', '-PAD-', '-PAD-', '-PAD-', '-PAD-', '-PAD-', '-PAD-', '-PAD-', '-PAD-', '-PAD-', '-PAD-', '-PAD-', '-PAD-', '-PAD-', '-PAD-', '-PAD-', '-PAD-', '-PAD-', '-PAD-', '-PAD-', '-PAD-', '-PAD-', '-PAD-', '-PAD-', '-PAD-', '-PAD-', '-PAD-', '-PAD-', '-PAD-', '-PAD-', '-PAD-', '-PAD-', '-PAD-', '-PAD-', '-PAD-', '-PAD-', '-PAD-', '-PAD-', '-PAD-', '-PAD-', '-PAD-', '-PAD-', '-PAD-', '-PAD-', '-PAD-', '-PAD-', '-PAD-', '-PAD-', '-PAD-', '-PAD-', '-PAD-', '-PAD-', '-PAD-', '-PAD-', '-PAD-', '-PAD-', '-PAD-', '-PAD-', '-PAD-', '-PAD-', '-PAD-', '-PAD-', '-PAD-', '-PAD-', '-PAD-', '-PAD-', '-PAD-', '-PAD-', '-PAD-', '-PAD-', '-PAD-', '-PAD-', '-PAD-', '-PAD-', '-PAD-', '-PAD-', '-PAD-', '-PAD-', '-PAD-', '-PAD-', '-PAD-', '-PAD-', '-PAD-', '-PAD-', '-PAD-', '-PAD-', '-PAD-', '-PAD-', '-PAD-', '-PAD-', '-PAD-', '-PAD-', '-PAD-', '-PAD-', '-PAD-', '-PAD-', '-PAD-', '-PAD-', '-PAD-', '-PAD-', '-PAD-', '-PAD-', '-PAD-', '-PAD-', '-PAD-', '-PAD-', '-PAD-', '-PAD-', '-PAD-', '-PAD-']]\n"
     ]
    }
   ],
   "source": [
    "predictions1 = model.predict(test_samples_X)\n",
    "log_tokens1  = logits_to_tokens(predictions1, {i: t for t, i in tag2index.items()})\n",
    "print(log_tokens1)"
   ]
  },
  {
   "cell_type": "markdown",
   "metadata": {
    "colab_type": "text",
    "id": "VL9taLbrI641"
   },
   "source": [
    "### Presentamos los Resultados"
   ]
  },
  {
   "cell_type": "code",
   "execution_count": 43,
   "metadata": {
    "colab": {},
    "colab_type": "code",
    "id": "QeRx8eSThbuq"
   },
   "outputs": [
    {
     "name": "stdout",
     "output_type": "stream",
     "text": [
      "Correr    es       importante    para    mi      .\n",
      "--------  -------  ------------  ------  ------  ---\n",
      "vmn0000   vsip3s0  aq0cs0        sps00   dp1css  Fp\n",
      "\n",
      "\n",
      "El      hombre    bajo    corre    bajo    el      puente    con    bajo    índice    de     adrenalina    .\n",
      "------  --------  ------  -------  ------  ------  --------  -----  ------  --------  -----  ------------  ---\n",
      "da0ms0  ncms000   aq0ms0  vmip3s0  sps00   da0ms0  ncms000   sps00  sps00   ncms000   sps00  np0000l       Fp\n"
     ]
    }
   ],
   "source": [
    "from tabulate import tabulate\n",
    "\n",
    "heads1 = test_samples[0]\n",
    "body1 = [log_tokens[0][:len(test_samples[0])]]\n",
    "\n",
    "heads2 = test_samples[1]\n",
    "body2 = [log_tokens[1][:len(test_samples[1])]]\n",
    "\n",
    "print(tabulate(body1, headers=heads1))\n",
    "\n",
    "print (\"\\n\")\n",
    "\n",
    "print(tabulate(body2, headers=heads2))"
   ]
  }
 ],
 "metadata": {
  "colab": {
   "collapsed_sections": [],
   "name": "Preprocesamiento-Copy1.ipynb",
   "provenance": [],
   "version": "0.3.2"
  },
  "kernelspec": {
   "display_name": "Python 3",
   "language": "python",
   "name": "python3"
  },
  "language_info": {
   "codemirror_mode": {
    "name": "ipython",
    "version": 3
   },
   "file_extension": ".py",
   "mimetype": "text/x-python",
   "name": "python",
   "nbconvert_exporter": "python",
   "pygments_lexer": "ipython3",
   "version": "3.6.6"
  }
 },
 "nbformat": 4,
 "nbformat_minor": 1
}
