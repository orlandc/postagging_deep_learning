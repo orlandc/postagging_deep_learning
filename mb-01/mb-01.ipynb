{
 "cells": [
  {
   "cell_type": "markdown",
   "metadata": {
    "colab_type": "text",
    "id": "3nXS4RUQQugV"
   },
   "source": [
    "# Tutorial Part-of-Speech tagging  Con Deep Learning (mb-01)\n",
    "\n",
    "### En este tutorial, veremos cómo se puede mejorar el modelo base, usando una funcion de metrica"
   ]
  },
  {
   "cell_type": "markdown",
   "metadata": {
    "colab_type": "text",
    "id": "WIheRrq2Quga"
   },
   "source": [
    "## PARTE 1  -  Pre-Procesamiento\n",
    "### Cargamos los Datos de pre-procesamiento de modelo base mb-00"
   ]
  },
  {
   "cell_type": "code",
   "execution_count": 1,
   "metadata": {
    "colab": {},
    "colab_type": "code",
    "id": "lw10qukzQuge"
   },
   "outputs": [],
   "source": [
    "# Asegurar reproducibilidad\n",
    "\n",
    "import numpy as np\n",
    "\n",
    "CUSTOM_SEED = 42\n",
    "np.random.seed(CUSTOM_SEED)"
   ]
  },
  {
   "cell_type": "code",
   "execution_count": 2,
   "metadata": {},
   "outputs": [],
   "source": [
    "def to_categoricals(sequences, categories):\n",
    "    cat_sequences = []\n",
    "    for s in sequences:\n",
    "        cats = []\n",
    "        for item in s:\n",
    "            cats.append(np.zeros(categories))\n",
    "            cats[-1][item] = 1.0\n",
    "        cat_sequences.append(cats)\n",
    "    return np.array(cat_sequences)"
   ]
  },
  {
   "cell_type": "code",
   "execution_count": 3,
   "metadata": {},
   "outputs": [],
   "source": [
    "import pickle\n",
    "\n",
    "MAX_LENGTH = 149\n",
    "\n",
    "test_tags = []\n",
    "with open(\"../vectors/test_tags.txt\", \"rb\") as fp:\n",
    "    test_tags = pickle.load(fp)\n",
    "    \n",
    "word2index = np.load('../vectors/word2index.npy').item()\n",
    "tag2index  = np.load('../vectors/tag2index.npy').item()\n",
    "\n",
    "train_sentences_X = np.load('../vectors/train_sentences_X.npy')\n",
    "eval_sentences_X  = np.load('../vectors/eval_sentences_X.npy')\n",
    "test_sentences_X  = np.load('../vectors/test_sentences_X.npy')\n",
    "\n",
    "train_tags_y = np.load('../vectors/train_tags_y.npy')\n",
    "eval_tags_y  = np.load('../vectors/eval_tags_y.npy')\n",
    "test_tags_y  = np.load('../vectors/test_tags_y.npy')\n",
    "\n",
    "cat_train_tags_y = to_categoricals(train_tags_y, len(tag2index))\n",
    "cat_eval_tags_y  = to_categoricals(eval_tags_y, len(tag2index))\n",
    "cat_test_tags_y  = to_categoricals(test_tags_y, len(tag2index))\n",
    "\n",
    "#print (len(word2index))\n",
    "#print (len(tag2index))\n",
    "\n",
    "#print(train_sentences_X[0])\n",
    "#print(eval_sentences_X[0])\n",
    "#print(test_sentences_X[0])\n",
    "#print(cat_train_tags_y[0])"
   ]
  },
  {
   "cell_type": "markdown",
   "metadata": {
    "colab_type": "text",
    "id": "9-_gAQ7qrWTQ"
   },
   "source": [
    "## PARTE 2  -  Entrenamiento"
   ]
  },
  {
   "cell_type": "code",
   "execution_count": 4,
   "metadata": {
    "colab": {},
    "colab_type": "code",
    "id": "ORyC-422jaD9"
   },
   "outputs": [],
   "source": [
    "## Funcion que permite forzar el uso de GPU cuando estan presentes\n",
    "\n",
    "import tensorflow as tf\n",
    "sess = tf.Session(config=tf.ConfigProto(log_device_placement=True))"
   ]
  },
  {
   "cell_type": "code",
   "execution_count": 6,
   "metadata": {},
   "outputs": [
    {
     "ename": "ModuleNotFoundError",
     "evalue": "No module named 'keras'",
     "output_type": "error",
     "traceback": [
      "\u001b[0;31m---------------------------------------------------------------------------\u001b[0m",
      "\u001b[0;31mModuleNotFoundError\u001b[0m                       Traceback (most recent call last)",
      "\u001b[0;32m<ipython-input-6-71d489d95334>\u001b[0m in \u001b[0;36m<module>\u001b[0;34m\u001b[0m\n\u001b[1;32m      1\u001b[0m \u001b[0;31m#!conda install -c conda-forge keras -y\u001b[0m\u001b[0;34m\u001b[0m\u001b[0;34m\u001b[0m\u001b[0;34m\u001b[0m\u001b[0m\n\u001b[0;32m----> 2\u001b[0;31m \u001b[0;32mfrom\u001b[0m \u001b[0mkeras\u001b[0m \u001b[0;32mimport\u001b[0m \u001b[0mbackend\u001b[0m \u001b[0;32mas\u001b[0m \u001b[0mK\u001b[0m\u001b[0;34m\u001b[0m\u001b[0;34m\u001b[0m\u001b[0m\n\u001b[0m\u001b[1;32m      3\u001b[0m \u001b[0;34m\u001b[0m\u001b[0m\n\u001b[1;32m      4\u001b[0m \u001b[0;32mdef\u001b[0m \u001b[0mignore_class_accuracy\u001b[0m\u001b[0;34m(\u001b[0m\u001b[0mto_ignore\u001b[0m\u001b[0;34m=\u001b[0m\u001b[0;36m0\u001b[0m\u001b[0;34m)\u001b[0m\u001b[0;34m:\u001b[0m\u001b[0;34m\u001b[0m\u001b[0;34m\u001b[0m\u001b[0m\n\u001b[1;32m      5\u001b[0m     \u001b[0;32mdef\u001b[0m \u001b[0mignore_accuracy\u001b[0m\u001b[0;34m(\u001b[0m\u001b[0my_true\u001b[0m\u001b[0;34m,\u001b[0m \u001b[0my_pred\u001b[0m\u001b[0;34m)\u001b[0m\u001b[0;34m:\u001b[0m\u001b[0;34m\u001b[0m\u001b[0;34m\u001b[0m\u001b[0m\n",
      "\u001b[0;31mModuleNotFoundError\u001b[0m: No module named 'keras'"
     ]
    }
   ],
   "source": [
    "#!conda install -c conda-forge keras -y\n",
    "!pip install keras\n",
    "from keras import backend as K\n",
    " \n",
    "def ignore_class_accuracy(to_ignore=0):\n",
    "    def ignore_accuracy(y_true, y_pred):\n",
    "        y_true_class = K.argmax(y_true, axis=-1)\n",
    "        y_pred_class = K.argmax(y_pred, axis=-1)\n",
    " \n",
    "        ignore_mask = K.cast(K.not_equal(y_pred_class, to_ignore), 'int32')\n",
    "        matches = K.cast(K.equal(y_true_class, y_pred_class), 'int32') * ignore_mask\n",
    "        accuracy = K.sum(matches) / K.maximum(K.sum(ignore_mask), 1)\n",
    "        return accuracy\n",
    "    return ignore_accuracy"
   ]
  },
  {
   "cell_type": "markdown",
   "metadata": {
    "colab_type": "text",
    "id": "odDOhtO4NZDd"
   },
   "source": [
    "### Definimos el Modelo Base con el cual se procedera a desarrollar la fase de Entrenamiento"
   ]
  },
  {
   "cell_type": "code",
   "execution_count": 24,
   "metadata": {
    "colab": {
     "base_uri": "https://localhost:8080/",
     "height": 272
    },
    "colab_type": "code",
    "id": "x31rRt8PQuiW",
    "outputId": "eb0c9647-849c-4697-b151-802f88de7e2e"
   },
   "outputs": [
    {
     "name": "stdout",
     "output_type": "stream",
     "text": [
      "_________________________________________________________________\n",
      "Layer (type)                 Output Shape              Param #   \n",
      "=================================================================\n",
      "embedding_3 (Embedding)      (None, 149, 128)          3135872   \n",
      "_________________________________________________________________\n",
      "activation_5 (Activation)    (None, 149, 128)          0         \n",
      "_________________________________________________________________\n",
      "dense_3 (Dense)              (None, 149, 291)          37539     \n",
      "_________________________________________________________________\n",
      "activation_6 (Activation)    (None, 149, 291)          0         \n",
      "=================================================================\n",
      "Total params: 3,173,411\n",
      "Trainable params: 3,173,411\n",
      "Non-trainable params: 0\n",
      "_________________________________________________________________\n"
     ]
    }
   ],
   "source": [
    "from keras.models import Sequential\n",
    "from keras.layers import Dense, InputLayer, Embedding, Activation\n",
    "from keras.optimizers import Adam\n",
    "from keras.utils import plot_model\n",
    "\n",
    "model = Sequential()\n",
    "model.add(InputLayer(input_shape=(MAX_LENGTH, )))\n",
    "model.add(Embedding(len(word2index), 128))\n",
    "model.add(Activation('relu'))\n",
    "model.add(Dense(len(tag2index)))\n",
    "model.add(Activation('softmax'))\n",
    "\n",
    "model.compile(loss='categorical_crossentropy', optimizer=Adam(0.001), metrics=['accuracy', ignore_class_accuracy(0)])\n",
    " \n",
    "model.summary()\n",
    "\n",
    "plot_model(model, to_file='../Plot/model/model-mb01.png', show_shapes=True)"
   ]
  },
  {
   "cell_type": "markdown",
   "metadata": {
    "colab_type": "text",
    "id": "4XghotI4NG9G"
   },
   "source": [
    "### Se dedarrolla el entrenamiento del modelo"
   ]
  },
  {
   "cell_type": "code",
   "execution_count": 25,
   "metadata": {
    "colab": {
     "base_uri": "https://localhost:8080/",
     "height": 1516
    },
    "colab_type": "code",
    "id": "C0gOhZznbg6V",
    "outputId": "cfb9376e-230d-40ea-ffb8-ace34c8234b5"
   },
   "outputs": [
    {
     "name": "stdout",
     "output_type": "stream",
     "text": [
      "Train on 3618 samples, validate on 1206 samples\n",
      "Epoch 1/40\n",
      "3618/3618 [==============================] - 2s 589us/step - loss: 5.5919 - acc: 0.4478 - ignore_accuracy: 0.2735 - val_loss: 5.4642 - val_acc: 0.9057 - val_ignore_accuracy: 0.5624\n",
      "Epoch 2/40\n",
      "3618/3618 [==============================] - 2s 501us/step - loss: 5.3055 - acc: 0.9095 - ignore_accuracy: 0.5759 - val_loss: 5.0881 - val_acc: 0.9097 - val_ignore_accuracy: 0.5808\n",
      "Epoch 3/40\n",
      "3618/3618 [==============================] - 2s 510us/step - loss: 4.8100 - acc: 0.9117 - ignore_accuracy: 0.5862 - val_loss: 4.4445 - val_acc: 0.9093 - val_ignore_accuracy: 0.5791\n",
      "Epoch 4/40\n",
      "3618/3618 [==============================] - 2s 504us/step - loss: 4.0170 - acc: 0.9099 - ignore_accuracy: 0.5778 - val_loss: 3.4863 - val_acc: 0.9064 - val_ignore_accuracy: 0.5658\n",
      "Epoch 5/40\n",
      "3618/3618 [==============================] - 2s 526us/step - loss: 2.9288 - acc: 0.9108 - ignore_accuracy: 0.5825 - val_loss: 2.2933 - val_acc: 0.9114 - val_ignore_accuracy: 0.5892\n",
      "Epoch 6/40\n",
      "3618/3618 [==============================] - 2s 506us/step - loss: 1.7602 - acc: 0.9163 - ignore_accuracy: 0.6091 - val_loss: 1.2682 - val_acc: 0.9167 - val_ignore_accuracy: 0.6159\n",
      "Epoch 7/40\n",
      "3618/3618 [==============================] - 2s 506us/step - loss: 0.9954 - acc: 0.9214 - ignore_accuracy: 0.6347 - val_loss: 0.8010 - val_acc: 0.9207 - val_ignore_accuracy: 0.6358\n",
      "Epoch 8/40\n",
      "3618/3618 [==============================] - 2s 503us/step - loss: 0.6898 - acc: 0.9269 - ignore_accuracy: 0.6620 - val_loss: 0.6225 - val_acc: 0.9264 - val_ignore_accuracy: 0.6626\n",
      "Epoch 9/40\n",
      "3618/3618 [==============================] - 2s 510us/step - loss: 0.5570 - acc: 0.9333 - ignore_accuracy: 0.6926 - val_loss: 0.5300 - val_acc: 0.9324 - val_ignore_accuracy: 0.6906\n",
      "Epoch 10/40\n",
      "3618/3618 [==============================] - 2s 509us/step - loss: 0.4785 - acc: 0.9402 - ignore_accuracy: 0.7255 - val_loss: 0.4692 - val_acc: 0.9380 - val_ignore_accuracy: 0.7170\n",
      "Epoch 11/40\n",
      "3618/3618 [==============================] - 2s 497us/step - loss: 0.4221 - acc: 0.9466 - ignore_accuracy: 0.7552 - val_loss: 0.4239 - val_acc: 0.9420 - val_ignore_accuracy: 0.7356\n",
      "Epoch 12/40\n",
      "3618/3618 [==============================] - 2s 512us/step - loss: 0.3778 - acc: 0.9512 - ignore_accuracy: 0.7774 - val_loss: 0.3878 - val_acc: 0.9460 - val_ignore_accuracy: 0.7540\n",
      "Epoch 13/40\n",
      "3618/3618 [==============================] - 2s 514us/step - loss: 0.3410 - acc: 0.9565 - ignore_accuracy: 0.8023 - val_loss: 0.3580 - val_acc: 0.9497 - val_ignore_accuracy: 0.7711\n",
      "Epoch 14/40\n",
      "3618/3618 [==============================] - 2s 507us/step - loss: 0.3095 - acc: 0.9615 - ignore_accuracy: 0.8259 - val_loss: 0.3326 - val_acc: 0.9530 - val_ignore_accuracy: 0.7865\n",
      "Epoch 15/40\n",
      "3618/3618 [==============================] - 2s 503us/step - loss: 0.2821 - acc: 0.9659 - ignore_accuracy: 0.8471 - val_loss: 0.3109 - val_acc: 0.9559 - val_ignore_accuracy: 0.8006\n",
      "Epoch 16/40\n",
      "3618/3618 [==============================] - 2s 506us/step - loss: 0.2580 - acc: 0.9695 - ignore_accuracy: 0.8636 - val_loss: 0.2921 - val_acc: 0.9582 - val_ignore_accuracy: 0.8107\n",
      "Epoch 17/40\n",
      "3618/3618 [==============================] - 2s 506us/step - loss: 0.2366 - acc: 0.9729 - ignore_accuracy: 0.8797 - val_loss: 0.2755 - val_acc: 0.9598 - val_ignore_accuracy: 0.8187\n",
      "Epoch 18/40\n",
      "3618/3618 [==============================] - 2s 502us/step - loss: 0.2174 - acc: 0.9750 - ignore_accuracy: 0.8901 - val_loss: 0.2610 - val_acc: 0.9609 - val_ignore_accuracy: 0.8239\n",
      "Epoch 19/40\n",
      "3618/3618 [==============================] - 2s 506us/step - loss: 0.2003 - acc: 0.9771 - ignore_accuracy: 0.8998 - val_loss: 0.2484 - val_acc: 0.9622 - val_ignore_accuracy: 0.8297\n",
      "Epoch 20/40\n",
      "3618/3618 [==============================] - 2s 508us/step - loss: 0.1850 - acc: 0.9785 - ignore_accuracy: 0.9062 - val_loss: 0.2372 - val_acc: 0.9630 - val_ignore_accuracy: 0.8335\n",
      "Epoch 21/40\n",
      "3618/3618 [==============================] - 2s 502us/step - loss: 0.1712 - acc: 0.9797 - ignore_accuracy: 0.9120 - val_loss: 0.2273 - val_acc: 0.9640 - val_ignore_accuracy: 0.8381\n",
      "Epoch 22/40\n",
      "3618/3618 [==============================] - 2s 506us/step - loss: 0.1588 - acc: 0.9808 - ignore_accuracy: 0.9165 - val_loss: 0.2186 - val_acc: 0.9646 - val_ignore_accuracy: 0.8404\n",
      "Epoch 23/40\n",
      "3618/3618 [==============================] - 2s 503us/step - loss: 0.1476 - acc: 0.9817 - ignore_accuracy: 0.9206 - val_loss: 0.2108 - val_acc: 0.9651 - val_ignore_accuracy: 0.8423\n",
      "Epoch 24/40\n",
      "3618/3618 [==============================] - 2s 510us/step - loss: 0.1375 - acc: 0.9828 - ignore_accuracy: 0.9256 - val_loss: 0.2040 - val_acc: 0.9659 - val_ignore_accuracy: 0.8459\n",
      "Epoch 25/40\n",
      "3618/3618 [==============================] - 2s 508us/step - loss: 0.1284 - acc: 0.9837 - ignore_accuracy: 0.9295 - val_loss: 0.1979 - val_acc: 0.9663 - val_ignore_accuracy: 0.8479\n",
      "Epoch 26/40\n",
      "3618/3618 [==============================] - 2s 504us/step - loss: 0.1202 - acc: 0.9842 - ignore_accuracy: 0.9319 - val_loss: 0.1925 - val_acc: 0.9665 - val_ignore_accuracy: 0.8484\n",
      "Epoch 27/40\n",
      "3618/3618 [==============================] - 2s 511us/step - loss: 0.1127 - acc: 0.9844 - ignore_accuracy: 0.9329 - val_loss: 0.1877 - val_acc: 0.9666 - val_ignore_accuracy: 0.8487\n",
      "Epoch 28/40\n",
      "3618/3618 [==============================] - 2s 504us/step - loss: 0.1060 - acc: 0.9846 - ignore_accuracy: 0.9336 - val_loss: 0.1833 - val_acc: 0.9668 - val_ignore_accuracy: 0.8498\n",
      "Epoch 29/40\n",
      "3618/3618 [==============================] - 2s 512us/step - loss: 0.0998 - acc: 0.9848 - ignore_accuracy: 0.9347 - val_loss: 0.1794 - val_acc: 0.9669 - val_ignore_accuracy: 0.8500\n",
      "Epoch 30/40\n",
      "3618/3618 [==============================] - 2s 504us/step - loss: 0.0943 - acc: 0.9850 - ignore_accuracy: 0.9353 - val_loss: 0.1759 - val_acc: 0.9672 - val_ignore_accuracy: 0.8510\n",
      "Epoch 31/40\n",
      "3618/3618 [==============================] - 2s 505us/step - loss: 0.0892 - acc: 0.9853 - ignore_accuracy: 0.9365 - val_loss: 0.1728 - val_acc: 0.9673 - val_ignore_accuracy: 0.8513\n",
      "Epoch 32/40\n",
      "3618/3618 [==============================] - 2s 503us/step - loss: 0.0847 - acc: 0.9857 - ignore_accuracy: 0.9385 - val_loss: 0.1700 - val_acc: 0.9678 - val_ignore_accuracy: 0.8536\n",
      "Epoch 33/40\n",
      "3618/3618 [==============================] - 2s 505us/step - loss: 0.0805 - acc: 0.9861 - ignore_accuracy: 0.9403 - val_loss: 0.1674 - val_acc: 0.9680 - val_ignore_accuracy: 0.8547\n",
      "Epoch 34/40\n",
      "3618/3618 [==============================] - 2s 505us/step - loss: 0.0766 - acc: 0.9863 - ignore_accuracy: 0.9412 - val_loss: 0.1651 - val_acc: 0.9681 - val_ignore_accuracy: 0.8552\n",
      "Epoch 35/40\n",
      "3618/3618 [==============================] - 2s 506us/step - loss: 0.0731 - acc: 0.9865 - ignore_accuracy: 0.9420 - val_loss: 0.1630 - val_acc: 0.9681 - val_ignore_accuracy: 0.8551\n",
      "Epoch 36/40\n",
      "3618/3618 [==============================] - 2s 501us/step - loss: 0.0699 - acc: 0.9867 - ignore_accuracy: 0.9426 - val_loss: 0.1611 - val_acc: 0.9682 - val_ignore_accuracy: 0.8557\n",
      "Epoch 37/40\n",
      "3618/3618 [==============================] - 2s 506us/step - loss: 0.0670 - acc: 0.9869 - ignore_accuracy: 0.9434 - val_loss: 0.1594 - val_acc: 0.9684 - val_ignore_accuracy: 0.8560\n",
      "Epoch 38/40\n",
      "3618/3618 [==============================] - 2s 507us/step - loss: 0.0643 - acc: 0.9871 - ignore_accuracy: 0.9441 - val_loss: 0.1578 - val_acc: 0.9685 - val_ignore_accuracy: 0.8564\n",
      "Epoch 39/40\n",
      "3618/3618 [==============================] - 2s 501us/step - loss: 0.0618 - acc: 0.9873 - ignore_accuracy: 0.9449 - val_loss: 0.1563 - val_acc: 0.9686 - val_ignore_accuracy: 0.8568\n",
      "Epoch 40/40\n",
      "3618/3618 [==============================] - 2s 502us/step - loss: 0.0595 - acc: 0.9875 - ignore_accuracy: 0.9457 - val_loss: 0.1550 - val_acc: 0.9688 - val_ignore_accuracy: 0.8577\n",
      "Saved model to disk\n"
     ]
    }
   ],
   "source": [
    "#sudo pip install h5py\n",
    "import os\n",
    "model_hist = model.fit(train_sentences_X, cat_train_tags_y,\n",
    "                       validation_data=(eval_sentences_X, cat_eval_tags_y),\n",
    "                       batch_size=128, \n",
    "                       epochs=40,\n",
    "                       validation_split=0.2)\n",
    "\n",
    "# serialize model to JSON\n",
    "model_json = model.to_json()\n",
    "with open(\"../model/mb-01.json\", \"w\") as json_file:\n",
    "    json_file.write(model_json)\n",
    "\n",
    "# serialize weights to HDF5\n",
    "model.save_weights(\"../model/mb-01.h5\")\n",
    "print(\"Saved model to disk\")"
   ]
  },
  {
   "cell_type": "markdown",
   "metadata": {
    "colab_type": "text",
    "id": "9hTDgQb2rWTa"
   },
   "source": [
    "## PARTE 3  -  Evaluación del Modelo"
   ]
  },
  {
   "cell_type": "markdown",
   "metadata": {
    "colab_type": "text",
    "id": "LdSkk8mzM1KN"
   },
   "source": [
    "### Evaluamos el modelo y calculamos el valor de precision con respecto a los datos de prueba"
   ]
  },
  {
   "cell_type": "code",
   "execution_count": 26,
   "metadata": {
    "colab": {
     "base_uri": "https://localhost:8080/",
     "height": 51
    },
    "colab_type": "code",
    "id": "cD-YI5Fgb3Kt",
    "outputId": "98cb9946-4f38-4176-c5ad-5932d07962b5"
   },
   "outputs": [
    {
     "name": "stdout",
     "output_type": "stream",
     "text": [
      "1206/1206 [==============================] - 0s 232us/step\n",
      "acc: 96.76616860068656\n"
     ]
    }
   ],
   "source": [
    "scores = model.evaluate(test_sentences_X, cat_test_tags_y)\n",
    "print(f\"{model.metrics_names[1]}: {scores[1] * 100}\")   # acc: 97.66269326210022"
   ]
  },
  {
   "cell_type": "markdown",
   "metadata": {
    "colab_type": "text",
    "id": "sAhkgtWHQuij"
   },
   "source": [
    "### Definimos la funcion que nos servira para graficar el comportamiento del modelo en cada epoca del entrenamiento"
   ]
  },
  {
   "cell_type": "code",
   "execution_count": 27,
   "metadata": {
    "colab": {},
    "colab_type": "code",
    "id": "JaBUkInNQuik"
   },
   "outputs": [],
   "source": [
    "import matplotlib.pyplot as plt\n",
    "\n",
    "def plot_model_performance(train_loss, train_acc, train_val_loss, train_val_acc):\n",
    "    \"\"\" Plot model loss and accuracy through epochs. \"\"\"\n",
    "    blue= '#34495E'\n",
    "    green = '#2ECC71'\n",
    "    orange = '#E23B13'\n",
    "    \n",
    "    # plot model loss\n",
    "    fig, (ax1, ax2) = plt.subplots(2, figsize=(10, 8))\n",
    "    ax1.plot(range(1, len(train_loss) + 1), train_loss, blue, linewidth=5, label='training')\n",
    "    ax1.plot(range(1, len(train_val_loss) + 1), train_val_loss, green, linewidth=5, label='validation')\n",
    "    ax1.set_xlabel('# epoch')\n",
    "    ax1.set_ylabel('loss')\n",
    "    ax1.tick_params('y')\n",
    "    ax1.legend(loc='upper right', shadow=False)\n",
    "    ax1.set_title('Model loss through #epochs', color=orange, fontweight='bold')\n",
    "    \n",
    "    # plot model accuracy\n",
    "    ax2.plot(range(1, len(train_acc) + 1), train_acc, blue, linewidth=5, label='training')\n",
    "    ax2.plot(range(1, len(train_val_acc) + 1), train_val_acc, green, linewidth=5, label='validation')\n",
    "    ax2.set_xlabel('# epoch')\n",
    "    ax2.set_ylabel('accuracy')\n",
    "    ax2.tick_params('y')\n",
    "    ax2.legend(loc='lower right', shadow=False)\n",
    "    ax2.set_title('Model accuracy through #epochs', color=orange, fontweight='bold')\n",
    "    \n",
    "    fig.savefig('../Plot/training/training-mb-01.png', bbox_inches='tight')"
   ]
  },
  {
   "cell_type": "markdown",
   "metadata": {
    "colab_type": "text",
    "id": "TxQh1AtuQuis"
   },
   "source": [
    "### Procedemos a Graficar el comportamiento del Entrenamiento, tanto del conjunto de entrenamiento como el de validación con respecto a la cantidad de epocas"
   ]
  },
  {
   "cell_type": "code",
   "execution_count": 28,
   "metadata": {
    "colab": {
     "base_uri": "https://localhost:8080/",
     "height": 512
    },
    "colab_type": "code",
    "id": "Gs5f3U1nQuit",
    "outputId": "4c4ad746-3bbc-4325-9356-8045506b33a4"
   },
   "outputs": [
    {
     "data": {
      "image/png": "[encoded data removed]",
      "text/plain": [
       "<Figure size 720x576 with 2 Axes>"
      ]
     },
     "metadata": {
      "needs_background": "light"
     },
     "output_type": "display_data"
    }
   ],
   "source": [
    "plot_model_performance(\n",
    "    train_loss=model_hist.history.get('loss', []),\n",
    "    train_acc=model_hist.history.get('acc', []),\n",
    "    train_val_loss=model_hist.history.get('val_loss', []),\n",
    "    train_val_acc=model_hist.history.get('val_acc', [])\n",
    ")"
   ]
  },
  {
   "cell_type": "markdown",
   "metadata": {
    "colab_type": "text",
    "id": "pqiuy8q4GYjF"
   },
   "source": [
    "### Función que Permite convertir Indices en Tags"
   ]
  },
  {
   "cell_type": "code",
   "execution_count": 29,
   "metadata": {
    "colab": {},
    "colab_type": "code",
    "id": "YJ6GaLot9yZR"
   },
   "outputs": [],
   "source": [
    "def logits_to_tokens(sequences, index):\n",
    "    token_sequences = []\n",
    "    for categorical_sequence in sequences:\n",
    "        token_sequence = []\n",
    "        for categorical in categorical_sequence:\n",
    "            token_sequence.append(index[np.argmax(categorical)])\n",
    " \n",
    "        token_sequences.append(token_sequence)\n",
    " \n",
    "    return token_sequences"
   ]
  },
  {
   "cell_type": "markdown",
   "metadata": {
    "colab_type": "text",
    "id": "W-1GH3ZYuLc-"
   },
   "source": [
    "### Hacemos la prediccion sobre el conjunto de pruebas "
   ]
  },
  {
   "cell_type": "code",
   "execution_count": 30,
   "metadata": {
    "colab": {
     "base_uri": "https://localhost:8080/",
     "height": 54
    },
    "colab_type": "code",
    "id": "6HgbDqqsR4a7",
    "outputId": "63275f95-19ca-41f0-db78-e79ece5e6317"
   },
   "outputs": [
    {
     "name": "stdout",
     "output_type": "stream",
     "text": [
      "['da0ms0', 'ncms000', 'aq0cs0', 'vaip3s0', 'vmp00sm', 'pr0cn000', 'da0fs0', 'ncfs000', 'sps00', 'ncfs000', 'vaip3s0', 'vmp00sm', 'sps00', 'Fe', 'vmn0000', 'Fe', 'Fc', 'cc', 'sn.e-SUJ', 'vaip3s0', 'ncfs000', 'pr0cn000', 'da0ms0', 'ncms000', 'sps00', 'da0ms0', 'ncms000', 'vmip3s0', 'pr0cn000', 'sps00', 'da0ms0', 'np0000l', 'Fe', 'di0mp0', 'vmip3p0', 'sps00', 'da0fs0', 'di0fs0', 'ncfs000', 'Fe', 'Fp', '-PAD-', '-PAD-', '-PAD-', '-PAD-', '-PAD-', '-PAD-', '-PAD-', '-PAD-', '-PAD-', '-PAD-', '-PAD-', '-PAD-', '-PAD-', '-PAD-', '-PAD-', '-PAD-', '-PAD-', '-PAD-', '-PAD-', '-PAD-', '-PAD-', '-PAD-', '-PAD-', '-PAD-', '-PAD-', '-PAD-', '-PAD-', '-PAD-', '-PAD-', '-PAD-', '-PAD-', '-PAD-', '-PAD-', '-PAD-', '-PAD-', '-PAD-', '-PAD-', '-PAD-', '-PAD-', '-PAD-', '-PAD-', '-PAD-', '-PAD-', '-PAD-', '-PAD-', '-PAD-', '-PAD-', '-PAD-', '-PAD-', '-PAD-', '-PAD-', '-PAD-', '-PAD-', '-PAD-', '-PAD-', '-PAD-', '-PAD-', '-PAD-', '-PAD-', '-PAD-', '-PAD-', '-PAD-', '-PAD-', '-PAD-', '-PAD-', '-PAD-', '-PAD-', '-PAD-', '-PAD-', '-PAD-', '-PAD-', '-PAD-', '-PAD-', '-PAD-', '-PAD-', '-PAD-', '-PAD-', '-PAD-', '-PAD-', '-PAD-', '-PAD-', '-PAD-', '-PAD-', '-PAD-', '-PAD-', '-PAD-', '-PAD-', '-PAD-', '-PAD-', '-PAD-', '-PAD-', '-PAD-', '-PAD-', '-PAD-', '-PAD-', '-PAD-', '-PAD-', '-PAD-', '-PAD-', '-PAD-', '-PAD-', '-PAD-', '-PAD-', '-PAD-', '-PAD-', '-PAD-', '-PAD-', '-PAD-']\n"
     ]
    }
   ],
   "source": [
    "import pandas as pd\n",
    "\n",
    "prediction = model.predict(test_sentences_X)\n",
    "log_tokens = logits_to_tokens(prediction, {i: t for t, i in tag2index.items()})\n",
    "\n",
    "print(log_tokens[0])"
   ]
  },
  {
   "cell_type": "markdown",
   "metadata": {
    "colab_type": "text",
    "id": "uT6IIQXrQuix"
   },
   "source": [
    "### Hallamos los valores de F1 score, recall, precision"
   ]
  },
  {
   "cell_type": "code",
   "execution_count": 31,
   "metadata": {
    "colab": {
     "base_uri": "https://localhost:8080/",
     "height": 4219
    },
    "colab_type": "code",
    "id": "GqTuNxppFNu-",
    "outputId": "ce0f608a-171e-411d-f5d1-88666b57cd19"
   },
   "outputs": [
    {
     "name": "stderr",
     "output_type": "stream",
     "text": [
      "/home/deep-learning/miniconda3/envs/tensorflow/lib/python3.6/site-packages/sklearn/metrics/classification.py:1143: UndefinedMetricWarning: Precision and F-score are ill-defined and being set to 0.0 in labels with no predicted samples.\n",
      "  'precision', 'predicted', average, warn_for)\n",
      "/home/deep-learning/miniconda3/envs/tensorflow/lib/python3.6/site-packages/sklearn/metrics/classification.py:1145: UndefinedMetricWarning: Recall and F-score are ill-defined and being set to 0.0 in labels with no true samples.\n",
      "  'recall', 'true', average, warn_for)\n"
     ]
    },
    {
     "name": "stdout",
     "output_type": "stream",
     "text": [
      "\n",
      "classification_report:\n",
      "               precision    recall  f1-score   support\n",
      "\n",
      "       -PAD-       0.00      0.00      0.00         0\n",
      "         Faa       0.00      0.00      0.00         2\n",
      "         Fat       0.00      0.00      0.00         5\n",
      "          Fc       1.00      1.00      1.00      2291\n",
      "          Fd       1.00      1.00      1.00        87\n",
      "          Fe       1.00      1.00      1.00       631\n",
      "          Fg       1.00      1.00      1.00       226\n",
      "          Fh       0.00      0.00      0.00         3\n",
      "         Fia       1.00      1.00      1.00         6\n",
      "         Fit       1.00      1.00      1.00        19\n",
      "          Fp       1.00      1.00      1.00      1178\n",
      "         Fpa       1.00      1.00      1.00       156\n",
      "         Fpt       1.00      1.00      1.00       160\n",
      "          Fs       0.00      0.00      0.00        13\n",
      "          Fx       1.00      1.00      1.00        41\n",
      "          Fz       0.00      0.00      0.00         2\n",
      "           W       0.98      0.61      0.76       194\n",
      "           Z       0.97      0.53      0.69       320\n",
      "          Zm       0.97      0.91      0.94        35\n",
      "          Zp       1.00      0.36      0.52        45\n",
      "      ao0fp0       0.00      0.00      0.00        17\n",
      "      ao0fs0       0.97      0.92      0.95        66\n",
      "      ao0mp0       1.00      0.91      0.95        23\n",
      "      ao0ms0       0.89      0.95      0.92        59\n",
      "     aq00000       0.00      0.00      0.00         2\n",
      "      aq0cn0       0.00      0.00      0.00         4\n",
      "      aq0cp0       0.91      0.71      0.80       228\n",
      "      aq0cs0       0.91      0.80      0.85       590\n",
      "      aq0fp0       0.84      0.62      0.71       128\n",
      "      aq0fpp       0.94      0.29      0.44        52\n",
      "      aq0fs0       0.92      0.66      0.77       355\n",
      "      aq0fsp       0.86      0.39      0.53       140\n",
      "      aq0mp0       0.79      0.57      0.66       202\n",
      "      aq0mpp       0.70      0.36      0.48        96\n",
      "      aq0ms0       0.84      0.71      0.77       491\n",
      "      aq0msp       0.66      0.44      0.53       222\n",
      "          cc       0.98      0.99      0.99      1222\n",
      "          cs       0.96      0.41      0.57       927\n",
      "      da0fp0       0.97      1.00      0.99       374\n",
      "      da0fs0       0.99      1.00      0.99      1324\n",
      "      da0mp0       0.99      1.00      1.00       637\n",
      "      da0ms0       1.00      1.00      1.00      1275\n",
      "      da0ns0       0.76      1.00      0.86       110\n",
      "      dd0cp0       0.00      0.00      0.00         2\n",
      "      dd0cs0       0.00      0.00      0.00         4\n",
      "      dd0fp0       0.95      1.00      0.97        18\n",
      "      dd0fs0       0.97      1.00      0.99        67\n",
      "      dd0mp0       0.91      1.00      0.95        30\n",
      "      dd0ms0       0.91      1.00      0.95       101\n",
      "      di0cp0       0.00      0.00      0.00         5\n",
      "      di0cs0       1.00      0.88      0.94        26\n",
      "      di0fp0       0.92      0.96      0.94        71\n",
      "      di0fs0       0.95      1.00      0.98       335\n",
      "      di0mp0       0.76      1.00      0.86       112\n",
      "      di0ms0       0.93      0.96      0.95       482\n",
      "      dn0cp0       0.84      0.97      0.90       149\n",
      "      dn0cs0       0.00      0.00      0.00         1\n",
      "      dn0fp0       0.00      0.00      0.00         4\n",
      "      dn0fs0       0.00      0.00      0.00         2\n",
      "      dn0mp0       0.00      0.00      0.00         5\n",
      "      dn0ms0       0.00      0.00      0.00         9\n",
      "      dp1cps       0.00      0.00      0.00         1\n",
      "      dp1css       1.00      1.00      1.00         8\n",
      "      dp1fpp       0.00      0.00      0.00         1\n",
      "      dp1fsp       0.00      0.00      0.00         6\n",
      "      dp1mpp       0.00      0.00      0.00         7\n",
      "      dp1msp       1.00      1.00      1.00         8\n",
      "      dp2css       0.00      0.00      0.00         3\n",
      "      dp3cp0       1.00      1.00      1.00       107\n",
      "      dp3cs0       1.00      1.00      1.00       275\n",
      "      dp3fs0       0.00      0.00      0.00         1\n",
      "      dt0cn0       0.00      0.00      0.00         3\n",
      "           i       0.00      0.00      0.00         4\n",
      "     nc00000       1.00      0.04      0.07        26\n",
      "     nccn000       0.00      0.00      0.00         5\n",
      "     nccp000       0.90      0.82      0.86       103\n",
      "     nccs000       0.75      0.73      0.74       146\n",
      "     ncfn000       1.00      0.47      0.64        15\n",
      "     ncfp000       0.80      0.79      0.79       788\n",
      "     ncfs000       0.78      0.86      0.82      2132\n",
      "     ncmn000       0.00      0.00      0.00        24\n",
      "     ncmp000       0.84      0.78      0.81      1166\n",
      "     ncms000       0.67      0.85      0.75      2365\n",
      "     np00000       1.00      0.06      0.11        51\n",
      "     np0000a       0.81      0.32      0.46       202\n",
      "     np0000l       0.73      0.67      0.70       412\n",
      "     np0000o       0.73      0.58      0.65       656\n",
      "     np0000p       0.26      0.66      0.37       720\n",
      "    p0000000       0.00      0.00      0.00       193\n",
      "    p010p000       0.00      0.00      0.00         2\n",
      "    p010s000       0.00      0.00      0.00         3\n",
      "    p020s000       0.00      0.00      0.00         1\n",
      "    p0300000       0.52      1.00      0.68       217\n",
      "    pd0fp000       0.00      0.00      0.00         3\n",
      "    pd0fs000       0.00      0.00      0.00         5\n",
      "    pd0mp000       0.00      0.00      0.00         6\n",
      "    pd0ms000       0.00      0.00      0.00         8\n",
      "    pd0ns000       1.00      1.00      1.00        22\n",
      "    pi0cp000       0.00      0.00      0.00         2\n",
      "    pi0cs000       0.97      0.97      0.97        40\n",
      "    pi0fp000       0.00      0.00      0.00         7\n",
      "    pi0fs000       0.00      0.00      0.00        11\n",
      "    pi0mp000       0.00      0.00      0.00        35\n",
      "    pi0ms000       0.96      0.41      0.57        54\n",
      "    pn0cp000       0.75      0.11      0.19        27\n",
      "    pn0mp000       0.00      0.00      0.00         3\n",
      "    pn0ms000       0.00      0.00      0.00         2\n",
      "    pp1cp000       0.93      1.00      0.96        27\n",
      "    pp1cs000       0.90      1.00      0.95        27\n",
      "    pp1csn00       1.00      1.00      1.00        16\n",
      "    pp1cso00       0.00      0.00      0.00         5\n",
      "    pp1mp000       1.00      1.00      1.00         9\n",
      "    pp2cs000       0.00      0.00      0.00         4\n",
      "    pp2cs00p       0.00      0.00      0.00         4\n",
      "    pp2csn00       0.00      0.00      0.00         2\n",
      "    pp2cso00       0.00      0.00      0.00         1\n",
      "    pp3cn000       0.00      0.00      0.00        10\n",
      "    pp3cna00       0.00      0.00      0.00         2\n",
      "    pp3cno00       0.00      0.00      0.00         5\n",
      "    pp3cpa00       0.00      0.00      0.00         2\n",
      "    pp3cpd00       0.85      1.00      0.92        11\n",
      "    pp3csa00       0.00      0.00      0.00         1\n",
      "    pp3csd00       0.98      1.00      0.99        63\n",
      "    pp3fp000       1.00      1.00      1.00         6\n",
      "    pp3fpa00       0.00      0.00      0.00        10\n",
      "    pp3fs000       1.00      1.00      1.00        13\n",
      "    pp3fsa00       0.00      0.00      0.00        17\n",
      "    pp3mp000       1.00      1.00      1.00        26\n",
      "    pp3mpa00       0.00      0.00      0.00         4\n",
      "    pp3ms000       1.00      1.00      1.00        23\n",
      "    pp3msa00       0.00      0.00      0.00        33\n",
      "    pp3ns000       1.00      1.00      1.00        15\n",
      "    pr000000       0.95      0.77      0.85        26\n",
      "    pr0cn000       0.54      1.00      0.70       616\n",
      "    pr0cp000       1.00      1.00      1.00        10\n",
      "    pr0cs000       0.94      1.00      0.97        32\n",
      "    pr0fp000       0.00      0.00      0.00         1\n",
      "    pr0fs000       0.00      0.00      0.00         5\n",
      "    pr0ms000       0.00      0.00      0.00         3\n",
      "    pt000000       1.00      0.50      0.67        12\n",
      "    pt0cp000       0.00      0.00      0.00         1\n",
      "    pt0cs000       0.85      0.94      0.89        18\n",
      "    pt0mp000       0.00      0.00      0.00         2\n",
      "    px1fs0p0       0.00      0.00      0.00         1\n",
      "    px3ns000       0.00      0.00      0.00         1\n",
      "          rg       0.91      0.88      0.90      1208\n",
      "          rn       0.97      0.99      0.98       265\n",
      "      sn-SUJ       0.00      0.00      0.00         1\n",
      "        sn.e       0.00      0.00      0.00         4\n",
      "    sn.e-SUJ       0.99      1.00      0.99       818\n",
      " sn.e.1n-SUJ       0.00      0.00      0.00         6\n",
      "       spcms       1.00      0.99      0.99       692\n",
      "       sps00       0.99      1.00      0.99      5056\n",
      "     vaic3p0       0.00      0.00      0.00         1\n",
      "     vaic3s0       0.00      0.00      0.00         4\n",
      "     vaif1p0       0.00      0.00      0.00         1\n",
      "     vaif3s0       0.00      0.00      0.00         3\n",
      "     vaii1s0       0.00      0.00      0.00         1\n",
      "     vaii3p0       1.00      1.00      1.00        13\n",
      "     vaii3s0       0.98      1.00      0.99        41\n",
      "     vaip1p0       0.00      0.00      0.00         8\n",
      "     vaip1s0       0.00      0.00      0.00         9\n",
      "     vaip3p0       1.00      1.00      1.00        48\n",
      "     vaip3s0       1.00      0.99      1.00       185\n",
      "     vais3s0       0.00      0.00      0.00         5\n",
      "     van0000       0.95      0.90      0.93        21\n",
      "     vap00sm       0.00      0.00      0.00         1\n",
      "     vasi1p0       0.00      0.00      0.00         1\n",
      "     vasi3p0       0.00      0.00      0.00         2\n",
      "     vasi3s0       0.00      0.00      0.00        11\n",
      "     vasp1s0       0.00      0.00      0.00         1\n",
      "     vasp3p0       0.00      0.00      0.00         1\n",
      "     vasp3s0       0.00      0.00      0.00         8\n",
      "     vmg0000       0.71      0.39      0.50        92\n",
      "     vmic1p0       0.00      0.00      0.00         2\n",
      "     vmic3p0       0.00      0.00      0.00        11\n",
      "     vmic3s0       1.00      0.57      0.72        30\n",
      "     vmif1p0       0.00      0.00      0.00         7\n",
      "     vmif1s0       0.00      0.00      0.00         3\n",
      "     vmif2s0       0.00      0.00      0.00         1\n",
      "     vmif3p0       1.00      0.15      0.26        40\n",
      "     vmif3s0       1.00      0.60      0.75       114\n",
      "     vmii1p0       0.00      0.00      0.00         9\n",
      "     vmii1s0       0.00      0.00      0.00         7\n",
      "     vmii3p0       1.00      0.40      0.57        67\n",
      "     vmii3s0       0.96      0.64      0.76       143\n",
      "     vmip1p0       1.00      0.68      0.81        60\n",
      "     vmip1s0       1.00      0.70      0.82        60\n",
      "     vmip2s0       0.00      0.00      0.00         6\n",
      "     vmip3p0       0.99      0.67      0.80       279\n",
      "     vmip3s0       0.97      0.86      0.91       599\n",
      "     vmis1p0       0.00      0.00      0.00         5\n",
      "     vmis1s0       0.00      0.00      0.00        12\n",
      "     vmis3p0       1.00      0.57      0.73       148\n",
      "     vmis3s0       1.00      0.86      0.92       606\n",
      "     vmm02s0       0.00      0.00      0.00         3\n",
      "     vmm03p0       0.00      0.00      0.00         1\n",
      "     vmm03s0       0.00      0.00      0.00         7\n",
      "     vmn0000       0.51      0.76      0.61       849\n",
      "     vmp00pf       0.00      0.00      0.00         5\n",
      "     vmp00pm       0.00      0.00      0.00        16\n",
      "     vmp00sf       0.00      0.00      0.00        19\n",
      "     vmp00sm       0.71      0.59      0.65       311\n",
      "     vmsi1p0       0.00      0.00      0.00         2\n",
      "     vmsi1s0       0.00      0.00      0.00         2\n",
      "     vmsi3p0       0.00      0.00      0.00        12\n",
      "     vmsi3s0       0.00      0.00      0.00        26\n",
      "     vmsp1p0       0.00      0.00      0.00         9\n",
      "     vmsp1s0       0.00      0.00      0.00         7\n",
      "     vmsp3p0       1.00      0.13      0.24        45\n",
      "     vmsp3s0       0.92      0.53      0.67        66\n",
      "     vsg0000       0.00      0.00      0.00         7\n",
      "     vsic1s0       0.00      0.00      0.00         1\n",
      "     vsic3p0       0.00      0.00      0.00         2\n",
      "     vsic3s0       0.89      1.00      0.94         8\n",
      "     vsif3s0       1.00      1.00      1.00        13\n",
      "     vsii3p0       0.00      0.00      0.00        13\n",
      "     vsii3s0       0.90      1.00      0.95        26\n",
      "     vsip1p0       0.00      0.00      0.00         1\n",
      "     vsip1s0       0.00      0.00      0.00         3\n",
      "     vsip2s0       0.00      0.00      0.00         2\n",
      "     vsip3p0       1.00      1.00      1.00        48\n",
      "     vsip3s0       1.00      1.00      1.00       190\n",
      "     vsis3p0       0.95      1.00      0.97        18\n",
      "     vsis3s0       1.00      1.00      1.00        39\n",
      "     vsn0000       0.88      1.00      0.93        35\n",
      "     vsp00sm       1.00      1.00      1.00        32\n",
      "     vssi3p0       0.00      0.00      0.00         1\n",
      "     vssi3s0       0.00      0.00      0.00         3\n",
      "     vssp3p0       0.00      0.00      0.00         5\n",
      "     vssp3s0       1.00      1.00      1.00        12\n",
      "\n",
      "   micro avg       0.85      0.85      0.85     38876\n",
      "   macro avg       0.47      0.42      0.43     38876\n",
      "weighted avg       0.87      0.85      0.85     38876\n",
      "\n"
     ]
    }
   ],
   "source": [
    "from sklearn.metrics import classification_report, confusion_matrix\n",
    "\n",
    "results = pd.DataFrame(columns=['Expected', 'Predicted'])\n",
    "k = 0\n",
    "for i, lista_etiquetas_oracion in enumerate(test_tags):\n",
    "    for j, etiquetas in enumerate(lista_etiquetas_oracion):\n",
    "        k = k + 1\n",
    "        results.loc[k, 'Expected'] = etiquetas\n",
    "        results.loc[k, 'Predicted'] = log_tokens[i][j]\n",
    "\n",
    "# print(results)\n",
    "\n",
    "\n",
    "print('\\nclassification_report:\\n', classification_report(results['Expected'], results['Predicted']))"
   ]
  },
  {
   "cell_type": "markdown",
   "metadata": {
    "colab_type": "text",
    "id": "nrAAFx0XrWT1"
   },
   "source": [
    "## PARTE 4  -  Testing"
   ]
  },
  {
   "cell_type": "markdown",
   "metadata": {
    "colab_type": "text",
    "id": "uvOz-IShFzRR"
   },
   "source": [
    "### Creamos un pequeño Ejemplo"
   ]
  },
  {
   "cell_type": "code",
   "execution_count": 32,
   "metadata": {
    "colab": {
     "base_uri": "https://localhost:8080/",
     "height": 54
    },
    "colab_type": "code",
    "id": "_WT1PtS_Qui0",
    "outputId": "2b4924f5-440f-4d52-8378-9c0adc54155a"
   },
   "outputs": [
    {
     "name": "stdout",
     "output_type": "stream",
     "text": [
      "[['Correr', 'es', 'importante', 'para', 'mi', '.'], ['El', 'hombre', 'bajo', 'corre', 'bajo', 'el', 'puente', 'con', 'bajo', 'índice', 'de', 'adrenalina', '.']]\n"
     ]
    }
   ],
   "source": [
    "test_samples = [\n",
    "    \"Correr es importante para mi .\".split(),\n",
    "    \"El hombre bajo corre bajo el puente con bajo índice de adrenalina .\".split()\n",
    "]\n",
    "print(test_samples)"
   ]
  },
  {
   "cell_type": "markdown",
   "metadata": {
    "colab_type": "text",
    "id": "X5E7-zZdGCjY"
   },
   "source": [
    "### Convertimos el texto en Una entrada para el Modelo"
   ]
  },
  {
   "cell_type": "code",
   "execution_count": 34,
   "metadata": {
    "colab": {
     "base_uri": "https://localhost:8080/",
     "height": 459
    },
    "colab_type": "code",
    "id": "BApB6ScZ9jU8",
    "outputId": "cc225d1f-7182-4ab1-d327-b5cb265f4c63"
   },
   "outputs": [
    {
     "name": "stdout",
     "output_type": "stream",
     "text": [
      "[[21101 19732 15398  3001  8200 10350     0     0     0     0     0     0\n",
      "      0     0     0     0     0     0     0     0     0     0     0     0\n",
      "      0     0     0     0     0     0     0     0     0     0     0     0\n",
      "      0     0     0     0     0     0     0     0     0     0     0     0\n",
      "      0     0     0     0     0     0     0     0     0     0     0     0\n",
      "      0     0     0     0     0     0     0     0     0     0     0     0\n",
      "      0     0     0     0     0     0     0     0     0     0     0     0\n",
      "      0     0     0     0     0     0     0     0     0     0     0     0\n",
      "      0     0     0     0     0     0     0     0     0     0     0     0\n",
      "      0     0     0     0     0     0     0     0     0     0     0     0\n",
      "      0     0     0     0     0     0     0     0     0     0     0     0\n",
      "      0     0     0     0     0     0     0     0     0     0     0     0\n",
      "      0     0     0     0     0]\n",
      " [11516  4297 24354 12735 24354 11516  1977  2248 24354 20545 19988     1\n",
      "  10350     0     0     0     0     0     0     0     0     0     0     0\n",
      "      0     0     0     0     0     0     0     0     0     0     0     0\n",
      "      0     0     0     0     0     0     0     0     0     0     0     0\n",
      "      0     0     0     0     0     0     0     0     0     0     0     0\n",
      "      0     0     0     0     0     0     0     0     0     0     0     0\n",
      "      0     0     0     0     0     0     0     0     0     0     0     0\n",
      "      0     0     0     0     0     0     0     0     0     0     0     0\n",
      "      0     0     0     0     0     0     0     0     0     0     0     0\n",
      "      0     0     0     0     0     0     0     0     0     0     0     0\n",
      "      0     0     0     0     0     0     0     0     0     0     0     0\n",
      "      0     0     0     0     0     0     0     0     0     0     0     0\n",
      "      0     0     0     0     0]]\n"
     ]
    }
   ],
   "source": [
    "from keras.preprocessing.sequence import pad_sequences\n",
    "\n",
    "test_samples_X = []\n",
    "for s in test_samples:\n",
    "    s_int = []\n",
    "    for w in s:\n",
    "        try:\n",
    "            s_int.append(word2index[w.lower()])\n",
    "        except KeyError:\n",
    "            s_int.append(word2index['-OOV-'])\n",
    "    test_samples_X.append(s_int)\n",
    "\n",
    "test_samples_X = pad_sequences(test_samples_X, maxlen=MAX_LENGTH, padding='post')\n",
    "print(test_samples_X)"
   ]
  },
  {
   "cell_type": "markdown",
   "metadata": {
    "colab_type": "text",
    "id": "trNZCjTWGLp-"
   },
   "source": [
    "### Se Ejecuta la predicion con la Entrada del modelo entrenado"
   ]
  },
  {
   "cell_type": "code",
   "execution_count": 35,
   "metadata": {
    "colab": {
     "base_uri": "https://localhost:8080/",
     "height": 476
    },
    "colab_type": "code",
    "id": "OX6Bd2Rz9oha",
    "outputId": "60f05bcd-7fe3-4fe2-f169-f95d48b386f7"
   },
   "outputs": [
    {
     "name": "stdout",
     "output_type": "stream",
     "text": [
      "[[[6.9912414e-05 1.9035535e-05 1.7608612e-04 ... 9.3049704e-05\n",
      "   4.4171789e-05 8.4772467e-04]\n",
      "  [3.1409949e-05 3.3023778e-07 1.8924775e-05 ... 9.2923729e-06\n",
      "   6.5194990e-07 4.1093995e-06]\n",
      "  [3.8044902e-06 1.3886270e-07 4.2133238e-06 ... 3.4761397e-06\n",
      "   1.0615811e-06 4.7008311e-06]\n",
      "  ...\n",
      "  [9.9707603e-01 6.2639297e-06 1.2724652e-05 ... 1.4723864e-05\n",
      "   1.0373007e-05 1.8721856e-05]\n",
      "  [9.9707603e-01 6.2639297e-06 1.2724652e-05 ... 1.4723864e-05\n",
      "   1.0373007e-05 1.8721856e-05]\n",
      "  [9.9707603e-01 6.2639297e-06 1.2724652e-05 ... 1.4723864e-05\n",
      "   1.0373007e-05 1.8721856e-05]]\n",
      "\n",
      " [[6.5965000e-06 3.0543850e-07 3.5262690e-06 ... 1.9677891e-05\n",
      "   1.4603849e-06 5.4208726e-06]\n",
      "  [3.9042014e-05 1.6624225e-06 1.0626204e-05 ... 1.7323964e-05\n",
      "   4.1576318e-06 1.5153269e-04]\n",
      "  [1.5270970e-04 4.5445770e-05 3.6536402e-04 ... 5.6106055e-05\n",
      "   1.0471978e-04 1.5815722e-03]\n",
      "  ...\n",
      "  [9.9707603e-01 6.2639297e-06 1.2724652e-05 ... 1.4723864e-05\n",
      "   1.0373007e-05 1.8721856e-05]\n",
      "  [9.9707603e-01 6.2639297e-06 1.2724652e-05 ... 1.4723864e-05\n",
      "   1.0373007e-05 1.8721856e-05]\n",
      "  [9.9707603e-01 6.2639297e-06 1.2724652e-05 ... 1.4723864e-05\n",
      "   1.0373007e-05 1.8721856e-05]]] (2, 149, 291)\n"
     ]
    }
   ],
   "source": [
    "predictions = model.predict(test_samples_X)\n",
    "print(predictions, predictions.shape)"
   ]
  },
  {
   "cell_type": "markdown",
   "metadata": {
    "colab_type": "text",
    "id": "l-XS5z-NGiM-"
   },
   "source": [
    "### Conversion de la Salida del Modelo a un lista de Indices de Tags"
   ]
  },
  {
   "cell_type": "code",
   "execution_count": 36,
   "metadata": {
    "colab": {
     "base_uri": "https://localhost:8080/",
     "height": 54
    },
    "colab_type": "code",
    "id": "IgIutMjq92cp",
    "outputId": "be1b6bc1-1783-47fd-e971-4a496ba89247"
   },
   "outputs": [
    {
     "name": "stdout",
     "output_type": "stream",
     "text": [
      "[['vmn0000', 'vsip3s0', 'aq0cs0', 'sps00', 'dp1css', 'Fp', '-PAD-', '-PAD-', '-PAD-', '-PAD-', '-PAD-', '-PAD-', '-PAD-', '-PAD-', '-PAD-', '-PAD-', '-PAD-', '-PAD-', '-PAD-', '-PAD-', '-PAD-', '-PAD-', '-PAD-', '-PAD-', '-PAD-', '-PAD-', '-PAD-', '-PAD-', '-PAD-', '-PAD-', '-PAD-', '-PAD-', '-PAD-', '-PAD-', '-PAD-', '-PAD-', '-PAD-', '-PAD-', '-PAD-', '-PAD-', '-PAD-', '-PAD-', '-PAD-', '-PAD-', '-PAD-', '-PAD-', '-PAD-', '-PAD-', '-PAD-', '-PAD-', '-PAD-', '-PAD-', '-PAD-', '-PAD-', '-PAD-', '-PAD-', '-PAD-', '-PAD-', '-PAD-', '-PAD-', '-PAD-', '-PAD-', '-PAD-', '-PAD-', '-PAD-', '-PAD-', '-PAD-', '-PAD-', '-PAD-', '-PAD-', '-PAD-', '-PAD-', '-PAD-', '-PAD-', '-PAD-', '-PAD-', '-PAD-', '-PAD-', '-PAD-', '-PAD-', '-PAD-', '-PAD-', '-PAD-', '-PAD-', '-PAD-', '-PAD-', '-PAD-', '-PAD-', '-PAD-', '-PAD-', '-PAD-', '-PAD-', '-PAD-', '-PAD-', '-PAD-', '-PAD-', '-PAD-', '-PAD-', '-PAD-', '-PAD-', '-PAD-', '-PAD-', '-PAD-', '-PAD-', '-PAD-', '-PAD-', '-PAD-', '-PAD-', '-PAD-', '-PAD-', '-PAD-', '-PAD-', '-PAD-', '-PAD-', '-PAD-', '-PAD-', '-PAD-', '-PAD-', '-PAD-', '-PAD-', '-PAD-', '-PAD-', '-PAD-', '-PAD-', '-PAD-', '-PAD-', '-PAD-', '-PAD-', '-PAD-', '-PAD-', '-PAD-', '-PAD-', '-PAD-', '-PAD-', '-PAD-', '-PAD-', '-PAD-', '-PAD-', '-PAD-', '-PAD-', '-PAD-', '-PAD-', '-PAD-', '-PAD-', '-PAD-', '-PAD-', '-PAD-', '-PAD-', '-PAD-'], ['da0ms0', 'ncms000', 'sps00', 'vmip3s0', 'sps00', 'da0ms0', 'ncms000', 'sps00', 'sps00', 'ncms000', 'sps00', 'ncms000', 'Fp', '-PAD-', '-PAD-', '-PAD-', '-PAD-', '-PAD-', '-PAD-', '-PAD-', '-PAD-', '-PAD-', '-PAD-', '-PAD-', '-PAD-', '-PAD-', '-PAD-', '-PAD-', '-PAD-', '-PAD-', '-PAD-', '-PAD-', '-PAD-', '-PAD-', '-PAD-', '-PAD-', '-PAD-', '-PAD-', '-PAD-', '-PAD-', '-PAD-', '-PAD-', '-PAD-', '-PAD-', '-PAD-', '-PAD-', '-PAD-', '-PAD-', '-PAD-', '-PAD-', '-PAD-', '-PAD-', '-PAD-', '-PAD-', '-PAD-', '-PAD-', '-PAD-', '-PAD-', '-PAD-', '-PAD-', '-PAD-', '-PAD-', '-PAD-', '-PAD-', '-PAD-', '-PAD-', '-PAD-', '-PAD-', '-PAD-', '-PAD-', '-PAD-', '-PAD-', '-PAD-', '-PAD-', '-PAD-', '-PAD-', '-PAD-', '-PAD-', '-PAD-', '-PAD-', '-PAD-', '-PAD-', '-PAD-', '-PAD-', '-PAD-', '-PAD-', '-PAD-', '-PAD-', '-PAD-', '-PAD-', '-PAD-', '-PAD-', '-PAD-', '-PAD-', '-PAD-', '-PAD-', '-PAD-', '-PAD-', '-PAD-', '-PAD-', '-PAD-', '-PAD-', '-PAD-', '-PAD-', '-PAD-', '-PAD-', '-PAD-', '-PAD-', '-PAD-', '-PAD-', '-PAD-', '-PAD-', '-PAD-', '-PAD-', '-PAD-', '-PAD-', '-PAD-', '-PAD-', '-PAD-', '-PAD-', '-PAD-', '-PAD-', '-PAD-', '-PAD-', '-PAD-', '-PAD-', '-PAD-', '-PAD-', '-PAD-', '-PAD-', '-PAD-', '-PAD-', '-PAD-', '-PAD-', '-PAD-', '-PAD-', '-PAD-', '-PAD-', '-PAD-', '-PAD-', '-PAD-', '-PAD-', '-PAD-', '-PAD-', '-PAD-', '-PAD-', '-PAD-', '-PAD-', '-PAD-']]\n"
     ]
    }
   ],
   "source": [
    "#print(len(predictions))\n",
    "log_tokens = logits_to_tokens(predictions, {i: t for t, i in tag2index.items()})\n",
    "print(log_tokens)"
   ]
  },
  {
   "cell_type": "markdown",
   "metadata": {
    "colab_type": "text",
    "id": "VmWp09kyGrQC"
   },
   "source": [
    "### Presentación de los Resultados"
   ]
  },
  {
   "cell_type": "code",
   "execution_count": 37,
   "metadata": {
    "colab": {
     "base_uri": "https://localhost:8080/",
     "height": 153
    },
    "colab_type": "code",
    "id": "wNMCM8_jSdCL",
    "outputId": "127dade3-c5da-4163-fbe6-d68839d1fe02"
   },
   "outputs": [
    {
     "name": "stdout",
     "output_type": "stream",
     "text": [
      "Correr    es       importante    para    mi      .\n",
      "--------  -------  ------------  ------  ------  ---\n",
      "vmn0000   vsip3s0  aq0cs0        sps00   dp1css  Fp\n",
      "\n",
      "\n",
      "El      hombre    bajo    corre    bajo    el      puente    con    bajo    índice    de     adrenalina    .\n",
      "------  --------  ------  -------  ------  ------  --------  -----  ------  --------  -----  ------------  ---\n",
      "da0ms0  ncms000   sps00   vmip3s0  sps00   da0ms0  ncms000   sps00  sps00   ncms000   sps00  ncms000       Fp\n"
     ]
    }
   ],
   "source": [
    "#!pip install tabulate\n",
    "from tabulate import tabulate\n",
    "\n",
    "heads1 = test_samples[0]\n",
    "body1 = [log_tokens[0][:len(test_samples[0])]]\n",
    "\n",
    "heads2 = test_samples[1]\n",
    "body2 = [log_tokens[1][:len(test_samples[1])]]\n",
    "\n",
    "print(tabulate(body1, headers=heads1))\n",
    "\n",
    "print (\"\\n\")\n",
    "\n",
    "print(tabulate(body2, headers=heads2))\n",
    "\n",
    "\n",
    "## postagging Freeling 4.1\n",
    "\n",
    "## El      hombre   bajo     corre    bajo  el      puente   con  bajo  índice   de  adrenalina  .\n",
    "## DA0MS0  NCMS000  AQ0MS00  VMIP3S0  SP    DA0MS0  NCMS000  SP   SP    NCMS000  SP  NCFS000     Fp\n",
    "\n",
    "\n",
    "## pos tagger Stanford NLP\n",
    "\n",
    "## El      hombre   bajo     corre    bajo  el      puente   con    bajo   índice  de    adrenalina  .\n",
    "## da0000  nc0s000  aq0000   vmip000  sp000 da0000  nc0s000  sp000  aq0000 nc0s000 sp000 nc0s000     fp"
   ]
  },
  {
   "cell_type": "code",
   "execution_count": null,
   "metadata": {},
   "outputs": [],
   "source": []
  }
 ],
 "metadata": {
  "accelerator": "GPU",
  "colab": {
   "collapsed_sections": [],
   "name": "mb-00.ipynb",
   "provenance": [],
   "version": "0.3.2"
  },
  "kernelspec": {
   "display_name": "Python 3",
   "language": "python",
   "name": "python3"
  },
  "language_info": {
   "codemirror_mode": {
    "name": "ipython",
    "version": 3
   },
   "file_extension": ".py",
   "mimetype": "text/x-python",
   "name": "python",
   "nbconvert_exporter": "python",
   "pygments_lexer": "ipython3",
   "version": "3.6.8"
  }
 },
 "nbformat": 4,
 "nbformat_minor": 1
}
