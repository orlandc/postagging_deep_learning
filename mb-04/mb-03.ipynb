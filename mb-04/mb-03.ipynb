{
  "nbformat": 4,
  "nbformat_minor": 0,
  "metadata": {
    "colab": {
      "name": "mb-00.ipynb",
      "version": "0.3.2",
      "provenance": [],
      "collapsed_sections": []
    },
    "kernelspec": {
      "name": "python3",
      "display_name": "Python 3"
    },
    "accelerator": "GPU"
  },
  "cells": [
    {
      "metadata": {
        "colab_type": "text",
        "id": "3nXS4RUQQugV"
      },
      "cell_type": "markdown",
      "source": [
        "# Tutorial Part-of-Speech tagging  Con Deep Learning\n",
        "\n",
        "### En este tutorial, veremos cómo puede usar un modelo simple en Keras, para entrenar y evaluar una red neuronal artificial para problemas de clasificación de múltiples clases."
      ]
    },
    {
      "metadata": {
        "colab_type": "text",
        "id": "WIheRrq2Quga"
      },
      "cell_type": "markdown",
      "source": [
        "## PARTE 1  -  Pre-Procesamiento"
      ]
    },
    {
      "metadata": {
        "colab_type": "code",
        "id": "lw10qukzQuge",
        "colab": {}
      },
      "cell_type": "code",
      "source": [
        "# Asegurar reproducibilidad\n",
        "\n",
        "import numpy as np\n",
        "\n",
        "CUSTOM_SEED = 42\n",
        "np.random.seed(CUSTOM_SEED)"
      ],
      "execution_count": 0,
      "outputs": []
    },
    {
      "metadata": {
        "colab_type": "text",
        "id": "CxOcxDUmJcvL"
      },
      "cell_type": "markdown",
      "source": [
        "### Descargamos el Corpus Ancora - Cess_esp del nltk"
      ]
    },
    {
      "metadata": {
        "colab_type": "code",
        "id": "NILevBJxQugr",
        "outputId": "05db9f45-57c6-4420-f290-fd9be6a8978b",
        "colab": {
          "base_uri": "https://localhost:8080/",
          "height": 68
        }
      },
      "cell_type": "code",
      "source": [
        "import nltk\n",
        "nltk.download('cess_esp')"
      ],
      "execution_count": 2,
      "outputs": [
        {
          "output_type": "stream",
          "text": [
            "[nltk_data] Downloading package cess_esp to /root/nltk_data...\n",
            "[nltk_data]   Unzipping corpora/cess_esp.zip.\n"
          ],
          "name": "stdout"
        },
        {
          "output_type": "execute_result",
          "data": {
            "text/plain": [
              "True"
            ]
          },
          "metadata": {
            "tags": []
          },
          "execution_count": 2
        }
      ]
    },
    {
      "metadata": {
        "colab_type": "text",
        "id": "eqdUvUCEJjgc"
      },
      "cell_type": "markdown",
      "source": [
        "### Extraemos las oraciones tageadas del Corpus"
      ]
    },
    {
      "metadata": {
        "colab_type": "code",
        "id": "ss3RHo4LQugx",
        "colab": {}
      },
      "cell_type": "code",
      "source": [
        "import random\n",
        "from nltk.corpus import cess_esp\n",
        "\n",
        "tagged_sentences = cess_esp.tagged_sents()\n",
        "#print('a random sentence: \\n-> {}'.format(random.choice(sentences)))"
      ],
      "execution_count": 0,
      "outputs": []
    },
    {
      "metadata": {
        "colab_type": "text",
        "id": "gCW_ENdLJudC"
      },
      "cell_type": "markdown",
      "source": [
        "### Extraemos los datos de la cantidad de oraciones a ser usadas y un ejemplo de una oracion presente en el corpus"
      ]
    },
    {
      "metadata": {
        "colab_type": "code",
        "id": "2clQUNdtQug4",
        "outputId": "4182f009-50e2-40fb-fe42-bf52158c94f1",
        "colab": {
          "base_uri": "https://localhost:8080/",
          "height": 88
        }
      },
      "cell_type": "code",
      "source": [
        "print(tagged_sentences[0])\n",
        "print(\"Tagged sentences: \", len(tagged_sentences))\n",
        "print(\"Tagged words:\", len(cess_esp.tagged_words()))"
      ],
      "execution_count": 4,
      "outputs": [
        {
          "output_type": "stream",
          "text": [
            "[('El', 'da0ms0'), ('grupo', 'ncms000'), ('estatal', 'aq0cs0'), ('Electricité_de_France', 'np00000'), ('-Fpa-', 'Fpa'), ('EDF', 'np00000'), ('-Fpt-', 'Fpt'), ('anunció', 'vmis3s0'), ('hoy', 'rg'), (',', 'Fc'), ('jueves', 'W'), (',', 'Fc'), ('la', 'da0fs0'), ('compra', 'ncfs000'), ('del', 'spcms'), ('51_por_ciento', 'Zp'), ('de', 'sps00'), ('la', 'da0fs0'), ('empresa', 'ncfs000'), ('mexicana', 'aq0fs0'), ('Electricidad_Águila_de_Altamira', 'np00000'), ('-Fpa-', 'Fpa'), ('EAA', 'np00000'), ('-Fpt-', 'Fpt'), (',', 'Fc'), ('creada', 'aq0fsp'), ('por', 'sps00'), ('el', 'da0ms0'), ('japonés', 'aq0ms0'), ('Mitsubishi_Corporation', 'np00000'), ('para', 'sps00'), ('poner_en_marcha', 'vmn0000'), ('una', 'di0fs0'), ('central', 'ncfs000'), ('de', 'sps00'), ('gas', 'ncms000'), ('de', 'sps00'), ('495', 'Z'), ('megavatios', 'ncmp000'), ('.', 'Fp')]\n",
            "Tagged sentences:  6030\n",
            "Tagged words: 192685\n"
          ],
          "name": "stdout"
        }
      ]
    },
    {
      "metadata": {
        "colab_type": "text",
        "id": "i_aFjuCQKG1O"
      },
      "cell_type": "markdown",
      "source": [
        "### Se procede a Dividir en una lista de Oraciones dividida en lista de palabras y cada palabra con un correspondiente tag en un alista diferente"
      ]
    },
    {
      "metadata": {
        "colab_type": "code",
        "id": "516a_v5vQuhC",
        "colab": {}
      },
      "cell_type": "code",
      "source": [
        "import numpy as np\n",
        " \n",
        "sentences, tagss =[], [] \n",
        "for tagged_sentence in tagged_sentences:\n",
        "    sentence, tags = zip(*tagged_sentence)\n",
        "    sentences.append(np.array(sentence))\n",
        "    tagss.append(np.array(tags))\n"
      ],
      "execution_count": 0,
      "outputs": []
    },
    {
      "metadata": {
        "colab_type": "text",
        "id": "UN_E4ePpKhvy"
      },
      "cell_type": "markdown",
      "source": [
        "### Imprimimos una posicion de la lista como ejemplo"
      ]
    },
    {
      "metadata": {
        "colab_type": "code",
        "id": "l6uGGSqZQuhM",
        "outputId": "f4addf11-656f-4a02-91c5-83828c445797",
        "colab": {
          "base_uri": "https://localhost:8080/",
          "height": 255
        }
      },
      "cell_type": "code",
      "source": [
        "print(sentences[5])\n",
        "print(tagss[5])"
      ],
      "execution_count": 6,
      "outputs": [
        {
          "output_type": "stream",
          "text": [
            "['EDF' 'tiene' 'previsto' 'invertir' '194' 'millones' 'de' 'euros' '-Fpa-'\n",
            " '186' 'millones' 'de' 'dólares' '-Fpt-' 'en' 'la' 'central' 'de'\n",
            " 'Río_Bravo' ',' 'con' 'una' 'potencia' 'de' '495' 'megavatios' ',' 'y'\n",
            " '134' 'millones' 'de' 'euros' '-Fpa-' '28' 'millones' 'de' 'dólares'\n",
            " '-Fpt-' 'en' 'Saltillo' ',' 'que' 'como' 'la' 'primera' 'funcionará'\n",
            " 'con' 'gas' 'natural' 'y' 'cuya' 'potencia' 'prevista' 'es' 'de' '247'\n",
            " 'megavatios' '.']\n",
            "['np00000' 'vmip3s0' 'aq0msp' 'vmn0000' 'Z' 'ncmp000' 'sps00' 'Zm' 'Fpa'\n",
            " 'Z' 'ncmp000' 'sps00' 'Zm' 'Fpt' 'sps00' 'da0fs0' 'ncfs000' 'sps00'\n",
            " 'np00000' 'Fc' 'sps00' 'di0fs0' 'ncfs000' 'sps00' 'Z' 'ncmp000' 'Fc' 'cc'\n",
            " 'Z' 'ncmp000' 'sps00' 'Zm' 'Fpa' 'Z' 'ncmp000' 'sps00' 'Zm' 'Fpt' 'sps00'\n",
            " 'np00000' 'Fc' 'pr0cn000' 'cs' 'da0fs0' 'ao0fs0' 'vmif3s0' 'sps00'\n",
            " 'ncms000' 'aq0cs0' 'cc' 'pr0fs000' 'ncfs000' 'aq0fsp' 'vsip3s0' 'sps00'\n",
            " 'Z' 'ncmp000' 'Fp']\n"
          ],
          "name": "stdout"
        }
      ]
    },
    {
      "metadata": {
        "colab_type": "text",
        "id": "WFQrAblFQuhT"
      },
      "cell_type": "markdown",
      "source": [
        "### Dividimos el corpus de la siguiente manera, Utilizamos aproximadamente el 60% de las oraciones etiquetadas para el entrenamiento, el 20% como conjunto de validación y el 20% para evaluar nuestro modelo."
      ]
    },
    {
      "metadata": {
        "colab_type": "code",
        "id": "ZtLulrEOQuhU",
        "colab": {}
      },
      "cell_type": "code",
      "source": [
        "from sklearn.model_selection import train_test_split\n",
        " \n",
        "(training_sentences, \n",
        " test_sentences, \n",
        " training_tags, \n",
        " test_tags) = train_test_split(sentences, tagss, test_size=0.2)\n",
        "\n",
        "(train_sentences, \n",
        " eval_sentences, \n",
        " train_tags, \n",
        " eval_tags) = train_test_split(training_sentences, training_tags, test_size=0.25)"
      ],
      "execution_count": 0,
      "outputs": []
    },
    {
      "metadata": {
        "colab_type": "text",
        "id": "_Mk0scnsK1OE"
      },
      "cell_type": "markdown",
      "source": [
        "### Imprimimos los tamaños de las listas que nos indicaran el tamaño de filas de las matrices con las que estaremos trabajando"
      ]
    },
    {
      "metadata": {
        "colab_type": "code",
        "id": "7HkjbP_IQuhZ",
        "outputId": "239b3106-9172-4dae-99ee-6400d2c9333e",
        "colab": {
          "base_uri": "https://localhost:8080/",
          "height": 697
        }
      },
      "cell_type": "code",
      "source": [
        "print(\"training_sentences:\" + str(len(training_sentences)))\n",
        "print(\"train_sentences: \" + str(len(train_sentences)))\n",
        "print(\"test_sentences: \" + str(len(test_sentences)))\n",
        "print(\"eval_sentences: \" + str(len(eval_sentences)) + \"\\n\")\n",
        "\n",
        "print(train_sentences[0])\n",
        "print(test_sentences[0])\n",
        "print(eval_sentences[0])\n",
        "\n",
        "print(\"\\ntraining_tags:\" + str(len(training_sentences)))\n",
        "print(\"train_tags: \" + str(len(train_tags)))\n",
        "print(\"test_tags: \" + str(len(test_tags)))\n",
        "print(\"eval_tags: \" + str(len(eval_tags)) + \"\\n\")\n",
        "\n",
        "print(train_tags[0])\n",
        "print(test_tags[0])\n",
        "print(eval_tags[0])"
      ],
      "execution_count": 8,
      "outputs": [
        {
          "output_type": "stream",
          "text": [
            "training_sentences:4824\n",
            "train_sentences: 3618\n",
            "test_sentences: 1206\n",
            "eval_sentences: 1206\n",
            "\n",
            "['*' 'El' 'Madrid' 'precisa' 'que' 'el' 'Deportivo' 'gane' 'la' 'Liga' ','\n",
            " 'porque' 'los' 'gallegos' 'no' 'son' 'considerados' 'unos' 'herederos'\n",
            " ',' 'sino' 'unos' 'entrometidos' 'que' 'se' 'supone' 'temporales' ','\n",
            " 'que' 'pertenecen' 'a' 'la' 'actualidad' 'más' 'rabiosa' 'y' 'no' 'a'\n",
            " 'la' 'historia' 'más' 'enrabietada' '.']\n",
            "['El' 'técnico' 'barcelonista' 'ha' 'asegurado' 'que' 'la' 'visita' 'de'\n",
            " 'Gaspart' 'ha' 'contribuido' 'a' '\"' 'sumar' '\"' ',' 'y' '*0*' 'ha'\n",
            " 'argumentado' 'que' 'el' 'encuentro' 'con' 'el' 'presidente' 'significa'\n",
            " 'que' 'en' 'el' 'Barcelona' '\"' 'todos' 'van' 'en' 'la' 'misma'\n",
            " 'dirección' '\"' '.']\n",
            "['Lo_suyo' ',' 'lo' 'de' 'las' 'ratas' ',' 'no' 'es' 'la' 'carroña' 'pura'\n",
            " 'y' 'dura' 'sino' 'la' 'vida' 'regalada' ',' 'el' 'eterno' 'banquete'\n",
            " 'de' 'sobras' 'y' 'residuos' ',' 'el' 'festín' 'organizado' 'a' 'la'\n",
            " 'sobra' 'de' 'la' 'abundancia' 'y' 'el' 'hartazgo' '.']\n",
            "\n",
            "training_tags:4824\n",
            "train_tags: 3618\n",
            "test_tags: 1206\n",
            "eval_tags: 1206\n",
            "\n",
            "['Fz' 'da0ms0' 'np0000l' 'vmip3s0' 'cs' 'da0ms0' 'np0000o' 'vmsp3s0'\n",
            " 'da0fs0' 'np0000a' 'Fc' 'cs' 'da0mp0' 'ncmp000' 'rn' 'vsip3p0' 'vmp00pm'\n",
            " 'di0mp0' 'ncmp000' 'Fc' 'cc' 'di0mp0' 'ncmp000' 'pr0cn000' 'p0000000'\n",
            " 'vmip3s0' 'aq0cp0' 'Fc' 'pr0cn000' 'vmip3p0' 'sps00' 'da0fs0' 'ncfs000'\n",
            " 'rg' 'aq0fs0' 'cc' 'rn' 'sps00' 'da0fs0' 'ncfs000' 'rg' 'aq0fsp' 'Fp']\n",
            "['da0ms0' 'ncms000' 'aq0cs0' 'vaip3s0' 'vmp00sm' 'cs' 'da0fs0' 'ncfs000'\n",
            " 'sps00' 'np00000' 'vaip3s0' 'vmp00sm' 'sps00' 'Fe' 'vmn0000' 'Fe' 'Fc'\n",
            " 'cc' 'sn.e-SUJ' 'vaip3s0' 'vmp00sm' 'cs' 'da0ms0' 'ncms000' 'sps00'\n",
            " 'da0ms0' 'ncms000' 'vmip3s0' 'cs' 'sps00' 'da0ms0' 'np00000' 'Fe'\n",
            " 'pi0mp000' 'vmip3p0' 'sps00' 'da0fs0' 'di0fs0' 'ncfs000' 'Fe' 'Fp']\n",
            "['px3ns000' 'Fc' 'da0ns0' 'sps00' 'da0fp0' 'ncfp000' 'Fc' 'rn' 'vsip3s0'\n",
            " 'da0fs0' 'ncfs000' 'aq0fs0' 'cc' 'aq0fs0' 'cc' 'da0fs0' 'ncfs000'\n",
            " 'aq0fsp' 'Fc' 'da0ms0' 'aq0ms0' 'ncms000' 'sps00' 'ncfp000' 'cc'\n",
            " 'ncmp000' 'Fc' 'da0ms0' 'ncms000' 'aq0msp' 'sps00' 'da0fs0' 'ncfs000'\n",
            " 'sps00' 'da0fs0' 'ncfs000' 'cc' 'da0ms0' 'ncms000' 'Fp']\n"
          ],
          "name": "stdout"
        }
      ]
    },
    {
      "metadata": {
        "colab_type": "text",
        "id": "Jd-i6q85Quho"
      },
      "cell_type": "markdown",
      "source": [
        "### Ahora creamos una array con todas las palabras y los tags presentes en el corpus, adicionalmente se crea un diccionario que contiene las palabras unicas y los tags unicos de tal forma que no se repitan y que contienen un indice o llave"
      ]
    },
    {
      "metadata": {
        "colab_type": "code",
        "id": "qdCNulCoQuhr",
        "outputId": "98ef44f4-7d36-440d-eefd-f3571040f747",
        "colab": {
          "base_uri": "https://localhost:8080/",
          "height": 51
        }
      },
      "cell_type": "code",
      "source": [
        "words, tagsss = set([]), set([])\n",
        " \n",
        "for s in (train_sentences + eval_sentences + test_sentences):\n",
        "    for w in s:\n",
        "        words.add(w.lower())\n",
        "\n",
        "for ts in (train_tags + eval_tags + test_tags):\n",
        "    for t in ts:\n",
        "        tagsss.add(t)\n",
        "\n",
        "word2index = {w: i + 2 for i, w in enumerate(list(words))}\n",
        "word2index['-PAD-'] = 0  # The special value used for padding\n",
        "word2index['-OOV-'] = 1  # The special value used for OOVs\n",
        " \n",
        "tag2index = {t: i + 2 for i, t in enumerate(list(tagsss))}\n",
        "tag2index['-PAD-'] = 0  # The special value used to padding\n",
        "tag2index['-OOV-'] = 1  # The special value used to padding\n",
        "\n",
        "print (len(word2index))\n",
        "print (len(tag2index))"
      ],
      "execution_count": 9,
      "outputs": [
        {
          "output_type": "stream",
          "text": [
            "24499\n",
            "291\n"
          ],
          "name": "stdout"
        }
      ]
    },
    {
      "metadata": {
        "colab_type": "text",
        "id": "VEA9Ek-GOYOn"
      },
      "cell_type": "markdown",
      "source": [
        "### Ahora procedemos a transformar cada uno de los conjuntos de oraciones y tags en vectores numericos, modificando la palabra o tag en un Valor numerico que corresponde a una llave en el diccionario de palbras o tags"
      ]
    },
    {
      "metadata": {
        "colab_type": "code",
        "id": "69eec13kQuh2",
        "colab": {}
      },
      "cell_type": "code",
      "source": [
        "train_sentences_X, eval_sentences_X, test_sentences_X, train_tags_y, eval_tags_y, test_tags_y = [], [], [], [], [], []\n",
        "\n",
        "for s in train_sentences:\n",
        "    s_int = []\n",
        "    for w in s:\n",
        "        try:\n",
        "            s_int.append(word2index[w.lower()])\n",
        "        except KeyError:\n",
        "            s_int.append(word2index['-OOV-'])\n",
        " \n",
        "    train_sentences_X.append(s_int)\n",
        "\n",
        "for s in eval_sentences:\n",
        "    s_int = []\n",
        "    for w in s:\n",
        "        try:\n",
        "            s_int.append(word2index[w.lower()])\n",
        "        except KeyError:\n",
        "            s_int.append(word2index['-OOV-'])\n",
        " \n",
        "    eval_sentences_X.append(s_int)\n",
        "\n",
        "for s in test_sentences:\n",
        "    s_int = []\n",
        "    for w in s:\n",
        "        try:\n",
        "            s_int.append(word2index[w.lower()])\n",
        "        except KeyError:\n",
        "            s_int.append(word2index['-OOV-'])\n",
        " \n",
        "    test_sentences_X.append(s_int)\n",
        "\n",
        "for s in train_tags:\n",
        "    s_int = []\n",
        "    for w in s:\n",
        "        try:\n",
        "            s_int.append(tag2index[w])\n",
        "        except KeyError:\n",
        "            s_int.append(tag2index['-OOV-'])\n",
        "            \n",
        "    train_tags_y.append(s_int)\n",
        "\n",
        "for s in eval_tags:\n",
        "    s_int = []\n",
        "    for w in s:\n",
        "        try:\n",
        "            s_int.append(tag2index[w])\n",
        "        except KeyError:\n",
        "            s_int.append(tag2index['-OOV-'])\n",
        "            \n",
        "    eval_tags_y.append(s_int)\n",
        "\n",
        "for s in test_tags:\n",
        "    s_int = []\n",
        "    for w in s:\n",
        "        try:\n",
        "            s_int.append(tag2index[w])\n",
        "        except KeyError:\n",
        "            s_int.append(tag2index['-OOV-'])\n",
        "            \n",
        "    test_tags_y.append(s_int)\n"
      ],
      "execution_count": 0,
      "outputs": []
    },
    {
      "metadata": {
        "colab_type": "text",
        "id": "d_lXW1mBPNkf"
      },
      "cell_type": "markdown",
      "source": [
        "### Se imprime la longitud de las matrices y una muesta de cada una de las matrices creadas"
      ]
    },
    {
      "metadata": {
        "colab_type": "code",
        "id": "Y5A4d_dzQuh6",
        "outputId": "a87e29fe-80b1-4e0c-bb1d-0655cd6e1d73",
        "colab": {
          "base_uri": "https://localhost:8080/",
          "height": 309
        }
      },
      "cell_type": "code",
      "source": [
        "print(\"Longitudes de las Matrices:\")\n",
        "print(len(train_sentences_X))\n",
        "print(len(eval_sentences_X))\n",
        "print(len(test_sentences_X))\n",
        "print(len(train_tags_y))\n",
        "print(len(eval_tags_y))\n",
        "print(len(test_tags_y))\n",
        "\n",
        "print(\"\\nMuestra de Datos presentes en las Matrices con las transformaciones:\\n\")\n",
        "\n",
        "print(train_sentences_X[0])\n",
        "print(eval_sentences_X[0])\n",
        "print(test_sentences_X[0])\n",
        "print(train_tags_y[0])\n",
        "print(eval_tags_y[0])\n",
        "print(test_tags_y[0])"
      ],
      "execution_count": 12,
      "outputs": [
        {
          "output_type": "stream",
          "text": [
            "Longitudes de las Matrices:\n",
            "3618\n",
            "1206\n",
            "1206\n",
            "3618\n",
            "1206\n",
            "1206\n",
            "\n",
            "Muestra de Datos presentes en las Matrices con las transformaciones:\n",
            "\n",
            "[11645, 17992, 16805, 10818, 17609, 17992, 8642, 13716, 15972, 11084, 20144, 4400, 3495, 13166, 62, 21336, 5354, 5219, 16543, 20144, 22642, 5219, 14958, 17609, 10115, 15811, 22340, 20144, 17609, 7410, 19390, 15972, 14660, 5773, 23799, 14489, 62, 19390, 15972, 12903, 5773, 10615, 5906]\n",
            "[17267, 20144, 13434, 483, 16520, 17864, 20144, 62, 23818, 15972, 15976, 5478, 14489, 10190, 22642, 15972, 20127, 19063, 20144, 17992, 12619, 16947, 483, 2670, 14489, 4433, 20144, 17992, 3655, 6492, 19390, 15972, 10536, 483, 15972, 1808, 14489, 17992, 9212, 5906]\n",
            "[17992, 23368, 23138, 458, 883, 17609, 15972, 20863, 483, 11497, 458, 5274, 19390, 3573, 22578, 3573, 20144, 14489, 11211, 458, 9853, 17609, 17992, 5059, 12946, 17992, 16652, 13631, 17609, 20961, 17992, 2880, 3573, 10881, 19315, 20961, 15972, 8388, 6883, 3573, 5906]\n",
            "[7, 163, 139, 196, 5, 163, 202, 37, 137, 108, 235, 5, 11, 65, 12, 155, 8, 200, 65, 235, 57, 200, 65, 188, 255, 196, 181, 235, 188, 262, 177, 137, 214, 28, 99, 57, 12, 177, 137, 214, 28, 218, 103]\n",
            "[290, 235, 183, 177, 164, 122, 235, 12, 67, 137, 214, 99, 57, 99, 57, 137, 214, 218, 235, 163, 272, 112, 177, 122, 57, 65, 235, 163, 112, 190, 177, 137, 214, 177, 137, 214, 57, 163, 112, 103]\n",
            "[163, 112, 33, 113, 146, 5, 137, 214, 177, 25, 113, 146, 177, 17, 19, 17, 235, 57, 205, 113, 146, 5, 163, 112, 177, 163, 112, 196, 5, 177, 163, 25, 17, 168, 262, 177, 137, 4, 214, 17, 103]\n"
          ],
          "name": "stdout"
        }
      ]
    },
    {
      "metadata": {
        "colab_type": "text",
        "id": "kWLspkzfQ513"
      },
      "cell_type": "markdown",
      "source": [
        "### Se calcula cual es la oracion que mayor cantidad de Palabras contiene"
      ]
    },
    {
      "metadata": {
        "colab_type": "code",
        "id": "Gif6KsESQuh_",
        "outputId": "a0be4dd9-13fc-473f-c608-7334de984a52",
        "colab": {
          "base_uri": "https://localhost:8080/",
          "height": 34
        }
      },
      "cell_type": "code",
      "source": [
        "MAX_LENGTH1 = len(max(train_sentences_X, key=len))\n",
        "MAX_LENGTH2 = len(max(eval_sentences_X, key=len))\n",
        "MAX_LENGTH3 = len(max(test_sentences_X, key=len))\n",
        "\n",
        "l = [MAX_LENGTH1, MAX_LENGTH2, MAX_LENGTH3]\n",
        "MAX_LENGTH = max(l)\n",
        "\n",
        "print(MAX_LENGTH)"
      ],
      "execution_count": 13,
      "outputs": [
        {
          "output_type": "stream",
          "text": [
            "149\n"
          ],
          "name": "stdout"
        }
      ]
    },
    {
      "metadata": {
        "colab_type": "text",
        "id": "e4ffWaDqRA1_"
      },
      "cell_type": "markdown",
      "source": [
        "### Se procede a Normalizar las matrices para que todas contengan el mismo numero de columans, con la longitud maxima de palabras encontradas anteriormente, esto se logra agregando ceros a la derecha en las posiciones que hacen falta en el vector"
      ]
    },
    {
      "metadata": {
        "colab_type": "code",
        "id": "mn7iuMIOQuiI",
        "outputId": "8a6f3032-ab8b-426c-f45a-d182bd5e7cb3",
        "colab": {
          "base_uri": "https://localhost:8080/",
          "height": 1156
        }
      },
      "cell_type": "code",
      "source": [
        "from keras.preprocessing.sequence import pad_sequences\n",
        " \n",
        "train_sentences_X = pad_sequences(train_sentences_X, maxlen=MAX_LENGTH, padding='post')\n",
        "eval_sentences_X = pad_sequences(eval_sentences_X, maxlen=MAX_LENGTH, padding='post')\n",
        "test_sentences_X = pad_sequences(test_sentences_X, maxlen=MAX_LENGTH, padding='post')\n",
        "train_tags_y = pad_sequences(train_tags_y, maxlen=MAX_LENGTH, padding='post')\n",
        "eval_tags_y = pad_sequences(eval_tags_y, maxlen=MAX_LENGTH, padding='post')\n",
        "test_tags_y = pad_sequences(test_tags_y, maxlen=MAX_LENGTH, padding='post')\n",
        " \n",
        "print(train_sentences_X[0])\n",
        "print(eval_sentences_X[0])\n",
        "print(test_sentences_X[0])\n",
        "print(train_tags_y[0])\n",
        "print(eval_tags_y[0])\n",
        "print(test_tags_y[0])"
      ],
      "execution_count": 14,
      "outputs": [
        {
          "output_type": "stream",
          "text": [
            "Using TensorFlow backend.\n"
          ],
          "name": "stderr"
        },
        {
          "output_type": "stream",
          "text": [
            "[11645 17992 16805 10818 17609 17992  8642 13716 15972 11084 20144  4400\n",
            "  3495 13166    62 21336  5354  5219 16543 20144 22642  5219 14958 17609\n",
            " 10115 15811 22340 20144 17609  7410 19390 15972 14660  5773 23799 14489\n",
            "    62 19390 15972 12903  5773 10615  5906     0     0     0     0     0\n",
            "     0     0     0     0     0     0     0     0     0     0     0     0\n",
            "     0     0     0     0     0     0     0     0     0     0     0     0\n",
            "     0     0     0     0     0     0     0     0     0     0     0     0\n",
            "     0     0     0     0     0     0     0     0     0     0     0     0\n",
            "     0     0     0     0     0     0     0     0     0     0     0     0\n",
            "     0     0     0     0     0     0     0     0     0     0     0     0\n",
            "     0     0     0     0     0     0     0     0     0     0     0     0\n",
            "     0     0     0     0     0     0     0     0     0     0     0     0\n",
            "     0     0     0     0     0]\n",
            "[17267 20144 13434   483 16520 17864 20144    62 23818 15972 15976  5478\n",
            " 14489 10190 22642 15972 20127 19063 20144 17992 12619 16947   483  2670\n",
            " 14489  4433 20144 17992  3655  6492 19390 15972 10536   483 15972  1808\n",
            " 14489 17992  9212  5906     0     0     0     0     0     0     0     0\n",
            "     0     0     0     0     0     0     0     0     0     0     0     0\n",
            "     0     0     0     0     0     0     0     0     0     0     0     0\n",
            "     0     0     0     0     0     0     0     0     0     0     0     0\n",
            "     0     0     0     0     0     0     0     0     0     0     0     0\n",
            "     0     0     0     0     0     0     0     0     0     0     0     0\n",
            "     0     0     0     0     0     0     0     0     0     0     0     0\n",
            "     0     0     0     0     0     0     0     0     0     0     0     0\n",
            "     0     0     0     0     0     0     0     0     0     0     0     0\n",
            "     0     0     0     0     0]\n",
            "[17992 23368 23138   458   883 17609 15972 20863   483 11497   458  5274\n",
            " 19390  3573 22578  3573 20144 14489 11211   458  9853 17609 17992  5059\n",
            " 12946 17992 16652 13631 17609 20961 17992  2880  3573 10881 19315 20961\n",
            " 15972  8388  6883  3573  5906     0     0     0     0     0     0     0\n",
            "     0     0     0     0     0     0     0     0     0     0     0     0\n",
            "     0     0     0     0     0     0     0     0     0     0     0     0\n",
            "     0     0     0     0     0     0     0     0     0     0     0     0\n",
            "     0     0     0     0     0     0     0     0     0     0     0     0\n",
            "     0     0     0     0     0     0     0     0     0     0     0     0\n",
            "     0     0     0     0     0     0     0     0     0     0     0     0\n",
            "     0     0     0     0     0     0     0     0     0     0     0     0\n",
            "     0     0     0     0     0     0     0     0     0     0     0     0\n",
            "     0     0     0     0     0]\n",
            "[  7 163 139 196   5 163 202  37 137 108 235   5  11  65  12 155   8 200\n",
            "  65 235  57 200  65 188 255 196 181 235 188 262 177 137 214  28  99  57\n",
            "  12 177 137 214  28 218 103   0   0   0   0   0   0   0   0   0   0   0\n",
            "   0   0   0   0   0   0   0   0   0   0   0   0   0   0   0   0   0   0\n",
            "   0   0   0   0   0   0   0   0   0   0   0   0   0   0   0   0   0   0\n",
            "   0   0   0   0   0   0   0   0   0   0   0   0   0   0   0   0   0   0\n",
            "   0   0   0   0   0   0   0   0   0   0   0   0   0   0   0   0   0   0\n",
            "   0   0   0   0   0   0   0   0   0   0   0   0   0   0   0   0   0   0\n",
            "   0   0   0   0   0]\n",
            "[290 235 183 177 164 122 235  12  67 137 214  99  57  99  57 137 214 218\n",
            " 235 163 272 112 177 122  57  65 235 163 112 190 177 137 214 177 137 214\n",
            "  57 163 112 103   0   0   0   0   0   0   0   0   0   0   0   0   0   0\n",
            "   0   0   0   0   0   0   0   0   0   0   0   0   0   0   0   0   0   0\n",
            "   0   0   0   0   0   0   0   0   0   0   0   0   0   0   0   0   0   0\n",
            "   0   0   0   0   0   0   0   0   0   0   0   0   0   0   0   0   0   0\n",
            "   0   0   0   0   0   0   0   0   0   0   0   0   0   0   0   0   0   0\n",
            "   0   0   0   0   0   0   0   0   0   0   0   0   0   0   0   0   0   0\n",
            "   0   0   0   0   0]\n",
            "[163 112  33 113 146   5 137 214 177  25 113 146 177  17  19  17 235  57\n",
            " 205 113 146   5 163 112 177 163 112 196   5 177 163  25  17 168 262 177\n",
            " 137   4 214  17 103   0   0   0   0   0   0   0   0   0   0   0   0   0\n",
            "   0   0   0   0   0   0   0   0   0   0   0   0   0   0   0   0   0   0\n",
            "   0   0   0   0   0   0   0   0   0   0   0   0   0   0   0   0   0   0\n",
            "   0   0   0   0   0   0   0   0   0   0   0   0   0   0   0   0   0   0\n",
            "   0   0   0   0   0   0   0   0   0   0   0   0   0   0   0   0   0   0\n",
            "   0   0   0   0   0   0   0   0   0   0   0   0   0   0   0   0   0   0\n",
            "   0   0   0   0   0]\n"
          ],
          "name": "stdout"
        }
      ]
    },
    {
      "metadata": {
        "colab_type": "text",
        "id": "elkKsVbBNrYO"
      },
      "cell_type": "markdown",
      "source": [
        "### Definimos la funcion con la cual categorizaremos los tags y los covertiremos un vector One-hot"
      ]
    },
    {
      "metadata": {
        "colab_type": "code",
        "id": "qGw5_dPX5xc0",
        "colab": {}
      },
      "cell_type": "code",
      "source": [
        "def to_categorical(sequences, categories):\n",
        "    cat_sequences = []\n",
        "    for s in sequences:\n",
        "        cats = []\n",
        "        for item in s:\n",
        "            cats.append(np.zeros(categories))\n",
        "            cats[-1][item] = 1.0\n",
        "        cat_sequences.append(cats)\n",
        "    return np.array(cat_sequences)"
      ],
      "execution_count": 0,
      "outputs": []
    },
    {
      "metadata": {
        "colab_type": "text",
        "id": "GOmqn-5ZNg23"
      },
      "cell_type": "markdown",
      "source": [
        "### Desarrollamos una prueba de la categorisacion de los tags"
      ]
    },
    {
      "metadata": {
        "colab_type": "code",
        "id": "lepVNGK5bgc1",
        "outputId": "375e1509-c0a0-4d2b-a28e-a24fcfc59aa2",
        "colab": {
          "base_uri": "https://localhost:8080/",
          "height": 136
        }
      },
      "cell_type": "code",
      "source": [
        "cat_train_tags_y = to_categorical(train_tags_y, len(tag2index))\n",
        "print(cat_train_tags_y[0])"
      ],
      "execution_count": 16,
      "outputs": [
        {
          "output_type": "stream",
          "text": [
            "[[0. 0. 0. ... 0. 0. 0.]\n",
            " [0. 0. 0. ... 0. 0. 0.]\n",
            " [0. 0. 0. ... 0. 0. 0.]\n",
            " ...\n",
            " [1. 0. 0. ... 0. 0. 0.]\n",
            " [1. 0. 0. ... 0. 0. 0.]\n",
            " [1. 0. 0. ... 0. 0. 0.]]\n"
          ],
          "name": "stdout"
        }
      ]
    },
    {
      "metadata": {
        "colab_type": "text",
        "id": "9-_gAQ7qrWTQ"
      },
      "cell_type": "markdown",
      "source": [
        "## PARTE 2  -  Entrenamiento"
      ]
    },
    {
      "metadata": {
        "id": "ORyC-422jaD9",
        "colab_type": "code",
        "colab": {}
      },
      "cell_type": "code",
      "source": [
        "import tensorflow as tf\n",
        "sess = tf.Session(config=tf.ConfigProto(log_device_placement=True))"
      ],
      "execution_count": 0,
      "outputs": []
    },
    {
      "metadata": {
        "colab_type": "text",
        "id": "odDOhtO4NZDd"
      },
      "cell_type": "markdown",
      "source": [
        "### Definimos el Modelo Base con el cual se procedera a desarrollar la fase de Entrenamiento"
      ]
    },
    {
      "metadata": {
        "colab_type": "code",
        "id": "x31rRt8PQuiW",
        "outputId": "eb0c9647-849c-4697-b151-802f88de7e2e",
        "colab": {
          "base_uri": "https://localhost:8080/",
          "height": 272
        }
      },
      "cell_type": "code",
      "source": [
        "from keras.models import Sequential\n",
        "from keras.layers import Dense, LSTM, InputLayer, Bidirectional, TimeDistributed, Embedding, Activation\n",
        "from keras.optimizers import Adam\n",
        "from keras.utils import plot_model\n",
        "#from keras.utils import multi_gpu_model\n",
        "\n",
        "model = Sequential()\n",
        "model.add(InputLayer(input_shape=(MAX_LENGTH, )))\n",
        "model.add(Embedding(len(word2index), 128))\n",
        "model.add(Bidirectional(LSTM(256, return_sequences=True)))\n",
        "model.add(TimeDistributed(Dense(len(tag2index))))\n",
        "model.add(Activation('softmax'))\n",
        "\n",
        "#parallel_model = multi_gpu_model(model, gpus=2)\n",
        "model.compile(loss='categorical_crossentropy', optimizer=Adam(0.001), metrics=['accuracy'])\n",
        " \n",
        "model.summary()\n",
        "#parallel_model.summary()\n",
        "\n",
        "plot_model(model, to_file='model-mb00.png', show_shapes=True)"
      ],
      "execution_count": 22,
      "outputs": [
        {
          "output_type": "stream",
          "text": [
            "_________________________________________________________________\n",
            "Layer (type)                 Output Shape              Param #   \n",
            "=================================================================\n",
            "embedding_4 (Embedding)      (None, 149, 128)          3135872   \n",
            "_________________________________________________________________\n",
            "bidirectional_4 (Bidirection (None, 149, 512)          788480    \n",
            "_________________________________________________________________\n",
            "time_distributed_4 (TimeDist (None, 149, 291)          149283    \n",
            "_________________________________________________________________\n",
            "activation_4 (Activation)    (None, 149, 291)          0         \n",
            "=================================================================\n",
            "Total params: 4,073,635\n",
            "Trainable params: 4,073,635\n",
            "Non-trainable params: 0\n",
            "_________________________________________________________________\n"
          ],
          "name": "stdout"
        }
      ]
    },
    {
      "metadata": {
        "id": "Bt3IrAt-1c_C",
        "colab_type": "code",
        "colab": {}
      },
      "cell_type": "code",
      "source": [
        "from google.colab import files\n",
        "files.download('model-mb00.png')"
      ],
      "execution_count": 0,
      "outputs": []
    },
    {
      "metadata": {
        "colab_type": "text",
        "id": "4XghotI4NG9G"
      },
      "cell_type": "markdown",
      "source": [
        "### Se dedarrolla el entrenamiento del modelo"
      ]
    },
    {
      "metadata": {
        "colab_type": "code",
        "id": "C0gOhZznbg6V",
        "outputId": "cfb9376e-230d-40ea-ffb8-ace34c8234b5",
        "colab": {
          "base_uri": "https://localhost:8080/",
          "height": 1516
        }
      },
      "cell_type": "code",
      "source": [
        "model_hist = model.fit(train_sentences_X, to_categorical(train_tags_y, len(tag2index)),\n",
        "                       validation_data=(eval_sentences_X, to_categorical(eval_tags_y, len(tag2index))),\n",
        "                       batch_size=128, \n",
        "                       epochs=40,\n",
        "                       validation_split=0.2)"
      ],
      "execution_count": 24,
      "outputs": [
        {
          "output_type": "stream",
          "text": [
            "WARNING:tensorflow:From /usr/local/lib/python3.6/dist-packages/tensorflow/python/ops/math_ops.py:3066: to_int32 (from tensorflow.python.ops.math_ops) is deprecated and will be removed in a future version.\n",
            "Instructions for updating:\n",
            "Use tf.cast instead.\n",
            "WARNING:tensorflow:From /usr/local/lib/python3.6/dist-packages/tensorflow/python/ops/math_grad.py:102: div (from tensorflow.python.ops.math_ops) is deprecated and will be removed in a future version.\n",
            "Instructions for updating:\n",
            "Deprecated in favor of operator or tf.math.divide.\n",
            "Train on 3618 samples, validate on 1206 samples\n",
            "Epoch 1/40\n",
            "3618/3618 [==============================] - 23s 6ms/step - loss: 2.1020 - acc: 0.7597 - val_loss: 0.9308 - val_acc: 0.7845\n",
            "Epoch 2/40\n",
            "3618/3618 [==============================] - 21s 6ms/step - loss: 0.8931 - acc: 0.7957 - val_loss: 0.8762 - val_acc: 0.8127\n",
            "Epoch 3/40\n",
            "3618/3618 [==============================] - 21s 6ms/step - loss: 0.8554 - acc: 0.8145 - val_loss: 0.8520 - val_acc: 0.8127\n",
            "Epoch 4/40\n",
            "3618/3618 [==============================] - 21s 6ms/step - loss: 0.8305 - acc: 0.8146 - val_loss: 0.8281 - val_acc: 0.8135\n",
            "Epoch 5/40\n",
            "3618/3618 [==============================] - 21s 6ms/step - loss: 0.8068 - acc: 0.8173 - val_loss: 0.8082 - val_acc: 0.8189\n",
            "Epoch 6/40\n",
            "3618/3618 [==============================] - 21s 6ms/step - loss: 0.7869 - acc: 0.8231 - val_loss: 0.7876 - val_acc: 0.8300\n",
            "Epoch 7/40\n",
            "3618/3618 [==============================] - 21s 6ms/step - loss: 0.7612 - acc: 0.8332 - val_loss: 0.7539 - val_acc: 0.8320\n",
            "Epoch 8/40\n",
            "3618/3618 [==============================] - 21s 6ms/step - loss: 0.7171 - acc: 0.8354 - val_loss: 0.6938 - val_acc: 0.8409\n",
            "Epoch 9/40\n",
            "3618/3618 [==============================] - 21s 6ms/step - loss: 0.6535 - acc: 0.8598 - val_loss: 0.6246 - val_acc: 0.8709\n",
            "Epoch 10/40\n",
            "3618/3618 [==============================] - 21s 6ms/step - loss: 0.5746 - acc: 0.8807 - val_loss: 0.5368 - val_acc: 0.8891\n",
            "Epoch 11/40\n",
            "3618/3618 [==============================] - 21s 6ms/step - loss: 0.4808 - acc: 0.8980 - val_loss: 0.4425 - val_acc: 0.9063\n",
            "Epoch 12/40\n",
            "3618/3618 [==============================] - 21s 6ms/step - loss: 0.3876 - acc: 0.9152 - val_loss: 0.3581 - val_acc: 0.9210\n",
            "Epoch 13/40\n",
            "3618/3618 [==============================] - 21s 6ms/step - loss: 0.3081 - acc: 0.9321 - val_loss: 0.2928 - val_acc: 0.9356\n",
            "Epoch 14/40\n",
            "3618/3618 [==============================] - 21s 6ms/step - loss: 0.2452 - acc: 0.9473 - val_loss: 0.2438 - val_acc: 0.9459\n",
            "Epoch 15/40\n",
            "3618/3618 [==============================] - 21s 6ms/step - loss: 0.1955 - acc: 0.9583 - val_loss: 0.2075 - val_acc: 0.9538\n",
            "Epoch 16/40\n",
            "3618/3618 [==============================] - 21s 6ms/step - loss: 0.1563 - acc: 0.9682 - val_loss: 0.1794 - val_acc: 0.9608\n",
            "Epoch 17/40\n",
            "3618/3618 [==============================] - 21s 6ms/step - loss: 0.1253 - acc: 0.9760 - val_loss: 0.1589 - val_acc: 0.9655\n",
            "Epoch 18/40\n",
            "3618/3618 [==============================] - 21s 6ms/step - loss: 0.1014 - acc: 0.9814 - val_loss: 0.1440 - val_acc: 0.9684\n",
            "Epoch 19/40\n",
            "3618/3618 [==============================] - 21s 6ms/step - loss: 0.0834 - acc: 0.9849 - val_loss: 0.1318 - val_acc: 0.9713\n",
            "Epoch 20/40\n",
            "3618/3618 [==============================] - 21s 6ms/step - loss: 0.0697 - acc: 0.9875 - val_loss: 0.1243 - val_acc: 0.9723\n",
            "Epoch 21/40\n",
            "3618/3618 [==============================] - 21s 6ms/step - loss: 0.0590 - acc: 0.9895 - val_loss: 0.1179 - val_acc: 0.9738\n",
            "Epoch 22/40\n",
            "3618/3618 [==============================] - 21s 6ms/step - loss: 0.0509 - acc: 0.9910 - val_loss: 0.1131 - val_acc: 0.9750\n",
            "Epoch 23/40\n",
            "3618/3618 [==============================] - 21s 6ms/step - loss: 0.0442 - acc: 0.9921 - val_loss: 0.1092 - val_acc: 0.9761\n",
            "Epoch 24/40\n",
            "3618/3618 [==============================] - 21s 6ms/step - loss: 0.0387 - acc: 0.9931 - val_loss: 0.1074 - val_acc: 0.9762\n",
            "Epoch 25/40\n",
            "3618/3618 [==============================] - 21s 6ms/step - loss: 0.0344 - acc: 0.9937 - val_loss: 0.1055 - val_acc: 0.9764\n",
            "Epoch 26/40\n",
            "3618/3618 [==============================] - 21s 6ms/step - loss: 0.0307 - acc: 0.9943 - val_loss: 0.1040 - val_acc: 0.9770\n",
            "Epoch 27/40\n",
            "3618/3618 [==============================] - 21s 6ms/step - loss: 0.0276 - acc: 0.9948 - val_loss: 0.1030 - val_acc: 0.9773\n",
            "Epoch 28/40\n",
            "3618/3618 [==============================] - 21s 6ms/step - loss: 0.0248 - acc: 0.9954 - val_loss: 0.1017 - val_acc: 0.9774\n",
            "Epoch 29/40\n",
            "3618/3618 [==============================] - 21s 6ms/step - loss: 0.0225 - acc: 0.9958 - val_loss: 0.1022 - val_acc: 0.9773\n",
            "Epoch 30/40\n",
            "3618/3618 [==============================] - 21s 6ms/step - loss: 0.0204 - acc: 0.9961 - val_loss: 0.1000 - val_acc: 0.9779\n",
            "Epoch 31/40\n",
            "3618/3618 [==============================] - 21s 6ms/step - loss: 0.0186 - acc: 0.9966 - val_loss: 0.1005 - val_acc: 0.9778\n",
            "Epoch 32/40\n",
            "3618/3618 [==============================] - 21s 6ms/step - loss: 0.0170 - acc: 0.9969 - val_loss: 0.1016 - val_acc: 0.9779\n",
            "Epoch 33/40\n",
            "3618/3618 [==============================] - 21s 6ms/step - loss: 0.0157 - acc: 0.9972 - val_loss: 0.1019 - val_acc: 0.9777\n",
            "Epoch 34/40\n",
            "3618/3618 [==============================] - 21s 6ms/step - loss: 0.0143 - acc: 0.9975 - val_loss: 0.1022 - val_acc: 0.9776\n",
            "Epoch 35/40\n",
            "3618/3618 [==============================] - 21s 6ms/step - loss: 0.0132 - acc: 0.9976 - val_loss: 0.1011 - val_acc: 0.9779\n",
            "Epoch 36/40\n",
            "3618/3618 [==============================] - 21s 6ms/step - loss: 0.0121 - acc: 0.9979 - val_loss: 0.1022 - val_acc: 0.9778\n",
            "Epoch 37/40\n",
            "3618/3618 [==============================] - 21s 6ms/step - loss: 0.0111 - acc: 0.9981 - val_loss: 0.1024 - val_acc: 0.9779\n",
            "Epoch 38/40\n",
            "3618/3618 [==============================] - 21s 6ms/step - loss: 0.0102 - acc: 0.9984 - val_loss: 0.1026 - val_acc: 0.9778\n",
            "Epoch 39/40\n",
            "3618/3618 [==============================] - 21s 6ms/step - loss: 0.0094 - acc: 0.9985 - val_loss: 0.1038 - val_acc: 0.9777\n",
            "Epoch 40/40\n",
            "3618/3618 [==============================] - 21s 6ms/step - loss: 0.0087 - acc: 0.9987 - val_loss: 0.1040 - val_acc: 0.9775\n"
          ],
          "name": "stdout"
        }
      ]
    },
    {
      "metadata": {
        "colab_type": "text",
        "id": "9hTDgQb2rWTa"
      },
      "cell_type": "markdown",
      "source": [
        "## PARTE 3  -  Evaluación del Modelo"
      ]
    },
    {
      "metadata": {
        "colab_type": "text",
        "id": "LdSkk8mzM1KN"
      },
      "cell_type": "markdown",
      "source": [
        "### Evaluamos el modelo y calculamos el valor de precision con respecto a los datos de prueba"
      ]
    },
    {
      "metadata": {
        "colab_type": "code",
        "id": "cD-YI5Fgb3Kt",
        "outputId": "98cb9946-4f38-4176-c5ad-5932d07962b5",
        "colab": {
          "base_uri": "https://localhost:8080/",
          "height": 51
        }
      },
      "cell_type": "code",
      "source": [
        "scores = model.evaluate(test_sentences_X, to_categorical(test_tags_y, len(tag2index)))\n",
        "print(f\"{model.metrics_names[1]}: {scores[1] * 100}\")   # acc: 97.38805993872496"
      ],
      "execution_count": 25,
      "outputs": [
        {
          "output_type": "stream",
          "text": [
            "1206/1206 [==============================] - 9s 8ms/step\n",
            "acc: 97.66269326210022\n"
          ],
          "name": "stdout"
        }
      ]
    },
    {
      "metadata": {
        "colab_type": "text",
        "id": "sAhkgtWHQuij"
      },
      "cell_type": "markdown",
      "source": [
        "### Definimos la funcion que nos servira para graficar el comportamiento del modelo en cada epoca del entrenamiento"
      ]
    },
    {
      "metadata": {
        "colab_type": "code",
        "id": "JaBUkInNQuik",
        "colab": {}
      },
      "cell_type": "code",
      "source": [
        "import matplotlib.pyplot as plt\n",
        "\n",
        "def plot_model_performance(train_loss, train_acc, train_val_loss, train_val_acc):\n",
        "    \"\"\" Plot model loss and accuracy through epochs. \"\"\"\n",
        "    blue= '#34495E'\n",
        "    green = '#2ECC71'\n",
        "    orange = '#E23B13'\n",
        "    # plot model loss\n",
        "    fig, (ax1, ax2) = plt.subplots(2, figsize=(10, 8))\n",
        "    ax1.plot(range(1, len(train_loss) + 1), train_loss, blue, linewidth=5, label='training')\n",
        "    ax1.plot(range(1, len(train_val_loss) + 1), train_val_loss, green, linewidth=5, label='validation')\n",
        "    ax1.set_xlabel('# epoch')\n",
        "    ax1.set_ylabel('loss')\n",
        "    ax1.tick_params('y')\n",
        "    ax1.legend(loc='upper right', shadow=False)\n",
        "    ax1.set_title('Model loss through #epochs', color=orange, fontweight='bold')\n",
        "    # plot model accuracy\n",
        "    ax2.plot(range(1, len(train_acc) + 1), train_acc, blue, linewidth=5, label='training')\n",
        "    ax2.plot(range(1, len(train_val_acc) + 1), train_val_acc, green, linewidth=5, label='validation')\n",
        "    ax2.set_xlabel('# epoch')\n",
        "    ax2.set_ylabel('accuracy')\n",
        "    ax2.tick_params('y')\n",
        "    ax2.legend(loc='lower right', shadow=False)\n",
        "    ax2.set_title('Model accuracy through #epochs', color=orange, fontweight='bold')\n",
        "    \n",
        "    fig.savefig('/training-mb-00.png', bbox_inches='tight')"
      ],
      "execution_count": 0,
      "outputs": []
    },
    {
      "metadata": {
        "colab_type": "text",
        "id": "TxQh1AtuQuis"
      },
      "cell_type": "markdown",
      "source": [
        "### Procedemos a Graficar el comportamiento del Entrenamiento, tanto del conjunto de entrenamiento como el de validación con respecto a la cantidad de epocas"
      ]
    },
    {
      "metadata": {
        "colab_type": "code",
        "id": "Gs5f3U1nQuit",
        "outputId": "4c4ad746-3bbc-4325-9356-8045506b33a4",
        "colab": {
          "base_uri": "https://localhost:8080/",
          "height": 512
        }
      },
      "cell_type": "code",
      "source": [
        "plot_model_performance(\n",
        "    train_loss=model_hist.history.get('loss', []),\n",
        "    train_acc=model_hist.history.get('acc', []),\n",
        "    train_val_loss=model_hist.history.get('val_loss', []),\n",
        "    train_val_acc=model_hist.history.get('val_acc', [])\n",
        ")"
      ],
      "execution_count": 41,
      "outputs": [
        {
          "output_type": "display_data",
          "data": {
            "image/png": "[encoded data removed]",
            "text/plain": [
              "<Figure size 720x576 with 2 Axes>"
            ]
          },
          "metadata": {
            "tags": []
          }
        }
      ]
    },
    {
      "metadata": {
        "id": "FQMZz9no22CJ",
        "colab_type": "code",
        "colab": {}
      },
      "cell_type": "code",
      "source": [
        "from google.colab import files\n",
        "files.download('/training-mb-00.png')"
      ],
      "execution_count": 0,
      "outputs": []
    },
    {
      "metadata": {
        "colab_type": "text",
        "id": "pqiuy8q4GYjF"
      },
      "cell_type": "markdown",
      "source": [
        "### Función que Permite convertir Indices en Tags"
      ]
    },
    {
      "metadata": {
        "colab_type": "code",
        "id": "YJ6GaLot9yZR",
        "colab": {}
      },
      "cell_type": "code",
      "source": [
        "def logits_to_tokens(sequences, index):\n",
        "    token_sequences = []\n",
        "    for categorical_sequence in sequences:\n",
        "        token_sequence = []\n",
        "        for categorical in categorical_sequence:\n",
        "            token_sequence.append(index[np.argmax(categorical)])\n",
        " \n",
        "        token_sequences.append(token_sequence)\n",
        " \n",
        "    return token_sequences"
      ],
      "execution_count": 0,
      "outputs": []
    },
    {
      "metadata": {
        "colab_type": "text",
        "id": "W-1GH3ZYuLc-"
      },
      "cell_type": "markdown",
      "source": [
        "### Hacemos la prediccion sobre el conjunto de pruebas "
      ]
    },
    {
      "metadata": {
        "colab_type": "code",
        "id": "6HgbDqqsR4a7",
        "outputId": "63275f95-19ca-41f0-db78-e79ece5e6317",
        "colab": {
          "base_uri": "https://localhost:8080/",
          "height": 54
        }
      },
      "cell_type": "code",
      "source": [
        "import pandas as pd\n",
        "\n",
        "prediction = model.predict(test_sentences_X)\n",
        "log_tokens = logits_to_tokens(prediction, {i: t for t, i in tag2index.items()})\n",
        "\n",
        "print(log_tokens[0])"
      ],
      "execution_count": 30,
      "outputs": [
        {
          "output_type": "stream",
          "text": [
            "['da0ms0', 'ncms000', 'aq0cs0', 'vaip3s0', 'vmp00sm', 'cs', 'da0fs0', 'ncfs000', 'sps00', 'np00000', 'vaip3s0', 'vmp00sm', 'sps00', 'Fe', 'vmn0000', 'Fe', 'Fc', 'cc', 'sn.e-SUJ', 'vaip3s0', 'vmp00sm', 'cs', 'da0ms0', 'ncms000', 'sps00', 'da0ms0', 'ncms000', 'vmip3s0', 'cs', 'sps00', 'da0ms0', 'np0000l', 'Fe', 'pi0mp000', 'vmip3p0', 'sps00', 'da0fs0', 'di0fs0', 'ncfs000', 'Fe', 'Fp', '-PAD-', '-PAD-', '-PAD-', '-PAD-', '-PAD-', '-PAD-', '-PAD-', '-PAD-', '-PAD-', '-PAD-', '-PAD-', '-PAD-', '-PAD-', '-PAD-', '-PAD-', '-PAD-', '-PAD-', '-PAD-', '-PAD-', '-PAD-', '-PAD-', '-PAD-', '-PAD-', '-PAD-', '-PAD-', '-PAD-', '-PAD-', '-PAD-', '-PAD-', '-PAD-', '-PAD-', '-PAD-', '-PAD-', '-PAD-', '-PAD-', '-PAD-', '-PAD-', '-PAD-', '-PAD-', '-PAD-', '-PAD-', '-PAD-', '-PAD-', '-PAD-', '-PAD-', '-PAD-', '-PAD-', '-PAD-', '-PAD-', '-PAD-', '-PAD-', '-PAD-', '-PAD-', '-PAD-', '-PAD-', '-PAD-', '-PAD-', '-PAD-', '-PAD-', '-PAD-', '-PAD-', '-PAD-', '-PAD-', '-PAD-', '-PAD-', '-PAD-', '-PAD-', '-PAD-', '-PAD-', '-PAD-', '-PAD-', '-PAD-', '-PAD-', '-PAD-', '-PAD-', '-PAD-', '-PAD-', '-PAD-', '-PAD-', '-PAD-', '-PAD-', '-PAD-', '-PAD-', '-PAD-', '-PAD-', '-PAD-', '-PAD-', '-PAD-', '-PAD-', '-PAD-', '-PAD-', '-PAD-', '-PAD-', '-PAD-', '-PAD-', '-PAD-', '-PAD-', '-PAD-', '-PAD-', '-PAD-', '-PAD-', '-PAD-', '-PAD-', '-PAD-', '-PAD-', '-PAD-', '-PAD-', '-PAD-']\n"
          ],
          "name": "stdout"
        }
      ]
    },
    {
      "metadata": {
        "colab_type": "text",
        "id": "uT6IIQXrQuix"
      },
      "cell_type": "markdown",
      "source": [
        "### Hallamos los valores de F1 score, recall, precision"
      ]
    },
    {
      "metadata": {
        "colab_type": "code",
        "id": "GqTuNxppFNu-",
        "outputId": "ce0f608a-171e-411d-f5d1-88666b57cd19",
        "colab": {
          "base_uri": "https://localhost:8080/",
          "height": 4219
        }
      },
      "cell_type": "code",
      "source": [
        "from sklearn.metrics import classification_report, confusion_matrix\n",
        "\n",
        "results = pd.DataFrame(columns=['Expected', 'Predicted'])\n",
        "k = 0\n",
        "for i, lista_etiquetas_oracion in enumerate(test_tags):\n",
        "    for j, etiquetas in enumerate(lista_etiquetas_oracion):\n",
        "        k = k + 1\n",
        "        results.loc[k, 'Expected'] = etiquetas\n",
        "        results.loc[k, 'Predicted'] = log_tokens[i][j]\n",
        "\n",
        "# print(results)\n",
        "\n",
        "\n",
        "print('\\nclassification_report:\\n', classification_report(results['Expected'], results['Predicted']))"
      ],
      "execution_count": 32,
      "outputs": [
        {
          "output_type": "stream",
          "text": [
            "/usr/local/lib/python3.6/dist-packages/sklearn/metrics/classification.py:1143: UndefinedMetricWarning: Precision and F-score are ill-defined and being set to 0.0 in labels with no predicted samples.\n",
            "  'precision', 'predicted', average, warn_for)\n",
            "/usr/local/lib/python3.6/dist-packages/sklearn/metrics/classification.py:1145: UndefinedMetricWarning: Recall and F-score are ill-defined and being set to 0.0 in labels with no true samples.\n",
            "  'recall', 'true', average, warn_for)\n"
          ],
          "name": "stderr"
        },
        {
          "output_type": "stream",
          "text": [
            "\n",
            "classification_report:\n",
            "               precision    recall  f1-score   support\n",
            "\n",
            "       -PAD-       0.00      0.00      0.00         0\n",
            "         Faa       1.00      1.00      1.00         2\n",
            "         Fat       1.00      0.80      0.89         5\n",
            "          Fc       1.00      1.00      1.00      2291\n",
            "          Fd       1.00      1.00      1.00        87\n",
            "          Fe       1.00      1.00      1.00       631\n",
            "          Fg       0.98      1.00      0.99       226\n",
            "          Fh       0.00      0.00      0.00         3\n",
            "         Fia       1.00      1.00      1.00         6\n",
            "         Fit       1.00      1.00      1.00        19\n",
            "          Fp       1.00      1.00      1.00      1178\n",
            "         Fpa       1.00      1.00      1.00       156\n",
            "         Fpt       1.00      1.00      1.00       160\n",
            "          Fs       1.00      1.00      1.00        13\n",
            "          Fx       1.00      1.00      1.00        41\n",
            "          Fz       0.00      0.00      0.00         2\n",
            "           W       0.98      0.61      0.76       194\n",
            "           Z       0.89      0.57      0.70       320\n",
            "          Zm       0.72      0.94      0.81        35\n",
            "          Zp       0.94      0.38      0.54        45\n",
            "      ao0fp0       1.00      1.00      1.00        17\n",
            "      ao0fs0       0.95      0.92      0.94        66\n",
            "      ao0mp0       0.81      0.96      0.88        23\n",
            "      ao0ms0       0.93      0.93      0.93        59\n",
            "     aq00000       0.00      0.00      0.00         2\n",
            "      aq0cn0       0.00      0.00      0.00         4\n",
            "      aq0cp0       0.91      0.70      0.79       228\n",
            "      aq0cs0       0.93      0.84      0.88       590\n",
            "      aq0fp0       0.61      0.78      0.68       128\n",
            "      aq0fpp       0.50      0.33      0.40        52\n",
            "      aq0fs0       0.82      0.73      0.77       355\n",
            "      aq0fsp       0.63      0.43      0.51       140\n",
            "      aq0mp0       0.68      0.69      0.69       202\n",
            "      aq0mpp       0.59      0.40      0.48        96\n",
            "      aq0ms0       0.79      0.74      0.76       491\n",
            "      aq0msp       0.87      0.59      0.71       222\n",
            "          cc       0.99      0.99      0.99      1222\n",
            "          cs       0.89      0.88      0.88       927\n",
            "      da0fp0       0.98      1.00      0.99       374\n",
            "      da0fs0       0.99      1.00      0.99      1324\n",
            "      da0mp0       1.00      1.00      1.00       637\n",
            "      da0ms0       1.00      1.00      1.00      1275\n",
            "      da0ns0       0.87      0.98      0.92       110\n",
            "      dd0cp0       1.00      0.50      0.67         2\n",
            "      dd0cs0       1.00      0.75      0.86         4\n",
            "      dd0fp0       0.90      1.00      0.95        18\n",
            "      dd0fs0       0.97      1.00      0.99        67\n",
            "      dd0mp0       0.88      1.00      0.94        30\n",
            "      dd0ms0       0.95      1.00      0.98       101\n",
            "      di0cp0       0.75      0.60      0.67         5\n",
            "      di0cs0       0.96      0.88      0.92        26\n",
            "      di0fp0       0.95      0.99      0.97        71\n",
            "      di0fs0       0.98      0.99      0.98       335\n",
            "      di0mp0       0.92      0.92      0.92       112\n",
            "      di0ms0       0.96      0.94      0.95       482\n",
            "      dn0cp0       0.96      0.93      0.95       149\n",
            "      dn0cs0       0.00      0.00      0.00         1\n",
            "      dn0fp0       1.00      1.00      1.00         4\n",
            "      dn0fs0       0.33      0.50      0.40         2\n",
            "      dn0mp0       1.00      0.40      0.57         5\n",
            "      dn0ms0       0.50      0.22      0.31         9\n",
            "      dp1cps       0.50      1.00      0.67         1\n",
            "      dp1css       1.00      1.00      1.00         8\n",
            "      dp1fpp       1.00      1.00      1.00         1\n",
            "      dp1fsp       1.00      1.00      1.00         6\n",
            "      dp1mpp       1.00      0.71      0.83         7\n",
            "      dp1msp       1.00      1.00      1.00         8\n",
            "      dp2css       1.00      0.33      0.50         3\n",
            "      dp3cp0       1.00      1.00      1.00       107\n",
            "      dp3cs0       1.00      1.00      1.00       275\n",
            "      dp3fs0       0.00      0.00      0.00         1\n",
            "      dt0cn0       1.00      0.33      0.50         3\n",
            "           i       0.04      0.50      0.07         4\n",
            "     nc00000       0.07      0.15      0.10        26\n",
            "     nccn000       0.00      0.00      0.00         5\n",
            "     nccp000       0.83      0.88      0.85       103\n",
            "     nccs000       0.90      0.65      0.76       146\n",
            "     ncfn000       1.00      0.67      0.80        15\n",
            "     ncfp000       0.92      0.87      0.89       788\n",
            "     ncfs000       0.94      0.90      0.92      2132\n",
            "     ncmn000       0.87      0.54      0.67        24\n",
            "     ncmp000       0.95      0.83      0.89      1166\n",
            "     ncms000       0.84      0.92      0.88      2365\n",
            "     np00000       0.03      0.18      0.05        51\n",
            "     np0000a       0.29      0.35      0.31       202\n",
            "     np0000l       0.71      0.64      0.67       412\n",
            "     np0000o       0.61      0.64      0.62       656\n",
            "     np0000p       0.57      0.75      0.65       720\n",
            "    p0000000       0.66      0.69      0.67       193\n",
            "    p010p000       0.00      0.00      0.00         2\n",
            "    p010s000       0.00      0.00      0.00         3\n",
            "    p020s000       0.50      1.00      0.67         1\n",
            "    p0300000       0.69      0.69      0.69       217\n",
            "    pd0fp000       0.00      0.00      0.00         3\n",
            "    pd0fs000       1.00      0.60      0.75         5\n",
            "    pd0mp000       0.67      0.33      0.44         6\n",
            "    pd0ms000       1.00      0.75      0.86         8\n",
            "    pd0ns000       1.00      1.00      1.00        22\n",
            "    pi0cp000       0.33      1.00      0.50         2\n",
            "    pi0cs000       1.00      0.95      0.97        40\n",
            "    pi0fp000       1.00      0.43      0.60         7\n",
            "    pi0fs000       0.78      0.64      0.70        11\n",
            "    pi0mp000       0.76      0.74      0.75        35\n",
            "    pi0ms000       0.76      0.65      0.70        54\n",
            "    pn0cp000       0.86      0.89      0.87        27\n",
            "    pn0mp000       0.50      1.00      0.67         3\n",
            "    pn0ms000       0.00      0.00      0.00         2\n",
            "    pp1cp000       0.93      1.00      0.96        27\n",
            "    pp1cs000       0.90      0.96      0.93        27\n",
            "    pp1csn00       1.00      0.88      0.93        16\n",
            "    pp1cso00       1.00      1.00      1.00         5\n",
            "    pp1mp000       1.00      1.00      1.00         9\n",
            "    pp2cs000       1.00      0.75      0.86         4\n",
            "    pp2cs00p       0.33      0.25      0.29         4\n",
            "    pp2csn00       0.00      0.00      0.00         2\n",
            "    pp2cso00       0.00      0.00      0.00         1\n",
            "    pp3cn000       0.00      0.00      0.00        10\n",
            "    pp3cna00       0.00      0.00      0.00         2\n",
            "    pp3cno00       1.00      1.00      1.00         5\n",
            "    pp3cpa00       0.00      0.00      0.00         2\n",
            "    pp3cpd00       0.85      1.00      0.92        11\n",
            "    pp3csa00       0.00      0.00      0.00         1\n",
            "    pp3csd00       0.98      0.98      0.98        63\n",
            "    pp3fp000       1.00      1.00      1.00         6\n",
            "    pp3fpa00       1.00      0.30      0.46        10\n",
            "    pp3fs000       1.00      1.00      1.00        13\n",
            "    pp3fsa00       0.57      0.24      0.33        17\n",
            "    pp3mp000       1.00      1.00      1.00        26\n",
            "    pp3mpa00       1.00      0.25      0.40         4\n",
            "    pp3ms000       1.00      1.00      1.00        23\n",
            "    pp3msa00       0.90      0.58      0.70        33\n",
            "    pp3ns000       1.00      1.00      1.00        15\n",
            "    pr000000       0.83      0.77      0.80        26\n",
            "    pr0cn000       0.86      0.87      0.87       616\n",
            "    pr0cp000       1.00      1.00      1.00        10\n",
            "    pr0cs000       0.94      1.00      0.97        32\n",
            "    pr0fp000       0.00      0.00      0.00         1\n",
            "    pr0fs000       1.00      1.00      1.00         5\n",
            "    pr0ms000       0.50      0.33      0.40         3\n",
            "    pt000000       1.00      0.75      0.86        12\n",
            "    pt0cp000       0.00      0.00      0.00         1\n",
            "    pt0cs000       0.89      0.94      0.92        18\n",
            "    pt0mp000       0.00      0.00      0.00         2\n",
            "    px1fs0p0       1.00      1.00      1.00         1\n",
            "    px3ns000       0.00      0.00      0.00         1\n",
            "          rg       0.95      0.89      0.92      1208\n",
            "          rn       0.97      0.99      0.98       265\n",
            "      sn-SUJ       0.00      0.00      0.00         1\n",
            "        sn.e       0.00      0.00      0.00         4\n",
            "    sn.e-SUJ       0.99      1.00      0.99       818\n",
            " sn.e.1n-SUJ       0.00      0.00      0.00         6\n",
            "       spcms       1.00      0.99      0.99       692\n",
            "       sps00       0.99      0.99      0.99      5056\n",
            "     vaic3p0       0.00      0.00      0.00         1\n",
            "     vaic3s0       1.00      1.00      1.00         4\n",
            "     vaif1p0       0.00      0.00      0.00         1\n",
            "     vaif3s0       1.00      1.00      1.00         3\n",
            "     vaii1s0       0.00      0.00      0.00         1\n",
            "     vaii3p0       1.00      1.00      1.00        13\n",
            "     vaii3s0       0.98      1.00      0.99        41\n",
            "     vaip1p0       1.00      1.00      1.00         8\n",
            "     vaip1s0       1.00      0.89      0.94         9\n",
            "     vaip3p0       1.00      1.00      1.00        48\n",
            "     vaip3s0       1.00      0.99      1.00       185\n",
            "     vais3s0       1.00      1.00      1.00         5\n",
            "     van0000       0.95      1.00      0.98        21\n",
            "     vap00sm       1.00      1.00      1.00         1\n",
            "     vasi1p0       0.00      0.00      0.00         1\n",
            "     vasi3p0       0.00      0.00      0.00         2\n",
            "     vasi3s0       1.00      1.00      1.00        11\n",
            "     vasp1s0       0.00      0.00      0.00         1\n",
            "     vasp3p0       1.00      1.00      1.00         1\n",
            "     vasp3s0       0.89      1.00      0.94         8\n",
            "     vmg0000       0.48      0.42      0.45        92\n",
            "     vmic1p0       0.00      0.00      0.00         2\n",
            "     vmic1s0       0.00      0.00      0.00         0\n",
            "     vmic3p0       1.00      0.55      0.71        11\n",
            "     vmic3s0       1.00      0.70      0.82        30\n",
            "     vmif1p0       0.00      0.00      0.00         7\n",
            "     vmif1s0       1.00      0.33      0.50         3\n",
            "     vmif2s0       0.00      0.00      0.00         1\n",
            "     vmif3p0       0.74      0.42      0.54        40\n",
            "     vmif3s0       1.00      0.55      0.71       114\n",
            "     vmii1p0       0.50      0.22      0.31         9\n",
            "     vmii1s0       0.00      0.00      0.00         7\n",
            "     vmii3p0       0.87      0.39      0.54        67\n",
            "     vmii3s0       0.91      0.63      0.74       143\n",
            "     vmip1p0       1.00      0.67      0.80        60\n",
            "     vmip1s0       0.57      0.78      0.66        60\n",
            "     vmip2s0       0.08      0.67      0.14         6\n",
            "     vmip3p0       0.98      0.67      0.79       279\n",
            "     vmip3s0       0.67      0.92      0.78       599\n",
            "     vmis1p0       0.00      0.00      0.00         5\n",
            "     vmis1s0       0.75      0.25      0.38        12\n",
            "     vmis2s0       0.00      0.00      0.00         0\n",
            "     vmis3p0       1.00      0.55      0.71       148\n",
            "     vmis3s0       0.99      0.85      0.92       606\n",
            "     vmm02s0       0.00      0.00      0.00         3\n",
            "     vmm03p0       0.00      0.00      0.00         1\n",
            "     vmm03s0       0.00      0.00      0.00         7\n",
            "     vmn0000       0.76      0.86      0.81       849\n",
            "     vmp00pf       0.00      0.00      0.00         5\n",
            "     vmp00pm       0.23      0.38      0.29        16\n",
            "     vmp00sf       0.29      0.47      0.36        19\n",
            "     vmp00sm       0.90      0.91      0.91       311\n",
            "     vmsi1p0       0.00      0.00      0.00         2\n",
            "     vmsi1s0       0.00      0.00      0.00         2\n",
            "     vmsi3p0       1.00      0.08      0.15        12\n",
            "     vmsi3s0       0.90      0.35      0.50        26\n",
            "     vmsp1p0       0.05      0.22      0.09         9\n",
            "     vmsp1s0       0.25      0.14      0.18         7\n",
            "     vmsp3p0       0.35      0.49      0.41        45\n",
            "     vmsp3s0       0.62      0.56      0.59        66\n",
            "     vsg0000       1.00      1.00      1.00         7\n",
            "     vsic1s0       1.00      1.00      1.00         1\n",
            "     vsic3p0       0.00      0.00      0.00         2\n",
            "     vsic3s0       1.00      1.00      1.00         8\n",
            "     vsif3s0       1.00      1.00      1.00        13\n",
            "     vsii3p0       1.00      1.00      1.00        13\n",
            "     vsii3s0       0.90      1.00      0.95        26\n",
            "     vsip1p0       0.25      1.00      0.40         1\n",
            "     vsip1s0       1.00      1.00      1.00         3\n",
            "     vsip2s0       0.00      0.00      0.00         2\n",
            "     vsip3p0       1.00      1.00      1.00        48\n",
            "     vsip3s0       1.00      1.00      1.00       190\n",
            "     vsis3p0       0.95      1.00      0.97        18\n",
            "     vsis3s0       1.00      1.00      1.00        39\n",
            "     vsn0000       1.00      1.00      1.00        35\n",
            "     vsp00sm       1.00      1.00      1.00        32\n",
            "     vssi3p0       0.00      0.00      0.00         1\n",
            "     vssi3s0       1.00      1.00      1.00         3\n",
            "     vssp3p0       1.00      1.00      1.00         5\n",
            "     vssp3s0       1.00      1.00      1.00        12\n",
            "\n",
            "   micro avg       0.89      0.89      0.89     38876\n",
            "   macro avg       0.68      0.63      0.64     38876\n",
            "weighted avg       0.91      0.89      0.90     38876\n",
            "\n"
          ],
          "name": "stdout"
        }
      ]
    },
    {
      "metadata": {
        "colab_type": "text",
        "id": "nrAAFx0XrWT1"
      },
      "cell_type": "markdown",
      "source": [
        "## PARTE 4  -  Testing"
      ]
    },
    {
      "metadata": {
        "colab_type": "text",
        "id": "uvOz-IShFzRR"
      },
      "cell_type": "markdown",
      "source": [
        "### Creamos un pequeño Ejemplo"
      ]
    },
    {
      "metadata": {
        "colab_type": "code",
        "id": "_WT1PtS_Qui0",
        "colab": {
          "base_uri": "https://localhost:8080/",
          "height": 54
        },
        "outputId": "2b4924f5-440f-4d52-8378-9c0adc54155a"
      },
      "cell_type": "code",
      "source": [
        "test_samples = [\n",
        "    \"Correr es importante para mi .\".split(),\n",
        "    \"El hombre bajo corre bajo el puente con bajo índice de adrenalina .\".split()\n",
        "]\n",
        "print(test_samples)"
      ],
      "execution_count": 33,
      "outputs": [
        {
          "output_type": "stream",
          "text": [
            "[['Correr', 'es', 'importante', 'para', 'mi', '.'], ['El', 'hombre', 'bajo', 'corre', 'bajo', 'el', 'puente', 'con', 'bajo', 'índice', 'de', 'adrenalina', '.']]\n"
          ],
          "name": "stdout"
        }
      ]
    },
    {
      "metadata": {
        "colab_type": "text",
        "id": "X5E7-zZdGCjY"
      },
      "cell_type": "markdown",
      "source": [
        "### Convertimos el texto en Una entrada para el Modelo"
      ]
    },
    {
      "metadata": {
        "colab_type": "code",
        "id": "BApB6ScZ9jU8",
        "colab": {
          "base_uri": "https://localhost:8080/",
          "height": 459
        },
        "outputId": "cc225d1f-7182-4ab1-d327-b5cb265f4c63"
      },
      "cell_type": "code",
      "source": [
        "test_samples_X = []\n",
        "for s in test_samples:\n",
        "    s_int = []\n",
        "    for w in s:\n",
        "        try:\n",
        "            s_int.append(word2index[w.lower()])\n",
        "        except KeyError:\n",
        "            s_int.append(word2index['-OOV-'])\n",
        "    test_samples_X.append(s_int)\n",
        "\n",
        "test_samples_X = pad_sequences(test_samples_X, maxlen=MAX_LENGTH, padding='post')\n",
        "print(test_samples_X)"
      ],
      "execution_count": 34,
      "outputs": [
        {
          "output_type": "stream",
          "text": [
            "[[10597 23818   494 20525  8354  5906     0     0     0     0     0     0\n",
            "      0     0     0     0     0     0     0     0     0     0     0     0\n",
            "      0     0     0     0     0     0     0     0     0     0     0     0\n",
            "      0     0     0     0     0     0     0     0     0     0     0     0\n",
            "      0     0     0     0     0     0     0     0     0     0     0     0\n",
            "      0     0     0     0     0     0     0     0     0     0     0     0\n",
            "      0     0     0     0     0     0     0     0     0     0     0     0\n",
            "      0     0     0     0     0     0     0     0     0     0     0     0\n",
            "      0     0     0     0     0     0     0     0     0     0     0     0\n",
            "      0     0     0     0     0     0     0     0     0     0     0     0\n",
            "      0     0     0     0     0     0     0     0     0     0     0     0\n",
            "      0     0     0     0     0     0     0     0     0     0     0     0\n",
            "      0     0     0     0     0]\n",
            " [17992 11842  7909 11446  7909 17992   676 12946  7909  9723   483     1\n",
            "   5906     0     0     0     0     0     0     0     0     0     0     0\n",
            "      0     0     0     0     0     0     0     0     0     0     0     0\n",
            "      0     0     0     0     0     0     0     0     0     0     0     0\n",
            "      0     0     0     0     0     0     0     0     0     0     0     0\n",
            "      0     0     0     0     0     0     0     0     0     0     0     0\n",
            "      0     0     0     0     0     0     0     0     0     0     0     0\n",
            "      0     0     0     0     0     0     0     0     0     0     0     0\n",
            "      0     0     0     0     0     0     0     0     0     0     0     0\n",
            "      0     0     0     0     0     0     0     0     0     0     0     0\n",
            "      0     0     0     0     0     0     0     0     0     0     0     0\n",
            "      0     0     0     0     0     0     0     0     0     0     0     0\n",
            "      0     0     0     0     0]]\n"
          ],
          "name": "stdout"
        }
      ]
    },
    {
      "metadata": {
        "colab_type": "text",
        "id": "trNZCjTWGLp-"
      },
      "cell_type": "markdown",
      "source": [
        "### Se Ejecuta la predicion con la Entrada del modelo entrenado"
      ]
    },
    {
      "metadata": {
        "colab_type": "code",
        "id": "OX6Bd2Rz9oha",
        "colab": {
          "base_uri": "https://localhost:8080/",
          "height": 476
        },
        "outputId": "60f05bcd-7fe3-4fe2-f169-f95d48b386f7"
      },
      "cell_type": "code",
      "source": [
        "predictions = model.predict(test_samples_X)\n",
        "print(predictions, predictions.shape)"
      ],
      "execution_count": 35,
      "outputs": [
        {
          "output_type": "stream",
          "text": [
            "[[[1.2200224e-03 1.0107079e-06 9.0371206e-05 ... 4.8912945e-08\n",
            "   9.2098540e-05 6.9522770e-04]\n",
            "  [2.2434401e-07 1.1772408e-08 3.6358599e-06 ... 9.1116352e-05\n",
            "   1.1758530e-06 6.5434751e-06]\n",
            "  [2.0470955e-07 5.5658183e-11 4.7138009e-08 ... 1.7761405e-09\n",
            "   9.2934505e-09 3.1560880e-08]\n",
            "  ...\n",
            "  [9.9996054e-01 3.1575270e-10 3.8673345e-09 ... 3.0470645e-18\n",
            "   2.6549731e-09 4.8045717e-10]\n",
            "  [9.9995184e-01 1.3445730e-09 8.4364320e-09 ... 1.8695157e-17\n",
            "   5.9764869e-09 1.0366676e-09]\n",
            "  [9.9994171e-01 4.0243622e-09 1.5845782e-08 ... 8.0142744e-17\n",
            "   1.1341243e-08 1.9487807e-09]]\n",
            "\n",
            " [[5.6681099e-08 1.4691852e-09 2.7641568e-07 ... 1.8747427e-08\n",
            "   2.2692079e-07 4.9413546e-07]\n",
            "  [2.0487100e-06 9.3668906e-10 3.0396404e-07 ... 2.0974106e-11\n",
            "   4.0484093e-07 4.6879055e-07]\n",
            "  [4.2412415e-05 4.1437236e-09 3.0354217e-06 ... 7.1194925e-11\n",
            "   1.2766928e-06 1.4211455e-06]\n",
            "  ...\n",
            "  [9.9996209e-01 2.7338987e-10 3.4309169e-09 ... 2.2988731e-18\n",
            "   2.4138549e-09 4.3863502e-10]\n",
            "  [9.9995410e-01 1.1673837e-09 7.5023614e-09 ... 1.4141462e-17\n",
            "   5.4472316e-09 9.4739427e-10]\n",
            "  [9.9994540e-01 3.5035024e-09 1.4124529e-08 ... 6.0776639e-17\n",
            "   1.0361574e-08 1.7826925e-09]]] (2, 149, 291)\n"
          ],
          "name": "stdout"
        }
      ]
    },
    {
      "metadata": {
        "colab_type": "text",
        "id": "l-XS5z-NGiM-"
      },
      "cell_type": "markdown",
      "source": [
        "### Conversion de la Salida del Modelo a un lista de Indices de Tags"
      ]
    },
    {
      "metadata": {
        "colab_type": "code",
        "id": "IgIutMjq92cp",
        "colab": {
          "base_uri": "https://localhost:8080/",
          "height": 54
        },
        "outputId": "be1b6bc1-1783-47fd-e971-4a496ba89247"
      },
      "cell_type": "code",
      "source": [
        "#print(len(predictions))\n",
        "log_tokens = logits_to_tokens(predictions, {i: t for t, i in tag2index.items()})\n",
        "print(log_tokens)"
      ],
      "execution_count": 36,
      "outputs": [
        {
          "output_type": "stream",
          "text": [
            "[['vmn0000', 'vsip3s0', 'aq0cs0', 'sps00', 'dp1css', 'Fp', '-PAD-', '-PAD-', '-PAD-', '-PAD-', '-PAD-', '-PAD-', '-PAD-', '-PAD-', '-PAD-', '-PAD-', '-PAD-', '-PAD-', '-PAD-', '-PAD-', '-PAD-', '-PAD-', '-PAD-', '-PAD-', '-PAD-', '-PAD-', '-PAD-', '-PAD-', '-PAD-', '-PAD-', '-PAD-', '-PAD-', '-PAD-', '-PAD-', '-PAD-', '-PAD-', '-PAD-', '-PAD-', '-PAD-', '-PAD-', '-PAD-', '-PAD-', '-PAD-', '-PAD-', '-PAD-', '-PAD-', '-PAD-', '-PAD-', '-PAD-', '-PAD-', '-PAD-', '-PAD-', '-PAD-', '-PAD-', '-PAD-', '-PAD-', '-PAD-', '-PAD-', '-PAD-', '-PAD-', '-PAD-', '-PAD-', '-PAD-', '-PAD-', '-PAD-', '-PAD-', '-PAD-', '-PAD-', '-PAD-', '-PAD-', '-PAD-', '-PAD-', '-PAD-', '-PAD-', '-PAD-', '-PAD-', '-PAD-', '-PAD-', '-PAD-', '-PAD-', '-PAD-', '-PAD-', '-PAD-', '-PAD-', '-PAD-', '-PAD-', '-PAD-', '-PAD-', '-PAD-', '-PAD-', '-PAD-', '-PAD-', '-PAD-', '-PAD-', '-PAD-', '-PAD-', '-PAD-', '-PAD-', '-PAD-', '-PAD-', '-PAD-', '-PAD-', '-PAD-', '-PAD-', '-PAD-', '-PAD-', '-PAD-', '-PAD-', '-PAD-', '-PAD-', '-PAD-', '-PAD-', '-PAD-', '-PAD-', '-PAD-', '-PAD-', '-PAD-', '-PAD-', '-PAD-', '-PAD-', '-PAD-', '-PAD-', '-PAD-', '-PAD-', '-PAD-', '-PAD-', '-PAD-', '-PAD-', '-PAD-', '-PAD-', '-PAD-', '-PAD-', '-PAD-', '-PAD-', '-PAD-', '-PAD-', '-PAD-', '-PAD-', '-PAD-', '-PAD-', '-PAD-', '-PAD-', '-PAD-', '-PAD-', '-PAD-', '-PAD-', '-PAD-', '-PAD-', '-PAD-'], ['da0ms0', 'ncms000', 'aq0ms0', 'vmip3s0', 'sps00', 'da0ms0', 'ncms000', 'sps00', 'sps00', 'ncms000', 'sps00', 'Z', 'Fp', '-PAD-', '-PAD-', '-PAD-', '-PAD-', '-PAD-', '-PAD-', '-PAD-', '-PAD-', '-PAD-', '-PAD-', '-PAD-', '-PAD-', '-PAD-', '-PAD-', '-PAD-', '-PAD-', '-PAD-', '-PAD-', '-PAD-', '-PAD-', '-PAD-', '-PAD-', '-PAD-', '-PAD-', '-PAD-', '-PAD-', '-PAD-', '-PAD-', '-PAD-', '-PAD-', '-PAD-', '-PAD-', '-PAD-', '-PAD-', '-PAD-', '-PAD-', '-PAD-', '-PAD-', '-PAD-', '-PAD-', '-PAD-', '-PAD-', '-PAD-', '-PAD-', '-PAD-', '-PAD-', '-PAD-', '-PAD-', '-PAD-', '-PAD-', '-PAD-', '-PAD-', '-PAD-', '-PAD-', '-PAD-', '-PAD-', '-PAD-', '-PAD-', '-PAD-', '-PAD-', '-PAD-', '-PAD-', '-PAD-', '-PAD-', '-PAD-', '-PAD-', '-PAD-', '-PAD-', '-PAD-', '-PAD-', '-PAD-', '-PAD-', '-PAD-', '-PAD-', '-PAD-', '-PAD-', '-PAD-', '-PAD-', '-PAD-', '-PAD-', '-PAD-', '-PAD-', '-PAD-', '-PAD-', '-PAD-', '-PAD-', '-PAD-', '-PAD-', '-PAD-', '-PAD-', '-PAD-', '-PAD-', '-PAD-', '-PAD-', '-PAD-', '-PAD-', '-PAD-', '-PAD-', '-PAD-', '-PAD-', '-PAD-', '-PAD-', '-PAD-', '-PAD-', '-PAD-', '-PAD-', '-PAD-', '-PAD-', '-PAD-', '-PAD-', '-PAD-', '-PAD-', '-PAD-', '-PAD-', '-PAD-', '-PAD-', '-PAD-', '-PAD-', '-PAD-', '-PAD-', '-PAD-', '-PAD-', '-PAD-', '-PAD-', '-PAD-', '-PAD-', '-PAD-', '-PAD-', '-PAD-', '-PAD-', '-PAD-', '-PAD-', '-PAD-', '-PAD-', '-PAD-', '-PAD-']]\n"
          ],
          "name": "stdout"
        }
      ]
    },
    {
      "metadata": {
        "colab_type": "text",
        "id": "VmWp09kyGrQC"
      },
      "cell_type": "markdown",
      "source": [
        "### Presentacion de los Resultados"
      ]
    },
    {
      "metadata": {
        "colab_type": "code",
        "id": "wNMCM8_jSdCL",
        "colab": {
          "base_uri": "https://localhost:8080/",
          "height": 153
        },
        "outputId": "127dade3-c5da-4163-fbe6-d68839d1fe02"
      },
      "cell_type": "code",
      "source": [
        "#!pip install tabulate\n",
        "from tabulate import tabulate\n",
        "\n",
        "heads1 = test_samples[0]\n",
        "body1 = [log_tokens[0][:len(test_samples[0])]]\n",
        "\n",
        "heads2 = test_samples[1]\n",
        "body2 = [log_tokens[1][:len(test_samples[1])]]\n",
        "\n",
        "print(tabulate(body1, headers=heads1))\n",
        "\n",
        "print (\"\\n\")\n",
        "\n",
        "print(tabulate(body2, headers=heads2))\n",
        "\n",
        "\n",
        "## postagging Freeling 4.1\n",
        "\n",
        "## El      hombre   bajo     corre    bajo  el      puente   con  bajo  índice   de  adrenalina  .\n",
        "## DA0MS0  NCMS000  AQ0MS00  VMIP3S0  SP    DA0MS0  NCMS000  SP   SP    NCMS000  SP  NCFS000     Fp\n",
        "\n",
        "\n",
        "## pos tagger Stanford NLP\n",
        "\n",
        "## El      hombre   bajo     corre    bajo  el      puente   con    bajo   índice  de    adrenalina  .\n",
        "## da0000  nc0s000  aq0000   vmip000  sp000 da0000  nc0s000  sp000  aq0000 nc0s000 sp000 nc0s000     fp"
      ],
      "execution_count": 38,
      "outputs": [
        {
          "output_type": "stream",
          "text": [
            "Correr    es       importante    para    mi      .\n",
            "--------  -------  ------------  ------  ------  ---\n",
            "vmn0000   vsip3s0  aq0cs0        sps00   dp1css  Fp\n",
            "\n",
            "\n",
            "El      hombre    bajo    corre    bajo    el      puente    con    bajo    índice    de     adrenalina    .\n",
            "------  --------  ------  -------  ------  ------  --------  -----  ------  --------  -----  ------------  ---\n",
            "da0ms0  ncms000   aq0ms0  vmip3s0  sps00   da0ms0  ncms000   sps00  sps00   ncms000   sps00  Z             Fp\n"
          ],
          "name": "stdout"
        }
      ]
    },
    {
      "metadata": {
        "colab_type": "text",
        "id": "zEqVaw-HSPiu"
      },
      "cell_type": "markdown",
      "source": [
        "## PARTE 5  -  Mejorando la Precision y Exactitud del Modelo"
      ]
    },
    {
      "metadata": {
        "colab_type": "text",
        "id": "1gR8kcV0GwFS"
      },
      "cell_type": "markdown",
      "source": [
        "### Definimos una clase que permita ignorar los Valores de Relleno"
      ]
    },
    {
      "metadata": {
        "colab_type": "code",
        "id": "QwNvdZiE956Y",
        "colab": {}
      },
      "cell_type": "code",
      "source": [
        "from keras import backend as K\n",
        " \n",
        "def ignore_class_accuracy(to_ignore=0):\n",
        "    def ignore_accuracy(y_true, y_pred):\n",
        "        y_true_class = K.argmax(y_true, axis=-1)\n",
        "        y_pred_class = K.argmax(y_pred, axis=-1)\n",
        " \n",
        "        ignore_mask = K.cast(K.not_equal(y_pred_class, to_ignore), 'int32')\n",
        "        matches = K.cast(K.equal(y_true_class, y_pred_class), 'int32') * ignore_mask\n",
        "        accuracy = K.sum(matches) / K.maximum(K.sum(ignore_mask), 1)\n",
        "        return accuracy\n",
        "    return ignore_accuracy"
      ],
      "execution_count": 0,
      "outputs": []
    },
    {
      "metadata": {
        "colab_type": "text",
        "id": "AxT3F3pHIGHk"
      },
      "cell_type": "markdown",
      "source": [
        "### Definimos nuevamente nuestro modelo, agregado la clase Creada"
      ]
    },
    {
      "metadata": {
        "colab_type": "code",
        "id": "KO4DTAAE-BaS",
        "colab": {},
        "outputId": "4c4eddaa-d0d6-40d8-ef92-0b9417237268"
      },
      "cell_type": "code",
      "source": [
        "from keras.models import Sequential\n",
        "from keras.layers import Dense, LSTM, InputLayer, Bidirectional, TimeDistributed, Embedding, Activation\n",
        "from keras.optimizers import Adam\n",
        " \n",
        "\n",
        "model = Sequential()\n",
        "model.add(InputLayer(input_shape=(MAX_LENGTH, )))\n",
        "model.add(Embedding(len(word2index), 128))\n",
        "model.add(Bidirectional(LSTM(256, return_sequences=True)))\n",
        "model.add(TimeDistributed(Dense(len(tag2index))))\n",
        "model.add(Activation('softmax'))\n",
        " \n",
        "model.compile(loss='categorical_crossentropy', optimizer=Adam(0.001),  metrics=['accuracy', ignore_class_accuracy(0)]) \n",
        "\n",
        "model.summary()"
      ],
      "execution_count": 0,
      "outputs": [
        {
          "output_type": "stream",
          "text": [
            "_________________________________________________________________\n",
            "Layer (type)                 Output Shape              Param #   \n",
            "=================================================================\n",
            "embedding_5 (Embedding)      (None, 149, 128)          3135872   \n",
            "_________________________________________________________________\n",
            "bidirectional_5 (Bidirection (None, 149, 512)          788480    \n",
            "_________________________________________________________________\n",
            "time_distributed_5 (TimeDist (None, 149, 291)          149283    \n",
            "_________________________________________________________________\n",
            "activation_5 (Activation)    (None, 149, 291)          0         \n",
            "=================================================================\n",
            "Total params: 4,073,635\n",
            "Trainable params: 4,073,635\n",
            "Non-trainable params: 0\n",
            "_________________________________________________________________\n"
          ],
          "name": "stdout"
        }
      ]
    },
    {
      "metadata": {
        "colab_type": "text",
        "id": "Z8AiPXp8IVOu"
      },
      "cell_type": "markdown",
      "source": [
        "### Procedemos a Entrenar Nuevamente"
      ]
    },
    {
      "metadata": {
        "colab_type": "code",
        "id": "CwgZVEIW-ECo",
        "colab": {},
        "outputId": "65d7b8b0-d485-4cd7-8af2-2aa4f0acc201"
      },
      "cell_type": "code",
      "source": [
        "model.fit(train_sentences_X, to_categorical(train_tags_y, len(tag2index)), batch_size=128, epochs=40, validation_split=0.2)"
      ],
      "execution_count": 0,
      "outputs": [
        {
          "output_type": "stream",
          "text": [
            "Train on 2894 samples, validate on 724 samples\n",
            "Epoch 1/40\n",
            "2894/2894 [==============================] - 13s 4ms/step - loss: 2.4904 - acc: 0.7510 - ignore_accuracy: 0.0131 - val_loss: 1.0565 - val_acc: 0.7849 - val_ignore_accuracy: 0.0000e+00\n",
            "Epoch 2/40\n",
            "2894/2894 [==============================] - 11s 4ms/step - loss: 0.9301 - acc: 0.7871 - ignore_accuracy: 0.0645 - val_loss: 0.8984 - val_acc: 0.7863 - val_ignore_accuracy: 0.2207\n",
            "Epoch 3/40\n",
            "2894/2894 [==============================] - 11s 4ms/step - loss: 0.8729 - acc: 0.8085 - ignore_accuracy: 0.1650 - val_loss: 0.8709 - val_acc: 0.8131 - val_ignore_accuracy: 0.1354\n",
            "Epoch 4/40\n",
            "2894/2894 [==============================] - 11s 4ms/step - loss: 0.8492 - acc: 0.8149 - ignore_accuracy: 0.1361 - val_loss: 0.8525 - val_acc: 0.8130 - val_ignore_accuracy: 0.1355\n",
            "Epoch 5/40\n",
            "2894/2894 [==============================] - 11s 4ms/step - loss: 0.8297 - acc: 0.8149 - ignore_accuracy: 0.1361 - val_loss: 0.8345 - val_acc: 0.8130 - val_ignore_accuracy: 0.1353\n",
            "Epoch 6/40\n",
            "2894/2894 [==============================] - 11s 4ms/step - loss: 0.8118 - acc: 0.8154 - ignore_accuracy: 0.1378 - val_loss: 0.8174 - val_acc: 0.8182 - val_ignore_accuracy: 0.1565\n",
            "Epoch 7/40\n",
            "2894/2894 [==============================] - 11s 4ms/step - loss: 0.7956 - acc: 0.8196 - ignore_accuracy: 0.1552 - val_loss: 0.8028 - val_acc: 0.8193 - val_ignore_accuracy: 0.1612\n",
            "Epoch 8/40\n",
            "2894/2894 [==============================] - 11s 4ms/step - loss: 0.7792 - acc: 0.8230 - ignore_accuracy: 0.1697 - val_loss: 0.7858 - val_acc: 0.8308 - val_ignore_accuracy: 0.2147\n",
            "Epoch 9/40\n",
            "2894/2894 [==============================] - 11s 4ms/step - loss: 0.7578 - acc: 0.8334 - ignore_accuracy: 0.2186 - val_loss: 0.7571 - val_acc: 0.8319 - val_ignore_accuracy: 0.2198\n",
            "Epoch 10/40\n",
            "2894/2894 [==============================] - 11s 4ms/step - loss: 0.7217 - acc: 0.8361 - ignore_accuracy: 0.2314 - val_loss: 0.7154 - val_acc: 0.8383 - val_ignore_accuracy: 0.2502\n",
            "Epoch 11/40\n",
            "2894/2894 [==============================] - 11s 4ms/step - loss: 0.6681 - acc: 0.8560 - ignore_accuracy: 0.3251 - val_loss: 0.6503 - val_acc: 0.8677 - val_ignore_accuracy: 0.3859\n",
            "Epoch 12/40\n",
            "2894/2894 [==============================] - 11s 4ms/step - loss: 0.6031 - acc: 0.8786 - ignore_accuracy: 0.4306 - val_loss: 0.5822 - val_acc: 0.8787 - val_ignore_accuracy: 0.4373\n",
            "Epoch 13/40\n",
            "2894/2894 [==============================] - 11s 4ms/step - loss: 0.5330 - acc: 0.8868 - ignore_accuracy: 0.4690 - val_loss: 0.5139 - val_acc: 0.8894 - val_ignore_accuracy: 0.4873\n",
            "Epoch 14/40\n",
            "2894/2894 [==============================] - 11s 4ms/step - loss: 0.4625 - acc: 0.8980 - ignore_accuracy: 0.5220 - val_loss: 0.4467 - val_acc: 0.9029 - val_ignore_accuracy: 0.5498\n",
            "Epoch 15/40\n",
            "2894/2894 [==============================] - 11s 4ms/step - loss: 0.3945 - acc: 0.9133 - ignore_accuracy: 0.5943 - val_loss: 0.3842 - val_acc: 0.9177 - val_ignore_accuracy: 0.6191\n",
            "Epoch 16/40\n",
            "2894/2894 [==============================] - 11s 4ms/step - loss: 0.3310 - acc: 0.9282 - ignore_accuracy: 0.6635 - val_loss: 0.3297 - val_acc: 0.9302 - val_ignore_accuracy: 0.6769\n",
            "Epoch 17/40\n",
            "2894/2894 [==============================] - 11s 4ms/step - loss: 0.2758 - acc: 0.9410 - ignore_accuracy: 0.7236 - val_loss: 0.2844 - val_acc: 0.9385 - val_ignore_accuracy: 0.7157\n",
            "Epoch 18/40\n",
            "2894/2894 [==============================] - 11s 4ms/step - loss: 0.2290 - acc: 0.9504 - ignore_accuracy: 0.7676 - val_loss: 0.2496 - val_acc: 0.9459 - val_ignore_accuracy: 0.7499\n",
            "Epoch 19/40\n",
            "2894/2894 [==============================] - 11s 4ms/step - loss: 0.1911 - acc: 0.9593 - ignore_accuracy: 0.8097 - val_loss: 0.2219 - val_acc: 0.9520 - val_ignore_accuracy: 0.7781\n",
            "Epoch 20/40\n",
            "2894/2894 [==============================] - 11s 4ms/step - loss: 0.1596 - acc: 0.9668 - ignore_accuracy: 0.8447 - val_loss: 0.2009 - val_acc: 0.9566 - val_ignore_accuracy: 0.7995\n",
            "Epoch 21/40\n",
            "2894/2894 [==============================] - 11s 4ms/step - loss: 0.1337 - acc: 0.9732 - ignore_accuracy: 0.8745 - val_loss: 0.1833 - val_acc: 0.9608 - val_ignore_accuracy: 0.8194\n",
            "Epoch 22/40\n",
            "2894/2894 [==============================] - 11s 4ms/step - loss: 0.1125 - acc: 0.9784 - ignore_accuracy: 0.8991 - val_loss: 0.1701 - val_acc: 0.9639 - val_ignore_accuracy: 0.8339\n",
            "Epoch 23/40\n",
            "2894/2894 [==============================] - 11s 4ms/step - loss: 0.0953 - acc: 0.9821 - ignore_accuracy: 0.9164 - val_loss: 0.1600 - val_acc: 0.9659 - val_ignore_accuracy: 0.8430\n",
            "Epoch 24/40\n",
            "2894/2894 [==============================] - 11s 4ms/step - loss: 0.0815 - acc: 0.9850 - ignore_accuracy: 0.9298 - val_loss: 0.1515 - val_acc: 0.9675 - val_ignore_accuracy: 0.8503\n",
            "Epoch 25/40\n",
            "2894/2894 [==============================] - 11s 4ms/step - loss: 0.0701 - acc: 0.9873 - ignore_accuracy: 0.9405 - val_loss: 0.1449 - val_acc: 0.9688 - val_ignore_accuracy: 0.8565\n",
            "Epoch 26/40\n",
            "2894/2894 [==============================] - 11s 4ms/step - loss: 0.0610 - acc: 0.9890 - ignore_accuracy: 0.9485 - val_loss: 0.1396 - val_acc: 0.9699 - val_ignore_accuracy: 0.8619\n",
            "Epoch 27/40\n",
            "2894/2894 [==============================] - 11s 4ms/step - loss: 0.0534 - acc: 0.9904 - ignore_accuracy: 0.9553 - val_loss: 0.1349 - val_acc: 0.9707 - val_ignore_accuracy: 0.8654\n",
            "Epoch 28/40\n",
            "2894/2894 [==============================] - 11s 4ms/step - loss: 0.0472 - acc: 0.9915 - ignore_accuracy: 0.9602 - val_loss: 0.1329 - val_acc: 0.9713 - val_ignore_accuracy: 0.8683\n",
            "Epoch 29/40\n",
            "2894/2894 [==============================] - 11s 4ms/step - loss: 0.0421 - acc: 0.9924 - ignore_accuracy: 0.9643 - val_loss: 0.1296 - val_acc: 0.9721 - val_ignore_accuracy: 0.8721\n",
            "Epoch 30/40\n",
            "2894/2894 [==============================] - 11s 4ms/step - loss: 0.0377 - acc: 0.9931 - ignore_accuracy: 0.9678 - val_loss: 0.1279 - val_acc: 0.9722 - val_ignore_accuracy: 0.8730\n",
            "Epoch 31/40\n",
            "2894/2894 [==============================] - 11s 4ms/step - loss: 0.0341 - acc: 0.9937 - ignore_accuracy: 0.9706 - val_loss: 0.1259 - val_acc: 0.9724 - val_ignore_accuracy: 0.8742\n",
            "Epoch 32/40\n",
            "2894/2894 [==============================] - 11s 4ms/step - loss: 0.0309 - acc: 0.9942 - ignore_accuracy: 0.9729 - val_loss: 0.1247 - val_acc: 0.9730 - val_ignore_accuracy: 0.8772\n",
            "Epoch 33/40\n",
            "2894/2894 [==============================] - 11s 4ms/step - loss: 0.0281 - acc: 0.9948 - ignore_accuracy: 0.9757 - val_loss: 0.1236 - val_acc: 0.9732 - val_ignore_accuracy: 0.8788\n",
            "Epoch 34/40\n",
            "2894/2894 [==============================] - 11s 4ms/step - loss: 0.0257 - acc: 0.9952 - ignore_accuracy: 0.9775 - val_loss: 0.1231 - val_acc: 0.9731 - val_ignore_accuracy: 0.8780\n",
            "Epoch 35/40\n",
            "2894/2894 [==============================] - 11s 4ms/step - loss: 0.0236 - acc: 0.9956 - ignore_accuracy: 0.9792 - val_loss: 0.1210 - val_acc: 0.9735 - val_ignore_accuracy: 0.8789\n",
            "Epoch 36/40\n",
            "2894/2894 [==============================] - 11s 4ms/step - loss: 0.0217 - acc: 0.9959 - ignore_accuracy: 0.9809 - val_loss: 0.1217 - val_acc: 0.9735 - val_ignore_accuracy: 0.8785\n",
            "Epoch 37/40\n",
            "2894/2894 [==============================] - 11s 4ms/step - loss: 0.0201 - acc: 0.9963 - ignore_accuracy: 0.9827 - val_loss: 0.1210 - val_acc: 0.9737 - val_ignore_accuracy: 0.8804\n",
            "Epoch 38/40\n",
            "2894/2894 [==============================] - 11s 4ms/step - loss: 0.0185 - acc: 0.9966 - ignore_accuracy: 0.9840 - val_loss: 0.1212 - val_acc: 0.9736 - val_ignore_accuracy: 0.8800\n",
            "Epoch 39/40\n",
            "2894/2894 [==============================] - 11s 4ms/step - loss: 0.0171 - acc: 0.9969 - ignore_accuracy: 0.9855 - val_loss: 0.1216 - val_acc: 0.9735 - val_ignore_accuracy: 0.8792\n",
            "Epoch 40/40\n",
            "2894/2894 [==============================] - 11s 4ms/step - loss: 0.0159 - acc: 0.9971 - ignore_accuracy: 0.9865 - val_loss: 0.1207 - val_acc: 0.9737 - val_ignore_accuracy: 0.8802\n"
          ],
          "name": "stdout"
        },
        {
          "output_type": "execute_result",
          "data": {
            "text/plain": [
              "<keras.callbacks.History at 0x7f611615dc50>"
            ]
          },
          "metadata": {
            "tags": []
          },
          "execution_count": 40
        }
      ]
    },
    {
      "metadata": {
        "colab_type": "text",
        "id": "LnExWbEmIa5U"
      },
      "cell_type": "markdown",
      "source": [
        "### Calculamos nuevamente la Precisión"
      ]
    },
    {
      "metadata": {
        "colab_type": "code",
        "id": "FKOa73gRNMm7",
        "colab": {},
        "outputId": "8b1af35c-cd82-4661-a6b3-c08b762110f4"
      },
      "cell_type": "code",
      "source": [
        "scores2 = model.evaluate(test_sentences_X, to_categorical(test_tags_y, len(tag2index)))\n",
        "print(f\"{model.metrics_names[1]}: {scores2[1] * 100}\")   # acc: 99.09751977804825"
      ],
      "execution_count": 0,
      "outputs": [
        {
          "output_type": "stream",
          "text": [
            "1206/1206 [==============================] - 5s 4ms/step\n",
            "acc: 97.29261903422784\n"
          ],
          "name": "stdout"
        }
      ]
    },
    {
      "metadata": {
        "colab_type": "text",
        "id": "ZzeCdasrIkuN"
      },
      "cell_type": "markdown",
      "source": [
        "### Relaizamos nuevamente el calculo de F1-score, recall, y precision"
      ]
    },
    {
      "metadata": {
        "colab_type": "code",
        "id": "VbqNJa0pIvVT",
        "colab": {}
      },
      "cell_type": "code",
      "source": [
        ""
      ],
      "execution_count": 0,
      "outputs": []
    },
    {
      "metadata": {
        "colab_type": "text",
        "id": "Nri9gFnwIxcN"
      },
      "cell_type": "markdown",
      "source": [
        "### Realizamos nuevamente una prueba con el Ejemplo de Prueba"
      ]
    },
    {
      "metadata": {
        "colab_type": "code",
        "id": "xruHro6L-LT2",
        "colab": {},
        "outputId": "74203fce-aee7-4e2e-ae06-d90ffa0dc3be"
      },
      "cell_type": "code",
      "source": [
        "predictions1 = model.predict(test_samples_X)\n",
        "log_tokens1  = logits_to_tokens(predictions1, {i: t for t, i in tag2index.items()})\n",
        "print(log_tokens1)"
      ],
      "execution_count": 0,
      "outputs": [
        {
          "output_type": "stream",
          "text": [
            "[['vmn0000', 'vsip3s0', 'aq0cs0', 'sps00', 'np0000l', 'Fp', '-PAD-', '-PAD-', '-PAD-', '-PAD-', '-PAD-', '-PAD-', '-PAD-', '-PAD-', '-PAD-', '-PAD-', '-PAD-', '-PAD-', '-PAD-', '-PAD-', '-PAD-', '-PAD-', '-PAD-', '-PAD-', '-PAD-', '-PAD-', '-PAD-', '-PAD-', '-PAD-', '-PAD-', '-PAD-', '-PAD-', '-PAD-', '-PAD-', '-PAD-', '-PAD-', '-PAD-', '-PAD-', '-PAD-', '-PAD-', '-PAD-', '-PAD-', '-PAD-', '-PAD-', '-PAD-', '-PAD-', '-PAD-', '-PAD-', '-PAD-', '-PAD-', '-PAD-', '-PAD-', '-PAD-', '-PAD-', '-PAD-', '-PAD-', '-PAD-', '-PAD-', '-PAD-', '-PAD-', '-PAD-', '-PAD-', '-PAD-', '-PAD-', '-PAD-', '-PAD-', '-PAD-', '-PAD-', '-PAD-', '-PAD-', '-PAD-', '-PAD-', '-PAD-', '-PAD-', '-PAD-', '-PAD-', '-PAD-', '-PAD-', '-PAD-', '-PAD-', '-PAD-', '-PAD-', '-PAD-', '-PAD-', '-PAD-', '-PAD-', '-PAD-', '-PAD-', '-PAD-', '-PAD-', '-PAD-', '-PAD-', '-PAD-', '-PAD-', '-PAD-', '-PAD-', '-PAD-', '-PAD-', '-PAD-', '-PAD-', '-PAD-', '-PAD-', '-PAD-', '-PAD-', '-PAD-', '-PAD-', '-PAD-', '-PAD-', '-PAD-', '-PAD-', '-PAD-', '-PAD-', '-PAD-', '-PAD-', '-PAD-', '-PAD-', '-PAD-', '-PAD-', '-PAD-', '-PAD-', '-PAD-', '-PAD-', '-PAD-', '-PAD-', '-PAD-', '-PAD-', '-PAD-', '-PAD-', '-PAD-', '-PAD-', '-PAD-', '-PAD-', '-PAD-', '-PAD-', '-PAD-', '-PAD-', '-PAD-', '-PAD-', '-PAD-', '-PAD-', '-PAD-', '-PAD-', '-PAD-', '-PAD-', '-PAD-', '-PAD-', '-PAD-', '-PAD-', '-PAD-'], ['da0ms0', 'ncms000', 'aq0cs0', 'vmip3s0', 'sps00', 'da0ms0', 'ncms000', 'sps00', 'sps00', 'ncms000', 'sps00', 'np0000l', 'Fp', '-PAD-', '-PAD-', '-PAD-', '-PAD-', '-PAD-', '-PAD-', '-PAD-', '-PAD-', '-PAD-', '-PAD-', '-PAD-', '-PAD-', '-PAD-', '-PAD-', '-PAD-', '-PAD-', '-PAD-', '-PAD-', '-PAD-', '-PAD-', '-PAD-', '-PAD-', '-PAD-', '-PAD-', '-PAD-', '-PAD-', '-PAD-', '-PAD-', '-PAD-', '-PAD-', '-PAD-', '-PAD-', '-PAD-', '-PAD-', '-PAD-', '-PAD-', '-PAD-', '-PAD-', '-PAD-', '-PAD-', '-PAD-', '-PAD-', '-PAD-', '-PAD-', '-PAD-', '-PAD-', '-PAD-', '-PAD-', '-PAD-', '-PAD-', '-PAD-', '-PAD-', '-PAD-', '-PAD-', '-PAD-', '-PAD-', '-PAD-', '-PAD-', '-PAD-', '-PAD-', '-PAD-', '-PAD-', '-PAD-', '-PAD-', '-PAD-', '-PAD-', '-PAD-', '-PAD-', '-PAD-', '-PAD-', '-PAD-', '-PAD-', '-PAD-', '-PAD-', '-PAD-', '-PAD-', '-PAD-', '-PAD-', '-PAD-', '-PAD-', '-PAD-', '-PAD-', '-PAD-', '-PAD-', '-PAD-', '-PAD-', '-PAD-', '-PAD-', '-PAD-', '-PAD-', '-PAD-', '-PAD-', '-PAD-', '-PAD-', '-PAD-', '-PAD-', '-PAD-', '-PAD-', '-PAD-', '-PAD-', '-PAD-', '-PAD-', '-PAD-', '-PAD-', '-PAD-', '-PAD-', '-PAD-', '-PAD-', '-PAD-', '-PAD-', '-PAD-', '-PAD-', '-PAD-', '-PAD-', '-PAD-', '-PAD-', '-PAD-', '-PAD-', '-PAD-', '-PAD-', '-PAD-', '-PAD-', '-PAD-', '-PAD-', '-PAD-', '-PAD-', '-PAD-', '-PAD-', '-PAD-', '-PAD-', '-PAD-', '-PAD-', '-PAD-', '-PAD-', '-PAD-', '-PAD-']]\n"
          ],
          "name": "stdout"
        }
      ]
    },
    {
      "metadata": {
        "colab_type": "text",
        "id": "VL9taLbrI641"
      },
      "cell_type": "markdown",
      "source": [
        "### Presentamos los Resultados"
      ]
    },
    {
      "metadata": {
        "colab_type": "code",
        "id": "QeRx8eSThbuq",
        "colab": {},
        "outputId": "e77597cc-3b04-4367-80c1-418282147d13"
      },
      "cell_type": "code",
      "source": [
        "from tabulate import tabulate\n",
        "\n",
        "heads1 = test_samples[0]\n",
        "body1 = [log_tokens[0][:len(test_samples[0])]]\n",
        "\n",
        "heads2 = test_samples[1]\n",
        "body2 = [log_tokens[1][:len(test_samples[1])]]\n",
        "\n",
        "print(tabulate(body1, headers=heads1))\n",
        "\n",
        "print (\"\\n\")\n",
        "\n",
        "print(tabulate(body2, headers=heads2))"
      ],
      "execution_count": 0,
      "outputs": [
        {
          "output_type": "stream",
          "text": [
            "Correr    es       importante    para    mi      .\n",
            "--------  -------  ------------  ------  ------  ---\n",
            "vmn0000   vsip3s0  aq0cs0        sps00   dp1css  Fp\n",
            "\n",
            "\n",
            "El      hombre    bajo    corre    bajo    el      puente    con    bajo    índice    de     adrenalina    .\n",
            "------  --------  ------  -------  ------  ------  --------  -----  ------  --------  -----  ------------  ---\n",
            "da0ms0  ncms000   aq0ms0  vmip3s0  sps00   da0ms0  ncms000   sps00  sps00   ncms000   sps00  np0000l       Fp\n"
          ],
          "name": "stdout"
        }
      ]
    }
  ]
}