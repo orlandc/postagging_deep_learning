{
 "cells": [
  {
   "cell_type": "markdown",
   "metadata": {
    "colab_type": "text",
    "id": "3nXS4RUQQugV"
   },
   "source": [
    "##### Tutorial Part-of-Speech tagging  Con Deep Learning (mb-05)\n",
    "\n",
    "### En este tutorial, veremos cómo se puede mejorar el modelo base, usando un modelo Bi-LSTM"
   ]
  },
  {
   "cell_type": "markdown",
   "metadata": {
    "colab_type": "text",
    "id": "WIheRrq2Quga"
   },
   "source": [
    "## PARTE 1  -  Pre-Procesamiento\n",
    "### Cargamos los Datos de pre-procesamiento de modelo base mb-00"
   ]
  },
  {
   "cell_type": "code",
   "execution_count": 1,
   "metadata": {
    "colab": {},
    "colab_type": "code",
    "id": "lw10qukzQuge"
   },
   "outputs": [],
   "source": [
    "# Asegurar reproducibilidad\n",
    "\n",
    "import numpy as np\n",
    "\n",
    "CUSTOM_SEED = 42\n",
    "np.random.seed(CUSTOM_SEED)"
   ]
  },
  {
   "cell_type": "code",
   "execution_count": 2,
   "metadata": {},
   "outputs": [],
   "source": [
    "def to_categoricals(sequences, categories):\n",
    "    cat_sequences = []\n",
    "    for s in sequences:\n",
    "        cats = []\n",
    "        for item in s:\n",
    "            cats.append(np.zeros(categories))\n",
    "            cats[-1][item] = 1.0\n",
    "        cat_sequences.append(cats)\n",
    "    return np.array(cat_sequences)"
   ]
  },
  {
   "cell_type": "code",
   "execution_count": 3,
   "metadata": {},
   "outputs": [],
   "source": [
    "import pickle\n",
    "\n",
    "MAX_LENGTH = 149\n",
    "\n",
    "test_tags = []\n",
    "with open(\"../vectors/test_tags.txt\", \"rb\") as fp:\n",
    "    test_tags = pickle.load(fp)\n",
    "    \n",
    "word2index = np.load('../vectors/word2index.npy').item()\n",
    "tag2index  = np.load('../vectors/tag2index.npy').item()\n",
    "\n",
    "train_sentences_X = np.load('../vectors/train_sentences_X.npy')\n",
    "eval_sentences_X  = np.load('../vectors/eval_sentences_X.npy')\n",
    "test_sentences_X  = np.load('../vectors/test_sentences_X.npy')\n",
    "\n",
    "train_tags_y = np.load('../vectors/train_tags_y.npy')\n",
    "eval_tags_y  = np.load('../vectors/eval_tags_y.npy')\n",
    "test_tags_y  = np.load('../vectors/test_tags_y.npy')\n",
    "\n",
    "cat_train_tags_y = to_categoricals(train_tags_y, len(tag2index))\n",
    "cat_eval_tags_y  = to_categoricals(eval_tags_y, len(tag2index))\n",
    "cat_test_tags_y  = to_categoricals(test_tags_y, len(tag2index))\n",
    "\n",
    "#print (len(word2index))\n",
    "#print (len(tag2index))\n",
    "\n",
    "#print(train_sentences_X[0])\n",
    "#print(eval_sentences_X[0])\n",
    "#print(test_sentences_X[0])\n",
    "#print(cat_train_tags_y[0])"
   ]
  },
  {
   "cell_type": "markdown",
   "metadata": {
    "colab_type": "text",
    "id": "9-_gAQ7qrWTQ"
   },
   "source": [
    "## PARTE 2  -  Entrenamiento"
   ]
  },
  {
   "cell_type": "code",
   "execution_count": 4,
   "metadata": {
    "colab": {},
    "colab_type": "code",
    "id": "ORyC-422jaD9"
   },
   "outputs": [],
   "source": [
    "## Funcion que permite forzar el uso de GPU cuando estan presentes\n",
    "\n",
    "import tensorflow as tf\n",
    "sess = tf.Session(config=tf.ConfigProto(log_device_placement=True))"
   ]
  },
  {
   "cell_type": "markdown",
   "metadata": {
    "colab_type": "text",
    "id": "odDOhtO4NZDd"
   },
   "source": [
    "### Definimos el Modelo Base con el cual se procedera a desarrollar la fase de Entrenamiento"
   ]
  },
  {
   "cell_type": "code",
   "execution_count": 9,
   "metadata": {
    "colab": {
     "base_uri": "https://localhost:8080/",
     "height": 272
    },
    "colab_type": "code",
    "id": "x31rRt8PQuiW",
    "outputId": "eb0c9647-849c-4697-b151-802f88de7e2e"
   },
   "outputs": [
    {
     "name": "stdout",
     "output_type": "stream",
     "text": [
      "_________________________________________________________________\n",
      "Layer (type)                 Output Shape              Param #   \n",
      "=================================================================\n",
      "embedding_4 (Embedding)      (None, 149, 128)          3135872   \n",
      "_________________________________________________________________\n",
      "bidirectional_2 (Bidirection (None, 149, 512)          788480    \n",
      "_________________________________________________________________\n",
      "time_distributed_1 (TimeDist (None, 149, 291)          149283    \n",
      "_________________________________________________________________\n",
      "activation_1 (Activation)    (None, 149, 291)          0         \n",
      "=================================================================\n",
      "Total params: 4,073,635\n",
      "Trainable params: 4,073,635\n",
      "Non-trainable params: 0\n",
      "_________________________________________________________________\n"
     ]
    }
   ],
   "source": [
    "from keras.models import Sequential\n",
    "from keras.layers import Dense, InputLayer, Embedding, Activation, Bidirectional, LSTM, TimeDistributed\n",
    "from keras.optimizers import Adam\n",
    "from keras.utils import plot_model\n",
    "\n",
    "model = Sequential()\n",
    "model.add(InputLayer(input_shape=(MAX_LENGTH, )))\n",
    "model.add(Embedding(len(word2index), 128))\n",
    "model.add(Bidirectional(LSTM(256, return_sequences=True)))\n",
    "model.add(TimeDistributed(Dense(len(tag2index))))\n",
    "model.add(Activation('softmax'))\n",
    "\n",
    "#parallel_model = multi_gpu_model(model, gpus=2)\n",
    "model.compile(loss='categorical_crossentropy', optimizer=Adam(0.001), metrics=['accuracy'])\n",
    " \n",
    "model.summary()\n",
    "\n",
    "plot_model(model, to_file='../Plot/model/model-mb04.png', show_shapes=True)"
   ]
  },
  {
   "cell_type": "markdown",
   "metadata": {
    "colab_type": "text",
    "id": "4XghotI4NG9G"
   },
   "source": [
    "### Se dedarrolla el entrenamiento del modelo"
   ]
  },
  {
   "cell_type": "code",
   "execution_count": 10,
   "metadata": {
    "colab": {
     "base_uri": "https://localhost:8080/",
     "height": 1516
    },
    "colab_type": "code",
    "id": "C0gOhZznbg6V",
    "outputId": "cfb9376e-230d-40ea-ffb8-ace34c8234b5"
   },
   "outputs": [
    {
     "name": "stdout",
     "output_type": "stream",
     "text": [
      "Train on 3618 samples, validate on 1206 samples\n",
      "Epoch 1/40\n",
      "3618/3618 [==============================] - 15s 4ms/step - loss: 2.1498 - acc: 0.7603 - val_loss: 0.9353 - val_acc: 0.7845\n",
      "Epoch 2/40\n",
      "3618/3618 [==============================] - 14s 4ms/step - loss: 0.8989 - acc: 0.7935 - val_loss: 0.8815 - val_acc: 0.8128\n",
      "Epoch 3/40\n",
      "3618/3618 [==============================] - 14s 4ms/step - loss: 0.8592 - acc: 0.8146 - val_loss: 0.8558 - val_acc: 0.8127\n",
      "Epoch 4/40\n",
      "3618/3618 [==============================] - 14s 4ms/step - loss: 0.8359 - acc: 0.8145 - val_loss: 0.8401 - val_acc: 0.8126\n",
      "Epoch 5/40\n",
      "3618/3618 [==============================] - 14s 4ms/step - loss: 0.8143 - acc: 0.8165 - val_loss: 0.8236 - val_acc: 0.8185\n",
      "Epoch 6/40\n",
      "3618/3618 [==============================] - 14s 4ms/step - loss: 0.7960 - acc: 0.8205 - val_loss: 0.8039 - val_acc: 0.8189\n",
      "Epoch 7/40\n",
      "3618/3618 [==============================] - 14s 4ms/step - loss: 0.7765 - acc: 0.8212 - val_loss: 0.7765 - val_acc: 0.8225\n",
      "Epoch 8/40\n",
      "3618/3618 [==============================] - 14s 4ms/step - loss: 0.7472 - acc: 0.8296 - val_loss: 0.7358 - val_acc: 0.8356\n",
      "Epoch 9/40\n",
      "3618/3618 [==============================] - 14s 4ms/step - loss: 0.6943 - acc: 0.8519 - val_loss: 0.6701 - val_acc: 0.8652\n",
      "Epoch 10/40\n",
      "3618/3618 [==============================] - 14s 4ms/step - loss: 0.6192 - acc: 0.8752 - val_loss: 0.5862 - val_acc: 0.8809\n",
      "Epoch 11/40\n",
      "3618/3618 [==============================] - 14s 4ms/step - loss: 0.5287 - acc: 0.8887 - val_loss: 0.4953 - val_acc: 0.8963\n",
      "Epoch 12/40\n",
      "3618/3618 [==============================] - 14s 4ms/step - loss: 0.4399 - acc: 0.9066 - val_loss: 0.4118 - val_acc: 0.9125\n",
      "Epoch 13/40\n",
      "3618/3618 [==============================] - 14s 4ms/step - loss: 0.3577 - acc: 0.9231 - val_loss: 0.3389 - val_acc: 0.9274\n",
      "Epoch 14/40\n",
      "3618/3618 [==============================] - 14s 4ms/step - loss: 0.2850 - acc: 0.9397 - val_loss: 0.2791 - val_acc: 0.9410\n",
      "Epoch 15/40\n",
      "3618/3618 [==============================] - 14s 4ms/step - loss: 0.2268 - acc: 0.9523 - val_loss: 0.2344 - val_acc: 0.9497\n",
      "Epoch 16/40\n",
      "3618/3618 [==============================] - 14s 4ms/step - loss: 0.1818 - acc: 0.9624 - val_loss: 0.2011 - val_acc: 0.9563\n",
      "Epoch 17/40\n",
      "3618/3618 [==============================] - 14s 4ms/step - loss: 0.1460 - acc: 0.9708 - val_loss: 0.1764 - val_acc: 0.9616\n",
      "Epoch 18/40\n",
      "3618/3618 [==============================] - 14s 4ms/step - loss: 0.1184 - acc: 0.9771 - val_loss: 0.1587 - val_acc: 0.9647\n",
      "Epoch 19/40\n",
      "3618/3618 [==============================] - 14s 4ms/step - loss: 0.0970 - acc: 0.9818 - val_loss: 0.1443 - val_acc: 0.9681\n",
      "Epoch 20/40\n",
      "3618/3618 [==============================] - 14s 4ms/step - loss: 0.0807 - acc: 0.9852 - val_loss: 0.1360 - val_acc: 0.9700\n",
      "Epoch 21/40\n",
      "3618/3618 [==============================] - 14s 4ms/step - loss: 0.0680 - acc: 0.9877 - val_loss: 0.1270 - val_acc: 0.9720\n",
      "Epoch 22/40\n",
      "3618/3618 [==============================] - 14s 4ms/step - loss: 0.0581 - acc: 0.9897 - val_loss: 0.1218 - val_acc: 0.9727\n",
      "Epoch 23/40\n",
      "3618/3618 [==============================] - 14s 4ms/step - loss: 0.0501 - acc: 0.9911 - val_loss: 0.1171 - val_acc: 0.9739\n",
      "Epoch 24/40\n",
      "3618/3618 [==============================] - 14s 4ms/step - loss: 0.0438 - acc: 0.9922 - val_loss: 0.1155 - val_acc: 0.9742\n",
      "Epoch 25/40\n",
      "3618/3618 [==============================] - 14s 4ms/step - loss: 0.0386 - acc: 0.9931 - val_loss: 0.1114 - val_acc: 0.9752\n",
      "Epoch 26/40\n",
      "3618/3618 [==============================] - 14s 4ms/step - loss: 0.0343 - acc: 0.9938 - val_loss: 0.1097 - val_acc: 0.9752\n",
      "Epoch 27/40\n",
      "3618/3618 [==============================] - 14s 4ms/step - loss: 0.0306 - acc: 0.9945 - val_loss: 0.1076 - val_acc: 0.9756\n",
      "Epoch 28/40\n",
      "3618/3618 [==============================] - 14s 4ms/step - loss: 0.0275 - acc: 0.9951 - val_loss: 0.1078 - val_acc: 0.9757\n",
      "Epoch 29/40\n",
      "3618/3618 [==============================] - 14s 4ms/step - loss: 0.0249 - acc: 0.9956 - val_loss: 0.1061 - val_acc: 0.9763\n",
      "Epoch 30/40\n",
      "3618/3618 [==============================] - 14s 4ms/step - loss: 0.0226 - acc: 0.9959 - val_loss: 0.1054 - val_acc: 0.9765\n",
      "Epoch 31/40\n",
      "3618/3618 [==============================] - 14s 4ms/step - loss: 0.0206 - acc: 0.9964 - val_loss: 0.1038 - val_acc: 0.9767\n",
      "Epoch 32/40\n",
      "3618/3618 [==============================] - 14s 4ms/step - loss: 0.0187 - acc: 0.9967 - val_loss: 0.1040 - val_acc: 0.9767\n",
      "Epoch 33/40\n",
      "3618/3618 [==============================] - 14s 4ms/step - loss: 0.0172 - acc: 0.9970 - val_loss: 0.1041 - val_acc: 0.9767\n",
      "Epoch 34/40\n",
      "3618/3618 [==============================] - 14s 4ms/step - loss: 0.0158 - acc: 0.9973 - val_loss: 0.1047 - val_acc: 0.9768\n",
      "Epoch 35/40\n",
      "3618/3618 [==============================] - 14s 4ms/step - loss: 0.0145 - acc: 0.9975 - val_loss: 0.1048 - val_acc: 0.9766\n",
      "Epoch 36/40\n",
      "3618/3618 [==============================] - 14s 4ms/step - loss: 0.0133 - acc: 0.9978 - val_loss: 0.1057 - val_acc: 0.9767\n",
      "Epoch 37/40\n",
      "3618/3618 [==============================] - 14s 4ms/step - loss: 0.0123 - acc: 0.9980 - val_loss: 0.1045 - val_acc: 0.9769\n",
      "Epoch 38/40\n",
      "3618/3618 [==============================] - 14s 4ms/step - loss: 0.0113 - acc: 0.9982 - val_loss: 0.1056 - val_acc: 0.9770\n",
      "Epoch 39/40\n",
      "3618/3618 [==============================] - 14s 4ms/step - loss: 0.0105 - acc: 0.9984 - val_loss: 0.1054 - val_acc: 0.9770\n",
      "Epoch 40/40\n",
      "3618/3618 [==============================] - 14s 4ms/step - loss: 0.0097 - acc: 0.9985 - val_loss: 0.1069 - val_acc: 0.9767\n",
      "Saved model to disk\n"
     ]
    }
   ],
   "source": [
    "#sudo pip install h5py\n",
    "import os\n",
    "model_hist = model.fit(train_sentences_X, cat_train_tags_y,\n",
    "                       validation_data=(eval_sentences_X, cat_eval_tags_y),\n",
    "                       batch_size=128, \n",
    "                       epochs=40,\n",
    "                       validation_split=0.2)\n",
    "\n",
    "# serialize model to JSON\n",
    "model_json = model.to_json()\n",
    "with open(\"../model/mb-04.json\", \"w\") as json_file:\n",
    "    json_file.write(model_json)\n",
    "\n",
    "# serialize weights to HDF5\n",
    "model.save_weights(\"../model/mb-04.h5\")\n",
    "print(\"Saved model to disk\")"
   ]
  },
  {
   "cell_type": "markdown",
   "metadata": {
    "colab_type": "text",
    "id": "9hTDgQb2rWTa"
   },
   "source": [
    "## PARTE 3  -  Evaluación del Modelo"
   ]
  },
  {
   "cell_type": "markdown",
   "metadata": {
    "colab_type": "text",
    "id": "LdSkk8mzM1KN"
   },
   "source": [
    "### Evaluamos el modelo y calculamos el valor de precision con respecto a los datos de prueba"
   ]
  },
  {
   "cell_type": "code",
   "execution_count": 11,
   "metadata": {
    "colab": {
     "base_uri": "https://localhost:8080/",
     "height": 51
    },
    "colab_type": "code",
    "id": "cD-YI5Fgb3Kt",
    "outputId": "98cb9946-4f38-4176-c5ad-5932d07962b5"
   },
   "outputs": [
    {
     "name": "stdout",
     "output_type": "stream",
     "text": [
      "1206/1206 [==============================] - 5s 4ms/step\n",
      "acc: 97.51688948713527\n"
     ]
    }
   ],
   "source": [
    "scores = model.evaluate(test_sentences_X, cat_test_tags_y)\n",
    "print(f\"{model.metrics_names[1]}: {scores[1] * 100}\")   # acc: 97.66269326210022"
   ]
  },
  {
   "cell_type": "markdown",
   "metadata": {
    "colab_type": "text",
    "id": "sAhkgtWHQuij"
   },
   "source": [
    "### Definimos la funcion que nos servira para graficar el comportamiento del modelo en cada epoca del entrenamiento"
   ]
  },
  {
   "cell_type": "code",
   "execution_count": 12,
   "metadata": {
    "colab": {},
    "colab_type": "code",
    "id": "JaBUkInNQuik"
   },
   "outputs": [],
   "source": [
    "import matplotlib.pyplot as plt\n",
    "\n",
    "def plot_model_performance(train_loss, train_acc, train_val_loss, train_val_acc):\n",
    "    \"\"\" Plot model loss and accuracy through epochs. \"\"\"\n",
    "    blue= '#34495E'\n",
    "    green = '#2ECC71'\n",
    "    orange = '#E23B13'\n",
    "    \n",
    "    # plot model loss\n",
    "    fig, (ax1, ax2) = plt.subplots(2, figsize=(10, 8))\n",
    "    ax1.plot(range(1, len(train_loss) + 1), train_loss, blue, linewidth=5, label='training')\n",
    "    ax1.plot(range(1, len(train_val_loss) + 1), train_val_loss, green, linewidth=5, label='validation')\n",
    "    ax1.set_xlabel('# epoch')\n",
    "    ax1.set_ylabel('loss')\n",
    "    ax1.tick_params('y')\n",
    "    ax1.legend(loc='upper right', shadow=False)\n",
    "    ax1.set_title('Model loss through #epochs', color=orange, fontweight='bold')\n",
    "    \n",
    "    # plot model accuracy\n",
    "    ax2.plot(range(1, len(train_acc) + 1), train_acc, blue, linewidth=5, label='training')\n",
    "    ax2.plot(range(1, len(train_val_acc) + 1), train_val_acc, green, linewidth=5, label='validation')\n",
    "    ax2.set_xlabel('# epoch')\n",
    "    ax2.set_ylabel('accuracy')\n",
    "    ax2.tick_params('y')\n",
    "    ax2.legend(loc='lower right', shadow=False)\n",
    "    ax2.set_title('Model accuracy through #epochs', color=orange, fontweight='bold')\n",
    "    \n",
    "    fig.savefig('../Plot/training/training-mb-04.png', bbox_inches='tight')"
   ]
  },
  {
   "cell_type": "markdown",
   "metadata": {
    "colab_type": "text",
    "id": "TxQh1AtuQuis"
   },
   "source": [
    "### Procedemos a Graficar el comportamiento del Entrenamiento, tanto del conjunto de entrenamiento como el de validación con respecto a la cantidad de epocas"
   ]
  },
  {
   "cell_type": "code",
   "execution_count": 13,
   "metadata": {
    "colab": {
     "base_uri": "https://localhost:8080/",
     "height": 512
    },
    "colab_type": "code",
    "id": "Gs5f3U1nQuit",
    "outputId": "4c4ad746-3bbc-4325-9356-8045506b33a4"
   },
   "outputs": [
    {
     "data": {
      "image/png": "[encoded data removed]",
      "text/plain": [
       "<Figure size 720x576 with 2 Axes>"
      ]
     },
     "metadata": {
      "needs_background": "light"
     },
     "output_type": "display_data"
    }
   ],
   "source": [
    "plot_model_performance(\n",
    "    train_loss=model_hist.history.get('loss', []),\n",
    "    train_acc=model_hist.history.get('acc', []),\n",
    "    train_val_loss=model_hist.history.get('val_loss', []),\n",
    "    train_val_acc=model_hist.history.get('val_acc', [])\n",
    ")"
   ]
  },
  {
   "cell_type": "markdown",
   "metadata": {
    "colab_type": "text",
    "id": "pqiuy8q4GYjF"
   },
   "source": [
    "### Función que Permite convertir Indices en Tags"
   ]
  },
  {
   "cell_type": "code",
   "execution_count": 14,
   "metadata": {
    "colab": {},
    "colab_type": "code",
    "id": "YJ6GaLot9yZR"
   },
   "outputs": [],
   "source": [
    "def logits_to_tokens(sequences, index):\n",
    "    token_sequences = []\n",
    "    for categorical_sequence in sequences:\n",
    "        token_sequence = []\n",
    "        for categorical in categorical_sequence:\n",
    "            token_sequence.append(index[np.argmax(categorical)])\n",
    " \n",
    "        token_sequences.append(token_sequence)\n",
    " \n",
    "    return token_sequences"
   ]
  },
  {
   "cell_type": "markdown",
   "metadata": {
    "colab_type": "text",
    "id": "W-1GH3ZYuLc-"
   },
   "source": [
    "### Hacemos la prediccion sobre el conjunto de pruebas "
   ]
  },
  {
   "cell_type": "code",
   "execution_count": 15,
   "metadata": {
    "colab": {
     "base_uri": "https://localhost:8080/",
     "height": 54
    },
    "colab_type": "code",
    "id": "6HgbDqqsR4a7",
    "outputId": "63275f95-19ca-41f0-db78-e79ece5e6317"
   },
   "outputs": [
    {
     "name": "stdout",
     "output_type": "stream",
     "text": [
      "['da0ms0', 'ncms000', 'aq0cs0', 'vaip3s0', 'vmp00sm', 'cs', 'da0fs0', 'ncfs000', 'sps00', 'np0000p', 'vaip3s0', 'vmp00sm', 'sps00', 'Fe', 'vmn0000', 'Fe', 'Fc', 'cc', 'sn.e-SUJ', 'vaip3s0', 'vmp00sm', 'cs', 'da0ms0', 'ncms000', 'sps00', 'da0ms0', 'ncms000', 'vmip3s0', 'cs', 'sps00', 'da0ms0', 'np0000l', 'Fe', 'pi0mp000', 'vmip3p0', 'sps00', 'da0fs0', 'di0fs0', 'ncfs000', 'Fe', 'Fp', '-PAD-', '-PAD-', '-PAD-', '-PAD-', '-PAD-', '-PAD-', '-PAD-', '-PAD-', '-PAD-', '-PAD-', '-PAD-', '-PAD-', '-PAD-', '-PAD-', '-PAD-', '-PAD-', '-PAD-', '-PAD-', '-PAD-', '-PAD-', '-PAD-', '-PAD-', '-PAD-', '-PAD-', '-PAD-', '-PAD-', '-PAD-', '-PAD-', '-PAD-', '-PAD-', '-PAD-', '-PAD-', '-PAD-', '-PAD-', '-PAD-', '-PAD-', '-PAD-', '-PAD-', '-PAD-', '-PAD-', '-PAD-', '-PAD-', '-PAD-', '-PAD-', '-PAD-', '-PAD-', '-PAD-', '-PAD-', '-PAD-', '-PAD-', '-PAD-', '-PAD-', '-PAD-', '-PAD-', '-PAD-', '-PAD-', '-PAD-', '-PAD-', '-PAD-', '-PAD-', '-PAD-', '-PAD-', '-PAD-', '-PAD-', '-PAD-', '-PAD-', '-PAD-', '-PAD-', '-PAD-', '-PAD-', '-PAD-', '-PAD-', '-PAD-', '-PAD-', '-PAD-', '-PAD-', '-PAD-', '-PAD-', '-PAD-', '-PAD-', '-PAD-', '-PAD-', '-PAD-', '-PAD-', '-PAD-', '-PAD-', '-PAD-', '-PAD-', '-PAD-', '-PAD-', '-PAD-', '-PAD-', '-PAD-', '-PAD-', '-PAD-', '-PAD-', '-PAD-', '-PAD-', '-PAD-', '-PAD-', '-PAD-', '-PAD-', '-PAD-', '-PAD-', '-PAD-', '-PAD-', '-PAD-', '-PAD-']\n"
     ]
    }
   ],
   "source": [
    "import pandas as pd\n",
    "\n",
    "prediction = model.predict(test_sentences_X)\n",
    "log_tokens = logits_to_tokens(prediction, {i: t for t, i in tag2index.items()})\n",
    "\n",
    "print(log_tokens[0])"
   ]
  },
  {
   "cell_type": "markdown",
   "metadata": {
    "colab_type": "text",
    "id": "uT6IIQXrQuix"
   },
   "source": [
    "### Hallamos los valores de F1 score, recall, precision"
   ]
  },
  {
   "cell_type": "code",
   "execution_count": 16,
   "metadata": {
    "colab": {
     "base_uri": "https://localhost:8080/",
     "height": 4219
    },
    "colab_type": "code",
    "id": "GqTuNxppFNu-",
    "outputId": "ce0f608a-171e-411d-f5d1-88666b57cd19"
   },
   "outputs": [
    {
     "name": "stderr",
     "output_type": "stream",
     "text": [
      "/home/deep-learning/miniconda3/lib/python3.6/site-packages/sklearn/metrics/classification.py:1143: UndefinedMetricWarning: Precision and F-score are ill-defined and being set to 0.0 in labels with no predicted samples.\n",
      "  'precision', 'predicted', average, warn_for)\n",
      "/home/deep-learning/miniconda3/lib/python3.6/site-packages/sklearn/metrics/classification.py:1145: UndefinedMetricWarning: Recall and F-score are ill-defined and being set to 0.0 in labels with no true samples.\n",
      "  'recall', 'true', average, warn_for)\n"
     ]
    },
    {
     "name": "stdout",
     "output_type": "stream",
     "text": [
      "\n",
      "classification_report:\n",
      "               precision    recall  f1-score   support\n",
      "\n",
      "       -PAD-       0.00      0.00      0.00         0\n",
      "         Faa       1.00      0.50      0.67         2\n",
      "         Fat       1.00      0.60      0.75         5\n",
      "          Fc       1.00      1.00      1.00      2291\n",
      "          Fd       1.00      1.00      1.00        87\n",
      "          Fe       1.00      1.00      1.00       631\n",
      "          Fg       1.00      1.00      1.00       226\n",
      "          Fh       0.00      0.00      0.00         3\n",
      "         Fia       0.86      1.00      0.92         6\n",
      "         Fit       1.00      1.00      1.00        19\n",
      "          Fp       1.00      1.00      1.00      1178\n",
      "         Fpa       0.99      1.00      1.00       156\n",
      "         Fpt       1.00      1.00      1.00       160\n",
      "          Fs       1.00      1.00      1.00        13\n",
      "          Fx       1.00      1.00      1.00        41\n",
      "          Fz       0.00      0.00      0.00         2\n",
      "           W       0.93      0.61      0.74       194\n",
      "           Z       0.80      0.54      0.64       320\n",
      "          Zm       0.97      0.94      0.96        35\n",
      "          Zp       0.94      0.38      0.54        45\n",
      "      ao0fp0       0.28      0.88      0.42        17\n",
      "      ao0fs0       0.97      0.94      0.95        66\n",
      "      ao0mp0       0.83      0.87      0.85        23\n",
      "      ao0ms0       0.90      0.97      0.93        59\n",
      "     aq00000       0.00      0.00      0.00         2\n",
      "      aq0cn0       0.04      0.25      0.07         4\n",
      "      aq0cp0       0.90      0.71      0.79       228\n",
      "      aq0cs0       0.94      0.82      0.87       590\n",
      "      aq0fp0       0.81      0.63      0.71       128\n",
      "      aq0fpp       0.34      0.58      0.43        52\n",
      "      aq0fs0       0.93      0.68      0.78       355\n",
      "      aq0fsp       0.40      0.56      0.46       140\n",
      "      aq0mp0       0.67      0.69      0.68       202\n",
      "      aq0mpp       0.50      0.40      0.44        96\n",
      "      aq0ms0       0.78      0.74      0.76       491\n",
      "      aq0msp       0.48      0.65      0.56       222\n",
      "          cc       0.98      0.99      0.99      1222\n",
      "          cs       0.89      0.87      0.88       927\n",
      "      da0fp0       0.98      1.00      0.99       374\n",
      "      da0fs0       0.99      1.00      0.99      1324\n",
      "      da0mp0       1.00      1.00      1.00       637\n",
      "      da0ms0       1.00      1.00      1.00      1275\n",
      "      da0ns0       0.89      0.96      0.93       110\n",
      "      dd0cp0       0.50      0.50      0.50         2\n",
      "      dd0cs0       1.00      0.75      0.86         4\n",
      "      dd0fp0       0.94      0.94      0.94        18\n",
      "      dd0fs0       0.99      1.00      0.99        67\n",
      "      dd0mp0       0.94      1.00      0.97        30\n",
      "      dd0ms0       0.93      0.99      0.96       101\n",
      "      di0cp0       0.75      0.60      0.67         5\n",
      "      di0cs0       1.00      0.88      0.94        26\n",
      "      di0fp0       0.95      0.97      0.96        71\n",
      "      di0fs0       0.97      0.99      0.98       335\n",
      "      di0mp0       0.90      0.95      0.92       112\n",
      "      di0ms0       0.96      0.95      0.96       482\n",
      "      dn0cp0       0.95      0.95      0.95       149\n",
      "      dn0cs0       0.00      0.00      0.00         1\n",
      "      dn0fp0       1.00      0.50      0.67         4\n",
      "      dn0fs0       0.00      0.00      0.00         2\n",
      "      dn0mp0       0.50      0.40      0.44         5\n",
      "      dn0ms0       0.67      0.22      0.33         9\n",
      "      dp1cps       0.00      0.00      0.00         1\n",
      "      dp1css       1.00      1.00      1.00         8\n",
      "      dp1fpp       1.00      1.00      1.00         1\n",
      "      dp1fsp       1.00      0.83      0.91         6\n",
      "      dp1mpp       0.50      0.43      0.46         7\n",
      "      dp1msp       1.00      1.00      1.00         8\n",
      "      dp2css       0.15      0.67      0.25         3\n",
      "      dp3cp0       1.00      1.00      1.00       107\n",
      "      dp3cs0       1.00      1.00      1.00       275\n",
      "      dp3fs0       0.00      0.00      0.00         1\n",
      "      dt0cn0       1.00      0.67      0.80         3\n",
      "           i       0.15      0.50      0.24         4\n",
      "     nc00000       0.02      0.08      0.03        26\n",
      "     nccn000       0.00      0.00      0.00         5\n",
      "     nccp000       0.84      0.83      0.83       103\n",
      "     nccs000       0.86      0.72      0.78       146\n",
      "     ncfn000       1.00      0.67      0.80        15\n",
      "     ncfp000       0.96      0.83      0.89       788\n",
      "     ncfs000       0.94      0.89      0.91      2132\n",
      "     ncmn000       0.93      0.54      0.68        24\n",
      "     ncmp000       0.95      0.81      0.87      1166\n",
      "     ncms000       0.84      0.91      0.87      2365\n",
      "     np00000       0.02      0.14      0.03        51\n",
      "     np0000a       0.75      0.32      0.45       202\n",
      "     np0000l       0.54      0.64      0.58       412\n",
      "     np0000o       0.44      0.72      0.54       656\n",
      "     np0000p       0.65      0.65      0.65       720\n",
      "    p0000000       0.64      0.47      0.54       193\n",
      "    p010p000       0.00      0.00      0.00         2\n",
      "    p010s000       0.50      0.33      0.40         3\n",
      "    p020s000       0.00      0.00      0.00         1\n",
      "    p0300000       0.61      0.77      0.68       217\n",
      "    pd0fp000       0.00      0.00      0.00         3\n",
      "    pd0fs000       1.00      0.80      0.89         5\n",
      "    pd0mp000       1.00      0.67      0.80         6\n",
      "    pd0ms000       0.83      0.62      0.71         8\n",
      "    pd0ns000       0.88      1.00      0.94        22\n",
      "    pi0cp000       0.33      1.00      0.50         2\n",
      "    pi0cs000       0.97      0.97      0.97        40\n",
      "    pi0fp000       0.60      0.43      0.50         7\n",
      "    pi0fs000       0.62      0.45      0.53        11\n",
      "    pi0mp000       0.83      0.69      0.75        35\n",
      "    pi0ms000       0.84      0.76      0.80        54\n",
      "    pn0cp000       0.81      0.78      0.79        27\n",
      "    pn0mp000       0.50      1.00      0.67         3\n",
      "    pn0ms000       0.00      0.00      0.00         2\n",
      "    pp1cp000       0.93      0.96      0.95        27\n",
      "    pp1cs000       0.93      0.93      0.93        27\n",
      "    pp1csn00       1.00      1.00      1.00        16\n",
      "    pp1cso00       1.00      1.00      1.00         5\n",
      "    pp1mp000       0.20      0.89      0.33         9\n",
      "    pp2cs000       0.80      1.00      0.89         4\n",
      "    pp2cs00p       0.75      0.75      0.75         4\n",
      "    pp2csn00       0.00      0.00      0.00         2\n",
      "    pp2cso00       0.00      0.00      0.00         1\n",
      "    pp3cn000       0.00      0.00      0.00        10\n",
      "    pp3cna00       0.00      0.00      0.00         2\n",
      "    pp3cno00       1.00      0.80      0.89         5\n",
      "    pp3cpa00       0.00      0.00      0.00         2\n",
      "    pp3cpd00       0.85      1.00      0.92        11\n",
      "    pp3csa00       0.00      0.00      0.00         1\n",
      "    pp3csd00       0.98      1.00      0.99        63\n",
      "    pp3fp000       1.00      1.00      1.00         6\n",
      "    pp3fpa00       1.00      0.30      0.46        10\n",
      "    pp3fs000       1.00      1.00      1.00        13\n",
      "    pp3fsa00       0.75      0.18      0.29        17\n",
      "    pp3mp000       1.00      1.00      1.00        26\n",
      "    pp3mpa00       1.00      0.25      0.40         4\n",
      "    pp3ms000       1.00      1.00      1.00        23\n",
      "    pp3msa00       0.81      0.64      0.71        33\n",
      "    pp3ns000       1.00      1.00      1.00        15\n",
      "    pr000000       0.95      0.81      0.88        26\n",
      "    pr0cn000       0.84      0.87      0.86       616\n",
      "    pr0cp000       1.00      0.90      0.95        10\n",
      "    pr0cs000       0.94      1.00      0.97        32\n",
      "    pr0fp000       0.00      0.00      0.00         1\n",
      "    pr0fs000       1.00      1.00      1.00         5\n",
      "    pr0mp000       0.00      0.00      0.00         0\n",
      "    pr0ms000       1.00      0.33      0.50         3\n",
      "    pt000000       1.00      0.83      0.91        12\n",
      "    pt0cp000       0.00      0.00      0.00         1\n",
      "    pt0cs000       0.94      0.89      0.91        18\n",
      "    pt0mp000       0.00      0.00      0.00         2\n",
      "    px1fs0p0       1.00      1.00      1.00         1\n",
      "    px3ns000       0.00      0.00      0.00         1\n",
      "          rg       0.95      0.88      0.91      1208\n",
      "          rn       0.97      0.99      0.98       265\n",
      "      sn-SUJ       0.00      0.00      0.00         1\n",
      "        sn.e       0.00      0.00      0.00         4\n",
      "    sn.e-SUJ       0.99      1.00      0.99       818\n",
      " sn.e.1n-SUJ       0.00      0.00      0.00         6\n",
      "       spcms       1.00      0.99      0.99       692\n",
      "       sps00       0.99      0.99      0.99      5056\n",
      "     vaic3p0       0.00      0.00      0.00         1\n",
      "     vaic3s0       0.80      1.00      0.89         4\n",
      "     vaif1p0       0.00      0.00      0.00         1\n",
      "     vaif3s0       1.00      0.33      0.50         3\n",
      "     vaii1s0       0.00      0.00      0.00         1\n",
      "     vaii3p0       1.00      1.00      1.00        13\n",
      "     vaii3s0       0.98      1.00      0.99        41\n",
      "     vaip1p0       1.00      1.00      1.00         8\n",
      "     vaip1s0       1.00      0.89      0.94         9\n",
      "     vaip3p0       1.00      1.00      1.00        48\n",
      "     vaip3s0       1.00      0.99      1.00       185\n",
      "     vais3s0       1.00      1.00      1.00         5\n",
      "     van0000       0.95      1.00      0.98        21\n",
      "     vap00sm       0.50      1.00      0.67         1\n",
      "     vasi1p0       0.00      0.00      0.00         1\n",
      "     vasi3p0       0.00      0.00      0.00         2\n",
      "     vasi3s0       1.00      0.91      0.95        11\n",
      "     vasp1s0       0.00      0.00      0.00         1\n",
      "     vasp3p0       1.00      1.00      1.00         1\n",
      "     vasp3s0       0.89      1.00      0.94         8\n",
      "     vmg0000       0.43      0.49      0.46        92\n",
      "     vmic1p0       0.00      0.00      0.00         2\n",
      "     vmic3p0       0.60      0.55      0.57        11\n",
      "     vmic3s0       1.00      0.70      0.82        30\n",
      "     vmif1p0       0.04      0.14      0.06         7\n",
      "     vmif1s0       1.00      0.33      0.50         3\n",
      "     vmif2s0       0.00      0.00      0.00         1\n",
      "     vmif3p0       0.95      0.53      0.68        40\n",
      "     vmif3s0       1.00      0.58      0.73       114\n",
      "     vmii1p0       0.50      0.22      0.31         9\n",
      "     vmii1s0       0.00      0.00      0.00         7\n",
      "     vmii3p0       0.83      0.36      0.50        67\n",
      "     vmii3s0       0.96      0.64      0.76       143\n",
      "     vmip1p0       1.00      0.68      0.81        60\n",
      "     vmip1s0       0.82      0.75      0.78        60\n",
      "     vmip2s0       0.50      0.50      0.50         6\n",
      "     vmip3p0       0.98      0.66      0.79       279\n",
      "     vmip3s0       0.83      0.89      0.86       599\n",
      "     vmis1p0       0.00      0.00      0.00         5\n",
      "     vmis1s0       0.21      0.25      0.23        12\n",
      "     vmis2s0       0.00      0.00      0.00         0\n",
      "     vmis3p0       0.91      0.59      0.72       148\n",
      "     vmis3s0       0.84      0.88      0.86       606\n",
      "     vmm02s0       0.00      0.00      0.00         3\n",
      "     vmm03p0       0.00      0.00      0.00         1\n",
      "     vmm03s0       0.00      0.00      0.00         7\n",
      "     vmn0000       0.94      0.76      0.84       849\n",
      "     vmp00pf       0.00      0.00      0.00         5\n",
      "     vmp00pm       0.14      0.31      0.19        16\n",
      "     vmp00sf       0.44      0.37      0.40        19\n",
      "     vmp00sm       0.78      0.92      0.85       311\n",
      "     vmsi1p0       0.00      0.00      0.00         2\n",
      "     vmsi1s0       0.00      0.00      0.00         2\n",
      "     vmsi3p0       1.00      0.08      0.15        12\n",
      "     vmsi3s0       0.69      0.35      0.46        26\n",
      "     vmsp1p0       0.20      0.11      0.14         9\n",
      "     vmsp1s0       0.33      0.14      0.20         7\n",
      "     vmsp3p0       0.35      0.40      0.38        45\n",
      "     vmsp3s0       0.46      0.50      0.48        66\n",
      "     vsg0000       1.00      1.00      1.00         7\n",
      "     vsic1s0       1.00      1.00      1.00         1\n",
      "     vsic3p0       0.00      0.00      0.00         2\n",
      "     vsic3s0       1.00      1.00      1.00         8\n",
      "     vsif3s0       1.00      1.00      1.00        13\n",
      "     vsii3p0       0.87      1.00      0.93        13\n",
      "     vsii3s0       0.90      1.00      0.95        26\n",
      "     vsip1p0       0.12      1.00      0.22         1\n",
      "     vsip1s0       1.00      1.00      1.00         3\n",
      "     vsip2s0       0.00      0.00      0.00         2\n",
      "     vsip3p0       1.00      1.00      1.00        48\n",
      "     vsip3s0       1.00      1.00      1.00       190\n",
      "     vsis3p0       1.00      1.00      1.00        18\n",
      "     vsis3s0       1.00      0.97      0.99        39\n",
      "     vsn0000       0.95      1.00      0.97        35\n",
      "     vsp00sm       1.00      1.00      1.00        32\n",
      "     vssi3p0       0.00      0.00      0.00         1\n",
      "     vssi3s0       1.00      1.00      1.00         3\n",
      "     vssp3p0       1.00      0.60      0.75         5\n",
      "     vssp3s0       0.92      0.92      0.92        12\n",
      "\n",
      "   micro avg       0.89      0.89      0.89     38876\n",
      "   macro avg       0.66      0.62      0.62     38876\n",
      "weighted avg       0.91      0.89      0.89     38876\n",
      "\n"
     ]
    }
   ],
   "source": [
    "from sklearn.metrics import classification_report, confusion_matrix\n",
    "\n",
    "results = pd.DataFrame(columns=['Expected', 'Predicted'])\n",
    "k = 0\n",
    "for i, lista_etiquetas_oracion in enumerate(test_tags):\n",
    "    for j, etiquetas in enumerate(lista_etiquetas_oracion):\n",
    "        k = k + 1\n",
    "        results.loc[k, 'Expected'] = etiquetas\n",
    "        results.loc[k, 'Predicted'] = log_tokens[i][j]\n",
    "\n",
    "# print(results)\n",
    "\n",
    "\n",
    "print('\\nclassification_report:\\n', classification_report(results['Expected'], results['Predicted']))"
   ]
  },
  {
   "cell_type": "markdown",
   "metadata": {
    "colab_type": "text",
    "id": "nrAAFx0XrWT1"
   },
   "source": [
    "## PARTE 4  -  Testing"
   ]
  },
  {
   "cell_type": "markdown",
   "metadata": {
    "colab_type": "text",
    "id": "uvOz-IShFzRR"
   },
   "source": [
    "### Creamos un pequeño Ejemplo"
   ]
  },
  {
   "cell_type": "code",
   "execution_count": 17,
   "metadata": {
    "colab": {
     "base_uri": "https://localhost:8080/",
     "height": 54
    },
    "colab_type": "code",
    "id": "_WT1PtS_Qui0",
    "outputId": "2b4924f5-440f-4d52-8378-9c0adc54155a"
   },
   "outputs": [
    {
     "name": "stdout",
     "output_type": "stream",
     "text": [
      "[['Correr', 'es', 'importante', 'para', 'mi', '.'], ['El', 'hombre', 'bajo', 'corre', 'bajo', 'el', 'puente', 'con', 'bajo', 'índice', 'de', 'adrenalina', '.']]\n"
     ]
    }
   ],
   "source": [
    "test_samples = [\n",
    "    \"Correr es importante para mi .\".split(),\n",
    "    \"El hombre bajo corre bajo el puente con bajo índice de adrenalina .\".split()\n",
    "]\n",
    "print(test_samples)"
   ]
  },
  {
   "cell_type": "markdown",
   "metadata": {
    "colab_type": "text",
    "id": "X5E7-zZdGCjY"
   },
   "source": [
    "### Convertimos el texto en Una entrada para el Modelo"
   ]
  },
  {
   "cell_type": "code",
   "execution_count": 18,
   "metadata": {
    "colab": {
     "base_uri": "https://localhost:8080/",
     "height": 459
    },
    "colab_type": "code",
    "id": "BApB6ScZ9jU8",
    "outputId": "cc225d1f-7182-4ab1-d327-b5cb265f4c63"
   },
   "outputs": [
    {
     "name": "stdout",
     "output_type": "stream",
     "text": [
      "[[21101 19732 15398  3001  8200 10350     0     0     0     0     0     0\n",
      "      0     0     0     0     0     0     0     0     0     0     0     0\n",
      "      0     0     0     0     0     0     0     0     0     0     0     0\n",
      "      0     0     0     0     0     0     0     0     0     0     0     0\n",
      "      0     0     0     0     0     0     0     0     0     0     0     0\n",
      "      0     0     0     0     0     0     0     0     0     0     0     0\n",
      "      0     0     0     0     0     0     0     0     0     0     0     0\n",
      "      0     0     0     0     0     0     0     0     0     0     0     0\n",
      "      0     0     0     0     0     0     0     0     0     0     0     0\n",
      "      0     0     0     0     0     0     0     0     0     0     0     0\n",
      "      0     0     0     0     0     0     0     0     0     0     0     0\n",
      "      0     0     0     0     0     0     0     0     0     0     0     0\n",
      "      0     0     0     0     0]\n",
      " [11516  4297 24354 12735 24354 11516  1977  2248 24354 20545 19988     1\n",
      "  10350     0     0     0     0     0     0     0     0     0     0     0\n",
      "      0     0     0     0     0     0     0     0     0     0     0     0\n",
      "      0     0     0     0     0     0     0     0     0     0     0     0\n",
      "      0     0     0     0     0     0     0     0     0     0     0     0\n",
      "      0     0     0     0     0     0     0     0     0     0     0     0\n",
      "      0     0     0     0     0     0     0     0     0     0     0     0\n",
      "      0     0     0     0     0     0     0     0     0     0     0     0\n",
      "      0     0     0     0     0     0     0     0     0     0     0     0\n",
      "      0     0     0     0     0     0     0     0     0     0     0     0\n",
      "      0     0     0     0     0     0     0     0     0     0     0     0\n",
      "      0     0     0     0     0     0     0     0     0     0     0     0\n",
      "      0     0     0     0     0]]\n"
     ]
    }
   ],
   "source": [
    "from keras.preprocessing.sequence import pad_sequences\n",
    "\n",
    "test_samples_X = []\n",
    "for s in test_samples:\n",
    "    s_int = []\n",
    "    for w in s:\n",
    "        try:\n",
    "            s_int.append(word2index[w.lower()])\n",
    "        except KeyError:\n",
    "            s_int.append(word2index['-OOV-'])\n",
    "    test_samples_X.append(s_int)\n",
    "\n",
    "test_samples_X = pad_sequences(test_samples_X, maxlen=MAX_LENGTH, padding='post')\n",
    "print(test_samples_X)"
   ]
  },
  {
   "cell_type": "markdown",
   "metadata": {
    "colab_type": "text",
    "id": "trNZCjTWGLp-"
   },
   "source": [
    "### Se Ejecuta la predicion con la Entrada del modelo entrenado"
   ]
  },
  {
   "cell_type": "code",
   "execution_count": 19,
   "metadata": {
    "colab": {
     "base_uri": "https://localhost:8080/",
     "height": 476
    },
    "colab_type": "code",
    "id": "OX6Bd2Rz9oha",
    "outputId": "60f05bcd-7fe3-4fe2-f169-f95d48b386f7"
   },
   "outputs": [
    {
     "name": "stdout",
     "output_type": "stream",
     "text": [
      "[[[6.29027141e-03 1.53025940e-06 1.77514121e-05 ... 4.66980593e-04\n",
      "   1.34445712e-04 1.28280608e-05]\n",
      "  [5.60406832e-08 4.59219196e-09 1.21631801e-05 ... 4.49120580e-06\n",
      "   6.02779210e-07 4.22099931e-03]\n",
      "  [1.50386796e-07 6.12382228e-11 2.34787496e-08 ... 5.58595384e-05\n",
      "   2.12661143e-06 2.68478743e-07]\n",
      "  ...\n",
      "  [9.99955893e-01 9.22555754e-10 2.36312875e-16 ... 3.28692988e-16\n",
      "   3.68930624e-12 3.49331652e-09]\n",
      "  [9.99938726e-01 3.28614536e-09 7.22995295e-16 ... 3.49727066e-16\n",
      "   7.03777054e-12 7.56268737e-09]\n",
      "  [9.99923706e-01 8.05166955e-09 1.74555343e-15 ... 3.26319972e-16\n",
      "   1.08220915e-11 1.35853346e-08]]\n",
      "\n",
      " [[1.33618198e-06 6.35317043e-09 6.20652136e-05 ... 2.89561598e-07\n",
      "   5.74056642e-08 1.70034475e-09]\n",
      "  [1.72427826e-06 5.06307551e-10 5.04895254e-08 ... 1.41480168e-05\n",
      "   1.16151767e-07 9.49065937e-10]\n",
      "  [8.03420062e-06 3.65151909e-09 4.48321589e-05 ... 5.64643514e-08\n",
      "   5.91805609e-08 1.73176390e-10]\n",
      "  ...\n",
      "  [9.99955893e-01 9.22203813e-10 2.36128169e-16 ... 3.28338346e-16\n",
      "   3.68796920e-12 3.49205731e-09]\n",
      "  [9.99938726e-01 3.28489236e-09 7.22427413e-16 ... 3.49347039e-16\n",
      "   7.03522006e-12 7.55993224e-09]\n",
      "  [9.99923706e-01 8.04866129e-09 1.74418219e-15 ... 3.25966627e-16\n",
      "   1.08181485e-11 1.35803599e-08]]] (2, 149, 291)\n"
     ]
    }
   ],
   "source": [
    "predictions = model.predict(test_samples_X)\n",
    "print(predictions, predictions.shape)"
   ]
  },
  {
   "cell_type": "markdown",
   "metadata": {
    "colab_type": "text",
    "id": "l-XS5z-NGiM-"
   },
   "source": [
    "### Conversion de la Salida del Modelo a un lista de Indices de Tags"
   ]
  },
  {
   "cell_type": "code",
   "execution_count": 20,
   "metadata": {
    "colab": {
     "base_uri": "https://localhost:8080/",
     "height": 54
    },
    "colab_type": "code",
    "id": "IgIutMjq92cp",
    "outputId": "be1b6bc1-1783-47fd-e971-4a496ba89247"
   },
   "outputs": [
    {
     "name": "stdout",
     "output_type": "stream",
     "text": [
      "[['vmn0000', 'vsip3s0', 'aq0cs0', 'sps00', 'dp1css', 'Fp', '-PAD-', '-PAD-', '-PAD-', '-PAD-', '-PAD-', '-PAD-', '-PAD-', '-PAD-', '-PAD-', '-PAD-', '-PAD-', '-PAD-', '-PAD-', '-PAD-', '-PAD-', '-PAD-', '-PAD-', '-PAD-', '-PAD-', '-PAD-', '-PAD-', '-PAD-', '-PAD-', '-PAD-', '-PAD-', '-PAD-', '-PAD-', '-PAD-', '-PAD-', '-PAD-', '-PAD-', '-PAD-', '-PAD-', '-PAD-', '-PAD-', '-PAD-', '-PAD-', '-PAD-', '-PAD-', '-PAD-', '-PAD-', '-PAD-', '-PAD-', '-PAD-', '-PAD-', '-PAD-', '-PAD-', '-PAD-', '-PAD-', '-PAD-', '-PAD-', '-PAD-', '-PAD-', '-PAD-', '-PAD-', '-PAD-', '-PAD-', '-PAD-', '-PAD-', '-PAD-', '-PAD-', '-PAD-', '-PAD-', '-PAD-', '-PAD-', '-PAD-', '-PAD-', '-PAD-', '-PAD-', '-PAD-', '-PAD-', '-PAD-', '-PAD-', '-PAD-', '-PAD-', '-PAD-', '-PAD-', '-PAD-', '-PAD-', '-PAD-', '-PAD-', '-PAD-', '-PAD-', '-PAD-', '-PAD-', '-PAD-', '-PAD-', '-PAD-', '-PAD-', '-PAD-', '-PAD-', '-PAD-', '-PAD-', '-PAD-', '-PAD-', '-PAD-', '-PAD-', '-PAD-', '-PAD-', '-PAD-', '-PAD-', '-PAD-', '-PAD-', '-PAD-', '-PAD-', '-PAD-', '-PAD-', '-PAD-', '-PAD-', '-PAD-', '-PAD-', '-PAD-', '-PAD-', '-PAD-', '-PAD-', '-PAD-', '-PAD-', '-PAD-', '-PAD-', '-PAD-', '-PAD-', '-PAD-', '-PAD-', '-PAD-', '-PAD-', '-PAD-', '-PAD-', '-PAD-', '-PAD-', '-PAD-', '-PAD-', '-PAD-', '-PAD-', '-PAD-', '-PAD-', '-PAD-', '-PAD-', '-PAD-', '-PAD-', '-PAD-', '-PAD-', '-PAD-', '-PAD-'], ['da0ms0', 'ncms000', 'aq0ms0', 'vmip3s0', 'sps00', 'da0ms0', 'ncms000', 'sps00', 'sps00', 'ncms000', 'sps00', 'np0000l', 'Fp', '-PAD-', '-PAD-', '-PAD-', '-PAD-', '-PAD-', '-PAD-', '-PAD-', '-PAD-', '-PAD-', '-PAD-', '-PAD-', '-PAD-', '-PAD-', '-PAD-', '-PAD-', '-PAD-', '-PAD-', '-PAD-', '-PAD-', '-PAD-', '-PAD-', '-PAD-', '-PAD-', '-PAD-', '-PAD-', '-PAD-', '-PAD-', '-PAD-', '-PAD-', '-PAD-', '-PAD-', '-PAD-', '-PAD-', '-PAD-', '-PAD-', '-PAD-', '-PAD-', '-PAD-', '-PAD-', '-PAD-', '-PAD-', '-PAD-', '-PAD-', '-PAD-', '-PAD-', '-PAD-', '-PAD-', '-PAD-', '-PAD-', '-PAD-', '-PAD-', '-PAD-', '-PAD-', '-PAD-', '-PAD-', '-PAD-', '-PAD-', '-PAD-', '-PAD-', '-PAD-', '-PAD-', '-PAD-', '-PAD-', '-PAD-', '-PAD-', '-PAD-', '-PAD-', '-PAD-', '-PAD-', '-PAD-', '-PAD-', '-PAD-', '-PAD-', '-PAD-', '-PAD-', '-PAD-', '-PAD-', '-PAD-', '-PAD-', '-PAD-', '-PAD-', '-PAD-', '-PAD-', '-PAD-', '-PAD-', '-PAD-', '-PAD-', '-PAD-', '-PAD-', '-PAD-', '-PAD-', '-PAD-', '-PAD-', '-PAD-', '-PAD-', '-PAD-', '-PAD-', '-PAD-', '-PAD-', '-PAD-', '-PAD-', '-PAD-', '-PAD-', '-PAD-', '-PAD-', '-PAD-', '-PAD-', '-PAD-', '-PAD-', '-PAD-', '-PAD-', '-PAD-', '-PAD-', '-PAD-', '-PAD-', '-PAD-', '-PAD-', '-PAD-', '-PAD-', '-PAD-', '-PAD-', '-PAD-', '-PAD-', '-PAD-', '-PAD-', '-PAD-', '-PAD-', '-PAD-', '-PAD-', '-PAD-', '-PAD-', '-PAD-', '-PAD-', '-PAD-', '-PAD-', '-PAD-']]\n"
     ]
    }
   ],
   "source": [
    "#print(len(predictions))\n",
    "log_tokens = logits_to_tokens(predictions, {i: t for t, i in tag2index.items()})\n",
    "print(log_tokens)"
   ]
  },
  {
   "cell_type": "markdown",
   "metadata": {
    "colab_type": "text",
    "id": "VmWp09kyGrQC"
   },
   "source": [
    "### Presentación de los Resultados"
   ]
  },
  {
   "cell_type": "code",
   "execution_count": 21,
   "metadata": {
    "colab": {
     "base_uri": "https://localhost:8080/",
     "height": 153
    },
    "colab_type": "code",
    "id": "wNMCM8_jSdCL",
    "outputId": "127dade3-c5da-4163-fbe6-d68839d1fe02"
   },
   "outputs": [
    {
     "name": "stdout",
     "output_type": "stream",
     "text": [
      "Correr    es       importante    para    mi      .\n",
      "--------  -------  ------------  ------  ------  ---\n",
      "vmn0000   vsip3s0  aq0cs0        sps00   dp1css  Fp\n",
      "\n",
      "\n",
      "El      hombre    bajo    corre    bajo    el      puente    con    bajo    índice    de     adrenalina    .\n",
      "------  --------  ------  -------  ------  ------  --------  -----  ------  --------  -----  ------------  ---\n",
      "da0ms0  ncms000   aq0ms0  vmip3s0  sps00   da0ms0  ncms000   sps00  sps00   ncms000   sps00  np0000l       Fp\n"
     ]
    }
   ],
   "source": [
    "#!pip install tabulate\n",
    "from tabulate import tabulate\n",
    "\n",
    "heads1 = test_samples[0]\n",
    "body1 = [log_tokens[0][:len(test_samples[0])]]\n",
    "\n",
    "heads2 = test_samples[1]\n",
    "body2 = [log_tokens[1][:len(test_samples[1])]]\n",
    "\n",
    "print(tabulate(body1, headers=heads1))\n",
    "\n",
    "print (\"\\n\")\n",
    "\n",
    "print(tabulate(body2, headers=heads2))\n",
    "\n",
    "\n",
    "## postagging Freeling 4.1\n",
    "\n",
    "## El      hombre   bajo     corre    bajo  el      puente   con  bajo  índice   de  adrenalina  .\n",
    "## DA0MS0  NCMS000  AQ0MS00  VMIP3S0  SP    DA0MS0  NCMS000  SP   SP    NCMS000  SP  NCFS000     Fp\n",
    "\n",
    "\n",
    "## pos tagger Stanford NLP\n",
    "\n",
    "## El      hombre   bajo     corre    bajo  el      puente   con    bajo   índice  de    adrenalina  .\n",
    "## da0000  nc0s000  aq0000   vmip000  sp000 da0000  nc0s000  sp000  aq0000 nc0s000 sp000 nc0s000     fp"
   ]
  }
 ],
 "metadata": {
  "accelerator": "GPU",
  "colab": {
   "collapsed_sections": [],
   "name": "mb-00.ipynb",
   "provenance": [],
   "version": "0.3.2"
  },
  "kernelspec": {
   "display_name": "Python 3",
   "language": "python",
   "name": "python3"
  },
  "language_info": {
   "codemirror_mode": {
    "name": "ipython",
    "version": 3
   },
   "file_extension": ".py",
   "mimetype": "text/x-python",
   "name": "python",
   "nbconvert_exporter": "python",
   "pygments_lexer": "ipython3",
   "version": "3.6.8"
  }
 },
 "nbformat": 4,
 "nbformat_minor": 1
}
