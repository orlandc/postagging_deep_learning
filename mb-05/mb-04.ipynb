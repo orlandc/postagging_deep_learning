{
  "nbformat": 4,
  "nbformat_minor": 0,
  "metadata": {
    "colab": {
      "name": "mb-01.ipynb",
      "version": "0.3.2",
      "provenance": [],
      "collapsed_sections": []
    },
    "kernelspec": {
      "name": "python3",
      "display_name": "Python 3"
    },
    "accelerator": "GPU"
  },
  "cells": [
    {
      "metadata": {
        "colab_type": "text",
        "id": "3nXS4RUQQugV"
      },
      "cell_type": "markdown",
      "source": [
        "# Tutorial Part-of-Speech tagging  Con Deep Learning\n",
        "\n",
        "### mb-01 Variacion en la estructura de la linea base del modelo Neuronal"
      ]
    },
    {
      "metadata": {
        "colab_type": "text",
        "id": "WIheRrq2Quga"
      },
      "cell_type": "markdown",
      "source": [
        "## PARTE 1  -  Pre-Procesamiento"
      ]
    },
    {
      "metadata": {
        "colab_type": "code",
        "id": "lw10qukzQuge",
        "colab": {}
      },
      "cell_type": "code",
      "source": [
        "# Asegurar reproducibilidad\n",
        "\n",
        "import numpy as np\n",
        "\n",
        "CUSTOM_SEED = 42\n",
        "np.random.seed(CUSTOM_SEED)"
      ],
      "execution_count": 0,
      "outputs": []
    },
    {
      "metadata": {
        "colab_type": "text",
        "id": "CxOcxDUmJcvL"
      },
      "cell_type": "markdown",
      "source": [
        "### Descargamos el Corpus Ancora - Cess_esp del nltk"
      ]
    },
    {
      "metadata": {
        "colab_type": "code",
        "id": "NILevBJxQugr",
        "outputId": "ef4757de-b7ff-41a1-fb4f-cba3006098ff",
        "colab": {
          "base_uri": "https://localhost:8080/",
          "height": 68
        }
      },
      "cell_type": "code",
      "source": [
        "import nltk\n",
        "nltk.download('cess_esp')"
      ],
      "execution_count": 2,
      "outputs": [
        {
          "output_type": "stream",
          "text": [
            "[nltk_data] Downloading package cess_esp to /root/nltk_data...\n",
            "[nltk_data]   Package cess_esp is already up-to-date!\n"
          ],
          "name": "stdout"
        },
        {
          "output_type": "execute_result",
          "data": {
            "text/plain": [
              "True"
            ]
          },
          "metadata": {
            "tags": []
          },
          "execution_count": 2
        }
      ]
    },
    {
      "metadata": {
        "colab_type": "text",
        "id": "eqdUvUCEJjgc"
      },
      "cell_type": "markdown",
      "source": [
        "### Extraemos las oraciones tageadas del Corpus"
      ]
    },
    {
      "metadata": {
        "colab_type": "code",
        "id": "ss3RHo4LQugx",
        "colab": {}
      },
      "cell_type": "code",
      "source": [
        "import random\n",
        "from nltk.corpus import cess_esp\n",
        "\n",
        "tagged_sentences = cess_esp.tagged_sents()\n",
        "#print('a random sentence: \\n-> {}'.format(random.choice(sentences)))"
      ],
      "execution_count": 0,
      "outputs": []
    },
    {
      "metadata": {
        "colab_type": "text",
        "id": "gCW_ENdLJudC"
      },
      "cell_type": "markdown",
      "source": [
        "### Extraemos los datos de la cantidad de oraciones a ser usadas y un ejemplo de una oracion presente en el corpus"
      ]
    },
    {
      "metadata": {
        "colab_type": "code",
        "id": "2clQUNdtQug4",
        "outputId": "16a20aa1-0b8c-485b-d04f-e36a41be158f",
        "colab": {
          "base_uri": "https://localhost:8080/",
          "height": 88
        }
      },
      "cell_type": "code",
      "source": [
        "print(tagged_sentences[0])\n",
        "print(\"Tagged sentences: \", len(tagged_sentences))\n",
        "print(\"Tagged words:\", len(cess_esp.tagged_words()))"
      ],
      "execution_count": 4,
      "outputs": [
        {
          "output_type": "stream",
          "text": [
            "[('El', 'da0ms0'), ('grupo', 'ncms000'), ('estatal', 'aq0cs0'), ('Electricité_de_France', 'np00000'), ('-Fpa-', 'Fpa'), ('EDF', 'np00000'), ('-Fpt-', 'Fpt'), ('anunció', 'vmis3s0'), ('hoy', 'rg'), (',', 'Fc'), ('jueves', 'W'), (',', 'Fc'), ('la', 'da0fs0'), ('compra', 'ncfs000'), ('del', 'spcms'), ('51_por_ciento', 'Zp'), ('de', 'sps00'), ('la', 'da0fs0'), ('empresa', 'ncfs000'), ('mexicana', 'aq0fs0'), ('Electricidad_Águila_de_Altamira', 'np00000'), ('-Fpa-', 'Fpa'), ('EAA', 'np00000'), ('-Fpt-', 'Fpt'), (',', 'Fc'), ('creada', 'aq0fsp'), ('por', 'sps00'), ('el', 'da0ms0'), ('japonés', 'aq0ms0'), ('Mitsubishi_Corporation', 'np00000'), ('para', 'sps00'), ('poner_en_marcha', 'vmn0000'), ('una', 'di0fs0'), ('central', 'ncfs000'), ('de', 'sps00'), ('gas', 'ncms000'), ('de', 'sps00'), ('495', 'Z'), ('megavatios', 'ncmp000'), ('.', 'Fp')]\n",
            "Tagged sentences:  6030\n",
            "Tagged words: 192685\n"
          ],
          "name": "stdout"
        }
      ]
    },
    {
      "metadata": {
        "colab_type": "text",
        "id": "i_aFjuCQKG1O"
      },
      "cell_type": "markdown",
      "source": [
        "### Se procede a Dividir en una lista de Oraciones dividida en lista de palabras y cada palabra con un correspondiente tag en un alista diferente"
      ]
    },
    {
      "metadata": {
        "colab_type": "code",
        "id": "516a_v5vQuhC",
        "colab": {}
      },
      "cell_type": "code",
      "source": [
        "import numpy as np\n",
        " \n",
        "sentences, tagss =[], [] \n",
        "for tagged_sentence in tagged_sentences:\n",
        "    sentence, tags = zip(*tagged_sentence)\n",
        "    sentences.append(np.array(sentence))\n",
        "    tagss.append(np.array(tags))\n"
      ],
      "execution_count": 0,
      "outputs": []
    },
    {
      "metadata": {
        "colab_type": "text",
        "id": "UN_E4ePpKhvy"
      },
      "cell_type": "markdown",
      "source": [
        "### Imprimimos una posicion de la lista como ejemplo"
      ]
    },
    {
      "metadata": {
        "colab_type": "code",
        "id": "l6uGGSqZQuhM",
        "outputId": "ce3e55e7-c2da-4629-c102-53f5f00a7092",
        "colab": {
          "base_uri": "https://localhost:8080/",
          "height": 255
        }
      },
      "cell_type": "code",
      "source": [
        "print(sentences[5])\n",
        "print(tagss[5])"
      ],
      "execution_count": 6,
      "outputs": [
        {
          "output_type": "stream",
          "text": [
            "['EDF' 'tiene' 'previsto' 'invertir' '194' 'millones' 'de' 'euros' '-Fpa-'\n",
            " '186' 'millones' 'de' 'dólares' '-Fpt-' 'en' 'la' 'central' 'de'\n",
            " 'Río_Bravo' ',' 'con' 'una' 'potencia' 'de' '495' 'megavatios' ',' 'y'\n",
            " '134' 'millones' 'de' 'euros' '-Fpa-' '28' 'millones' 'de' 'dólares'\n",
            " '-Fpt-' 'en' 'Saltillo' ',' 'que' 'como' 'la' 'primera' 'funcionará'\n",
            " 'con' 'gas' 'natural' 'y' 'cuya' 'potencia' 'prevista' 'es' 'de' '247'\n",
            " 'megavatios' '.']\n",
            "['np00000' 'vmip3s0' 'aq0msp' 'vmn0000' 'Z' 'ncmp000' 'sps00' 'Zm' 'Fpa'\n",
            " 'Z' 'ncmp000' 'sps00' 'Zm' 'Fpt' 'sps00' 'da0fs0' 'ncfs000' 'sps00'\n",
            " 'np00000' 'Fc' 'sps00' 'di0fs0' 'ncfs000' 'sps00' 'Z' 'ncmp000' 'Fc' 'cc'\n",
            " 'Z' 'ncmp000' 'sps00' 'Zm' 'Fpa' 'Z' 'ncmp000' 'sps00' 'Zm' 'Fpt' 'sps00'\n",
            " 'np00000' 'Fc' 'pr0cn000' 'cs' 'da0fs0' 'ao0fs0' 'vmif3s0' 'sps00'\n",
            " 'ncms000' 'aq0cs0' 'cc' 'pr0fs000' 'ncfs000' 'aq0fsp' 'vsip3s0' 'sps00'\n",
            " 'Z' 'ncmp000' 'Fp']\n"
          ],
          "name": "stdout"
        }
      ]
    },
    {
      "metadata": {
        "colab_type": "text",
        "id": "WFQrAblFQuhT"
      },
      "cell_type": "markdown",
      "source": [
        "### Dividimos el corpus de la siguiente manera, Utilizamos aproximadamente el 60% de las oraciones etiquetadas para el entrenamiento, el 20% como conjunto de validación y el 20% para evaluar nuestro modelo."
      ]
    },
    {
      "metadata": {
        "colab_type": "code",
        "id": "ZtLulrEOQuhU",
        "colab": {}
      },
      "cell_type": "code",
      "source": [
        "from sklearn.model_selection import train_test_split\n",
        " \n",
        "(training_sentences, \n",
        " test_sentences, \n",
        " training_tags, \n",
        " test_tags) = train_test_split(sentences, tagss, test_size=0.2)\n",
        "\n",
        "(train_sentences, \n",
        " eval_sentences, \n",
        " train_tags, \n",
        " eval_tags) = train_test_split(training_sentences, training_tags, test_size=0.25)"
      ],
      "execution_count": 0,
      "outputs": []
    },
    {
      "metadata": {
        "colab_type": "text",
        "id": "_Mk0scnsK1OE"
      },
      "cell_type": "markdown",
      "source": [
        "### Imprimimos los tamaños de las listas que nos indicaran el tamaño de filas de las matrices con las que estaremos trabajando"
      ]
    },
    {
      "metadata": {
        "colab_type": "code",
        "id": "7HkjbP_IQuhZ",
        "outputId": "7202774e-fb62-427f-e878-52abd816ca6d",
        "colab": {
          "base_uri": "https://localhost:8080/",
          "height": 697
        }
      },
      "cell_type": "code",
      "source": [
        "print(\"training_sentences:\" + str(len(training_sentences)))\n",
        "print(\"train_sentences: \" + str(len(train_sentences)))\n",
        "print(\"test_sentences: \" + str(len(test_sentences)))\n",
        "print(\"eval_sentences: \" + str(len(eval_sentences)) + \"\\n\")\n",
        "\n",
        "print(train_sentences[0])\n",
        "print(test_sentences[0])\n",
        "print(eval_sentences[0])\n",
        "\n",
        "print(\"\\ntraining_tags:\" + str(len(training_sentences)))\n",
        "print(\"train_tags: \" + str(len(train_tags)))\n",
        "print(\"test_tags: \" + str(len(test_tags)))\n",
        "print(\"eval_tags: \" + str(len(eval_tags)) + \"\\n\")\n",
        "\n",
        "print(train_tags[0])\n",
        "print(test_tags[0])\n",
        "print(eval_tags[0])"
      ],
      "execution_count": 8,
      "outputs": [
        {
          "output_type": "stream",
          "text": [
            "training_sentences:4824\n",
            "train_sentences: 3618\n",
            "test_sentences: 1206\n",
            "eval_sentences: 1206\n",
            "\n",
            "['*' 'El' 'Madrid' 'precisa' 'que' 'el' 'Deportivo' 'gane' 'la' 'Liga' ','\n",
            " 'porque' 'los' 'gallegos' 'no' 'son' 'considerados' 'unos' 'herederos'\n",
            " ',' 'sino' 'unos' 'entrometidos' 'que' 'se' 'supone' 'temporales' ','\n",
            " 'que' 'pertenecen' 'a' 'la' 'actualidad' 'más' 'rabiosa' 'y' 'no' 'a'\n",
            " 'la' 'historia' 'más' 'enrabietada' '.']\n",
            "['El' 'técnico' 'barcelonista' 'ha' 'asegurado' 'que' 'la' 'visita' 'de'\n",
            " 'Gaspart' 'ha' 'contribuido' 'a' '\"' 'sumar' '\"' ',' 'y' '*0*' 'ha'\n",
            " 'argumentado' 'que' 'el' 'encuentro' 'con' 'el' 'presidente' 'significa'\n",
            " 'que' 'en' 'el' 'Barcelona' '\"' 'todos' 'van' 'en' 'la' 'misma'\n",
            " 'dirección' '\"' '.']\n",
            "['Lo_suyo' ',' 'lo' 'de' 'las' 'ratas' ',' 'no' 'es' 'la' 'carroña' 'pura'\n",
            " 'y' 'dura' 'sino' 'la' 'vida' 'regalada' ',' 'el' 'eterno' 'banquete'\n",
            " 'de' 'sobras' 'y' 'residuos' ',' 'el' 'festín' 'organizado' 'a' 'la'\n",
            " 'sobra' 'de' 'la' 'abundancia' 'y' 'el' 'hartazgo' '.']\n",
            "\n",
            "training_tags:4824\n",
            "train_tags: 3618\n",
            "test_tags: 1206\n",
            "eval_tags: 1206\n",
            "\n",
            "['Fz' 'da0ms0' 'np0000l' 'vmip3s0' 'cs' 'da0ms0' 'np0000o' 'vmsp3s0'\n",
            " 'da0fs0' 'np0000a' 'Fc' 'cs' 'da0mp0' 'ncmp000' 'rn' 'vsip3p0' 'vmp00pm'\n",
            " 'di0mp0' 'ncmp000' 'Fc' 'cc' 'di0mp0' 'ncmp000' 'pr0cn000' 'p0000000'\n",
            " 'vmip3s0' 'aq0cp0' 'Fc' 'pr0cn000' 'vmip3p0' 'sps00' 'da0fs0' 'ncfs000'\n",
            " 'rg' 'aq0fs0' 'cc' 'rn' 'sps00' 'da0fs0' 'ncfs000' 'rg' 'aq0fsp' 'Fp']\n",
            "['da0ms0' 'ncms000' 'aq0cs0' 'vaip3s0' 'vmp00sm' 'cs' 'da0fs0' 'ncfs000'\n",
            " 'sps00' 'np00000' 'vaip3s0' 'vmp00sm' 'sps00' 'Fe' 'vmn0000' 'Fe' 'Fc'\n",
            " 'cc' 'sn.e-SUJ' 'vaip3s0' 'vmp00sm' 'cs' 'da0ms0' 'ncms000' 'sps00'\n",
            " 'da0ms0' 'ncms000' 'vmip3s0' 'cs' 'sps00' 'da0ms0' 'np00000' 'Fe'\n",
            " 'pi0mp000' 'vmip3p0' 'sps00' 'da0fs0' 'di0fs0' 'ncfs000' 'Fe' 'Fp']\n",
            "['px3ns000' 'Fc' 'da0ns0' 'sps00' 'da0fp0' 'ncfp000' 'Fc' 'rn' 'vsip3s0'\n",
            " 'da0fs0' 'ncfs000' 'aq0fs0' 'cc' 'aq0fs0' 'cc' 'da0fs0' 'ncfs000'\n",
            " 'aq0fsp' 'Fc' 'da0ms0' 'aq0ms0' 'ncms000' 'sps00' 'ncfp000' 'cc'\n",
            " 'ncmp000' 'Fc' 'da0ms0' 'ncms000' 'aq0msp' 'sps00' 'da0fs0' 'ncfs000'\n",
            " 'sps00' 'da0fs0' 'ncfs000' 'cc' 'da0ms0' 'ncms000' 'Fp']\n"
          ],
          "name": "stdout"
        }
      ]
    },
    {
      "metadata": {
        "colab_type": "text",
        "id": "Jd-i6q85Quho"
      },
      "cell_type": "markdown",
      "source": [
        "### Ahora creamos una array con todas las palabras y los tags presentes en el corpus, adicionalmente se crea un diccionario que contiene las palabras unicas y los tags unicos de tal forma que no se repitan y que contienen un indice o llave"
      ]
    },
    {
      "metadata": {
        "colab_type": "code",
        "id": "qdCNulCoQuhr",
        "outputId": "5b5af5ee-f55a-46ee-8f82-28d4633ce29c",
        "colab": {
          "base_uri": "https://localhost:8080/",
          "height": 51
        }
      },
      "cell_type": "code",
      "source": [
        "words, tagsss = set([]), set([])\n",
        " \n",
        "for s in (train_sentences + eval_sentences + test_sentences):\n",
        "    for w in s:\n",
        "        words.add(w.lower())\n",
        "\n",
        "for ts in (train_tags + eval_tags + test_tags):\n",
        "    for t in ts:\n",
        "        tagsss.add(t)\n",
        "\n",
        "word2index = {w: i + 2 for i, w in enumerate(list(words))}\n",
        "word2index['-PAD-'] = 0  # The special value used for padding\n",
        "word2index['-OOV-'] = 1  # The special value used for OOVs\n",
        " \n",
        "tag2index = {t: i + 2 for i, t in enumerate(list(tagsss))}\n",
        "tag2index['-PAD-'] = 0  # The special value used to padding\n",
        "tag2index['-OOV-'] = 1  # The special value used to padding\n",
        "\n",
        "print (len(word2index))\n",
        "print (len(tag2index))"
      ],
      "execution_count": 9,
      "outputs": [
        {
          "output_type": "stream",
          "text": [
            "24499\n",
            "291\n"
          ],
          "name": "stdout"
        }
      ]
    },
    {
      "metadata": {
        "colab_type": "text",
        "id": "VEA9Ek-GOYOn"
      },
      "cell_type": "markdown",
      "source": [
        "### Ahora procedemos a transformar cada uno de los conjuntos de oraciones y tags en vectores numericos, modificando la palabra o tag en un Valor numerico que corresponde a una llave en el diccionario de palbras o tags"
      ]
    },
    {
      "metadata": {
        "colab_type": "code",
        "id": "69eec13kQuh2",
        "colab": {}
      },
      "cell_type": "code",
      "source": [
        "train_sentences_X, eval_sentences_X, test_sentences_X, train_tags_y, eval_tags_y, test_tags_y = [], [], [], [], [], []\n",
        "\n",
        "for s in train_sentences:\n",
        "    s_int = []\n",
        "    for w in s:\n",
        "        try:\n",
        "            s_int.append(word2index[w.lower()])\n",
        "        except KeyError:\n",
        "            s_int.append(word2index['-OOV-'])\n",
        " \n",
        "    train_sentences_X.append(s_int)\n",
        "\n",
        "for s in eval_sentences:\n",
        "    s_int = []\n",
        "    for w in s:\n",
        "        try:\n",
        "            s_int.append(word2index[w.lower()])\n",
        "        except KeyError:\n",
        "            s_int.append(word2index['-OOV-'])\n",
        " \n",
        "    eval_sentences_X.append(s_int)\n",
        "\n",
        "for s in test_sentences:\n",
        "    s_int = []\n",
        "    for w in s:\n",
        "        try:\n",
        "            s_int.append(word2index[w.lower()])\n",
        "        except KeyError:\n",
        "            s_int.append(word2index['-OOV-'])\n",
        " \n",
        "    test_sentences_X.append(s_int)\n",
        "\n",
        "for s in train_tags:\n",
        "    s_int = []\n",
        "    for w in s:\n",
        "        try:\n",
        "            s_int.append(tag2index[w])\n",
        "        except KeyError:\n",
        "            s_int.append(tag2index['-OOV-'])\n",
        "            \n",
        "    train_tags_y.append(s_int)\n",
        "\n",
        "for s in eval_tags:\n",
        "    s_int = []\n",
        "    for w in s:\n",
        "        try:\n",
        "            s_int.append(tag2index[w])\n",
        "        except KeyError:\n",
        "            s_int.append(tag2index['-OOV-'])\n",
        "            \n",
        "    eval_tags_y.append(s_int)\n",
        "\n",
        "for s in test_tags:\n",
        "    s_int = []\n",
        "    for w in s:\n",
        "        try:\n",
        "            s_int.append(tag2index[w])\n",
        "        except KeyError:\n",
        "            s_int.append(tag2index['-OOV-'])\n",
        "            \n",
        "    test_tags_y.append(s_int)\n"
      ],
      "execution_count": 0,
      "outputs": []
    },
    {
      "metadata": {
        "colab_type": "text",
        "id": "d_lXW1mBPNkf"
      },
      "cell_type": "markdown",
      "source": [
        "### Se imprime la longitud de las matrices y una muesta de cada una de las matrices creadas"
      ]
    },
    {
      "metadata": {
        "colab_type": "code",
        "id": "Y5A4d_dzQuh6",
        "outputId": "7244eb28-0ddf-401e-88dd-c18607f312ee",
        "colab": {
          "base_uri": "https://localhost:8080/",
          "height": 292
        }
      },
      "cell_type": "code",
      "source": [
        "print(\"Longitudes de las Matrices:\")\n",
        "print(len(train_sentences_X))\n",
        "print(len(eval_sentences_X))\n",
        "print(len(test_sentences_X))\n",
        "print(len(train_tags_y))\n",
        "print(len(eval_tags_y))\n",
        "print(len(test_tags_y))\n",
        "\n",
        "print(\"\\nMuestra de Datos presentes en las Matrices con las transformaciones:\")\n",
        "\n",
        "print(train_sentences_X[0])\n",
        "print(eval_sentences_X[0])\n",
        "print(test_sentences_X[0])\n",
        "print(train_tags_y[0])\n",
        "print(eval_tags_y[0])\n",
        "print(test_tags_y[0])"
      ],
      "execution_count": 11,
      "outputs": [
        {
          "output_type": "stream",
          "text": [
            "Longitudes de las Matrices:\n",
            "3618\n",
            "1206\n",
            "1206\n",
            "3618\n",
            "1206\n",
            "1206\n",
            "\n",
            "Muestra de Datos presentes en las Matrices con las transformaciones:\n",
            "[7140, 22154, 22597, 4768, 253, 22154, 21323, 16231, 2205, 7212, 13437, 12947, 19817, 14970, 8570, 23902, 19129, 17409, 19460, 13437, 19869, 17409, 22974, 253, 13196, 10122, 9862, 13437, 253, 15598, 258, 2205, 24407, 21534, 3546, 11306, 8570, 258, 2205, 5589, 21534, 923, 14782]\n",
            "[6468, 13437, 13893, 9065, 17508, 8661, 13437, 8570, 4849, 2205, 22397, 1433, 11306, 16358, 19869, 2205, 9557, 14865, 13437, 22154, 7282, 12253, 9065, 9021, 11306, 12226, 13437, 22154, 23573, 7571, 258, 2205, 10451, 9065, 2205, 20775, 11306, 22154, 1864, 14782]\n",
            "[22154, 20097, 1854, 12836, 8439, 253, 2205, 18310, 9065, 12680, 12836, 24008, 258, 18224, 8297, 18224, 13437, 11306, 11386, 12836, 12110, 253, 22154, 2152, 14120, 22154, 4593, 22882, 253, 20492, 22154, 20256, 18224, 23745, 17075, 20492, 2205, 20488, 4880, 18224, 14782]\n",
            "[258, 243, 56, 249, 46, 243, 142, 196, 205, 274, 210, 46, 52, 260, 201, 72, 127, 155, 260, 210, 133, 155, 260, 195, 147, 249, 88, 210, 195, 194, 174, 205, 197, 182, 117, 133, 201, 174, 205, 197, 182, 132, 250]\n",
            "[77, 210, 145, 174, 162, 215, 210, 201, 22, 205, 197, 117, 133, 117, 133, 205, 197, 132, 210, 243, 273, 225, 174, 215, 133, 260, 210, 243, 225, 186, 174, 205, 197, 174, 205, 197, 133, 243, 225, 250]\n",
            "[243, 225, 191, 45, 146, 46, 205, 197, 174, 198, 45, 146, 174, 212, 55, 212, 210, 133, 280, 45, 146, 46, 243, 225, 174, 243, 225, 249, 46, 174, 243, 198, 212, 6, 194, 174, 205, 289, 197, 212, 250]\n"
          ],
          "name": "stdout"
        }
      ]
    },
    {
      "metadata": {
        "colab_type": "text",
        "id": "kWLspkzfQ513"
      },
      "cell_type": "markdown",
      "source": [
        "### Se calcula cual es la oracion que mayor cantidad de Palabras contiene"
      ]
    },
    {
      "metadata": {
        "colab_type": "code",
        "id": "Gif6KsESQuh_",
        "outputId": "4fe6272a-384f-48c7-edb6-b32495093c7a",
        "colab": {
          "base_uri": "https://localhost:8080/",
          "height": 34
        }
      },
      "cell_type": "code",
      "source": [
        "MAX_LENGTH1 = len(max(train_sentences_X, key=len))\n",
        "MAX_LENGTH2 = len(max(eval_sentences_X, key=len))\n",
        "MAX_LENGTH3 = len(max(test_sentences_X, key=len))\n",
        "\n",
        "l = [MAX_LENGTH1, MAX_LENGTH2, MAX_LENGTH3]\n",
        "MAX_LENGTH = max(l)\n",
        "\n",
        "print(MAX_LENGTH)"
      ],
      "execution_count": 12,
      "outputs": [
        {
          "output_type": "stream",
          "text": [
            "149\n"
          ],
          "name": "stdout"
        }
      ]
    },
    {
      "metadata": {
        "colab_type": "text",
        "id": "e4ffWaDqRA1_"
      },
      "cell_type": "markdown",
      "source": [
        "### Se procede a Normalizar las matrices para que todas contengan el mismo numero de columans, con la longitud maxima de palabras encontradas anteriormente, esto se logra agregando ceros a la derecha en las posiciones que hacen falta en el vector"
      ]
    },
    {
      "metadata": {
        "colab_type": "code",
        "id": "mn7iuMIOQuiI",
        "outputId": "3342c109-76d8-46b4-a43d-2d585b8b20d7",
        "colab": {
          "base_uri": "https://localhost:8080/",
          "height": 1156
        }
      },
      "cell_type": "code",
      "source": [
        "from keras.preprocessing.sequence import pad_sequences\n",
        " \n",
        "train_sentences_X = pad_sequences(train_sentences_X, maxlen=MAX_LENGTH, padding='post')\n",
        "eval_sentences_X = pad_sequences(eval_sentences_X, maxlen=MAX_LENGTH, padding='post')\n",
        "test_sentences_X = pad_sequences(test_sentences_X, maxlen=MAX_LENGTH, padding='post')\n",
        "train_tags_y = pad_sequences(train_tags_y, maxlen=MAX_LENGTH, padding='post')\n",
        "eval_tags_y = pad_sequences(eval_tags_y, maxlen=MAX_LENGTH, padding='post')\n",
        "test_tags_y = pad_sequences(test_tags_y, maxlen=MAX_LENGTH, padding='post')\n",
        " \n",
        "print(train_sentences_X[0])\n",
        "print(eval_sentences_X[0])\n",
        "print(test_sentences_X[0])\n",
        "print(train_tags_y[0])\n",
        "print(eval_tags_y[0])\n",
        "print(test_tags_y[0])"
      ],
      "execution_count": 13,
      "outputs": [
        {
          "output_type": "stream",
          "text": [
            "Using TensorFlow backend.\n"
          ],
          "name": "stderr"
        },
        {
          "output_type": "stream",
          "text": [
            "[ 7140 22154 22597  4768   253 22154 21323 16231  2205  7212 13437 12947\n",
            " 19817 14970  8570 23902 19129 17409 19460 13437 19869 17409 22974   253\n",
            " 13196 10122  9862 13437   253 15598   258  2205 24407 21534  3546 11306\n",
            "  8570   258  2205  5589 21534   923 14782     0     0     0     0     0\n",
            "     0     0     0     0     0     0     0     0     0     0     0     0\n",
            "     0     0     0     0     0     0     0     0     0     0     0     0\n",
            "     0     0     0     0     0     0     0     0     0     0     0     0\n",
            "     0     0     0     0     0     0     0     0     0     0     0     0\n",
            "     0     0     0     0     0     0     0     0     0     0     0     0\n",
            "     0     0     0     0     0     0     0     0     0     0     0     0\n",
            "     0     0     0     0     0     0     0     0     0     0     0     0\n",
            "     0     0     0     0     0     0     0     0     0     0     0     0\n",
            "     0     0     0     0     0]\n",
            "[ 6468 13437 13893  9065 17508  8661 13437  8570  4849  2205 22397  1433\n",
            " 11306 16358 19869  2205  9557 14865 13437 22154  7282 12253  9065  9021\n",
            " 11306 12226 13437 22154 23573  7571   258  2205 10451  9065  2205 20775\n",
            " 11306 22154  1864 14782     0     0     0     0     0     0     0     0\n",
            "     0     0     0     0     0     0     0     0     0     0     0     0\n",
            "     0     0     0     0     0     0     0     0     0     0     0     0\n",
            "     0     0     0     0     0     0     0     0     0     0     0     0\n",
            "     0     0     0     0     0     0     0     0     0     0     0     0\n",
            "     0     0     0     0     0     0     0     0     0     0     0     0\n",
            "     0     0     0     0     0     0     0     0     0     0     0     0\n",
            "     0     0     0     0     0     0     0     0     0     0     0     0\n",
            "     0     0     0     0     0     0     0     0     0     0     0     0\n",
            "     0     0     0     0     0]\n",
            "[22154 20097  1854 12836  8439   253  2205 18310  9065 12680 12836 24008\n",
            "   258 18224  8297 18224 13437 11306 11386 12836 12110   253 22154  2152\n",
            " 14120 22154  4593 22882   253 20492 22154 20256 18224 23745 17075 20492\n",
            "  2205 20488  4880 18224 14782     0     0     0     0     0     0     0\n",
            "     0     0     0     0     0     0     0     0     0     0     0     0\n",
            "     0     0     0     0     0     0     0     0     0     0     0     0\n",
            "     0     0     0     0     0     0     0     0     0     0     0     0\n",
            "     0     0     0     0     0     0     0     0     0     0     0     0\n",
            "     0     0     0     0     0     0     0     0     0     0     0     0\n",
            "     0     0     0     0     0     0     0     0     0     0     0     0\n",
            "     0     0     0     0     0     0     0     0     0     0     0     0\n",
            "     0     0     0     0     0     0     0     0     0     0     0     0\n",
            "     0     0     0     0     0]\n",
            "[258 243  56 249  46 243 142 196 205 274 210  46  52 260 201  72 127 155\n",
            " 260 210 133 155 260 195 147 249  88 210 195 194 174 205 197 182 117 133\n",
            " 201 174 205 197 182 132 250   0   0   0   0   0   0   0   0   0   0   0\n",
            "   0   0   0   0   0   0   0   0   0   0   0   0   0   0   0   0   0   0\n",
            "   0   0   0   0   0   0   0   0   0   0   0   0   0   0   0   0   0   0\n",
            "   0   0   0   0   0   0   0   0   0   0   0   0   0   0   0   0   0   0\n",
            "   0   0   0   0   0   0   0   0   0   0   0   0   0   0   0   0   0   0\n",
            "   0   0   0   0   0   0   0   0   0   0   0   0   0   0   0   0   0   0\n",
            "   0   0   0   0   0]\n",
            "[ 77 210 145 174 162 215 210 201  22 205 197 117 133 117 133 205 197 132\n",
            " 210 243 273 225 174 215 133 260 210 243 225 186 174 205 197 174 205 197\n",
            " 133 243 225 250   0   0   0   0   0   0   0   0   0   0   0   0   0   0\n",
            "   0   0   0   0   0   0   0   0   0   0   0   0   0   0   0   0   0   0\n",
            "   0   0   0   0   0   0   0   0   0   0   0   0   0   0   0   0   0   0\n",
            "   0   0   0   0   0   0   0   0   0   0   0   0   0   0   0   0   0   0\n",
            "   0   0   0   0   0   0   0   0   0   0   0   0   0   0   0   0   0   0\n",
            "   0   0   0   0   0   0   0   0   0   0   0   0   0   0   0   0   0   0\n",
            "   0   0   0   0   0]\n",
            "[243 225 191  45 146  46 205 197 174 198  45 146 174 212  55 212 210 133\n",
            " 280  45 146  46 243 225 174 243 225 249  46 174 243 198 212   6 194 174\n",
            " 205 289 197 212 250   0   0   0   0   0   0   0   0   0   0   0   0   0\n",
            "   0   0   0   0   0   0   0   0   0   0   0   0   0   0   0   0   0   0\n",
            "   0   0   0   0   0   0   0   0   0   0   0   0   0   0   0   0   0   0\n",
            "   0   0   0   0   0   0   0   0   0   0   0   0   0   0   0   0   0   0\n",
            "   0   0   0   0   0   0   0   0   0   0   0   0   0   0   0   0   0   0\n",
            "   0   0   0   0   0   0   0   0   0   0   0   0   0   0   0   0   0   0\n",
            "   0   0   0   0   0]\n"
          ],
          "name": "stdout"
        }
      ]
    },
    {
      "metadata": {
        "colab_type": "text",
        "id": "elkKsVbBNrYO"
      },
      "cell_type": "markdown",
      "source": [
        "### Definimos la funcion con la cual categorizaremos los tags y los covertiremos un vector One-hot"
      ]
    },
    {
      "metadata": {
        "colab_type": "code",
        "id": "qGw5_dPX5xc0",
        "colab": {}
      },
      "cell_type": "code",
      "source": [
        "def to_categorical(sequences, categories):\n",
        "    cat_sequences = []\n",
        "    for s in sequences:\n",
        "        cats = []\n",
        "        for item in s:\n",
        "            cats.append(np.zeros(categories))\n",
        "            cats[-1][item] = 1.0\n",
        "        cat_sequences.append(cats)\n",
        "    return np.array(cat_sequences)"
      ],
      "execution_count": 0,
      "outputs": []
    },
    {
      "metadata": {
        "colab_type": "text",
        "id": "GOmqn-5ZNg23"
      },
      "cell_type": "markdown",
      "source": [
        "### Desarrollamos una prueba de la categorisacion de los tags"
      ]
    },
    {
      "metadata": {
        "colab_type": "code",
        "id": "lepVNGK5bgc1",
        "outputId": "16119460-9cb3-4662-98e2-9279c6e8d137",
        "colab": {
          "base_uri": "https://localhost:8080/",
          "height": 136
        }
      },
      "cell_type": "code",
      "source": [
        "cat_train_tags_y = to_categorical(train_tags_y, len(tag2index))\n",
        "print(cat_train_tags_y[0])"
      ],
      "execution_count": 15,
      "outputs": [
        {
          "output_type": "stream",
          "text": [
            "[[0. 0. 0. ... 0. 0. 0.]\n",
            " [0. 0. 0. ... 0. 0. 0.]\n",
            " [0. 0. 0. ... 0. 0. 0.]\n",
            " ...\n",
            " [1. 0. 0. ... 0. 0. 0.]\n",
            " [1. 0. 0. ... 0. 0. 0.]\n",
            " [1. 0. 0. ... 0. 0. 0.]]\n"
          ],
          "name": "stdout"
        }
      ]
    },
    {
      "metadata": {
        "colab_type": "text",
        "id": "9-_gAQ7qrWTQ"
      },
      "cell_type": "markdown",
      "source": [
        "## PARTE 2  -  Entrenamiento"
      ]
    },
    {
      "metadata": {
        "colab_type": "text",
        "id": "odDOhtO4NZDd"
      },
      "cell_type": "markdown",
      "source": [
        "### Definimos el Modelo Base con el cual se procedera a desarrollar la fase de Entrenamiento"
      ]
    },
    {
      "metadata": {
        "colab_type": "code",
        "id": "x31rRt8PQuiW",
        "outputId": "88a5c441-7697-42cb-e0b5-8218f4e9e43f",
        "colab": {
          "base_uri": "https://localhost:8080/",
          "height": 462
        }
      },
      "cell_type": "code",
      "source": [
        "from keras.models import Sequential\n",
        "from keras.layers import Dense, LSTM, InputLayer, Bidirectional, TimeDistributed, Embedding, Activation, Dropout\n",
        "from keras.optimizers import Adam\n",
        "from keras.utils import plot_model\n",
        "\n",
        "model = Sequential()\n",
        "model.add(InputLayer(input_shape=(MAX_LENGTH, )))\n",
        "model.add(Embedding(len(word2index), 128))\n",
        "model.add(Dropout(0.5))\n",
        "model.add(Bidirectional(LSTM(256, return_sequences=True)))\n",
        "model.add(TimeDistributed(Dense(len(tag2index))))\n",
        "model.add(Dropout(0.5))\n",
        "model.add(Activation('softmax'))\n",
        "\n",
        "model.compile(loss='categorical_crossentropy', optimizer=Adam(0.001), metrics=['accuracy'])\n",
        " \n",
        "model.summary()\n",
        "\n",
        "plot_model(model, to_file='model-mb01.png', show_shapes=True)"
      ],
      "execution_count": 16,
      "outputs": [
        {
          "output_type": "stream",
          "text": [
            "WARNING:tensorflow:From /usr/local/lib/python3.6/dist-packages/tensorflow/python/framework/op_def_library.py:263: colocate_with (from tensorflow.python.framework.ops) is deprecated and will be removed in a future version.\n",
            "Instructions for updating:\n",
            "Colocations handled automatically by placer.\n",
            "WARNING:tensorflow:From /usr/local/lib/python3.6/dist-packages/keras/backend/tensorflow_backend.py:3445: calling dropout (from tensorflow.python.ops.nn_ops) with keep_prob is deprecated and will be removed in a future version.\n",
            "Instructions for updating:\n",
            "Please use `rate` instead of `keep_prob`. Rate should be set to `rate = 1 - keep_prob`.\n",
            "_________________________________________________________________\n",
            "Layer (type)                 Output Shape              Param #   \n",
            "=================================================================\n",
            "embedding_1 (Embedding)      (None, 149, 128)          3135872   \n",
            "_________________________________________________________________\n",
            "dropout_1 (Dropout)          (None, 149, 128)          0         \n",
            "_________________________________________________________________\n",
            "bidirectional_1 (Bidirection (None, 149, 512)          788480    \n",
            "_________________________________________________________________\n",
            "time_distributed_1 (TimeDist (None, 149, 291)          149283    \n",
            "_________________________________________________________________\n",
            "dropout_2 (Dropout)          (None, 149, 291)          0         \n",
            "_________________________________________________________________\n",
            "activation_1 (Activation)    (None, 149, 291)          0         \n",
            "=================================================================\n",
            "Total params: 4,073,635\n",
            "Trainable params: 4,073,635\n",
            "Non-trainable params: 0\n",
            "_________________________________________________________________\n"
          ],
          "name": "stdout"
        }
      ]
    },
    {
      "metadata": {
        "id": "3qRKXZmm2S3Y",
        "colab_type": "code",
        "colab": {}
      },
      "cell_type": "code",
      "source": [
        "from google.colab import files\n",
        "files.download('model-mb01.png')"
      ],
      "execution_count": 0,
      "outputs": []
    },
    {
      "metadata": {
        "colab_type": "text",
        "id": "4XghotI4NG9G"
      },
      "cell_type": "markdown",
      "source": [
        "### Se dedarrolla el entrenamiento del modelo"
      ]
    },
    {
      "metadata": {
        "colab_type": "code",
        "id": "C0gOhZznbg6V",
        "outputId": "1451c2c6-4f97-4127-86e6-6d6ec5382ded",
        "colab": {
          "base_uri": "https://localhost:8080/",
          "height": 1516
        }
      },
      "cell_type": "code",
      "source": [
        "model_hist = model.fit(train_sentences_X, to_categorical(train_tags_y, len(tag2index)),\n",
        "                       validation_data=(eval_sentences_X, to_categorical(eval_tags_y, len(tag2index))),\n",
        "                       batch_size=128, \n",
        "                       epochs=40,\n",
        "                       validation_split=0.2)"
      ],
      "execution_count": 17,
      "outputs": [
        {
          "output_type": "stream",
          "text": [
            "WARNING:tensorflow:From /usr/local/lib/python3.6/dist-packages/tensorflow/python/ops/math_ops.py:3066: to_int32 (from tensorflow.python.ops.math_ops) is deprecated and will be removed in a future version.\n",
            "Instructions for updating:\n",
            "Use tf.cast instead.\n",
            "WARNING:tensorflow:From /usr/local/lib/python3.6/dist-packages/tensorflow/python/ops/math_grad.py:102: div (from tensorflow.python.ops.math_ops) is deprecated and will be removed in a future version.\n",
            "Instructions for updating:\n",
            "Deprecated in favor of operator or tf.math.divide.\n",
            "Train on 3618 samples, validate on 1206 samples\n",
            "Epoch 1/40\n",
            "3618/3618 [==============================] - 31s 8ms/step - loss: 3.6311 - acc: 0.5413 - val_loss: 1.0419 - val_acc: 0.7979\n",
            "Epoch 2/40\n",
            "3618/3618 [==============================] - 21s 6ms/step - loss: 3.0053 - acc: 0.7790 - val_loss: 0.9676 - val_acc: 0.8128\n",
            "Epoch 3/40\n",
            "3618/3618 [==============================] - 21s 6ms/step - loss: 2.9810 - acc: 0.7953 - val_loss: 0.9292 - val_acc: 0.8128\n",
            "Epoch 4/40\n",
            "3618/3618 [==============================] - 30s 8ms/step - loss: 2.9609 - acc: 0.7994 - val_loss: 0.9020 - val_acc: 0.8186\n",
            "Epoch 5/40\n",
            "3618/3618 [==============================] - 33s 9ms/step - loss: 2.9468 - acc: 0.8066 - val_loss: 0.8718 - val_acc: 0.8318\n",
            "Epoch 6/40\n",
            "3618/3618 [==============================] - 33s 9ms/step - loss: 2.9287 - acc: 0.8152 - val_loss: 0.8169 - val_acc: 0.8539\n",
            "Epoch 7/40\n",
            "3618/3618 [==============================] - 33s 9ms/step - loss: 2.8831 - acc: 0.8294 - val_loss: 0.7241 - val_acc: 0.8884\n",
            "Epoch 8/40\n",
            "3618/3618 [==============================] - 32s 9ms/step - loss: 2.8133 - acc: 0.8422 - val_loss: 0.6202 - val_acc: 0.9060\n",
            "Epoch 9/40\n",
            "3618/3618 [==============================] - 33s 9ms/step - loss: 2.7587 - acc: 0.8531 - val_loss: 0.5415 - val_acc: 0.9247\n",
            "Epoch 10/40\n",
            "3618/3618 [==============================] - 33s 9ms/step - loss: 2.7183 - acc: 0.8608 - val_loss: 0.4718 - val_acc: 0.9337\n",
            "Epoch 11/40\n",
            "3618/3618 [==============================] - 32s 9ms/step - loss: 2.6918 - acc: 0.8654 - val_loss: 0.4222 - val_acc: 0.9421\n",
            "Epoch 12/40\n",
            "3618/3618 [==============================] - 33s 9ms/step - loss: 2.6703 - acc: 0.8695 - val_loss: 0.3751 - val_acc: 0.9488\n",
            "Epoch 13/40\n",
            "3618/3618 [==============================] - 33s 9ms/step - loss: 2.6416 - acc: 0.8738 - val_loss: 0.3362 - val_acc: 0.9555\n",
            "Epoch 14/40\n",
            "3618/3618 [==============================] - 23s 6ms/step - loss: 2.6231 - acc: 0.8769 - val_loss: 0.3030 - val_acc: 0.9605\n",
            "Epoch 15/40\n",
            "3618/3618 [==============================] - 21s 6ms/step - loss: 2.6106 - acc: 0.8793 - val_loss: 0.2781 - val_acc: 0.9644\n",
            "Epoch 16/40\n",
            "3618/3618 [==============================] - 21s 6ms/step - loss: 2.5975 - acc: 0.8817 - val_loss: 0.2525 - val_acc: 0.9674\n",
            "Epoch 17/40\n",
            "3618/3618 [==============================] - 21s 6ms/step - loss: 2.5857 - acc: 0.8837 - val_loss: 0.2323 - val_acc: 0.9704\n",
            "Epoch 18/40\n",
            "3618/3618 [==============================] - 21s 6ms/step - loss: 2.5716 - acc: 0.8851 - val_loss: 0.2155 - val_acc: 0.9725\n",
            "Epoch 19/40\n",
            "3618/3618 [==============================] - 21s 6ms/step - loss: 2.5592 - acc: 0.8859 - val_loss: 0.2011 - val_acc: 0.9740\n",
            "Epoch 20/40\n",
            "3618/3618 [==============================] - 32s 9ms/step - loss: 2.5584 - acc: 0.8866 - val_loss: 0.1859 - val_acc: 0.9755\n",
            "Epoch 21/40\n",
            "3618/3618 [==============================] - 32s 9ms/step - loss: 2.5525 - acc: 0.8882 - val_loss: 0.1740 - val_acc: 0.9764\n",
            "Epoch 22/40\n",
            "3618/3618 [==============================] - 33s 9ms/step - loss: 2.5490 - acc: 0.8890 - val_loss: 0.1659 - val_acc: 0.9771\n",
            "Epoch 23/40\n",
            "3618/3618 [==============================] - 32s 9ms/step - loss: 2.5405 - acc: 0.8893 - val_loss: 0.1580 - val_acc: 0.9774\n",
            "Epoch 24/40\n",
            "3618/3618 [==============================] - 33s 9ms/step - loss: 2.5420 - acc: 0.8891 - val_loss: 0.1493 - val_acc: 0.9781\n",
            "Epoch 25/40\n",
            "3618/3618 [==============================] - 33s 9ms/step - loss: 2.5354 - acc: 0.8894 - val_loss: 0.1413 - val_acc: 0.9785\n",
            "Epoch 26/40\n",
            "3618/3618 [==============================] - 32s 9ms/step - loss: 2.5347 - acc: 0.8905 - val_loss: 0.1359 - val_acc: 0.9790\n",
            "Epoch 27/40\n",
            "3618/3618 [==============================] - 32s 9ms/step - loss: 2.5243 - acc: 0.8908 - val_loss: 0.1327 - val_acc: 0.9790\n",
            "Epoch 28/40\n",
            "3618/3618 [==============================] - 32s 9ms/step - loss: 2.5190 - acc: 0.8912 - val_loss: 0.1274 - val_acc: 0.9793\n",
            "Epoch 29/40\n",
            "3618/3618 [==============================] - 31s 9ms/step - loss: 2.5183 - acc: 0.8911 - val_loss: 0.1249 - val_acc: 0.9798\n",
            "Epoch 30/40\n",
            "3618/3618 [==============================] - 22s 6ms/step - loss: 2.5147 - acc: 0.8917 - val_loss: 0.1217 - val_acc: 0.9796\n",
            "Epoch 31/40\n",
            "3618/3618 [==============================] - 21s 6ms/step - loss: 2.5116 - acc: 0.8917 - val_loss: 0.1169 - val_acc: 0.9798\n",
            "Epoch 32/40\n",
            "3618/3618 [==============================] - 21s 6ms/step - loss: 2.5166 - acc: 0.8916 - val_loss: 0.1149 - val_acc: 0.9799\n",
            "Epoch 33/40\n",
            "3618/3618 [==============================] - 21s 6ms/step - loss: 2.5146 - acc: 0.8913 - val_loss: 0.1101 - val_acc: 0.9803\n",
            "Epoch 34/40\n",
            "3618/3618 [==============================] - 21s 6ms/step - loss: 2.5122 - acc: 0.8919 - val_loss: 0.1097 - val_acc: 0.9805\n",
            "Epoch 35/40\n",
            "3618/3618 [==============================] - 21s 6ms/step - loss: 2.5146 - acc: 0.8925 - val_loss: 0.1088 - val_acc: 0.9798\n",
            "Epoch 36/40\n",
            "3618/3618 [==============================] - 21s 6ms/step - loss: 2.5114 - acc: 0.8915 - val_loss: 0.1059 - val_acc: 0.9806\n",
            "Epoch 37/40\n",
            "3618/3618 [==============================] - 21s 6ms/step - loss: 2.5041 - acc: 0.8925 - val_loss: 0.1025 - val_acc: 0.9807\n",
            "Epoch 38/40\n",
            "3618/3618 [==============================] - 21s 6ms/step - loss: 2.5059 - acc: 0.8917 - val_loss: 0.1047 - val_acc: 0.9805\n",
            "Epoch 39/40\n",
            "3618/3618 [==============================] - 21s 6ms/step - loss: 2.5053 - acc: 0.8918 - val_loss: 0.1008 - val_acc: 0.9806\n",
            "Epoch 40/40\n",
            "3618/3618 [==============================] - 21s 6ms/step - loss: 2.5082 - acc: 0.8924 - val_loss: 0.0994 - val_acc: 0.9806\n"
          ],
          "name": "stdout"
        }
      ]
    },
    {
      "metadata": {
        "colab_type": "text",
        "id": "9hTDgQb2rWTa"
      },
      "cell_type": "markdown",
      "source": [
        "## PARTE 3  -  Evaluación del Modelo"
      ]
    },
    {
      "metadata": {
        "colab_type": "text",
        "id": "LdSkk8mzM1KN"
      },
      "cell_type": "markdown",
      "source": [
        "### Evaluamos el modelo y calculamos el valor de precision con respecto a los datos de prueba"
      ]
    },
    {
      "metadata": {
        "colab_type": "code",
        "id": "cD-YI5Fgb3Kt",
        "outputId": "6315aa9b-27ea-45cf-bdb2-2f732ca01b1e",
        "colab": {
          "base_uri": "https://localhost:8080/",
          "height": 51
        }
      },
      "cell_type": "code",
      "source": [
        "scores = model.evaluate(test_sentences_X, to_categorical(test_tags_y, len(tag2index)))\n",
        "print(f\"{model.metrics_names[1]}: {scores[1] * 100}\")   # acc: 97.38805993872496"
      ],
      "execution_count": 18,
      "outputs": [
        {
          "output_type": "stream",
          "text": [
            "1206/1206 [==============================] - 9s 8ms/step\n",
            "acc: 97.9253620551791\n"
          ],
          "name": "stdout"
        }
      ]
    },
    {
      "metadata": {
        "colab_type": "text",
        "id": "sAhkgtWHQuij"
      },
      "cell_type": "markdown",
      "source": [
        "### Definimos la funcion que nos servira para graficar el comportamiento del modelo en cada epoca del entrenamiento"
      ]
    },
    {
      "metadata": {
        "colab_type": "code",
        "id": "JaBUkInNQuik",
        "colab": {}
      },
      "cell_type": "code",
      "source": [
        "import matplotlib.pyplot as plt\n",
        "\n",
        "def plot_model_performance(train_loss, train_acc, train_val_loss, train_val_acc):\n",
        "    \"\"\" Plot model loss and accuracy through epochs. \"\"\"\n",
        "    blue= '#34495E'\n",
        "    green = '#2ECC71'\n",
        "    orange = '#E23B13'\n",
        "    # plot model loss\n",
        "    fig, (ax1, ax2) = plt.subplots(2, figsize=(10, 8))\n",
        "    ax1.plot(range(1, len(train_loss) + 1), train_loss, blue, linewidth=5, label='training')\n",
        "    ax1.plot(range(1, len(train_val_loss) + 1), train_val_loss, green, linewidth=5, label='validation')\n",
        "    ax1.set_xlabel('# epoch')\n",
        "    ax1.set_ylabel('loss')\n",
        "    ax1.tick_params('y')\n",
        "    ax1.legend(loc='upper right', shadow=False)\n",
        "    ax1.set_title('Model loss through #epochs', color=orange, fontweight='bold')\n",
        "    # plot model accuracy\n",
        "    ax2.plot(range(1, len(train_acc) + 1), train_acc, blue, linewidth=5, label='training')\n",
        "    ax2.plot(range(1, len(train_val_acc) + 1), train_val_acc, green, linewidth=5, label='validation')\n",
        "    ax2.set_xlabel('# epoch')\n",
        "    ax2.set_ylabel('accuracy')\n",
        "    ax2.tick_params('y')\n",
        "    ax2.legend(loc='lower right', shadow=False)\n",
        "    ax2.set_title('Model accuracy through #epochs', color=orange, fontweight='bold')\n",
        "    \n",
        "    fig.savefig('/training-mb-01.png', bbox_inches='tight')"
      ],
      "execution_count": 0,
      "outputs": []
    },
    {
      "metadata": {
        "colab_type": "text",
        "id": "TxQh1AtuQuis"
      },
      "cell_type": "markdown",
      "source": [
        "### Procedemos a Graficar el comportamiento del Entrenamiento, tanto del conjunto de entrenamiento como el de validación con respecto a la cantidad de epocas"
      ]
    },
    {
      "metadata": {
        "colab_type": "code",
        "id": "Gs5f3U1nQuit",
        "outputId": "50877177-3805-4865-a8d3-73e2d2736ce6",
        "colab": {
          "base_uri": "https://localhost:8080/",
          "height": 512
        }
      },
      "cell_type": "code",
      "source": [
        "plot_model_performance(\n",
        "    train_loss=model_hist.history.get('loss', []),\n",
        "    train_acc=model_hist.history.get('acc', []),\n",
        "    train_val_loss=model_hist.history.get('val_loss', []),\n",
        "    train_val_acc=model_hist.history.get('val_acc', [])\n",
        ")"
      ],
      "execution_count": 22,
      "outputs": [
        {
          "output_type": "display_data",
          "data": {
            "image/png": "[encoded data removed]",
            "text/plain": [
              "<Figure size 720x576 with 2 Axes>"
            ]
          },
          "metadata": {
            "tags": []
          }
        }
      ]
    },
    {
      "metadata": {
        "id": "cketRShF2fJ4",
        "colab_type": "code",
        "colab": {}
      },
      "cell_type": "code",
      "source": [
        "from google.colab import files\n",
        "files.download('/training-mb-01.png')"
      ],
      "execution_count": 0,
      "outputs": []
    },
    {
      "metadata": {
        "colab_type": "text",
        "id": "pqiuy8q4GYjF"
      },
      "cell_type": "markdown",
      "source": [
        "### Función que Permite convertir Indices en Tags"
      ]
    },
    {
      "metadata": {
        "colab_type": "code",
        "id": "YJ6GaLot9yZR",
        "colab": {}
      },
      "cell_type": "code",
      "source": [
        "def logits_to_tokens(sequences, index):\n",
        "    token_sequences = []\n",
        "    for categorical_sequence in sequences:\n",
        "        token_sequence = []\n",
        "        for categorical in categorical_sequence:\n",
        "            token_sequence.append(index[np.argmax(categorical)])\n",
        " \n",
        "        token_sequences.append(token_sequence)\n",
        " \n",
        "    return token_sequences"
      ],
      "execution_count": 0,
      "outputs": []
    },
    {
      "metadata": {
        "colab_type": "text",
        "id": "W-1GH3ZYuLc-"
      },
      "cell_type": "markdown",
      "source": [
        "### Hacemos la prediccion sobre el conjunto de pruebas "
      ]
    },
    {
      "metadata": {
        "colab_type": "code",
        "id": "6HgbDqqsR4a7",
        "outputId": "bb4214ce-5fc4-4d19-d6f3-4f0f85944757",
        "colab": {
          "base_uri": "https://localhost:8080/",
          "height": 54
        }
      },
      "cell_type": "code",
      "source": [
        "import pandas as pd\n",
        "\n",
        "prediction = model.predict(test_sentences_X)\n",
        "log_tokens = logits_to_tokens(prediction, {i: t for t, i in tag2index.items()})\n",
        "\n",
        "print(log_tokens[0])"
      ],
      "execution_count": 24,
      "outputs": [
        {
          "output_type": "stream",
          "text": [
            "['da0ms0', 'ncms000', 'aq0cs0', 'vaip3s0', 'vmp00sm', 'cs', 'da0fs0', 'ncfs000', 'sps00', 'vmn0000', 'vaip3s0', 'vmp00sm', 'sps00', 'Fe', 'vmn0000', 'Fe', 'Fc', 'cc', 'sn.e-SUJ', 'vaip3s0', 'vmp00sm', 'cs', 'da0ms0', 'ncms000', 'sps00', 'da0ms0', 'ncms000', 'vmip3s0', 'cs', 'sps00', 'da0ms0', 'np0000l', 'Fe', 'pi0mp000', 'vmip3p0', 'sps00', 'da0fs0', 'di0fs0', 'ncfs000', 'Fe', 'Fp', '-PAD-', '-PAD-', '-PAD-', '-PAD-', '-PAD-', '-PAD-', '-PAD-', '-PAD-', '-PAD-', '-PAD-', '-PAD-', '-PAD-', '-PAD-', '-PAD-', '-PAD-', '-PAD-', '-PAD-', '-PAD-', '-PAD-', '-PAD-', '-PAD-', '-PAD-', '-PAD-', '-PAD-', '-PAD-', '-PAD-', '-PAD-', '-PAD-', '-PAD-', '-PAD-', '-PAD-', '-PAD-', '-PAD-', '-PAD-', '-PAD-', '-PAD-', '-PAD-', '-PAD-', '-PAD-', '-PAD-', '-PAD-', '-PAD-', '-PAD-', '-PAD-', '-PAD-', '-PAD-', '-PAD-', '-PAD-', '-PAD-', '-PAD-', '-PAD-', '-PAD-', '-PAD-', '-PAD-', '-PAD-', '-PAD-', '-PAD-', '-PAD-', '-PAD-', '-PAD-', '-PAD-', '-PAD-', '-PAD-', '-PAD-', '-PAD-', '-PAD-', '-PAD-', '-PAD-', '-PAD-', '-PAD-', '-PAD-', '-PAD-', '-PAD-', '-PAD-', '-PAD-', '-PAD-', '-PAD-', '-PAD-', '-PAD-', '-PAD-', '-PAD-', '-PAD-', '-PAD-', '-PAD-', '-PAD-', '-PAD-', '-PAD-', '-PAD-', '-PAD-', '-PAD-', '-PAD-', '-PAD-', '-PAD-', '-PAD-', '-PAD-', '-PAD-', '-PAD-', '-PAD-', '-PAD-', '-PAD-', '-PAD-', '-PAD-', '-PAD-', '-PAD-', '-PAD-', '-PAD-', '-PAD-', '-PAD-']\n"
          ],
          "name": "stdout"
        }
      ]
    },
    {
      "metadata": {
        "colab_type": "text",
        "id": "uT6IIQXrQuix"
      },
      "cell_type": "markdown",
      "source": [
        "### Hallamos los valores de F1 score, recall, precision"
      ]
    },
    {
      "metadata": {
        "colab_type": "code",
        "id": "GqTuNxppFNu-",
        "outputId": "80bfafc5-324c-44e3-acc2-65a4b2e92908",
        "colab": {
          "base_uri": "https://localhost:8080/",
          "height": 4236
        }
      },
      "cell_type": "code",
      "source": [
        "from sklearn.metrics import classification_report, confusion_matrix\n",
        "\n",
        "results = pd.DataFrame(columns=['Expected', 'Predicted'])\n",
        "k = 0\n",
        "for i, lista_etiquetas_oracion in enumerate(test_tags):\n",
        "    for j, etiquetas in enumerate(lista_etiquetas_oracion):\n",
        "        k = k + 1\n",
        "        results.loc[k, 'Expected'] = etiquetas\n",
        "        results.loc[k, 'Predicted'] = log_tokens[i][j]\n",
        "\n",
        "# print(results)\n",
        "\n",
        "\n",
        "print('\\nclassification_report:\\n', classification_report(results['Expected'], results['Predicted']))"
      ],
      "execution_count": 25,
      "outputs": [
        {
          "output_type": "stream",
          "text": [
            "/usr/local/lib/python3.6/dist-packages/sklearn/metrics/classification.py:1143: UndefinedMetricWarning: Precision and F-score are ill-defined and being set to 0.0 in labels with no predicted samples.\n",
            "  'precision', 'predicted', average, warn_for)\n",
            "/usr/local/lib/python3.6/dist-packages/sklearn/metrics/classification.py:1145: UndefinedMetricWarning: Recall and F-score are ill-defined and being set to 0.0 in labels with no true samples.\n",
            "  'recall', 'true', average, warn_for)\n"
          ],
          "name": "stderr"
        },
        {
          "output_type": "stream",
          "text": [
            "\n",
            "classification_report:\n",
            "               precision    recall  f1-score   support\n",
            "\n",
            "       -PAD-       0.00      0.00      0.00         0\n",
            "         Faa       1.00      1.00      1.00         2\n",
            "         Fat       1.00      1.00      1.00         5\n",
            "          Fc       1.00      1.00      1.00      2291\n",
            "          Fd       1.00      1.00      1.00        87\n",
            "          Fe       1.00      1.00      1.00       631\n",
            "          Fg       1.00      1.00      1.00       226\n",
            "          Fh       0.00      0.00      0.00         3\n",
            "         Fia       0.86      1.00      0.92         6\n",
            "         Fit       1.00      1.00      1.00        19\n",
            "          Fp       1.00      1.00      1.00      1178\n",
            "         Fpa       1.00      1.00      1.00       156\n",
            "         Fpt       1.00      1.00      1.00       160\n",
            "          Fs       1.00      1.00      1.00        13\n",
            "          Fx       1.00      1.00      1.00        41\n",
            "          Fz       0.00      0.00      0.00         2\n",
            "           W       0.98      0.61      0.76       194\n",
            "           Z       0.94      0.68      0.79       320\n",
            "          Zm       0.94      0.94      0.94        35\n",
            "          Zp       0.75      0.40      0.52        45\n",
            "      ao0fp0       1.00      1.00      1.00        17\n",
            "      ao0fs0       0.97      0.95      0.96        66\n",
            "      ao0mp0       0.95      0.91      0.93        23\n",
            "      ao0ms0       0.95      0.95      0.95        59\n",
            "     aq00000       0.00      0.00      0.00         2\n",
            "      aq0cn0       0.33      0.25      0.29         4\n",
            "      aq0cp0       0.90      0.73      0.80       228\n",
            "      aq0cs0       0.71      0.86      0.78       590\n",
            "      aq0fp0       0.73      0.76      0.74       128\n",
            "      aq0fpp       0.27      0.54      0.36        52\n",
            "      aq0fs0       0.85      0.76      0.80       355\n",
            "      aq0fsp       0.44      0.56      0.49       140\n",
            "      aq0mp0       0.62      0.75      0.68       202\n",
            "      aq0mpp       0.60      0.47      0.53        96\n",
            "      aq0ms0       0.79      0.78      0.78       491\n",
            "      aq0msp       0.88      0.63      0.73       222\n",
            "          cc       0.98      0.99      0.99      1222\n",
            "          cs       0.94      0.90      0.92       927\n",
            "      da0fp0       0.98      1.00      0.99       374\n",
            "      da0fs0       0.99      1.00      0.99      1324\n",
            "      da0mp0       0.99      1.00      1.00       637\n",
            "      da0ms0       1.00      1.00      1.00      1275\n",
            "      da0ns0       0.95      0.96      0.96       110\n",
            "      dd0cp0       1.00      1.00      1.00         2\n",
            "      dd0cs0       1.00      0.75      0.86         4\n",
            "      dd0fp0       0.95      1.00      0.97        18\n",
            "      dd0fs0       0.97      1.00      0.99        67\n",
            "      dd0mp0       0.88      1.00      0.94        30\n",
            "      dd0ms0       0.94      1.00      0.97       101\n",
            "      di0cp0       1.00      0.60      0.75         5\n",
            "      di0cs0       1.00      0.88      0.94        26\n",
            "      di0fp0       0.97      0.97      0.97        71\n",
            "      di0fs0       0.97      1.00      0.98       335\n",
            "      di0mp0       0.95      0.96      0.95       112\n",
            "      di0ms0       0.97      0.96      0.96       482\n",
            "      dn0cp0       0.97      0.99      0.98       149\n",
            "      dn0cs0       0.00      0.00      0.00         1\n",
            "      dn0fp0       1.00      1.00      1.00         4\n",
            "      dn0fs0       0.00      0.00      0.00         2\n",
            "      dn0mp0       0.80      0.80      0.80         5\n",
            "      dn0ms0       1.00      0.22      0.36         9\n",
            "      dp1cps       1.00      1.00      1.00         1\n",
            "      dp1css       0.80      1.00      0.89         8\n",
            "      dp1fpp       1.00      1.00      1.00         1\n",
            "      dp1fsp       1.00      1.00      1.00         6\n",
            "      dp1mpp       1.00      0.86      0.92         7\n",
            "      dp1msp       1.00      1.00      1.00         8\n",
            "      dp2css       1.00      0.33      0.50         3\n",
            "      dp3cp0       1.00      1.00      1.00       107\n",
            "      dp3cs0       1.00      1.00      1.00       275\n",
            "      dp3fs0       0.00      0.00      0.00         1\n",
            "      dt0cn0       1.00      0.33      0.50         3\n",
            "           i       0.38      0.75      0.50         4\n",
            "     nc00000       0.04      0.12      0.06        26\n",
            "     nccn000       0.00      0.00      0.00         5\n",
            "     nccp000       0.94      0.87      0.90       103\n",
            "     nccs000       0.85      0.75      0.80       146\n",
            "     ncfn000       1.00      0.67      0.80        15\n",
            "     ncfp000       0.93      0.88      0.91       788\n",
            "     ncfs000       0.91      0.94      0.92      2132\n",
            "     ncmn000       0.93      0.54      0.68        24\n",
            "     ncmp000       0.90      0.87      0.88      1166\n",
            "     ncms000       0.79      0.94      0.86      2365\n",
            "     np00000       0.17      0.14      0.15        51\n",
            "     np0000a       0.74      0.33      0.45       202\n",
            "     np0000l       0.63      0.72      0.67       412\n",
            "     np0000o       0.78      0.62      0.69       656\n",
            "     np0000p       0.70      0.69      0.70       720\n",
            "    p0000000       0.65      0.59      0.62       193\n",
            "    p010p000       0.00      0.00      0.00         2\n",
            "    p010s000       0.25      0.33      0.29         3\n",
            "    p020s000       1.00      1.00      1.00         1\n",
            "    p0300000       0.66      0.74      0.69       217\n",
            "    pd0fp000       0.00      0.00      0.00         3\n",
            "    pd0fs000       0.75      0.60      0.67         5\n",
            "    pd0mp000       1.00      0.17      0.29         6\n",
            "    pd0ms000       1.00      0.62      0.77         8\n",
            "    pd0ns000       1.00      1.00      1.00        22\n",
            "    pi0cp000       1.00      1.00      1.00         2\n",
            "    pi0cs000       0.97      0.97      0.97        40\n",
            "    pi0fp000       0.80      0.57      0.67         7\n",
            "    pi0fs000       0.75      0.55      0.63        11\n",
            "    pi0mp000       0.81      0.83      0.82        35\n",
            "    pi0ms000       0.84      0.76      0.80        54\n",
            "    pn0cp000       0.88      0.85      0.87        27\n",
            "    pn0mp000       1.00      0.67      0.80         3\n",
            "    pn0ms000       0.00      0.00      0.00         2\n",
            "    pp1cp000       0.93      1.00      0.96        27\n",
            "    pp1cs000       0.92      0.89      0.91        27\n",
            "    pp1csn00       1.00      1.00      1.00        16\n",
            "    pp1cso00       1.00      1.00      1.00         5\n",
            "    pp1mp000       1.00      1.00      1.00         9\n",
            "    pp2cs000       1.00      1.00      1.00         4\n",
            "    pp2cs00p       1.00      0.75      0.86         4\n",
            "    pp2csn00       0.00      0.00      0.00         2\n",
            "    pp2cso00       0.00      0.00      0.00         1\n",
            "    pp3cn000       0.00      0.00      0.00        10\n",
            "    pp3cna00       0.00      0.00      0.00         2\n",
            "    pp3cno00       1.00      0.80      0.89         5\n",
            "    pp3cpa00       0.00      0.00      0.00         2\n",
            "    pp3cpd00       0.85      1.00      0.92        11\n",
            "    pp3csa00       0.00      0.00      0.00         1\n",
            "    pp3csd00       0.98      1.00      0.99        63\n",
            "    pp3fp000       1.00      1.00      1.00         6\n",
            "    pp3fpa00       1.00      0.20      0.33        10\n",
            "    pp3fs000       1.00      1.00      1.00        13\n",
            "    pp3fsa00       0.00      0.00      0.00        17\n",
            "    pp3mp000       1.00      1.00      1.00        26\n",
            "    pp3mpa00       0.00      0.00      0.00         4\n",
            "    pp3ms000       1.00      1.00      1.00        23\n",
            "    pp3msa00       0.85      0.88      0.87        33\n",
            "    pp3ns000       1.00      1.00      1.00        15\n",
            "    pr000000       0.95      0.77      0.85        26\n",
            "    pr0cn000       0.89      0.94      0.91       616\n",
            "    pr0cp000       1.00      1.00      1.00        10\n",
            "    pr0cs000       0.94      1.00      0.97        32\n",
            "    pr0fp000       1.00      1.00      1.00         1\n",
            "    pr0fs000       1.00      1.00      1.00         5\n",
            "    pr0ms000       1.00      0.33      0.50         3\n",
            "    pt000000       1.00      0.83      0.91        12\n",
            "    pt0cp000       0.00      0.00      0.00         1\n",
            "    pt0cs000       0.89      0.94      0.92        18\n",
            "    pt0mp000       0.00      0.00      0.00         2\n",
            "    px1fs0p0       0.00      0.00      0.00         1\n",
            "    px1mp0p0       0.00      0.00      0.00         0\n",
            "    px3ns000       1.00      1.00      1.00         1\n",
            "          rg       0.91      0.89      0.90      1208\n",
            "          rn       0.97      0.99      0.98       265\n",
            "      sn-SUJ       0.00      0.00      0.00         1\n",
            "        sn.e       0.00      0.00      0.00         4\n",
            "    sn.e-SUJ       0.99      1.00      0.99       818\n",
            " sn.e.1n-SUJ       0.00      0.00      0.00         6\n",
            "       spcms       1.00      0.99      0.99       692\n",
            "       sps00       1.00      0.99      1.00      5056\n",
            "     vaic3p0       0.00      0.00      0.00         1\n",
            "     vaic3s0       1.00      1.00      1.00         4\n",
            "     vaif1p0       0.00      0.00      0.00         1\n",
            "     vaif3s0       1.00      1.00      1.00         3\n",
            "     vaii1s0       0.00      0.00      0.00         1\n",
            "     vaii3p0       0.93      1.00      0.96        13\n",
            "     vaii3s0       0.98      1.00      0.99        41\n",
            "     vaip1p0       1.00      1.00      1.00         8\n",
            "     vaip1s0       1.00      1.00      1.00         9\n",
            "     vaip3p0       1.00      1.00      1.00        48\n",
            "     vaip3s0       1.00      0.99      1.00       185\n",
            "     vais3s0       1.00      1.00      1.00         5\n",
            "     van0000       0.95      1.00      0.98        21\n",
            "     vap00sm       1.00      1.00      1.00         1\n",
            "     vasi1p0       0.00      0.00      0.00         1\n",
            "     vasi3p0       1.00      1.00      1.00         2\n",
            "     vasi3s0       1.00      0.91      0.95        11\n",
            "     vasp1s0       0.00      0.00      0.00         1\n",
            "     vasp3p0       1.00      1.00      1.00         1\n",
            "     vasp3s0       0.89      1.00      0.94         8\n",
            "     vmg0000       0.27      0.57      0.37        92\n",
            "     vmic1p0       0.00      0.00      0.00         2\n",
            "     vmic1s0       0.00      0.00      0.00         0\n",
            "     vmic3p0       1.00      0.55      0.71        11\n",
            "     vmic3s0       0.95      0.70      0.81        30\n",
            "     vmif1p0       0.00      0.00      0.00         7\n",
            "     vmif1s0       0.00      0.00      0.00         3\n",
            "     vmif2s0       0.00      0.00      0.00         1\n",
            "     vmif3p0       0.76      0.55      0.64        40\n",
            "     vmif3s0       0.84      0.60      0.70       114\n",
            "     vmii1p0       0.29      0.22      0.25         9\n",
            "     vmii1s0       0.00      0.00      0.00         7\n",
            "     vmii3p0       0.68      0.42      0.52        67\n",
            "     vmii3s0       0.82      0.65      0.72       143\n",
            "     vmip1p0       0.91      0.68      0.78        60\n",
            "     vmip1s0       0.64      0.78      0.70        60\n",
            "     vmip2s0       0.43      0.50      0.46         6\n",
            "     vmip3p0       0.92      0.70      0.79       279\n",
            "     vmip3s0       0.82      0.91      0.87       599\n",
            "     vmis1p0       0.00      0.00      0.00         5\n",
            "     vmis1s0       0.60      0.25      0.35        12\n",
            "     vmis2s0       0.00      0.00      0.00         0\n",
            "     vmis3p0       0.99      0.59      0.74       148\n",
            "     vmis3s0       0.92      0.88      0.90       606\n",
            "     vmm02s0       0.00      0.00      0.00         3\n",
            "     vmm03p0       0.00      0.00      0.00         1\n",
            "     vmm03s0       0.00      0.00      0.00         7\n",
            "     vmn0000       0.87      0.85      0.86       849\n",
            "     vmp00pf       0.00      0.00      0.00         5\n",
            "     vmp00pm       0.42      0.50      0.46        16\n",
            "     vmp00sf       0.67      0.21      0.32        19\n",
            "     vmp00sm       0.91      0.94      0.93       311\n",
            "     vmsi1p0       0.00      0.00      0.00         2\n",
            "     vmsi1s0       0.00      0.00      0.00         2\n",
            "     vmsi3p0       0.09      0.08      0.09        12\n",
            "     vmsi3s0       0.22      0.38      0.28        26\n",
            "     vmsp1p0       0.17      0.22      0.19         9\n",
            "     vmsp1s0       0.50      0.14      0.22         7\n",
            "     vmsp3p0       0.29      0.44      0.35        45\n",
            "     vmsp3s0       0.53      0.55      0.54        66\n",
            "     vsg0000       1.00      1.00      1.00         7\n",
            "     vsic1s0       0.00      0.00      0.00         1\n",
            "     vsic3p0       0.00      0.00      0.00         2\n",
            "     vsic3s0       0.89      1.00      0.94         8\n",
            "     vsif3s0       1.00      1.00      1.00        13\n",
            "     vsii3p0       1.00      1.00      1.00        13\n",
            "     vsii3s0       0.90      1.00      0.95        26\n",
            "     vsip1p0       1.00      1.00      1.00         1\n",
            "     vsip1s0       1.00      1.00      1.00         3\n",
            "     vsip2s0       0.00      0.00      0.00         2\n",
            "     vsip3p0       1.00      1.00      1.00        48\n",
            "     vsip3s0       1.00      1.00      1.00       190\n",
            "     vsis3p0       0.95      1.00      0.97        18\n",
            "     vsis3s0       1.00      1.00      1.00        39\n",
            "     vsn0000       0.92      1.00      0.96        35\n",
            "     vsp00sm       1.00      1.00      1.00        32\n",
            "     vssi3p0       0.00      0.00      0.00         1\n",
            "     vssi3s0       0.00      0.00      0.00         3\n",
            "     vssp3p0       1.00      1.00      1.00         5\n",
            "     vssp3s0       1.00      1.00      1.00        12\n",
            "\n",
            "   micro avg       0.90      0.90      0.90     38876\n",
            "   macro avg       0.69      0.64      0.65     38876\n",
            "weighted avg       0.91      0.90      0.90     38876\n",
            "\n"
          ],
          "name": "stdout"
        }
      ]
    },
    {
      "metadata": {
        "colab_type": "text",
        "id": "nrAAFx0XrWT1"
      },
      "cell_type": "markdown",
      "source": [
        "## PARTE 4  -  Testing"
      ]
    },
    {
      "metadata": {
        "colab_type": "text",
        "id": "uvOz-IShFzRR"
      },
      "cell_type": "markdown",
      "source": [
        "### Creamos un pequeño Ejemplo"
      ]
    },
    {
      "metadata": {
        "colab_type": "code",
        "id": "_WT1PtS_Qui0",
        "colab": {
          "base_uri": "https://localhost:8080/",
          "height": 54
        },
        "outputId": "a6eb7e40-3e44-4553-e2e8-8a19bc290c71"
      },
      "cell_type": "code",
      "source": [
        "test_samples = [\n",
        "    \"Correr es importante para mi .\".split(),\n",
        "    \"El hombre bajo corre bajo el puente con bajo índice de adrenalina .\".split()\n",
        "]\n",
        "print(test_samples)"
      ],
      "execution_count": 26,
      "outputs": [
        {
          "output_type": "stream",
          "text": [
            "[['Correr', 'es', 'importante', 'para', 'mi', '.'], ['El', 'hombre', 'bajo', 'corre', 'bajo', 'el', 'puente', 'con', 'bajo', 'índice', 'de', 'adrenalina', '.']]\n"
          ],
          "name": "stdout"
        }
      ]
    },
    {
      "metadata": {
        "colab_type": "text",
        "id": "X5E7-zZdGCjY"
      },
      "cell_type": "markdown",
      "source": [
        "### Convertimos el texto en Una entrada para el Modelo"
      ]
    },
    {
      "metadata": {
        "colab_type": "code",
        "id": "BApB6ScZ9jU8",
        "colab": {
          "base_uri": "https://localhost:8080/",
          "height": 459
        },
        "outputId": "212792b1-d818-4092-a6d9-40c15c62f5a2"
      },
      "cell_type": "code",
      "source": [
        "test_samples_X = []\n",
        "for s in test_samples:\n",
        "    s_int = []\n",
        "    for w in s:\n",
        "        try:\n",
        "            s_int.append(word2index[w.lower()])\n",
        "        except KeyError:\n",
        "            s_int.append(word2index['-OOV-'])\n",
        "    test_samples_X.append(s_int)\n",
        "\n",
        "test_samples_X = pad_sequences(test_samples_X, maxlen=MAX_LENGTH, padding='post')\n",
        "print(test_samples_X)"
      ],
      "execution_count": 27,
      "outputs": [
        {
          "output_type": "stream",
          "text": [
            "[[ 7012  4849 14434  2069  8704 14782     0     0     0     0     0     0\n",
            "      0     0     0     0     0     0     0     0     0     0     0     0\n",
            "      0     0     0     0     0     0     0     0     0     0     0     0\n",
            "      0     0     0     0     0     0     0     0     0     0     0     0\n",
            "      0     0     0     0     0     0     0     0     0     0     0     0\n",
            "      0     0     0     0     0     0     0     0     0     0     0     0\n",
            "      0     0     0     0     0     0     0     0     0     0     0     0\n",
            "      0     0     0     0     0     0     0     0     0     0     0     0\n",
            "      0     0     0     0     0     0     0     0     0     0     0     0\n",
            "      0     0     0     0     0     0     0     0     0     0     0     0\n",
            "      0     0     0     0     0     0     0     0     0     0     0     0\n",
            "      0     0     0     0     0     0     0     0     0     0     0     0\n",
            "      0     0     0     0     0]\n",
            " [22154  9204 23771 19490 23771 22154  6046 14120 23771 10456  9065     1\n",
            "  14782     0     0     0     0     0     0     0     0     0     0     0\n",
            "      0     0     0     0     0     0     0     0     0     0     0     0\n",
            "      0     0     0     0     0     0     0     0     0     0     0     0\n",
            "      0     0     0     0     0     0     0     0     0     0     0     0\n",
            "      0     0     0     0     0     0     0     0     0     0     0     0\n",
            "      0     0     0     0     0     0     0     0     0     0     0     0\n",
            "      0     0     0     0     0     0     0     0     0     0     0     0\n",
            "      0     0     0     0     0     0     0     0     0     0     0     0\n",
            "      0     0     0     0     0     0     0     0     0     0     0     0\n",
            "      0     0     0     0     0     0     0     0     0     0     0     0\n",
            "      0     0     0     0     0     0     0     0     0     0     0     0\n",
            "      0     0     0     0     0]]\n"
          ],
          "name": "stdout"
        }
      ]
    },
    {
      "metadata": {
        "colab_type": "text",
        "id": "trNZCjTWGLp-"
      },
      "cell_type": "markdown",
      "source": [
        "### Se Ejecuta la predicion con la Entrada del modelo entrenado"
      ]
    },
    {
      "metadata": {
        "colab_type": "code",
        "id": "OX6Bd2Rz9oha",
        "colab": {
          "base_uri": "https://localhost:8080/",
          "height": 476
        },
        "outputId": "85f1a07c-c120-46fa-c317-8876755dfced"
      },
      "cell_type": "code",
      "source": [
        "predictions = model.predict(test_samples_X)\n",
        "print(predictions, predictions.shape)"
      ],
      "execution_count": 28,
      "outputs": [
        {
          "output_type": "stream",
          "text": [
            "[[[5.8158170e-03 2.5324748e-04 2.2709826e-03 ... 1.6241602e-04\n",
            "   7.4876274e-04 4.1314145e-04]\n",
            "  [3.1185491e-04 1.3111155e-04 9.0715736e-07 ... 5.6350545e-05\n",
            "   1.2912080e-03 7.2988354e-05]\n",
            "  [4.3521414e-04 4.1731852e-05 5.7387977e-05 ... 1.4069552e-05\n",
            "   8.0415477e-05 4.3913275e-05]\n",
            "  ...\n",
            "  [9.9998093e-01 9.8772048e-08 2.0065650e-08 ... 8.6858670e-08\n",
            "   5.6102603e-09 4.6878366e-08]\n",
            "  [9.9996698e-01 1.9451741e-07 3.0217322e-08 ... 1.7112882e-07\n",
            "   8.7355829e-09 7.6136494e-08]\n",
            "  [9.9994218e-01 3.6297553e-07 4.1500073e-08 ... 3.1847824e-07\n",
            "   1.4177168e-08 1.2405926e-07]]\n",
            "\n",
            " [[2.5832630e-04 1.8380011e-05 1.2066690e-06 ... 1.1637899e-05\n",
            "   9.8273325e-05 5.3123604e-05]\n",
            "  [3.1667302e-04 2.3348744e-05 1.6632507e-04 ... 1.6737327e-05\n",
            "   4.3288937e-06 1.3028189e-04]\n",
            "  [4.1382955e-03 1.6215675e-04 4.2014297e-05 ... 1.1260091e-04\n",
            "   2.4529043e-04 6.9548381e-03]\n",
            "  ...\n",
            "  [9.9998093e-01 9.8710842e-08 2.0029514e-08 ... 8.6205247e-08\n",
            "   5.6064842e-09 4.6646644e-08]\n",
            "  [9.9996710e-01 1.9440265e-07 3.0166881e-08 ... 1.6986480e-07\n",
            "   8.7304208e-09 7.5758422e-08]\n",
            "  [9.9994230e-01 3.6277345e-07 4.1436088e-08 ... 3.1616958e-07\n",
            "   1.4169952e-08 1.2344086e-07]]] (2, 149, 291)\n"
          ],
          "name": "stdout"
        }
      ]
    },
    {
      "metadata": {
        "colab_type": "text",
        "id": "l-XS5z-NGiM-"
      },
      "cell_type": "markdown",
      "source": [
        "### Conversion de la Salida del Modelo a un lista de Indices de Tags"
      ]
    },
    {
      "metadata": {
        "colab_type": "code",
        "id": "IgIutMjq92cp",
        "colab": {
          "base_uri": "https://localhost:8080/",
          "height": 54
        },
        "outputId": "f21c5320-abcb-48f6-d360-f89984b5f2a6"
      },
      "cell_type": "code",
      "source": [
        "#print(len(predictions))\n",
        "log_tokens = logits_to_tokens(predictions, {i: t for t, i in tag2index.items()})\n",
        "print(log_tokens)"
      ],
      "execution_count": 29,
      "outputs": [
        {
          "output_type": "stream",
          "text": [
            "[['vmn0000', 'vsip3s0', 'aq0cs0', 'sps00', 'dp1css', 'Fp', '-PAD-', '-PAD-', '-PAD-', '-PAD-', '-PAD-', '-PAD-', '-PAD-', '-PAD-', '-PAD-', '-PAD-', '-PAD-', '-PAD-', '-PAD-', '-PAD-', '-PAD-', '-PAD-', '-PAD-', '-PAD-', '-PAD-', '-PAD-', '-PAD-', '-PAD-', '-PAD-', '-PAD-', '-PAD-', '-PAD-', '-PAD-', '-PAD-', '-PAD-', '-PAD-', '-PAD-', '-PAD-', '-PAD-', '-PAD-', '-PAD-', '-PAD-', '-PAD-', '-PAD-', '-PAD-', '-PAD-', '-PAD-', '-PAD-', '-PAD-', '-PAD-', '-PAD-', '-PAD-', '-PAD-', '-PAD-', '-PAD-', '-PAD-', '-PAD-', '-PAD-', '-PAD-', '-PAD-', '-PAD-', '-PAD-', '-PAD-', '-PAD-', '-PAD-', '-PAD-', '-PAD-', '-PAD-', '-PAD-', '-PAD-', '-PAD-', '-PAD-', '-PAD-', '-PAD-', '-PAD-', '-PAD-', '-PAD-', '-PAD-', '-PAD-', '-PAD-', '-PAD-', '-PAD-', '-PAD-', '-PAD-', '-PAD-', '-PAD-', '-PAD-', '-PAD-', '-PAD-', '-PAD-', '-PAD-', '-PAD-', '-PAD-', '-PAD-', '-PAD-', '-PAD-', '-PAD-', '-PAD-', '-PAD-', '-PAD-', '-PAD-', '-PAD-', '-PAD-', '-PAD-', '-PAD-', '-PAD-', '-PAD-', '-PAD-', '-PAD-', '-PAD-', '-PAD-', '-PAD-', '-PAD-', '-PAD-', '-PAD-', '-PAD-', '-PAD-', '-PAD-', '-PAD-', '-PAD-', '-PAD-', '-PAD-', '-PAD-', '-PAD-', '-PAD-', '-PAD-', '-PAD-', '-PAD-', '-PAD-', '-PAD-', '-PAD-', '-PAD-', '-PAD-', '-PAD-', '-PAD-', '-PAD-', '-PAD-', '-PAD-', '-PAD-', '-PAD-', '-PAD-', '-PAD-', '-PAD-', '-PAD-', '-PAD-', '-PAD-', '-PAD-', '-PAD-', '-PAD-'], ['da0ms0', 'ncms000', 'sps00', 'vmip3s0', 'sps00', 'da0ms0', 'ncms000', 'sps00', 'sps00', 'ncms000', 'sps00', 'np0000l', 'Fp', '-PAD-', '-PAD-', '-PAD-', '-PAD-', '-PAD-', '-PAD-', '-PAD-', '-PAD-', '-PAD-', '-PAD-', '-PAD-', '-PAD-', '-PAD-', '-PAD-', '-PAD-', '-PAD-', '-PAD-', '-PAD-', '-PAD-', '-PAD-', '-PAD-', '-PAD-', '-PAD-', '-PAD-', '-PAD-', '-PAD-', '-PAD-', '-PAD-', '-PAD-', '-PAD-', '-PAD-', '-PAD-', '-PAD-', '-PAD-', '-PAD-', '-PAD-', '-PAD-', '-PAD-', '-PAD-', '-PAD-', '-PAD-', '-PAD-', '-PAD-', '-PAD-', '-PAD-', '-PAD-', '-PAD-', '-PAD-', '-PAD-', '-PAD-', '-PAD-', '-PAD-', '-PAD-', '-PAD-', '-PAD-', '-PAD-', '-PAD-', '-PAD-', '-PAD-', '-PAD-', '-PAD-', '-PAD-', '-PAD-', '-PAD-', '-PAD-', '-PAD-', '-PAD-', '-PAD-', '-PAD-', '-PAD-', '-PAD-', '-PAD-', '-PAD-', '-PAD-', '-PAD-', '-PAD-', '-PAD-', '-PAD-', '-PAD-', '-PAD-', '-PAD-', '-PAD-', '-PAD-', '-PAD-', '-PAD-', '-PAD-', '-PAD-', '-PAD-', '-PAD-', '-PAD-', '-PAD-', '-PAD-', '-PAD-', '-PAD-', '-PAD-', '-PAD-', '-PAD-', '-PAD-', '-PAD-', '-PAD-', '-PAD-', '-PAD-', '-PAD-', '-PAD-', '-PAD-', '-PAD-', '-PAD-', '-PAD-', '-PAD-', '-PAD-', '-PAD-', '-PAD-', '-PAD-', '-PAD-', '-PAD-', '-PAD-', '-PAD-', '-PAD-', '-PAD-', '-PAD-', '-PAD-', '-PAD-', '-PAD-', '-PAD-', '-PAD-', '-PAD-', '-PAD-', '-PAD-', '-PAD-', '-PAD-', '-PAD-', '-PAD-', '-PAD-', '-PAD-', '-PAD-', '-PAD-']]\n"
          ],
          "name": "stdout"
        }
      ]
    },
    {
      "metadata": {
        "colab_type": "text",
        "id": "VmWp09kyGrQC"
      },
      "cell_type": "markdown",
      "source": [
        "### Presentacion de los Resultados"
      ]
    },
    {
      "metadata": {
        "colab_type": "code",
        "id": "wNMCM8_jSdCL",
        "colab": {
          "base_uri": "https://localhost:8080/",
          "height": 153
        },
        "outputId": "6754f230-f7ee-40aa-edeb-c27b8a921ab9"
      },
      "cell_type": "code",
      "source": [
        "#!pip install tabulate\n",
        "from tabulate import tabulate\n",
        "\n",
        "heads1 = test_samples[0]\n",
        "body1 = [log_tokens[0][:len(test_samples[0])]]\n",
        "\n",
        "heads2 = test_samples[1]\n",
        "body2 = [log_tokens[1][:len(test_samples[1])]]\n",
        "\n",
        "print(tabulate(body1, headers=heads1))\n",
        "\n",
        "print (\"\\n\")\n",
        "\n",
        "print(tabulate(body2, headers=heads2))\n",
        "\n",
        "\n",
        "## postagging Freeling 4.1\n",
        "\n",
        "## El      hombre   bajo     corre    bajo  el      puente   con  bajo  índice   de  adrenalina  .\n",
        "## DA0MS0  NCMS000  AQ0MS00  VMIP3S0  SP    DA0MS0  NCMS000  SP   SP    NCMS000  SP  NCFS000     Fp\n",
        "\n",
        "\n",
        "## pos tagger Stanford NLP\n",
        "\n",
        "## El      hombre   bajo     corre    bajo  el      puente   con    bajo   índice  de    adrenalina  .\n",
        "## da0000  nc0s000  aq0000   vmip000  sp000 da0000  nc0s000  sp000  aq0000 nc0s000 sp000 nc0s000     fp"
      ],
      "execution_count": 31,
      "outputs": [
        {
          "output_type": "stream",
          "text": [
            "Correr    es       importante    para    mi      .\n",
            "--------  -------  ------------  ------  ------  ---\n",
            "vmn0000   vsip3s0  aq0cs0        sps00   dp1css  Fp\n",
            "\n",
            "\n",
            "El      hombre    bajo    corre    bajo    el      puente    con    bajo    índice    de     adrenalina    .\n",
            "------  --------  ------  -------  ------  ------  --------  -----  ------  --------  -----  ------------  ---\n",
            "da0ms0  ncms000   sps00   vmip3s0  sps00   da0ms0  ncms000   sps00  sps00   ncms000   sps00  np0000l       Fp\n"
          ],
          "name": "stdout"
        }
      ]
    },
    {
      "metadata": {
        "colab_type": "text",
        "id": "zEqVaw-HSPiu"
      },
      "cell_type": "markdown",
      "source": [
        "## PARTE 5  -  Mejorando la Precision y Exactitud del Modelo"
      ]
    },
    {
      "metadata": {
        "colab_type": "text",
        "id": "1gR8kcV0GwFS"
      },
      "cell_type": "markdown",
      "source": [
        "### Definimos una clase que permita ignorar los Valores de Relleno"
      ]
    },
    {
      "metadata": {
        "colab_type": "code",
        "id": "QwNvdZiE956Y",
        "colab": {}
      },
      "cell_type": "code",
      "source": [
        "from keras import backend as K\n",
        " \n",
        "def ignore_class_accuracy(to_ignore=0):\n",
        "    def ignore_accuracy(y_true, y_pred):\n",
        "        y_true_class = K.argmax(y_true, axis=-1)\n",
        "        y_pred_class = K.argmax(y_pred, axis=-1)\n",
        " \n",
        "        ignore_mask = K.cast(K.not_equal(y_pred_class, to_ignore), 'int32')\n",
        "        matches = K.cast(K.equal(y_true_class, y_pred_class), 'int32') * ignore_mask\n",
        "        accuracy = K.sum(matches) / K.maximum(K.sum(ignore_mask), 1)\n",
        "        return accuracy\n",
        "    return ignore_accuracy"
      ],
      "execution_count": 0,
      "outputs": []
    },
    {
      "metadata": {
        "colab_type": "text",
        "id": "AxT3F3pHIGHk"
      },
      "cell_type": "markdown",
      "source": [
        "### Definimos nuevamente nuestro modelo, agregado la clase Creada"
      ]
    },
    {
      "metadata": {
        "colab_type": "code",
        "id": "KO4DTAAE-BaS",
        "colab": {}
      },
      "cell_type": "code",
      "source": [
        "from keras.models import Sequential\n",
        "from keras.layers import Dense, LSTM, InputLayer, Bidirectional, TimeDistributed, Embedding, Activation\n",
        "from keras.optimizers import Adam\n",
        " \n",
        "\n",
        "model = Sequential()\n",
        "model.add(InputLayer(input_shape=(MAX_LENGTH, )))\n",
        "model.add(Embedding(len(word2index), 128))\n",
        "model.add(Dropout(0.5))\n",
        "model.add(Bidirectional(LSTM(256, return_sequences=True)))\n",
        "model.add(TimeDistributed(Dense(len(tag2index))))\n",
        "model.add(Dropout(0.5))\n",
        "model.add(Activation('softmax'))\n",
        " \n",
        "model.compile(loss='categorical_crossentropy', optimizer=Adam(0.001),  metrics=['accuracy', ignore_class_accuracy(0)]) \n",
        "\n",
        "model.summary()"
      ],
      "execution_count": 0,
      "outputs": []
    },
    {
      "metadata": {
        "colab_type": "text",
        "id": "Z8AiPXp8IVOu"
      },
      "cell_type": "markdown",
      "source": [
        "### Procedemos a Entrenar Nuevamente"
      ]
    },
    {
      "metadata": {
        "colab_type": "code",
        "id": "CwgZVEIW-ECo",
        "colab": {}
      },
      "cell_type": "code",
      "source": [
        "model.fit(train_sentences_X, to_categorical(train_tags_y, len(tag2index)), batch_size=128, epochs=40, validation_split=0.2)"
      ],
      "execution_count": 0,
      "outputs": []
    },
    {
      "metadata": {
        "colab_type": "text",
        "id": "LnExWbEmIa5U"
      },
      "cell_type": "markdown",
      "source": [
        "### Calculamos nuevamente la Precisión"
      ]
    },
    {
      "metadata": {
        "colab_type": "code",
        "id": "FKOa73gRNMm7",
        "colab": {}
      },
      "cell_type": "code",
      "source": [
        "scores2 = model.evaluate(test_sentences_X, to_categorical(test_tags_y, len(tag2index)))\n",
        "print(f\"{model.metrics_names[1]}: {scores2[1] * 100}\")   # acc: 99.09751977804825"
      ],
      "execution_count": 0,
      "outputs": []
    },
    {
      "metadata": {
        "colab_type": "text",
        "id": "ZzeCdasrIkuN"
      },
      "cell_type": "markdown",
      "source": [
        "### Relaizamos nuevamente el calculo de F1-score, recall, y precision"
      ]
    },
    {
      "metadata": {
        "colab_type": "code",
        "id": "VbqNJa0pIvVT",
        "colab": {}
      },
      "cell_type": "code",
      "source": [
        ""
      ],
      "execution_count": 0,
      "outputs": []
    },
    {
      "metadata": {
        "colab_type": "text",
        "id": "Nri9gFnwIxcN"
      },
      "cell_type": "markdown",
      "source": [
        "### Realizamos nuevamente una prueba con el Ejemplo de Prueba"
      ]
    },
    {
      "metadata": {
        "colab_type": "code",
        "id": "xruHro6L-LT2",
        "colab": {}
      },
      "cell_type": "code",
      "source": [
        "predictions1 = model.predict(test_samples_X)\n",
        "log_tokens1  = logits_to_tokens(predictions1, {i: t for t, i in tag2index.items()})\n",
        "print(log_tokens1)"
      ],
      "execution_count": 0,
      "outputs": []
    },
    {
      "metadata": {
        "colab_type": "text",
        "id": "VL9taLbrI641"
      },
      "cell_type": "markdown",
      "source": [
        "### Presentamos los Resultados"
      ]
    },
    {
      "metadata": {
        "colab_type": "code",
        "id": "QeRx8eSThbuq",
        "colab": {}
      },
      "cell_type": "code",
      "source": [
        "from tabulate import tabulate\n",
        "\n",
        "heads1 = test_samples[0]\n",
        "body1 = [log_tokens[0][:len(test_samples[0])]]\n",
        "\n",
        "heads2 = test_samples[1]\n",
        "body2 = [log_tokens[1][:len(test_samples[1])]]\n",
        "\n",
        "print(tabulate(body1, headers=heads1))\n",
        "\n",
        "print (\"\\n\")\n",
        "\n",
        "print(tabulate(body2, headers=heads2))"
      ],
      "execution_count": 0,
      "outputs": []
    }
  ]
}